{
 "cells": [
  {
   "cell_type": "code",
   "execution_count": null,
   "metadata": {},
   "outputs": [
    {
     "name": "stdout",
     "output_type": "stream",
     "text": [
      "Olá Matheus\n"
     ]
    }
   ],
   "source": [
    "nome = input('Insira seu nome')\n",
    "print(f'Olá {a1}')"
   ]
  },
  {
   "cell_type": "code",
   "execution_count": 2,
   "metadata": {},
   "outputs": [
    {
     "name": "stdout",
     "output_type": "stream",
     "text": [
      "Olá Matheus, você tem 22 anos\n"
     ]
    }
   ],
   "source": [
    "nome = input('Insira seu nome')\n",
    "idade = input('Insira sua idade')\n",
    "print(f'Olá {nome}, você tem {idade} anos')"
   ]
  },
  {
   "cell_type": "code",
   "execution_count": 3,
   "metadata": {},
   "outputs": [
    {
     "name": "stdout",
     "output_type": "stream",
     "text": [
      "Olá Matheus, você tem 22 anos e mede 1.80 metros!\n"
     ]
    }
   ],
   "source": [
    "nome = input('Insira seu nome')\n",
    "idade = input('Insira sua idade')\n",
    "altura = input('Insira sua altura')\n",
    "print(f'Olá {nome}, você tem {idade} anos e mede {altura} metros!')"
   ]
  },
  {
   "cell_type": "code",
   "execution_count": 6,
   "metadata": {},
   "outputs": [
    {
     "name": "stdout",
     "output_type": "stream",
     "text": [
      "o resultado é 2\n"
     ]
    }
   ],
   "source": [
    "v1 = int(input('Insira o primeiro valor'))\n",
    "v2 = int(input('Insira o segundo valor'))\n",
    "resultado = v2 + v2\n",
    "print(f'o resultado é {resultado}')"
   ]
  },
  {
   "cell_type": "code",
   "execution_count": null,
   "metadata": {},
   "outputs": [],
   "source": []
  }
 ],
 "metadata": {
  "kernelspec": {
   "display_name": "Python 3",
   "language": "python",
   "name": "python3"
  },
  "language_info": {
   "codemirror_mode": {
    "name": "ipython",
    "version": 3
   },
   "file_extension": ".py",
   "mimetype": "text/x-python",
   "name": "python",
   "nbconvert_exporter": "python",
   "pygments_lexer": "ipython3",
   "version": "3.11.9"
  }
 },
 "nbformat": 4,
 "nbformat_minor": 2
}
