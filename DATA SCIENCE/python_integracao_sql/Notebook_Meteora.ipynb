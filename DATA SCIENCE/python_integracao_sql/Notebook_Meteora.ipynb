{
  "cells": [
    {
      "cell_type": "markdown",
      "metadata": {
        "id": "a-3R8AqasmHw"
      },
      "source": [
        "![Alt text: Slogan da Meteora.](https://i.imgur.com/VDYh2G1.png)"
      ]
    },
    {
      "cell_type": "markdown",
      "metadata": {
        "id": "_Vevz6MGruh_"
      },
      "source": [
        "# 1. Estruturando a tabela"
      ]
    },
    {
      "cell_type": "markdown",
      "metadata": {
        "id": "y4QPCEacpVmB"
      },
      "source": [
        "**Meteora** é uma loja que vende roupas e acessórios de diversas marcas por todos os estados do Brasil, para entender suas bases de dados e exibir informações relevantes com o objetivo de auxiliar suas tomadas de decisão."
      ]
    },
    {
      "cell_type": "code",
      "execution_count": 2,
      "metadata": {},
      "outputs": [
        {
          "name": "stdout",
          "output_type": "stream",
          "text": [
            "Requirement already satisfied: sqlalchemy in c:\\users\\matheus\\anaconda3\\lib\\site-packages (2.0.25)\n",
            "Requirement already satisfied: typing-extensions>=4.6.0 in c:\\users\\matheus\\anaconda3\\lib\\site-packages (from sqlalchemy) (4.9.0)\n",
            "Requirement already satisfied: greenlet!=0.4.17 in c:\\users\\matheus\\anaconda3\\lib\\site-packages (from sqlalchemy) (3.0.1)\n",
            "Note: you may need to restart the kernel to use updated packages.\n"
          ]
        }
      ],
      "source": [
        "%pip install sqlalchemy"
      ]
    },
    {
      "cell_type": "code",
      "execution_count": 3,
      "metadata": {
        "id": "_z4zLD8Jxq2n"
      },
      "outputs": [],
      "source": [
        "#Instalando componentes necessários para habilitar a conexão com banco de dados SQLite\n",
        "import pandas as pd\n",
        "import matplotlib.pyplot as plt\n",
        "from sqlalchemy import create_engine, inspect, text"
      ]
    },
    {
      "cell_type": "markdown",
      "metadata": {
        "id": "GFTMs-TgufBk"
      },
      "source": [
        "**Sobre as tabelas**\n",
        "\n",
        "* itens_pedidos: tabela que informa sobre o que foi vendido, vai ter informação o preço, quantidade, para onde vai ser enviado e o frete do pedido\n",
        "* pedidos: vai falar sobre a venda feita, tendo informação sobre os vendedores, preço do pedido e a data da venda\n",
        "* produtos: informa características dos produtos que são comercializados na loja\n",
        "* vendedores: informa o nome dos vendedores."
      ]
    },
    {
      "cell_type": "code",
      "execution_count": 4,
      "metadata": {
        "id": "JloX5KfQmSOC"
      },
      "outputs": [],
      "source": [
        "#Importando os dados\n",
        "url_itens_pedidos = 'https://github.com/alura-cursos/SQL-python-integracao/raw/main/TABELAS/itens_pedidos.csv'\n",
        "url_pedidos = 'https://github.com/alura-cursos/SQL-python-integracao/raw/main/TABELAS/pedidos.csv'\n",
        "url_produtos = 'https://github.com/alura-cursos/SQL-python-integracao/raw/main/TABELAS/produtos.csv'\n",
        "url_vendedores = 'https://github.com/alura-cursos/SQL-python-integracao/raw/main/TABELAS/vendedores.csv'"
      ]
    },
    {
      "cell_type": "code",
      "execution_count": 5,
      "metadata": {
        "id": "yhzPXpIax7tC"
      },
      "outputs": [],
      "source": [
        "itens_pedidos = pd.read_csv(url_itens_pedidos)\n",
        "pedidos = pd.read_csv(url_pedidos)\n",
        "produtos = pd.read_csv(url_produtos)\n",
        "vendedores = pd.read_csv(url_vendedores)"
      ]
    },
    {
      "cell_type": "code",
      "execution_count": 6,
      "metadata": {
        "id": "zSKtRJGax7jH"
      },
      "outputs": [],
      "source": [
        "#Criação do banco de dados local\n",
        "engine = create_engine('sqlite:///:memory:')"
      ]
    },
    {
      "cell_type": "code",
      "execution_count": 7,
      "metadata": {
        "id": "ICBTNNq3x7aG"
      },
      "outputs": [
        {
          "data": {
            "text/plain": [
              "5"
            ]
          },
          "execution_count": 7,
          "metadata": {},
          "output_type": "execute_result"
        }
      ],
      "source": [
        "produtos.to_sql('produtos', engine, index=False)\n",
        "itens_pedidos.to_sql('itens_pedidos', engine, index=False)\n",
        "pedidos.to_sql('pedidos', engine, index=False)\n",
        "vendedores.to_sql('vendedores', engine, index=False)"
      ]
    },
    {
      "cell_type": "code",
      "execution_count": 8,
      "metadata": {
        "id": "_3oKELyCx7Hf"
      },
      "outputs": [
        {
          "name": "stdout",
          "output_type": "stream",
          "text": [
            "['itens_pedidos', 'pedidos', 'produtos', 'vendedores']\n"
          ]
        }
      ],
      "source": [
        "inspector = inspect(engine)\n",
        "print(inspector.get_table_names())"
      ]
    },
    {
      "cell_type": "markdown",
      "metadata": {
        "id": "buAzY0lKrueq"
      },
      "source": [
        "# 2. Primeiras consultas"
      ]
    },
    {
      "cell_type": "markdown",
      "metadata": {
        "id": "3GpQpQc_wlVc"
      },
      "source": [
        "Vamos entender a característica do produto que é comercializadora na Meteora, analisando a **condição** dos produtos vendidos."
      ]
    },
    {
      "cell_type": "code",
      "execution_count": 9,
      "metadata": {
        "id": "K-LFgmVHxOgO"
      },
      "outputs": [],
      "source": [
        "query = 'SELECT CONDICAO FROM PRODUTOS'"
      ]
    },
    {
      "cell_type": "code",
      "execution_count": 10,
      "metadata": {
        "id": "cQ50zFn_xOWW"
      },
      "outputs": [
        {
          "data": {
            "text/html": [
              "<div>\n",
              "<style scoped>\n",
              "    .dataframe tbody tr th:only-of-type {\n",
              "        vertical-align: middle;\n",
              "    }\n",
              "\n",
              "    .dataframe tbody tr th {\n",
              "        vertical-align: top;\n",
              "    }\n",
              "\n",
              "    .dataframe thead th {\n",
              "        text-align: right;\n",
              "    }\n",
              "</style>\n",
              "<table border=\"1\" class=\"dataframe\">\n",
              "  <thead>\n",
              "    <tr style=\"text-align: right;\">\n",
              "      <th></th>\n",
              "      <th>Condicao</th>\n",
              "    </tr>\n",
              "  </thead>\n",
              "  <tbody>\n",
              "    <tr>\n",
              "      <th>0</th>\n",
              "      <td>Usado</td>\n",
              "    </tr>\n",
              "    <tr>\n",
              "      <th>1</th>\n",
              "      <td>Usado</td>\n",
              "    </tr>\n",
              "    <tr>\n",
              "      <th>2</th>\n",
              "      <td>Usado</td>\n",
              "    </tr>\n",
              "    <tr>\n",
              "      <th>3</th>\n",
              "      <td>Usado</td>\n",
              "    </tr>\n",
              "    <tr>\n",
              "      <th>4</th>\n",
              "      <td>Usado</td>\n",
              "    </tr>\n",
              "    <tr>\n",
              "      <th>...</th>\n",
              "      <td>...</td>\n",
              "    </tr>\n",
              "    <tr>\n",
              "      <th>200</th>\n",
              "      <td>Usado</td>\n",
              "    </tr>\n",
              "    <tr>\n",
              "      <th>201</th>\n",
              "      <td>Usado</td>\n",
              "    </tr>\n",
              "    <tr>\n",
              "      <th>202</th>\n",
              "      <td>Usado</td>\n",
              "    </tr>\n",
              "    <tr>\n",
              "      <th>203</th>\n",
              "      <td>Usado</td>\n",
              "    </tr>\n",
              "    <tr>\n",
              "      <th>204</th>\n",
              "      <td>Novo com etiqueta</td>\n",
              "    </tr>\n",
              "  </tbody>\n",
              "</table>\n",
              "<p>205 rows × 1 columns</p>\n",
              "</div>"
            ],
            "text/plain": [
              "              Condicao\n",
              "0                Usado\n",
              "1                Usado\n",
              "2                Usado\n",
              "3                Usado\n",
              "4                Usado\n",
              "..                 ...\n",
              "200              Usado\n",
              "201              Usado\n",
              "202              Usado\n",
              "203              Usado\n",
              "204  Novo com etiqueta\n",
              "\n",
              "[205 rows x 1 columns]"
            ]
          },
          "execution_count": 10,
          "metadata": {},
          "output_type": "execute_result"
        }
      ],
      "source": [
        "#Realizando a primeira consulta\n",
        "query = 'SELECT CONDICAO FROM PRODUTOS'\n",
        "\n",
        "with engine.connect() as conexao:\n",
        "    consulta = conexao.execute(text(query))\n",
        "    dados = consulta.fetchall()\n",
        "pd.DataFrame(dados, columns=consulta.keys())"
      ]
    },
    {
      "cell_type": "code",
      "execution_count": 11,
      "metadata": {
        "id": "o-6bbZOsxOJl"
      },
      "outputs": [],
      "source": [
        "#Criando funcion para facilitar a consulta\n",
        "def sql_df(query):\n",
        "    with engine.connect() as conexao:\n",
        "        consulta = conexao.execute(text(query))\n",
        "        dados = consulta.fetchall()\n",
        "    return pd.DataFrame(dados, columns=consulta.keys())"
      ]
    },
    {
      "cell_type": "code",
      "execution_count": 12,
      "metadata": {
        "id": "BfJH2fqvxN2H"
      },
      "outputs": [],
      "source": [
        "#Utilizando a função para realizar uma consulta e atribuir a um DataFrame\n",
        "df_produtos = sql_df('''\n",
        "                     SELECT condicao, COUNT(*) AS Quantidade\n",
        "                     FROM produtos \n",
        "                     GROUP BY condicao;\n",
        "                     ''')"
      ]
    },
    {
      "cell_type": "code",
      "execution_count": 13,
      "metadata": {},
      "outputs": [
        {
          "data": {
            "image/png": "[encoded data removed]",
            "text/plain": [
              "<Figure size 1000x800 with 1 Axes>"
            ]
          },
          "metadata": {},
          "output_type": "display_data"
        },
        {
          "data": {
            "text/plain": [
              "<Figure size 640x480 with 0 Axes>"
            ]
          },
          "metadata": {},
          "output_type": "display_data"
        }
      ],
      "source": [
        "fig, ax = plt.subplots(figsize=(10,8))\n",
        "ax = plt.bar(df_produtos['Condicao'], df_produtos['Quantidade'], color='#9353ff')\n",
        "plt.title('Qtd de produtos de acordo com condição')\n",
        "plt.show()\n",
        "\n",
        "plt.savefig('grafico_produtos.png', dpi=300, bbox_inches='tight')"
      ]
    },
    {
      "cell_type": "markdown",
      "metadata": {
        "id": "hjrfeRPn1NbY"
      },
      "source": [
        "Agora precisamos ranquear os produtos que mais foram pedidos por **quantidade** para entender a necessidade de um estoque de produtos na loja."
      ]
    },
    {
      "cell_type": "code",
      "execution_count": 14,
      "metadata": {
        "id": "hZ6znHyEQJGp"
      },
      "outputs": [
        {
          "data": {
            "text/html": [
              "<div>\n",
              "<style scoped>\n",
              "    .dataframe tbody tr th:only-of-type {\n",
              "        vertical-align: middle;\n",
              "    }\n",
              "\n",
              "    .dataframe tbody tr th {\n",
              "        vertical-align: top;\n",
              "    }\n",
              "\n",
              "    .dataframe thead th {\n",
              "        text-align: right;\n",
              "    }\n",
              "</style>\n",
              "<table border=\"1\" class=\"dataframe\">\n",
              "  <thead>\n",
              "    <tr style=\"text-align: right;\">\n",
              "      <th></th>\n",
              "      <th>produto_id</th>\n",
              "      <th>produto</th>\n",
              "      <th>preco</th>\n",
              "      <th>marca</th>\n",
              "      <th>sku</th>\n",
              "      <th>Condicao</th>\n",
              "    </tr>\n",
              "  </thead>\n",
              "  <tbody>\n",
              "    <tr>\n",
              "      <th>0</th>\n",
              "      <td>21244</td>\n",
              "      <td>Oculos Lente Azulada</td>\n",
              "      <td>1120</td>\n",
              "      <td>D&amp;g Dolce &amp; Gabbana</td>\n",
              "      <td>209297</td>\n",
              "      <td>Usado</td>\n",
              "    </tr>\n",
              "    <tr>\n",
              "      <th>1</th>\n",
              "      <td>9981</td>\n",
              "      <td>Bolsa Coral Saco</td>\n",
              "      <td>4000</td>\n",
              "      <td>Givenchy</td>\n",
              "      <td>278612</td>\n",
              "      <td>Usado</td>\n",
              "    </tr>\n",
              "    <tr>\n",
              "      <th>2</th>\n",
              "      <td>84176</td>\n",
              "      <td>Camisa Xadrez Verde</td>\n",
              "      <td>310</td>\n",
              "      <td>Joe Fresh</td>\n",
              "      <td>322482</td>\n",
              "      <td>Usado</td>\n",
              "    </tr>\n",
              "    <tr>\n",
              "      <th>3</th>\n",
              "      <td>47475</td>\n",
              "      <td>Calca Alfaiataria Preta</td>\n",
              "      <td>490</td>\n",
              "      <td>Mixed</td>\n",
              "      <td>263658</td>\n",
              "      <td>Usado</td>\n",
              "    </tr>\n",
              "    <tr>\n",
              "      <th>4</th>\n",
              "      <td>74864</td>\n",
              "      <td>Vestido Jeans Babados</td>\n",
              "      <td>130</td>\n",
              "      <td>Zara</td>\n",
              "      <td>219248</td>\n",
              "      <td>Usado</td>\n",
              "    </tr>\n",
              "    <tr>\n",
              "      <th>...</th>\n",
              "      <td>...</td>\n",
              "      <td>...</td>\n",
              "      <td>...</td>\n",
              "      <td>...</td>\n",
              "      <td>...</td>\n",
              "      <td>...</td>\n",
              "    </tr>\n",
              "    <tr>\n",
              "      <th>200</th>\n",
              "      <td>14074</td>\n",
              "      <td>Camisa Amarela Laco</td>\n",
              "      <td>450</td>\n",
              "      <td>Carol Bassi</td>\n",
              "      <td>309858</td>\n",
              "      <td>Usado</td>\n",
              "    </tr>\n",
              "    <tr>\n",
              "      <th>201</th>\n",
              "      <td>33349</td>\n",
              "      <td>Vestido Listras Malha</td>\n",
              "      <td>270</td>\n",
              "      <td>Calvin Klein</td>\n",
              "      <td>307118</td>\n",
              "      <td>Usado</td>\n",
              "    </tr>\n",
              "    <tr>\n",
              "      <th>202</th>\n",
              "      <td>22568</td>\n",
              "      <td>Casaqueto Estampa Geometrica</td>\n",
              "      <td>245</td>\n",
              "      <td>Zara</td>\n",
              "      <td>244931</td>\n",
              "      <td>Usado</td>\n",
              "    </tr>\n",
              "    <tr>\n",
              "      <th>203</th>\n",
              "      <td>40508</td>\n",
              "      <td>Regata Bicolor Alcinha</td>\n",
              "      <td>245</td>\n",
              "      <td>Express</td>\n",
              "      <td>247166</td>\n",
              "      <td>Usado</td>\n",
              "    </tr>\n",
              "    <tr>\n",
              "      <th>204</th>\n",
              "      <td>41518</td>\n",
              "      <td>Calca Jeans Basica</td>\n",
              "      <td>260</td>\n",
              "      <td>Banana Republic</td>\n",
              "      <td>255410</td>\n",
              "      <td>Novo com etiqueta</td>\n",
              "    </tr>\n",
              "  </tbody>\n",
              "</table>\n",
              "<p>205 rows × 6 columns</p>\n",
              "</div>"
            ],
            "text/plain": [
              "     produto_id                       produto  preco                marca  \\\n",
              "0         21244          Oculos Lente Azulada   1120  D&g Dolce & Gabbana   \n",
              "1          9981              Bolsa Coral Saco   4000             Givenchy   \n",
              "2         84176           Camisa Xadrez Verde    310            Joe Fresh   \n",
              "3         47475       Calca Alfaiataria Preta    490                Mixed   \n",
              "4         74864         Vestido Jeans Babados    130                 Zara   \n",
              "..          ...                           ...    ...                  ...   \n",
              "200       14074           Camisa Amarela Laco    450          Carol Bassi   \n",
              "201       33349         Vestido Listras Malha    270         Calvin Klein   \n",
              "202       22568  Casaqueto Estampa Geometrica    245                 Zara   \n",
              "203       40508        Regata Bicolor Alcinha    245              Express   \n",
              "204       41518            Calca Jeans Basica    260      Banana Republic   \n",
              "\n",
              "        sku           Condicao  \n",
              "0    209297              Usado  \n",
              "1    278612              Usado  \n",
              "2    322482              Usado  \n",
              "3    263658              Usado  \n",
              "4    219248              Usado  \n",
              "..      ...                ...  \n",
              "200  309858              Usado  \n",
              "201  307118              Usado  \n",
              "202  244931              Usado  \n",
              "203  247166              Usado  \n",
              "204  255410  Novo com etiqueta  \n",
              "\n",
              "[205 rows x 6 columns]"
            ]
          },
          "execution_count": 14,
          "metadata": {},
          "output_type": "execute_result"
        }
      ],
      "source": [
        "sql_df('SELECT * FROM produtos')"
      ]
    },
    {
      "cell_type": "code",
      "execution_count": 15,
      "metadata": {
        "id": "s45ciT3xQI_U"
      },
      "outputs": [
        {
          "data": {
            "text/html": [
              "<div>\n",
              "<style scoped>\n",
              "    .dataframe tbody tr th:only-of-type {\n",
              "        vertical-align: middle;\n",
              "    }\n",
              "\n",
              "    .dataframe tbody tr th {\n",
              "        vertical-align: top;\n",
              "    }\n",
              "\n",
              "    .dataframe thead th {\n",
              "        text-align: right;\n",
              "    }\n",
              "</style>\n",
              "<table border=\"1\" class=\"dataframe\">\n",
              "  <thead>\n",
              "    <tr style=\"text-align: right;\">\n",
              "      <th></th>\n",
              "      <th>id_nf</th>\n",
              "      <th>produto_id</th>\n",
              "      <th>pedido_id</th>\n",
              "      <th>quantidade</th>\n",
              "      <th>valor_unitario</th>\n",
              "      <th>valor_total</th>\n",
              "      <th>Estado</th>\n",
              "      <th>frete</th>\n",
              "    </tr>\n",
              "  </thead>\n",
              "  <tbody>\n",
              "    <tr>\n",
              "      <th>0</th>\n",
              "      <td>1</td>\n",
              "      <td>41518</td>\n",
              "      <td>341</td>\n",
              "      <td>3</td>\n",
              "      <td>260</td>\n",
              "      <td>780</td>\n",
              "      <td>BR-BA</td>\n",
              "      <td>156.0</td>\n",
              "    </tr>\n",
              "    <tr>\n",
              "      <th>1</th>\n",
              "      <td>2</td>\n",
              "      <td>4307</td>\n",
              "      <td>1174</td>\n",
              "      <td>5</td>\n",
              "      <td>6175</td>\n",
              "      <td>30875</td>\n",
              "      <td>BR-RJ</td>\n",
              "      <td>6175.0</td>\n",
              "    </tr>\n",
              "    <tr>\n",
              "      <th>2</th>\n",
              "      <td>3</td>\n",
              "      <td>22407</td>\n",
              "      <td>1399</td>\n",
              "      <td>3</td>\n",
              "      <td>200</td>\n",
              "      <td>600</td>\n",
              "      <td>BR-PB</td>\n",
              "      <td>120.0</td>\n",
              "    </tr>\n",
              "    <tr>\n",
              "      <th>3</th>\n",
              "      <td>4</td>\n",
              "      <td>3820</td>\n",
              "      <td>1652</td>\n",
              "      <td>6</td>\n",
              "      <td>139</td>\n",
              "      <td>834</td>\n",
              "      <td>BR-DF</td>\n",
              "      <td>166.8</td>\n",
              "    </tr>\n",
              "    <tr>\n",
              "      <th>4</th>\n",
              "      <td>5</td>\n",
              "      <td>29012</td>\n",
              "      <td>2470</td>\n",
              "      <td>3</td>\n",
              "      <td>525</td>\n",
              "      <td>1575</td>\n",
              "      <td>BR-BA</td>\n",
              "      <td>315.0</td>\n",
              "    </tr>\n",
              "    <tr>\n",
              "      <th>...</th>\n",
              "      <td>...</td>\n",
              "      <td>...</td>\n",
              "      <td>...</td>\n",
              "      <td>...</td>\n",
              "      <td>...</td>\n",
              "      <td>...</td>\n",
              "      <td>...</td>\n",
              "      <td>...</td>\n",
              "    </tr>\n",
              "    <tr>\n",
              "      <th>24522</th>\n",
              "      <td>25051</td>\n",
              "      <td>64127</td>\n",
              "      <td>63716</td>\n",
              "      <td>4</td>\n",
              "      <td>590</td>\n",
              "      <td>2360</td>\n",
              "      <td>BR-PE</td>\n",
              "      <td>472.0</td>\n",
              "    </tr>\n",
              "    <tr>\n",
              "      <th>24523</th>\n",
              "      <td>25052</td>\n",
              "      <td>37384</td>\n",
              "      <td>63999</td>\n",
              "      <td>4</td>\n",
              "      <td>700</td>\n",
              "      <td>2800</td>\n",
              "      <td>BR-RO</td>\n",
              "      <td>560.0</td>\n",
              "    </tr>\n",
              "    <tr>\n",
              "      <th>24524</th>\n",
              "      <td>25053</td>\n",
              "      <td>100932</td>\n",
              "      <td>64594</td>\n",
              "      <td>5</td>\n",
              "      <td>3900</td>\n",
              "      <td>19500</td>\n",
              "      <td>BR-RO</td>\n",
              "      <td>3900.0</td>\n",
              "    </tr>\n",
              "    <tr>\n",
              "      <th>24525</th>\n",
              "      <td>25054</td>\n",
              "      <td>3820</td>\n",
              "      <td>64811</td>\n",
              "      <td>3</td>\n",
              "      <td>139</td>\n",
              "      <td>417</td>\n",
              "      <td>BR-MA</td>\n",
              "      <td>83.4</td>\n",
              "    </tr>\n",
              "    <tr>\n",
              "      <th>24526</th>\n",
              "      <td>25055</td>\n",
              "      <td>74864</td>\n",
              "      <td>65274</td>\n",
              "      <td>2</td>\n",
              "      <td>130</td>\n",
              "      <td>260</td>\n",
              "      <td>BR-SE</td>\n",
              "      <td>52.0</td>\n",
              "    </tr>\n",
              "  </tbody>\n",
              "</table>\n",
              "<p>24527 rows × 8 columns</p>\n",
              "</div>"
            ],
            "text/plain": [
              "       id_nf  produto_id  pedido_id  quantidade  valor_unitario  valor_total  \\\n",
              "0          1       41518        341           3             260          780   \n",
              "1          2        4307       1174           5            6175        30875   \n",
              "2          3       22407       1399           3             200          600   \n",
              "3          4        3820       1652           6             139          834   \n",
              "4          5       29012       2470           3             525         1575   \n",
              "...      ...         ...        ...         ...             ...          ...   \n",
              "24522  25051       64127      63716           4             590         2360   \n",
              "24523  25052       37384      63999           4             700         2800   \n",
              "24524  25053      100932      64594           5            3900        19500   \n",
              "24525  25054        3820      64811           3             139          417   \n",
              "24526  25055       74864      65274           2             130          260   \n",
              "\n",
              "      Estado   frete  \n",
              "0      BR-BA   156.0  \n",
              "1      BR-RJ  6175.0  \n",
              "2      BR-PB   120.0  \n",
              "3      BR-DF   166.8  \n",
              "4      BR-BA   315.0  \n",
              "...      ...     ...  \n",
              "24522  BR-PE   472.0  \n",
              "24523  BR-RO   560.0  \n",
              "24524  BR-RO  3900.0  \n",
              "24525  BR-MA    83.4  \n",
              "24526  BR-SE    52.0  \n",
              "\n",
              "[24527 rows x 8 columns]"
            ]
          },
          "execution_count": 15,
          "metadata": {},
          "output_type": "execute_result"
        }
      ],
      "source": [
        "sql_df('SELECT * FROM itens_pedidos')"
      ]
    },
    {
      "cell_type": "code",
      "execution_count": 16,
      "metadata": {
        "id": "fzMrr5FWQI2i"
      },
      "outputs": [
        {
          "data": {
            "text/html": [
              "<div>\n",
              "<style scoped>\n",
              "    .dataframe tbody tr th:only-of-type {\n",
              "        vertical-align: middle;\n",
              "    }\n",
              "\n",
              "    .dataframe tbody tr th {\n",
              "        vertical-align: top;\n",
              "    }\n",
              "\n",
              "    .dataframe thead th {\n",
              "        text-align: right;\n",
              "    }\n",
              "</style>\n",
              "<table border=\"1\" class=\"dataframe\">\n",
              "  <thead>\n",
              "    <tr style=\"text-align: right;\">\n",
              "      <th></th>\n",
              "      <th>produto_id</th>\n",
              "      <th>produto</th>\n",
              "      <th>quantidade</th>\n",
              "    </tr>\n",
              "  </thead>\n",
              "  <tbody>\n",
              "    <tr>\n",
              "      <th>0</th>\n",
              "      <td>12751</td>\n",
              "      <td>Bata Pink Decote</td>\n",
              "      <td>459</td>\n",
              "    </tr>\n",
              "    <tr>\n",
              "      <th>1</th>\n",
              "      <td>55051</td>\n",
              "      <td>Bermuda Acetinada Preta</td>\n",
              "      <td>363</td>\n",
              "    </tr>\n",
              "    <tr>\n",
              "      <th>2</th>\n",
              "      <td>54794</td>\n",
              "      <td>Bermuda Jeans Lavagem</td>\n",
              "      <td>395</td>\n",
              "    </tr>\n",
              "    <tr>\n",
              "      <th>3</th>\n",
              "      <td>86845</td>\n",
              "      <td>Bermuda Listras Bolsos</td>\n",
              "      <td>402</td>\n",
              "    </tr>\n",
              "    <tr>\n",
              "      <th>4</th>\n",
              "      <td>13906</td>\n",
              "      <td>Blazer Alfaiataria Grafite</td>\n",
              "      <td>433</td>\n",
              "    </tr>\n",
              "    <tr>\n",
              "      <th>...</th>\n",
              "      <td>...</td>\n",
              "      <td>...</td>\n",
              "      <td>...</td>\n",
              "    </tr>\n",
              "    <tr>\n",
              "      <th>196</th>\n",
              "      <td>56571</td>\n",
              "      <td>Vestido Seda Floral</td>\n",
              "      <td>428</td>\n",
              "    </tr>\n",
              "    <tr>\n",
              "      <th>197</th>\n",
              "      <td>64127</td>\n",
              "      <td>Vestido Textura Branco</td>\n",
              "      <td>470</td>\n",
              "    </tr>\n",
              "    <tr>\n",
              "      <th>198</th>\n",
              "      <td>81822</td>\n",
              "      <td>Vestido Verde Estampa</td>\n",
              "      <td>423</td>\n",
              "    </tr>\n",
              "    <tr>\n",
              "      <th>199</th>\n",
              "      <td>83866</td>\n",
              "      <td>Vestido Xadrez Pb</td>\n",
              "      <td>384</td>\n",
              "    </tr>\n",
              "    <tr>\n",
              "      <th>200</th>\n",
              "      <td>7871</td>\n",
              "      <td>Vestido Ziper Fendi</td>\n",
              "      <td>374</td>\n",
              "    </tr>\n",
              "  </tbody>\n",
              "</table>\n",
              "<p>201 rows × 3 columns</p>\n",
              "</div>"
            ],
            "text/plain": [
              "     produto_id                     produto  quantidade\n",
              "0         12751            Bata Pink Decote         459\n",
              "1         55051     Bermuda Acetinada Preta         363\n",
              "2         54794       Bermuda Jeans Lavagem         395\n",
              "3         86845      Bermuda Listras Bolsos         402\n",
              "4         13906  Blazer Alfaiataria Grafite         433\n",
              "..          ...                         ...         ...\n",
              "196       56571         Vestido Seda Floral         428\n",
              "197       64127      Vestido Textura Branco         470\n",
              "198       81822       Vestido Verde Estampa         423\n",
              "199       83866           Vestido Xadrez Pb         384\n",
              "200        7871         Vestido Ziper Fendi         374\n",
              "\n",
              "[201 rows x 3 columns]"
            ]
          },
          "execution_count": 16,
          "metadata": {},
          "output_type": "execute_result"
        }
      ],
      "source": [
        "sql_df('''SELECT itens_pedidos.produto_id, produtos.produto, SUM(itens_pedidos.quantidade) AS quantidade\n",
        "            FROM itens_pedidos, produtos\n",
        "            WHERE itens_pedidos.produto_id = produtos.produto_id\n",
        "            GROUP BY produtos.produto''')"
      ]
    },
    {
      "cell_type": "code",
      "execution_count": null,
      "metadata": {
        "id": "zfEGCbCGQIuV"
      },
      "outputs": [
        {
          "data": {
            "text/html": [
              "<div>\n",
              "<style scoped>\n",
              "    .dataframe tbody tr th:only-of-type {\n",
              "        vertical-align: middle;\n",
              "    }\n",
              "\n",
              "    .dataframe tbody tr th {\n",
              "        vertical-align: top;\n",
              "    }\n",
              "\n",
              "    .dataframe thead th {\n",
              "        text-align: right;\n",
              "    }\n",
              "</style>\n",
              "<table border=\"1\" class=\"dataframe\">\n",
              "  <thead>\n",
              "    <tr style=\"text-align: right;\">\n",
              "      <th></th>\n",
              "      <th>produto_id</th>\n",
              "      <th>produto</th>\n",
              "      <th>quantidade</th>\n",
              "    </tr>\n",
              "  </thead>\n",
              "  <tbody>\n",
              "    <tr>\n",
              "      <th>0</th>\n",
              "      <td>47682</td>\n",
              "      <td>Vestido Malha Estampa</td>\n",
              "      <td>318</td>\n",
              "    </tr>\n",
              "    <tr>\n",
              "      <th>1</th>\n",
              "      <td>84743</td>\n",
              "      <td>Blusa Listrada Malha</td>\n",
              "      <td>322</td>\n",
              "    </tr>\n",
              "    <tr>\n",
              "      <th>2</th>\n",
              "      <td>88368</td>\n",
              "      <td>Blusa Malha Azul</td>\n",
              "      <td>325</td>\n",
              "    </tr>\n",
              "    <tr>\n",
              "      <th>3</th>\n",
              "      <td>32986</td>\n",
              "      <td>Blusa Babados Off-white</td>\n",
              "      <td>337</td>\n",
              "    </tr>\n",
              "    <tr>\n",
              "      <th>4</th>\n",
              "      <td>2706</td>\n",
              "      <td>Blusa Cinza</td>\n",
              "      <td>341</td>\n",
              "    </tr>\n",
              "    <tr>\n",
              "      <th>...</th>\n",
              "      <td>...</td>\n",
              "      <td>...</td>\n",
              "      <td>...</td>\n",
              "    </tr>\n",
              "    <tr>\n",
              "      <th>196</th>\n",
              "      <td>32126</td>\n",
              "      <td>Saia Midi Cinto</td>\n",
              "      <td>549</td>\n",
              "    </tr>\n",
              "    <tr>\n",
              "      <th>197</th>\n",
              "      <td>11218</td>\n",
              "      <td>Calca Alfaiataria Preta</td>\n",
              "      <td>750</td>\n",
              "    </tr>\n",
              "    <tr>\n",
              "      <th>198</th>\n",
              "      <td>72667</td>\n",
              "      <td>Saia Pregas Preta</td>\n",
              "      <td>751</td>\n",
              "    </tr>\n",
              "    <tr>\n",
              "      <th>199</th>\n",
              "      <td>98640</td>\n",
              "      <td>Calca Jeans Costuras</td>\n",
              "      <td>755</td>\n",
              "    </tr>\n",
              "    <tr>\n",
              "      <th>200</th>\n",
              "      <td>15875</td>\n",
              "      <td>Vestido Recortes Cores</td>\n",
              "      <td>795</td>\n",
              "    </tr>\n",
              "  </tbody>\n",
              "</table>\n",
              "<p>201 rows × 3 columns</p>\n",
              "</div>"
            ],
            "text/plain": [
              "     produto_id                  produto  quantidade\n",
              "0         47682    Vestido Malha Estampa         318\n",
              "1         84743     Blusa Listrada Malha         322\n",
              "2         88368         Blusa Malha Azul         325\n",
              "3         32986  Blusa Babados Off-white         337\n",
              "4          2706              Blusa Cinza         341\n",
              "..          ...                      ...         ...\n",
              "196       32126          Saia Midi Cinto         549\n",
              "197       11218  Calca Alfaiataria Preta         750\n",
              "198       72667        Saia Pregas Preta         751\n",
              "199       98640     Calca Jeans Costuras         755\n",
              "200       15875   Vestido Recortes Cores         795\n",
              "\n",
              "[201 rows x 3 columns]"
            ]
          },
          "execution_count": 17,
          "metadata": {},
          "output_type": "execute_result"
        }
      ],
      "source": [
        "df_prod_qtd = sql_df('''\n",
        "                    SELECT itens_pedidos.produto_id, produtos.produto, SUM(itens_pedidos.quantidade) AS quantidade\n",
        "                    FROM itens_pedidos, produtos\n",
        "                    WHERE itens_pedidos.produto_id = produtos.produto_id\n",
        "                    GROUP BY produtos.produto\n",
        "                    ORDER BY quantidade ASC\n",
        "                    ''')\n",
        "\n",
        "df_prod_qtd"
      ]
    },
    {
      "cell_type": "code",
      "execution_count": 18,
      "metadata": {},
      "outputs": [
        {
          "data": {
            "image/png": "[encoded data removed]",
            "text/plain": [
              "<Figure size 2500x800 with 1 Axes>"
            ]
          },
          "metadata": {},
          "output_type": "display_data"
        }
      ],
      "source": [
        "plt.figure(figsize=(25,8))\n",
        "plt.barh(df_prod_qtd['produto'][-10:], df_prod_qtd['quantidade'][-10:], color='#9353FF')\n",
        "plt.xlabel('Quantidade vendida)')\n",
        "plt.show()"
      ]
    },
    {
      "cell_type": "markdown",
      "metadata": {
        "id": "c8k9ik5brubo"
      },
      "source": [
        "# 3. Lidando com filtro"
      ]
    },
    {
      "cell_type": "markdown",
      "metadata": {
        "id": "6QhdhGf33MD6"
      },
      "source": [
        "Vamos iniciar uma análise de desempenho do **time de vendedores** da Meteora. A intenção aqui é entender como se deram as vendas dos vendedores no **ano anterior** para que possam ser aplicadas promoções e bônus salarial para a equipe no ano atual da tabela que é 2021"
      ]
    },
    {
      "cell_type": "code",
      "execution_count": 19,
      "metadata": {
        "id": "9crosa9yP_pe"
      },
      "outputs": [
        {
          "data": {
            "text/html": [
              "<div>\n",
              "<style scoped>\n",
              "    .dataframe tbody tr th:only-of-type {\n",
              "        vertical-align: middle;\n",
              "    }\n",
              "\n",
              "    .dataframe tbody tr th {\n",
              "        vertical-align: top;\n",
              "    }\n",
              "\n",
              "    .dataframe thead th {\n",
              "        text-align: right;\n",
              "    }\n",
              "</style>\n",
              "<table border=\"1\" class=\"dataframe\">\n",
              "  <thead>\n",
              "    <tr style=\"text-align: right;\">\n",
              "      <th></th>\n",
              "      <th>pedido_id</th>\n",
              "      <th>produto_id</th>\n",
              "      <th>vendedor_id</th>\n",
              "      <th>data_compra</th>\n",
              "      <th>total</th>\n",
              "    </tr>\n",
              "  </thead>\n",
              "  <tbody>\n",
              "    <tr>\n",
              "      <th>0</th>\n",
              "      <td>341</td>\n",
              "      <td>41518</td>\n",
              "      <td>5</td>\n",
              "      <td>2019-01-05</td>\n",
              "      <td>780</td>\n",
              "    </tr>\n",
              "    <tr>\n",
              "      <th>1</th>\n",
              "      <td>1174</td>\n",
              "      <td>4307</td>\n",
              "      <td>3</td>\n",
              "      <td>2019-01-05</td>\n",
              "      <td>30875</td>\n",
              "    </tr>\n",
              "    <tr>\n",
              "      <th>2</th>\n",
              "      <td>1399</td>\n",
              "      <td>22407</td>\n",
              "      <td>1</td>\n",
              "      <td>2019-01-05</td>\n",
              "      <td>600</td>\n",
              "    </tr>\n",
              "  </tbody>\n",
              "</table>\n",
              "</div>"
            ],
            "text/plain": [
              "   pedido_id  produto_id  vendedor_id data_compra  total\n",
              "0        341       41518            5  2019-01-05    780\n",
              "1       1174        4307            3  2019-01-05  30875\n",
              "2       1399       22407            1  2019-01-05    600"
            ]
          },
          "execution_count": 19,
          "metadata": {},
          "output_type": "execute_result"
        }
      ],
      "source": [
        "sql_df('SELECT * FROM pedidos').head(3)"
      ]
    },
    {
      "cell_type": "code",
      "execution_count": 20,
      "metadata": {
        "id": "Ag0FCU2uP_iV"
      },
      "outputs": [
        {
          "name": "stdout",
          "output_type": "stream",
          "text": [
            "<class 'pandas.core.frame.DataFrame'>\n",
            "RangeIndex: 24527 entries, 0 to 24526\n",
            "Data columns (total 5 columns):\n",
            " #   Column       Non-Null Count  Dtype \n",
            "---  ------       --------------  ----- \n",
            " 0   pedido_id    24527 non-null  int64 \n",
            " 1   produto_id   24527 non-null  int64 \n",
            " 2   vendedor_id  24527 non-null  int64 \n",
            " 3   data_compra  24527 non-null  object\n",
            " 4   total        24527 non-null  int64 \n",
            "dtypes: int64(4), object(1)\n",
            "memory usage: 958.2+ KB\n"
          ]
        }
      ],
      "source": [
        "sql_df('SELECT * FROM pedidos').info()"
      ]
    },
    {
      "cell_type": "markdown",
      "metadata": {
        "id": "f9mXytOd3wqx"
      },
      "source": [
        "Para entender o desempenho de vendas dos vendedores no ano de 2020, é preciso trabalhar com os dados que estão presentes apenas no ano de 2020."
      ]
    },
    {
      "cell_type": "code",
      "execution_count": 21,
      "metadata": {
        "id": "01ks4iX7P-EH"
      },
      "outputs": [
        {
          "data": {
            "text/html": [
              "<div>\n",
              "<style scoped>\n",
              "    .dataframe tbody tr th:only-of-type {\n",
              "        vertical-align: middle;\n",
              "    }\n",
              "\n",
              "    .dataframe tbody tr th {\n",
              "        vertical-align: top;\n",
              "    }\n",
              "\n",
              "    .dataframe thead th {\n",
              "        text-align: right;\n",
              "    }\n",
              "</style>\n",
              "<table border=\"1\" class=\"dataframe\">\n",
              "  <thead>\n",
              "    <tr style=\"text-align: right;\">\n",
              "      <th></th>\n",
              "      <th>nome_vendedor</th>\n",
              "      <th>Valor médio por vendas</th>\n",
              "    </tr>\n",
              "  </thead>\n",
              "  <tbody>\n",
              "    <tr>\n",
              "      <th>0</th>\n",
              "      <td>Daniel Siqueira</td>\n",
              "      <td>1972.338526</td>\n",
              "    </tr>\n",
              "    <tr>\n",
              "      <th>1</th>\n",
              "      <td>Millena Pereira</td>\n",
              "      <td>1894.614343</td>\n",
              "    </tr>\n",
              "    <tr>\n",
              "      <th>2</th>\n",
              "      <td>Ana Duarte</td>\n",
              "      <td>1843.452582</td>\n",
              "    </tr>\n",
              "    <tr>\n",
              "      <th>3</th>\n",
              "      <td>Nadia Oliveira</td>\n",
              "      <td>1818.342200</td>\n",
              "    </tr>\n",
              "    <tr>\n",
              "      <th>4</th>\n",
              "      <td>Paulo Calanca</td>\n",
              "      <td>1813.469855</td>\n",
              "    </tr>\n",
              "  </tbody>\n",
              "</table>\n",
              "</div>"
            ],
            "text/plain": [
              "     nome_vendedor  Valor médio por vendas\n",
              "0  Daniel Siqueira             1972.338526\n",
              "1  Millena Pereira             1894.614343\n",
              "2       Ana Duarte             1843.452582\n",
              "3   Nadia Oliveira             1818.342200\n",
              "4    Paulo Calanca             1813.469855"
            ]
          },
          "execution_count": 21,
          "metadata": {},
          "output_type": "execute_result"
        }
      ],
      "source": [
        "sql_df('''\n",
        "       SELECT vendedores.nome_vendedor, AVG(pedidos.total) AS 'Valor médio por vendas'\n",
        "       FROM pedidos, vendedores\n",
        "       WHERE STRFTIME('%Y', data_compra) = '2020' AND vendedores.vendedor_id = pedidos.vendedor_id\n",
        "       GROUP BY vendedores.nome_vendedor\n",
        "       ORDER BY AVG(pedidos.total) DESC;\n",
        "       ''')"
      ]
    },
    {
      "cell_type": "markdown",
      "metadata": {
        "id": "k5unl1CEruYG"
      },
      "source": [
        "# 4. Avançando nas relações"
      ]
    },
    {
      "cell_type": "markdown",
      "metadata": {
        "id": "t8A1eRy13_xm"
      },
      "source": [
        "A Meteora agora deseja incrementar as suas vendas no **estado de São Paulo (SP)**, por acreditar ser uma região mais propícia às vendas já que tem uma boa concentração de pessoas e mercado também.\n",
        "\n",
        "Mas será que São Paulo já não rende muitas vendas em relação a outros estados?"
      ]
    },
    {
      "cell_type": "code",
      "execution_count": 22,
      "metadata": {
        "id": "ISFl7vCnPx-B"
      },
      "outputs": [
        {
          "data": {
            "text/html": [
              "<div>\n",
              "<style scoped>\n",
              "    .dataframe tbody tr th:only-of-type {\n",
              "        vertical-align: middle;\n",
              "    }\n",
              "\n",
              "    .dataframe tbody tr th {\n",
              "        vertical-align: top;\n",
              "    }\n",
              "\n",
              "    .dataframe thead th {\n",
              "        text-align: right;\n",
              "    }\n",
              "</style>\n",
              "<table border=\"1\" class=\"dataframe\">\n",
              "  <thead>\n",
              "    <tr style=\"text-align: right;\">\n",
              "      <th></th>\n",
              "      <th>Estado</th>\n",
              "      <th>Pedidos</th>\n",
              "    </tr>\n",
              "  </thead>\n",
              "  <tbody>\n",
              "    <tr>\n",
              "      <th>0</th>\n",
              "      <td>BR-MA</td>\n",
              "      <td>974</td>\n",
              "    </tr>\n",
              "    <tr>\n",
              "      <th>1</th>\n",
              "      <td>BR-DF</td>\n",
              "      <td>953</td>\n",
              "    </tr>\n",
              "    <tr>\n",
              "      <th>2</th>\n",
              "      <td>BR-MT</td>\n",
              "      <td>937</td>\n",
              "    </tr>\n",
              "    <tr>\n",
              "      <th>3</th>\n",
              "      <td>BR-GO</td>\n",
              "      <td>933</td>\n",
              "    </tr>\n",
              "    <tr>\n",
              "      <th>4</th>\n",
              "      <td>BR-PA</td>\n",
              "      <td>932</td>\n",
              "    </tr>\n",
              "    <tr>\n",
              "      <th>5</th>\n",
              "      <td>BR-AL</td>\n",
              "      <td>928</td>\n",
              "    </tr>\n",
              "    <tr>\n",
              "      <th>6</th>\n",
              "      <td>BR-PE</td>\n",
              "      <td>927</td>\n",
              "    </tr>\n",
              "    <tr>\n",
              "      <th>7</th>\n",
              "      <td>BR-RR</td>\n",
              "      <td>925</td>\n",
              "    </tr>\n",
              "    <tr>\n",
              "      <th>8</th>\n",
              "      <td>BR-RO</td>\n",
              "      <td>925</td>\n",
              "    </tr>\n",
              "    <tr>\n",
              "      <th>9</th>\n",
              "      <td>BR-RN</td>\n",
              "      <td>921</td>\n",
              "    </tr>\n",
              "    <tr>\n",
              "      <th>10</th>\n",
              "      <td>BR-PI</td>\n",
              "      <td>919</td>\n",
              "    </tr>\n",
              "    <tr>\n",
              "      <th>11</th>\n",
              "      <td>BR-RJ</td>\n",
              "      <td>918</td>\n",
              "    </tr>\n",
              "    <tr>\n",
              "      <th>12</th>\n",
              "      <td>BR-PB</td>\n",
              "      <td>918</td>\n",
              "    </tr>\n",
              "    <tr>\n",
              "      <th>13</th>\n",
              "      <td>BR-RS</td>\n",
              "      <td>910</td>\n",
              "    </tr>\n",
              "    <tr>\n",
              "      <th>14</th>\n",
              "      <td>BR-MG</td>\n",
              "      <td>908</td>\n",
              "    </tr>\n",
              "    <tr>\n",
              "      <th>15</th>\n",
              "      <td>BR-SE</td>\n",
              "      <td>907</td>\n",
              "    </tr>\n",
              "    <tr>\n",
              "      <th>16</th>\n",
              "      <td>BR-PR</td>\n",
              "      <td>903</td>\n",
              "    </tr>\n",
              "    <tr>\n",
              "      <th>17</th>\n",
              "      <td>BR-TO</td>\n",
              "      <td>899</td>\n",
              "    </tr>\n",
              "    <tr>\n",
              "      <th>18</th>\n",
              "      <td>BR-ES</td>\n",
              "      <td>895</td>\n",
              "    </tr>\n",
              "    <tr>\n",
              "      <th>19</th>\n",
              "      <td>BR-BA</td>\n",
              "      <td>894</td>\n",
              "    </tr>\n",
              "    <tr>\n",
              "      <th>20</th>\n",
              "      <td>BR-SP</td>\n",
              "      <td>890</td>\n",
              "    </tr>\n",
              "    <tr>\n",
              "      <th>21</th>\n",
              "      <td>BR-SC</td>\n",
              "      <td>886</td>\n",
              "    </tr>\n",
              "    <tr>\n",
              "      <th>22</th>\n",
              "      <td>BR-CE</td>\n",
              "      <td>883</td>\n",
              "    </tr>\n",
              "    <tr>\n",
              "      <th>23</th>\n",
              "      <td>BR-AP</td>\n",
              "      <td>873</td>\n",
              "    </tr>\n",
              "    <tr>\n",
              "      <th>24</th>\n",
              "      <td>BR-MS</td>\n",
              "      <td>865</td>\n",
              "    </tr>\n",
              "    <tr>\n",
              "      <th>25</th>\n",
              "      <td>BR-AC</td>\n",
              "      <td>861</td>\n",
              "    </tr>\n",
              "    <tr>\n",
              "      <th>26</th>\n",
              "      <td>BR-AM</td>\n",
              "      <td>843</td>\n",
              "    </tr>\n",
              "  </tbody>\n",
              "</table>\n",
              "</div>"
            ],
            "text/plain": [
              "   Estado  Pedidos\n",
              "0   BR-MA      974\n",
              "1   BR-DF      953\n",
              "2   BR-MT      937\n",
              "3   BR-GO      933\n",
              "4   BR-PA      932\n",
              "5   BR-AL      928\n",
              "6   BR-PE      927\n",
              "7   BR-RR      925\n",
              "8   BR-RO      925\n",
              "9   BR-RN      921\n",
              "10  BR-PI      919\n",
              "11  BR-RJ      918\n",
              "12  BR-PB      918\n",
              "13  BR-RS      910\n",
              "14  BR-MG      908\n",
              "15  BR-SE      907\n",
              "16  BR-PR      903\n",
              "17  BR-TO      899\n",
              "18  BR-ES      895\n",
              "19  BR-BA      894\n",
              "20  BR-SP      890\n",
              "21  BR-SC      886\n",
              "22  BR-CE      883\n",
              "23  BR-AP      873\n",
              "24  BR-MS      865\n",
              "25  BR-AC      861\n",
              "26  BR-AM      843"
            ]
          },
          "execution_count": 22,
          "metadata": {},
          "output_type": "execute_result"
        }
      ],
      "source": [
        "sql_df('''\n",
        "       SELECT estado, COUNT(*) AS Pedidos\n",
        "       FROM itens_pedidos\n",
        "       GROUP BY estado\n",
        "       ORDER BY pedidos DESC;\n",
        "       ''')"
      ]
    },
    {
      "cell_type": "markdown",
      "metadata": {
        "id": "cJxpfDVQ4Q0d"
      },
      "source": [
        "Uma das ações que a Meteora pretende seguir para as vendas em SP é escolher dois de seus vendedores para que eles **foquem suas vendas** lá. Para essa escolha é interessante ter os profissionais que **mais tenham vendido** para as pessoas da região."
      ]
    },
    {
      "cell_type": "code",
      "execution_count": null,
      "metadata": {
        "id": "dj0gQyUnPuLm"
      },
      "outputs": [
        {
          "data": {
            "text/html": [
              "<div>\n",
              "<style scoped>\n",
              "    .dataframe tbody tr th:only-of-type {\n",
              "        vertical-align: middle;\n",
              "    }\n",
              "\n",
              "    .dataframe tbody tr th {\n",
              "        vertical-align: top;\n",
              "    }\n",
              "\n",
              "    .dataframe thead th {\n",
              "        text-align: right;\n",
              "    }\n",
              "</style>\n",
              "<table border=\"1\" class=\"dataframe\">\n",
              "  <thead>\n",
              "    <tr style=\"text-align: right;\">\n",
              "      <th></th>\n",
              "      <th>nome_vendedor</th>\n",
              "      <th>Quantidade_vendas</th>\n",
              "    </tr>\n",
              "  </thead>\n",
              "  <tbody>\n",
              "    <tr>\n",
              "      <th>0</th>\n",
              "      <td>Daniel Siqueira</td>\n",
              "      <td>190</td>\n",
              "    </tr>\n",
              "    <tr>\n",
              "      <th>1</th>\n",
              "      <td>Paulo Calanca</td>\n",
              "      <td>182</td>\n",
              "    </tr>\n",
              "    <tr>\n",
              "      <th>2</th>\n",
              "      <td>Nadia Oliveira</td>\n",
              "      <td>181</td>\n",
              "    </tr>\n",
              "    <tr>\n",
              "      <th>3</th>\n",
              "      <td>Ana Duarte</td>\n",
              "      <td>180</td>\n",
              "    </tr>\n",
              "    <tr>\n",
              "      <th>4</th>\n",
              "      <td>Millena Pereira</td>\n",
              "      <td>157</td>\n",
              "    </tr>\n",
              "  </tbody>\n",
              "</table>\n",
              "</div>"
            ],
            "text/plain": [
              "     nome_vendedor  Quantidade_vendas\n",
              "0  Daniel Siqueira                190\n",
              "1    Paulo Calanca                182\n",
              "2   Nadia Oliveira                181\n",
              "3       Ana Duarte                180\n",
              "4  Millena Pereira                157"
            ]
          },
          "execution_count": 23,
          "metadata": {},
          "output_type": "execute_result"
        }
      ],
      "source": [
        "#Consulta utilizando JOIN\n",
        "sql_df('''\n",
        "       SELECT vendedores.nome_vendedor, COUNT(*) AS Quantidade_vendas \n",
        "       FROM pedidos\n",
        "       JOIN vendedores ON vendedores.vendedor_id = pedidos.vendedor_id\n",
        "       JOIN itens_pedidos ON itens_pedidos.pedido_id = pedidos.pedido_id\n",
        "       WHERE itens_pedidos.estado = 'BR-SP'\n",
        "       GROUP BY vendedores.nome_vendedor\n",
        "       ORDER BY Quantidade_vendas DESC;\n",
        "       ''')"
      ]
    },
    {
      "cell_type": "code",
      "execution_count": null,
      "metadata": {},
      "outputs": [],
      "source": []
    }
  ],
  "metadata": {
    "colab": {
      "collapsed_sections": [
        "c8k9ik5brubo",
        "k5unl1CEruYG"
      ],
      "provenance": []
    },
    "kernelspec": {
      "display_name": "base",
      "language": "python",
      "name": "python3"
    },
    "language_info": {
      "codemirror_mode": {
        "name": "ipython",
        "version": 3
      },
      "file_extension": ".py",
      "mimetype": "text/x-python",
      "name": "python",
      "nbconvert_exporter": "python",
      "pygments_lexer": "ipython3",
      "version": "3.11.7"
    }
  },
  "nbformat": 4,
  "nbformat_minor": 0
}
