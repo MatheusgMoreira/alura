{
 "cells": [
  {
   "cell_type": "code",
   "execution_count": 1,
   "metadata": {},
   "outputs": [
    {
     "name": "stdout",
     "output_type": "stream",
     "text": [
      "Requirement already satisfied: pyodbc in c:\\users\\mathe\\anaconda3\\lib\\site-packages (5.1.0)\n",
      "Note: you may need to restart the kernel to use updated packages.\n",
      "Requirement already satisfied: sqlalchemy[pyodbc] in c:\\users\\mathe\\anaconda3\\lib\\site-packages (2.0.34)\n",
      "Requirement already satisfied: typing-extensions>=4.6.0 in c:\\users\\mathe\\anaconda3\\lib\\site-packages (from sqlalchemy[pyodbc]) (4.11.0)\n",
      "Requirement already satisfied: greenlet!=0.4.17 in c:\\users\\mathe\\anaconda3\\lib\\site-packages (from sqlalchemy[pyodbc]) (3.0.1)\n",
      "Note: you may need to restart the kernel to use updated packages.\n"
     ]
    },
    {
     "name": "stderr",
     "output_type": "stream",
     "text": [
      "WARNING: sqlalchemy 2.0.34 does not provide the extra 'pyodbc'\n"
     ]
    }
   ],
   "source": [
    "%pip install pyodbc\n",
    "%pip install sqlalchemy[pyodbc]\n"
   ]
  },
  {
   "cell_type": "code",
   "execution_count": 2,
   "metadata": {},
   "outputs": [],
   "source": [
    "import pandas as pd"
   ]
  },
  {
   "cell_type": "code",
   "execution_count": 6,
   "metadata": {},
   "outputs": [],
   "source": [
    "from sqlalchemy import create_engine, text\n",
    "\n",
    "# Configuração da string de conexão\n",
    "server = 'MATHEUS'\n",
    "database = 'SUCOS_FRUTAS'\n",
    "\n",
    "# Autenticação do Windows\n",
    "connection_string = f\"mssql+pyodbc://@{server}/{database}?driver=ODBC+Driver+17+for+SQL+Server&Trusted_Connection=yes\"\n",
    "engine = create_engine(connection_string)\n",
    "\n",
    "# Criando função que executa uma query SQL e retorna um DataFrame\n",
    "def sql_df(query):\n",
    "    with engine.connect() as conexao:\n",
    "        consulta = conexao.execute(text(query))\n",
    "        dados = consulta.fetchall()\n",
    "    return pd.DataFrame(dados, columns=consulta.keys())\n"
   ]
  },
  {
   "cell_type": "code",
   "execution_count": 8,
   "metadata": {},
   "outputs": [
    {
     "data": {
      "text/html": [
       "<div>\n",
       "<style scoped>\n",
       "    .dataframe tbody tr th:only-of-type {\n",
       "        vertical-align: middle;\n",
       "    }\n",
       "\n",
       "    .dataframe tbody tr th {\n",
       "        vertical-align: top;\n",
       "    }\n",
       "\n",
       "    .dataframe thead th {\n",
       "        text-align: right;\n",
       "    }\n",
       "</style>\n",
       "<table border=\"1\" class=\"dataframe\">\n",
       "  <thead>\n",
       "    <tr style=\"text-align: right;\">\n",
       "      <th></th>\n",
       "      <th>NUMERO</th>\n",
       "      <th>CODIGO_DO_PRODUTO</th>\n",
       "      <th>QUANTIDADE</th>\n",
       "      <th>PRECO</th>\n",
       "    </tr>\n",
       "  </thead>\n",
       "  <tbody>\n",
       "    <tr>\n",
       "      <th>0</th>\n",
       "      <td>100</td>\n",
       "      <td>1013793</td>\n",
       "      <td>63</td>\n",
       "      <td>24.0100</td>\n",
       "    </tr>\n",
       "    <tr>\n",
       "      <th>1</th>\n",
       "      <td>100</td>\n",
       "      <td>1101035</td>\n",
       "      <td>26</td>\n",
       "      <td>9.0105</td>\n",
       "    </tr>\n",
       "    <tr>\n",
       "      <th>2</th>\n",
       "      <td>100</td>\n",
       "      <td>520380</td>\n",
       "      <td>67</td>\n",
       "      <td>12.0110</td>\n",
       "    </tr>\n",
       "    <tr>\n",
       "      <th>3</th>\n",
       "      <td>100</td>\n",
       "      <td>773912</td>\n",
       "      <td>66</td>\n",
       "      <td>8.0080</td>\n",
       "    </tr>\n",
       "  </tbody>\n",
       "</table>\n",
       "</div>"
      ],
      "text/plain": [
       "   NUMERO CODIGO_DO_PRODUTO  QUANTIDADE    PRECO\n",
       "0     100           1013793          63  24.0100\n",
       "1     100           1101035          26   9.0105\n",
       "2     100            520380          67  12.0110\n",
       "3     100            773912          66   8.0080"
      ]
     },
     "execution_count": 8,
     "metadata": {},
     "output_type": "execute_result"
    }
   ],
   "source": [
    "df = sql_df('''\n",
    "                SELECT * \n",
    "                FROM ITENS_NOTAS_FISCAIS\n",
    "                WHERE NUMERO = 100;\n",
    "            ''')\n",
    "df"
   ]
  },
  {
   "cell_type": "code",
   "execution_count": null,
   "metadata": {},
   "outputs": [],
   "source": []
  }
 ],
 "metadata": {
  "kernelspec": {
   "display_name": "base",
   "language": "python",
   "name": "python3"
  },
  "language_info": {
   "codemirror_mode": {
    "name": "ipython",
    "version": 3
   },
   "file_extension": ".py",
   "mimetype": "text/x-python",
   "name": "python",
   "nbconvert_exporter": "python",
   "pygments_lexer": "ipython3",
   "version": "3.12.7"
  }
 },
 "nbformat": 4,
 "nbformat_minor": 2
}
