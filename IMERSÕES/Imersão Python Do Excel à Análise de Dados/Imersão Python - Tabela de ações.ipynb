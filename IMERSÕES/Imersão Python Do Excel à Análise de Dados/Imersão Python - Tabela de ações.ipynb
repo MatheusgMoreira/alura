{
 "cells": [
  {
   "cell_type": "code",
   "execution_count": 47,
   "metadata": {},
   "outputs": [
    {
     "name": "stdout",
     "output_type": "stream",
     "text": [
      "Requirement already satisfied: yfinance in c:\\users\\matheus\\anaconda3\\lib\\site-packages (0.2.50)\n",
      "Requirement already satisfied: pandas>=1.3.0 in c:\\users\\matheus\\anaconda3\\lib\\site-packages (from yfinance) (2.1.4)\n",
      "Requirement already satisfied: numpy>=1.16.5 in c:\\users\\matheus\\anaconda3\\lib\\site-packages (from yfinance) (1.26.4)\n",
      "Requirement already satisfied: requests>=2.31 in c:\\users\\matheus\\anaconda3\\lib\\site-packages (from yfinance) (2.31.0)\n",
      "Requirement already satisfied: multitasking>=0.0.7 in c:\\users\\matheus\\anaconda3\\lib\\site-packages (from yfinance) (0.0.11)\n",
      "Requirement already satisfied: lxml>=4.9.1 in c:\\users\\matheus\\anaconda3\\lib\\site-packages (from yfinance) (4.9.3)\n",
      "Requirement already satisfied: platformdirs>=2.0.0 in c:\\users\\matheus\\anaconda3\\lib\\site-packages (from yfinance) (3.10.0)\n",
      "Requirement already satisfied: pytz>=2022.5 in c:\\users\\matheus\\anaconda3\\lib\\site-packages (from yfinance) (2023.3.post1)\n",
      "Requirement already satisfied: frozendict>=2.3.4 in c:\\users\\matheus\\anaconda3\\lib\\site-packages (from yfinance) (2.4.2)\n",
      "Requirement already satisfied: peewee>=3.16.2 in c:\\users\\matheus\\anaconda3\\lib\\site-packages (from yfinance) (3.17.8)\n",
      "Requirement already satisfied: beautifulsoup4>=4.11.1 in c:\\users\\matheus\\anaconda3\\lib\\site-packages (from yfinance) (4.12.2)\n",
      "Requirement already satisfied: html5lib>=1.1 in c:\\users\\matheus\\anaconda3\\lib\\site-packages (from yfinance) (1.1)\n",
      "Requirement already satisfied: soupsieve>1.2 in c:\\users\\matheus\\anaconda3\\lib\\site-packages (from beautifulsoup4>=4.11.1->yfinance) (2.5)\n",
      "Requirement already satisfied: six>=1.9 in c:\\users\\matheus\\anaconda3\\lib\\site-packages (from html5lib>=1.1->yfinance) (1.16.0)\n",
      "Requirement already satisfied: webencodings in c:\\users\\matheus\\anaconda3\\lib\\site-packages (from html5lib>=1.1->yfinance) (0.5.1)\n",
      "Requirement already satisfied: python-dateutil>=2.8.2 in c:\\users\\matheus\\anaconda3\\lib\\site-packages (from pandas>=1.3.0->yfinance) (2.8.2)\n",
      "Requirement already satisfied: tzdata>=2022.1 in c:\\users\\matheus\\anaconda3\\lib\\site-packages (from pandas>=1.3.0->yfinance) (2023.3)\n",
      "Requirement already satisfied: charset-normalizer<4,>=2 in c:\\users\\matheus\\anaconda3\\lib\\site-packages (from requests>=2.31->yfinance) (2.0.4)\n",
      "Requirement already satisfied: idna<4,>=2.5 in c:\\users\\matheus\\anaconda3\\lib\\site-packages (from requests>=2.31->yfinance) (3.4)\n",
      "Requirement already satisfied: urllib3<3,>=1.21.1 in c:\\users\\matheus\\anaconda3\\lib\\site-packages (from requests>=2.31->yfinance) (2.0.7)\n",
      "Requirement already satisfied: certifi>=2017.4.17 in c:\\users\\matheus\\anaconda3\\lib\\site-packages (from requests>=2.31->yfinance) (2024.7.4)\n",
      "Requirement already satisfied: mplfinance in c:\\users\\matheus\\anaconda3\\lib\\site-packages (0.12.10b0)\n",
      "Requirement already satisfied: matplotlib in c:\\users\\matheus\\anaconda3\\lib\\site-packages (from mplfinance) (3.8.0)\n",
      "Requirement already satisfied: pandas in c:\\users\\matheus\\anaconda3\\lib\\site-packages (from mplfinance) (2.1.4)\n",
      "Requirement already satisfied: contourpy>=1.0.1 in c:\\users\\matheus\\anaconda3\\lib\\site-packages (from matplotlib->mplfinance) (1.2.0)\n",
      "Requirement already satisfied: cycler>=0.10 in c:\\users\\matheus\\anaconda3\\lib\\site-packages (from matplotlib->mplfinance) (0.11.0)\n",
      "Requirement already satisfied: fonttools>=4.22.0 in c:\\users\\matheus\\anaconda3\\lib\\site-packages (from matplotlib->mplfinance) (4.25.0)\n",
      "Requirement already satisfied: kiwisolver>=1.0.1 in c:\\users\\matheus\\anaconda3\\lib\\site-packages (from matplotlib->mplfinance) (1.4.4)\n",
      "Requirement already satisfied: numpy<2,>=1.21 in c:\\users\\matheus\\anaconda3\\lib\\site-packages (from matplotlib->mplfinance) (1.26.4)\n",
      "Requirement already satisfied: packaging>=20.0 in c:\\users\\matheus\\anaconda3\\lib\\site-packages (from matplotlib->mplfinance) (23.1)\n",
      "Requirement already satisfied: pillow>=6.2.0 in c:\\users\\matheus\\anaconda3\\lib\\site-packages (from matplotlib->mplfinance) (10.2.0)\n",
      "Requirement already satisfied: pyparsing>=2.3.1 in c:\\users\\matheus\\anaconda3\\lib\\site-packages (from matplotlib->mplfinance) (3.0.9)\n",
      "Requirement already satisfied: python-dateutil>=2.7 in c:\\users\\matheus\\anaconda3\\lib\\site-packages (from matplotlib->mplfinance) (2.8.2)\n",
      "Requirement already satisfied: pytz>=2020.1 in c:\\users\\matheus\\anaconda3\\lib\\site-packages (from pandas->mplfinance) (2023.3.post1)\n",
      "Requirement already satisfied: tzdata>=2022.1 in c:\\users\\matheus\\anaconda3\\lib\\site-packages (from pandas->mplfinance) (2023.3)\n",
      "Requirement already satisfied: six>=1.5 in c:\\users\\matheus\\anaconda3\\lib\\site-packages (from python-dateutil>=2.7->matplotlib->mplfinance) (1.16.0)\n",
      "Requirement already satisfied: prophet in c:\\users\\matheus\\anaconda3\\lib\\site-packages (1.1.6)\n",
      "Requirement already satisfied: cmdstanpy>=1.0.4 in c:\\users\\matheus\\anaconda3\\lib\\site-packages (from prophet) (1.2.5)\n",
      "Requirement already satisfied: numpy>=1.15.4 in c:\\users\\matheus\\anaconda3\\lib\\site-packages (from prophet) (1.26.4)\n",
      "Requirement already satisfied: matplotlib>=2.0.0 in c:\\users\\matheus\\anaconda3\\lib\\site-packages (from prophet) (3.8.0)\n",
      "Requirement already satisfied: pandas>=1.0.4 in c:\\users\\matheus\\anaconda3\\lib\\site-packages (from prophet) (2.1.4)\n",
      "Requirement already satisfied: holidays<1,>=0.25 in c:\\users\\matheus\\anaconda3\\lib\\site-packages (from prophet) (0.62)\n",
      "Requirement already satisfied: tqdm>=4.36.1 in c:\\users\\matheus\\anaconda3\\lib\\site-packages (from prophet) (4.65.0)\n",
      "Requirement already satisfied: importlib-resources in c:\\users\\matheus\\anaconda3\\lib\\site-packages (from prophet) (6.4.5)\n",
      "Requirement already satisfied: stanio<2.0.0,>=0.4.0 in c:\\users\\matheus\\anaconda3\\lib\\site-packages (from cmdstanpy>=1.0.4->prophet) (0.5.1)\n",
      "Requirement already satisfied: python-dateutil in c:\\users\\matheus\\anaconda3\\lib\\site-packages (from holidays<1,>=0.25->prophet) (2.8.2)\n",
      "Requirement already satisfied: contourpy>=1.0.1 in c:\\users\\matheus\\anaconda3\\lib\\site-packages (from matplotlib>=2.0.0->prophet) (1.2.0)\n",
      "Requirement already satisfied: cycler>=0.10 in c:\\users\\matheus\\anaconda3\\lib\\site-packages (from matplotlib>=2.0.0->prophet) (0.11.0)\n",
      "Requirement already satisfied: fonttools>=4.22.0 in c:\\users\\matheus\\anaconda3\\lib\\site-packages (from matplotlib>=2.0.0->prophet) (4.25.0)\n",
      "Requirement already satisfied: kiwisolver>=1.0.1 in c:\\users\\matheus\\anaconda3\\lib\\site-packages (from matplotlib>=2.0.0->prophet) (1.4.4)\n",
      "Requirement already satisfied: packaging>=20.0 in c:\\users\\matheus\\anaconda3\\lib\\site-packages (from matplotlib>=2.0.0->prophet) (23.1)\n",
      "Requirement already satisfied: pillow>=6.2.0 in c:\\users\\matheus\\anaconda3\\lib\\site-packages (from matplotlib>=2.0.0->prophet) (10.2.0)\n",
      "Requirement already satisfied: pyparsing>=2.3.1 in c:\\users\\matheus\\anaconda3\\lib\\site-packages (from matplotlib>=2.0.0->prophet) (3.0.9)\n",
      "Requirement already satisfied: pytz>=2020.1 in c:\\users\\matheus\\anaconda3\\lib\\site-packages (from pandas>=1.0.4->prophet) (2023.3.post1)\n",
      "Requirement already satisfied: tzdata>=2022.1 in c:\\users\\matheus\\anaconda3\\lib\\site-packages (from pandas>=1.0.4->prophet) (2023.3)\n",
      "Requirement already satisfied: colorama in c:\\users\\matheus\\anaconda3\\lib\\site-packages (from tqdm>=4.36.1->prophet) (0.4.6)\n",
      "Requirement already satisfied: six>=1.5 in c:\\users\\matheus\\anaconda3\\lib\\site-packages (from python-dateutil->holidays<1,>=0.25->prophet) (1.16.0)\n"
     ]
    }
   ],
   "source": [
    "!pip install yfinance\n",
    "!pip install mplfinance\n",
    "!pip install prophet"
   ]
  },
  {
   "cell_type": "code",
   "execution_count": 48,
   "metadata": {},
   "outputs": [],
   "source": [
    "import pandas as pd\n",
    "import plotly.express as px\n",
    "import matplotlib.pyplot as plt\n",
    "import matplotlib.dates as mdates\n",
    "import mplfinance as mpf\n",
    "import yfinance as yf\n",
    "import plotly.graph_objects as go\n",
    "from prophet import Prophet\n",
    "from plotly.subplots import make_subplots\n",
    "pd.options.display.float_format = '{:.2f}'.format"
   ]
  },
  {
   "cell_type": "code",
   "execution_count": 49,
   "metadata": {},
   "outputs": [
    {
     "data": {
      "text/html": [
       "<div>\n",
       "<style scoped>\n",
       "    .dataframe tbody tr th:only-of-type {\n",
       "        vertical-align: middle;\n",
       "    }\n",
       "\n",
       "    .dataframe tbody tr th {\n",
       "        vertical-align: top;\n",
       "    }\n",
       "\n",
       "    .dataframe thead th {\n",
       "        text-align: right;\n",
       "    }\n",
       "</style>\n",
       "<table border=\"1\" class=\"dataframe\">\n",
       "  <thead>\n",
       "    <tr style=\"text-align: right;\">\n",
       "      <th></th>\n",
       "      <th>Ativo</th>\n",
       "      <th>Data</th>\n",
       "      <th>Último (R$)</th>\n",
       "      <th>Var. Dia (%)</th>\n",
       "      <th>Var. Sem. (%)</th>\n",
       "      <th>Var. Mês (%)</th>\n",
       "      <th>Var. Ano (%)</th>\n",
       "      <th>Var. 12M (%)</th>\n",
       "      <th>Val. Mín</th>\n",
       "      <th>Val. Máx</th>\n",
       "      <th>Volume</th>\n",
       "      <th>Variação %</th>\n",
       "      <th>Valor Inicial (R$)</th>\n",
       "      <th>Quantidade de Ações</th>\n",
       "      <th>Variação R$</th>\n",
       "      <th>Resultado</th>\n",
       "      <th>Empresa</th>\n",
       "      <th>Segmento da Empresa</th>\n",
       "      <th>Idade da Empresa</th>\n",
       "      <th>Categoria Idade</th>\n",
       "    </tr>\n",
       "  </thead>\n",
       "  <tbody>\n",
       "    <tr>\n",
       "      <th>0</th>\n",
       "      <td>USIM5</td>\n",
       "      <td>2024-01-26</td>\n",
       "      <td>9.50</td>\n",
       "      <td>5.20</td>\n",
       "      <td>11.76</td>\n",
       "      <td>2.26</td>\n",
       "      <td>2.26</td>\n",
       "      <td>15.97</td>\n",
       "      <td>9.18</td>\n",
       "      <td>9.56</td>\n",
       "      <td>319,16 M</td>\n",
       "      <td>0.05</td>\n",
       "      <td>9.03</td>\n",
       "      <td>515117391</td>\n",
       "      <td>241889725.43</td>\n",
       "      <td>Subiu</td>\n",
       "      <td>Usiminas</td>\n",
       "      <td>Siderurgia</td>\n",
       "      <td>61</td>\n",
       "      <td>Entre 50 e 100 anos</td>\n",
       "    </tr>\n",
       "    <tr>\n",
       "      <th>1</th>\n",
       "      <td>CMIN3</td>\n",
       "      <td>2024-01-26</td>\n",
       "      <td>6.82</td>\n",
       "      <td>2.40</td>\n",
       "      <td>2.40</td>\n",
       "      <td>-12.11</td>\n",
       "      <td>-12.11</td>\n",
       "      <td>50.56</td>\n",
       "      <td>6.66</td>\n",
       "      <td>6.86</td>\n",
       "      <td>32,65 M</td>\n",
       "      <td>0.02</td>\n",
       "      <td>6.66</td>\n",
       "      <td>1110559345</td>\n",
       "      <td>177515970.30</td>\n",
       "      <td>Subiu</td>\n",
       "      <td>CSN Mineração</td>\n",
       "      <td>Mineração</td>\n",
       "      <td>80</td>\n",
       "      <td>Entre 50 e 100 anos</td>\n",
       "    </tr>\n",
       "    <tr>\n",
       "      <th>2</th>\n",
       "      <td>PETR3</td>\n",
       "      <td>2024-01-26</td>\n",
       "      <td>41.96</td>\n",
       "      <td>2.19</td>\n",
       "      <td>7.73</td>\n",
       "      <td>7.64</td>\n",
       "      <td>7.64</td>\n",
       "      <td>77.55</td>\n",
       "      <td>40.81</td>\n",
       "      <td>42.34</td>\n",
       "      <td>436,69 M</td>\n",
       "      <td>0.02</td>\n",
       "      <td>41.06</td>\n",
       "      <td>2379877655</td>\n",
       "      <td>2140059393.53</td>\n",
       "      <td>Subiu</td>\n",
       "      <td>Petrobras</td>\n",
       "      <td>Energia/Petróleo</td>\n",
       "      <td>71</td>\n",
       "      <td>Entre 50 e 100 anos</td>\n",
       "    </tr>\n",
       "    <tr>\n",
       "      <th>3</th>\n",
       "      <td>SUZB3</td>\n",
       "      <td>2024-01-26</td>\n",
       "      <td>52.91</td>\n",
       "      <td>2.04</td>\n",
       "      <td>2.14</td>\n",
       "      <td>-4.89</td>\n",
       "      <td>-4.89</td>\n",
       "      <td>18.85</td>\n",
       "      <td>51.89</td>\n",
       "      <td>53.17</td>\n",
       "      <td>162,55 M</td>\n",
       "      <td>0.02</td>\n",
       "      <td>51.85</td>\n",
       "      <td>683452836</td>\n",
       "      <td>722946282.71</td>\n",
       "      <td>Subiu</td>\n",
       "      <td>Suzano</td>\n",
       "      <td>Papel e Celulose</td>\n",
       "      <td>100</td>\n",
       "      <td>Entre 50 e 100 anos</td>\n",
       "    </tr>\n",
       "    <tr>\n",
       "      <th>4</th>\n",
       "      <td>CPFE3</td>\n",
       "      <td>2024-01-26</td>\n",
       "      <td>37.10</td>\n",
       "      <td>2.03</td>\n",
       "      <td>2.49</td>\n",
       "      <td>-3.66</td>\n",
       "      <td>-3.66</td>\n",
       "      <td>20.70</td>\n",
       "      <td>36.37</td>\n",
       "      <td>37.32</td>\n",
       "      <td>73,42 M</td>\n",
       "      <td>0.02</td>\n",
       "      <td>36.36</td>\n",
       "      <td>187732538</td>\n",
       "      <td>138573955.06</td>\n",
       "      <td>Subiu</td>\n",
       "      <td>CPFL Energia</td>\n",
       "      <td>Energia</td>\n",
       "      <td>111</td>\n",
       "      <td>Mais de 100 anos</td>\n",
       "    </tr>\n",
       "    <tr>\n",
       "      <th>5</th>\n",
       "      <td>PRIO3</td>\n",
       "      <td>2024-01-26</td>\n",
       "      <td>45.69</td>\n",
       "      <td>1.98</td>\n",
       "      <td>2.42</td>\n",
       "      <td>-0.78</td>\n",
       "      <td>-0.78</td>\n",
       "      <td>8.08</td>\n",
       "      <td>44.25</td>\n",
       "      <td>45.69</td>\n",
       "      <td>319,92 M</td>\n",
       "      <td>0.02</td>\n",
       "      <td>44.80</td>\n",
       "      <td>800010734</td>\n",
       "      <td>709687498.18</td>\n",
       "      <td>Subiu</td>\n",
       "      <td>PetroRio</td>\n",
       "      <td>Energia/Petróleo</td>\n",
       "      <td>23</td>\n",
       "      <td>Menos de 50 anos</td>\n",
       "    </tr>\n",
       "    <tr>\n",
       "      <th>6</th>\n",
       "      <td>PETR4</td>\n",
       "      <td>2024-01-26</td>\n",
       "      <td>39.96</td>\n",
       "      <td>1.73</td>\n",
       "      <td>6.47</td>\n",
       "      <td>7.30</td>\n",
       "      <td>7.30</td>\n",
       "      <td>95.01</td>\n",
       "      <td>38.91</td>\n",
       "      <td>40.09</td>\n",
       "      <td>1,64 B</td>\n",
       "      <td>0.02</td>\n",
       "      <td>39.28</td>\n",
       "      <td>4566445852</td>\n",
       "      <td>3103136291.22</td>\n",
       "      <td>Subiu</td>\n",
       "      <td>Petrobras</td>\n",
       "      <td>Energia/Petróleo</td>\n",
       "      <td>71</td>\n",
       "      <td>Entre 50 e 100 anos</td>\n",
       "    </tr>\n",
       "    <tr>\n",
       "      <th>7</th>\n",
       "      <td>VALE3</td>\n",
       "      <td>2024-01-26</td>\n",
       "      <td>69.50</td>\n",
       "      <td>1.66</td>\n",
       "      <td>2.06</td>\n",
       "      <td>-9.97</td>\n",
       "      <td>-9.97</td>\n",
       "      <td>-23.49</td>\n",
       "      <td>67.50</td>\n",
       "      <td>69.81</td>\n",
       "      <td>1,89 B</td>\n",
       "      <td>0.02</td>\n",
       "      <td>68.37</td>\n",
       "      <td>4196924316</td>\n",
       "      <td>4762926995.25</td>\n",
       "      <td>Subiu</td>\n",
       "      <td>Vale</td>\n",
       "      <td>Mineração</td>\n",
       "      <td>81</td>\n",
       "      <td>Entre 50 e 100 anos</td>\n",
       "    </tr>\n",
       "    <tr>\n",
       "      <th>8</th>\n",
       "      <td>MULT3</td>\n",
       "      <td>2024-01-26</td>\n",
       "      <td>28.19</td>\n",
       "      <td>1.58</td>\n",
       "      <td>2.03</td>\n",
       "      <td>-0.81</td>\n",
       "      <td>-0.81</td>\n",
       "      <td>24.02</td>\n",
       "      <td>27.71</td>\n",
       "      <td>28.36</td>\n",
       "      <td>104,16 M</td>\n",
       "      <td>0.02</td>\n",
       "      <td>27.75</td>\n",
       "      <td>268505432</td>\n",
       "      <td>117732680.08</td>\n",
       "      <td>Subiu</td>\n",
       "      <td>Multiplan</td>\n",
       "      <td>Shopping Centers</td>\n",
       "      <td>49</td>\n",
       "      <td>Menos de 50 anos</td>\n",
       "    </tr>\n",
       "    <tr>\n",
       "      <th>9</th>\n",
       "      <td>ITUB4</td>\n",
       "      <td>2024-01-26</td>\n",
       "      <td>32.81</td>\n",
       "      <td>1.48</td>\n",
       "      <td>-0.39</td>\n",
       "      <td>-3.36</td>\n",
       "      <td>-3.36</td>\n",
       "      <td>34.25</td>\n",
       "      <td>32.35</td>\n",
       "      <td>32.91</td>\n",
       "      <td>473,2 M</td>\n",
       "      <td>0.01</td>\n",
       "      <td>32.33</td>\n",
       "      <td>4801593832</td>\n",
       "      <td>2297591984.33</td>\n",
       "      <td>Subiu</td>\n",
       "      <td>Itaú Unibanco</td>\n",
       "      <td>Bancos</td>\n",
       "      <td>100</td>\n",
       "      <td>Entre 50 e 100 anos</td>\n",
       "    </tr>\n",
       "  </tbody>\n",
       "</table>\n",
       "</div>"
      ],
      "text/plain": [
       "   Ativo       Data  Último (R$)  Var. Dia (%)  Var. Sem. (%)  Var. Mês (%)  \\\n",
       "0  USIM5 2024-01-26         9.50          5.20          11.76          2.26   \n",
       "1  CMIN3 2024-01-26         6.82          2.40           2.40        -12.11   \n",
       "2  PETR3 2024-01-26        41.96          2.19           7.73          7.64   \n",
       "3  SUZB3 2024-01-26        52.91          2.04           2.14         -4.89   \n",
       "4  CPFE3 2024-01-26        37.10          2.03           2.49         -3.66   \n",
       "5  PRIO3 2024-01-26        45.69          1.98           2.42         -0.78   \n",
       "6  PETR4 2024-01-26        39.96          1.73           6.47          7.30   \n",
       "7  VALE3 2024-01-26        69.50          1.66           2.06         -9.97   \n",
       "8  MULT3 2024-01-26        28.19          1.58           2.03         -0.81   \n",
       "9  ITUB4 2024-01-26        32.81          1.48          -0.39         -3.36   \n",
       "\n",
       "   Var. Ano (%)  Var. 12M (%)  Val. Mín  Val. Máx    Volume  Variação %  \\\n",
       "0          2.26         15.97      9.18      9.56  319,16 M        0.05   \n",
       "1        -12.11         50.56      6.66      6.86   32,65 M        0.02   \n",
       "2          7.64         77.55     40.81     42.34  436,69 M        0.02   \n",
       "3         -4.89         18.85     51.89     53.17  162,55 M        0.02   \n",
       "4         -3.66         20.70     36.37     37.32   73,42 M        0.02   \n",
       "5         -0.78          8.08     44.25     45.69  319,92 M        0.02   \n",
       "6          7.30         95.01     38.91     40.09    1,64 B        0.02   \n",
       "7         -9.97        -23.49     67.50     69.81    1,89 B        0.02   \n",
       "8         -0.81         24.02     27.71     28.36  104,16 M        0.02   \n",
       "9         -3.36         34.25     32.35     32.91   473,2 M        0.01   \n",
       "\n",
       "   Valor Inicial (R$)  Quantidade de Ações   Variação R$ Resultado  \\\n",
       "0                9.03            515117391  241889725.43     Subiu   \n",
       "1                6.66           1110559345  177515970.30     Subiu   \n",
       "2               41.06           2379877655 2140059393.53     Subiu   \n",
       "3               51.85            683452836  722946282.71     Subiu   \n",
       "4               36.36            187732538  138573955.06     Subiu   \n",
       "5               44.80            800010734  709687498.18     Subiu   \n",
       "6               39.28           4566445852 3103136291.22     Subiu   \n",
       "7               68.37           4196924316 4762926995.25     Subiu   \n",
       "8               27.75            268505432  117732680.08     Subiu   \n",
       "9               32.33           4801593832 2297591984.33     Subiu   \n",
       "\n",
       "         Empresa Segmento da Empresa  Idade da Empresa      Categoria Idade  \n",
       "0       Usiminas          Siderurgia                61  Entre 50 e 100 anos  \n",
       "1  CSN Mineração           Mineração                80  Entre 50 e 100 anos  \n",
       "2      Petrobras    Energia/Petróleo                71  Entre 50 e 100 anos  \n",
       "3         Suzano    Papel e Celulose               100  Entre 50 e 100 anos  \n",
       "4   CPFL Energia             Energia               111     Mais de 100 anos  \n",
       "5       PetroRio    Energia/Petróleo                23     Menos de 50 anos  \n",
       "6      Petrobras    Energia/Petróleo                71  Entre 50 e 100 anos  \n",
       "7           Vale           Mineração                81  Entre 50 e 100 anos  \n",
       "8      Multiplan    Shopping Centers                49     Menos de 50 anos  \n",
       "9  Itaú Unibanco              Bancos               100  Entre 50 e 100 anos  "
      ]
     },
     "execution_count": 49,
     "metadata": {},
     "output_type": "execute_result"
    }
   ],
   "source": [
    "df_principal = pd.read_excel('Imersão Python - Tabela de ações.xlsx', sheet_name='Principal')\n",
    "df_principal.head(10)"
   ]
  },
  {
   "cell_type": "code",
   "execution_count": 50,
   "metadata": {},
   "outputs": [
    {
     "data": {
      "text/html": [
       "<div>\n",
       "<style scoped>\n",
       "    .dataframe tbody tr th:only-of-type {\n",
       "        vertical-align: middle;\n",
       "    }\n",
       "\n",
       "    .dataframe tbody tr th {\n",
       "        vertical-align: top;\n",
       "    }\n",
       "\n",
       "    .dataframe thead th {\n",
       "        text-align: right;\n",
       "    }\n",
       "</style>\n",
       "<table border=\"1\" class=\"dataframe\">\n",
       "  <thead>\n",
       "    <tr style=\"text-align: right;\">\n",
       "      <th></th>\n",
       "      <th>Código</th>\n",
       "      <th>Qtde. Teórica</th>\n",
       "    </tr>\n",
       "  </thead>\n",
       "  <tbody>\n",
       "    <tr>\n",
       "      <th>0</th>\n",
       "      <td>RRRP3</td>\n",
       "      <td>235665566.00</td>\n",
       "    </tr>\n",
       "    <tr>\n",
       "      <th>1</th>\n",
       "      <td>ALOS3</td>\n",
       "      <td>532616595.00</td>\n",
       "    </tr>\n",
       "    <tr>\n",
       "      <th>2</th>\n",
       "      <td>ALPA4</td>\n",
       "      <td>176733968.00</td>\n",
       "    </tr>\n",
       "    <tr>\n",
       "      <th>3</th>\n",
       "      <td>ABEV3</td>\n",
       "      <td>4394245879.00</td>\n",
       "    </tr>\n",
       "    <tr>\n",
       "      <th>4</th>\n",
       "      <td>ARZZ3</td>\n",
       "      <td>62305891.00</td>\n",
       "    </tr>\n",
       "    <tr>\n",
       "      <th>5</th>\n",
       "      <td>ASAI3</td>\n",
       "      <td>1349217892.00</td>\n",
       "    </tr>\n",
       "    <tr>\n",
       "      <th>6</th>\n",
       "      <td>AZUL4</td>\n",
       "      <td>327593725.00</td>\n",
       "    </tr>\n",
       "    <tr>\n",
       "      <th>7</th>\n",
       "      <td>B3SA3</td>\n",
       "      <td>5602790110.00</td>\n",
       "    </tr>\n",
       "    <tr>\n",
       "      <th>8</th>\n",
       "      <td>BBSE3</td>\n",
       "      <td>671750768.00</td>\n",
       "    </tr>\n",
       "    <tr>\n",
       "      <th>9</th>\n",
       "      <td>BBDC3</td>\n",
       "      <td>1500728902.00</td>\n",
       "    </tr>\n",
       "  </tbody>\n",
       "</table>\n",
       "</div>"
      ],
      "text/plain": [
       "  Código  Qtde. Teórica\n",
       "0  RRRP3   235665566.00\n",
       "1  ALOS3   532616595.00\n",
       "2  ALPA4   176733968.00\n",
       "3  ABEV3  4394245879.00\n",
       "4  ARZZ3    62305891.00\n",
       "5  ASAI3  1349217892.00\n",
       "6  AZUL4   327593725.00\n",
       "7  B3SA3  5602790110.00\n",
       "8  BBSE3   671750768.00\n",
       "9  BBDC3  1500728902.00"
      ]
     },
     "execution_count": 50,
     "metadata": {},
     "output_type": "execute_result"
    }
   ],
   "source": [
    "df_total_de_acoes = pd.read_excel('Imersão Python - Tabela de ações.xlsx', sheet_name='Total_de_acoes')\n",
    "df_total_de_acoes.head(10)"
   ]
  },
  {
   "cell_type": "code",
   "execution_count": 51,
   "metadata": {},
   "outputs": [
    {
     "data": {
      "text/html": [
       "<div>\n",
       "<style scoped>\n",
       "    .dataframe tbody tr th:only-of-type {\n",
       "        vertical-align: middle;\n",
       "    }\n",
       "\n",
       "    .dataframe tbody tr th {\n",
       "        vertical-align: top;\n",
       "    }\n",
       "\n",
       "    .dataframe thead th {\n",
       "        text-align: right;\n",
       "    }\n",
       "</style>\n",
       "<table border=\"1\" class=\"dataframe\">\n",
       "  <thead>\n",
       "    <tr style=\"text-align: right;\">\n",
       "      <th></th>\n",
       "      <th>Ticker</th>\n",
       "      <th>Nome</th>\n",
       "    </tr>\n",
       "  </thead>\n",
       "  <tbody>\n",
       "    <tr>\n",
       "      <th>0</th>\n",
       "      <td>MGLU3</td>\n",
       "      <td>Magazine Luiza</td>\n",
       "    </tr>\n",
       "    <tr>\n",
       "      <th>1</th>\n",
       "      <td>HAPV3</td>\n",
       "      <td>Hapvida</td>\n",
       "    </tr>\n",
       "    <tr>\n",
       "      <th>2</th>\n",
       "      <td>PETR4</td>\n",
       "      <td>Petrobras</td>\n",
       "    </tr>\n",
       "    <tr>\n",
       "      <th>3</th>\n",
       "      <td>B3SA3</td>\n",
       "      <td>B3</td>\n",
       "    </tr>\n",
       "    <tr>\n",
       "      <th>4</th>\n",
       "      <td>USIM5</td>\n",
       "      <td>Usiminas</td>\n",
       "    </tr>\n",
       "    <tr>\n",
       "      <th>5</th>\n",
       "      <td>CVCB3</td>\n",
       "      <td>CVC</td>\n",
       "    </tr>\n",
       "    <tr>\n",
       "      <th>6</th>\n",
       "      <td>CIEL3</td>\n",
       "      <td>Cielo</td>\n",
       "    </tr>\n",
       "    <tr>\n",
       "      <th>7</th>\n",
       "      <td>VALE3</td>\n",
       "      <td>Vale</td>\n",
       "    </tr>\n",
       "    <tr>\n",
       "      <th>8</th>\n",
       "      <td>GOLL4</td>\n",
       "      <td>GOL</td>\n",
       "    </tr>\n",
       "    <tr>\n",
       "      <th>9</th>\n",
       "      <td>BBDC4</td>\n",
       "      <td>Banco Bradesco</td>\n",
       "    </tr>\n",
       "  </tbody>\n",
       "</table>\n",
       "</div>"
      ],
      "text/plain": [
       "  Ticker            Nome\n",
       "0  MGLU3  Magazine Luiza\n",
       "1  HAPV3         Hapvida\n",
       "2  PETR4       Petrobras\n",
       "3  B3SA3              B3\n",
       "4  USIM5        Usiminas\n",
       "5  CVCB3             CVC\n",
       "6  CIEL3           Cielo\n",
       "7  VALE3            Vale\n",
       "8  GOLL4             GOL\n",
       "9  BBDC4  Banco Bradesco"
      ]
     },
     "execution_count": 51,
     "metadata": {},
     "output_type": "execute_result"
    }
   ],
   "source": [
    "df_ticker = pd.read_excel('Imersão Python - Tabela de ações.xlsx', sheet_name='Ticker')\n",
    "df_ticker.head(10)"
   ]
  },
  {
   "cell_type": "code",
   "execution_count": 52,
   "metadata": {},
   "outputs": [
    {
     "data": {
      "text/html": [
       "<div>\n",
       "<style scoped>\n",
       "    .dataframe tbody tr th:only-of-type {\n",
       "        vertical-align: middle;\n",
       "    }\n",
       "\n",
       "    .dataframe tbody tr th {\n",
       "        vertical-align: top;\n",
       "    }\n",
       "\n",
       "    .dataframe thead th {\n",
       "        text-align: right;\n",
       "    }\n",
       "</style>\n",
       "<table border=\"1\" class=\"dataframe\">\n",
       "  <thead>\n",
       "    <tr style=\"text-align: right;\">\n",
       "      <th></th>\n",
       "      <th>Nome da Empresa</th>\n",
       "      <th>Segmento</th>\n",
       "      <th>Idade em Anos</th>\n",
       "    </tr>\n",
       "  </thead>\n",
       "  <tbody>\n",
       "    <tr>\n",
       "      <th>0</th>\n",
       "      <td>Usiminas</td>\n",
       "      <td>Siderurgia</td>\n",
       "      <td>61</td>\n",
       "    </tr>\n",
       "    <tr>\n",
       "      <th>1</th>\n",
       "      <td>CSN Mineração</td>\n",
       "      <td>Mineração</td>\n",
       "      <td>80</td>\n",
       "    </tr>\n",
       "    <tr>\n",
       "      <th>2</th>\n",
       "      <td>Petrobras</td>\n",
       "      <td>Energia/Petróleo</td>\n",
       "      <td>71</td>\n",
       "    </tr>\n",
       "    <tr>\n",
       "      <th>3</th>\n",
       "      <td>Suzano</td>\n",
       "      <td>Papel e Celulose</td>\n",
       "      <td>100</td>\n",
       "    </tr>\n",
       "    <tr>\n",
       "      <th>4</th>\n",
       "      <td>CPFL Energia</td>\n",
       "      <td>Energia</td>\n",
       "      <td>111</td>\n",
       "    </tr>\n",
       "    <tr>\n",
       "      <th>5</th>\n",
       "      <td>PetroRio</td>\n",
       "      <td>Energia/Petróleo</td>\n",
       "      <td>23</td>\n",
       "    </tr>\n",
       "    <tr>\n",
       "      <th>6</th>\n",
       "      <td>Vale</td>\n",
       "      <td>Mineração</td>\n",
       "      <td>81</td>\n",
       "    </tr>\n",
       "    <tr>\n",
       "      <th>7</th>\n",
       "      <td>Multiplan</td>\n",
       "      <td>Shopping Centers</td>\n",
       "      <td>49</td>\n",
       "    </tr>\n",
       "    <tr>\n",
       "      <th>8</th>\n",
       "      <td>Itaú Unibanco</td>\n",
       "      <td>Bancos</td>\n",
       "      <td>100</td>\n",
       "    </tr>\n",
       "    <tr>\n",
       "      <th>9</th>\n",
       "      <td>Rede D'Or</td>\n",
       "      <td>Saúde</td>\n",
       "      <td>47</td>\n",
       "    </tr>\n",
       "  </tbody>\n",
       "</table>\n",
       "</div>"
      ],
      "text/plain": [
       "  Nome da Empresa          Segmento  Idade em Anos\n",
       "0        Usiminas        Siderurgia             61\n",
       "1   CSN Mineração         Mineração             80\n",
       "2       Petrobras  Energia/Petróleo             71\n",
       "3          Suzano  Papel e Celulose            100\n",
       "4    CPFL Energia           Energia            111\n",
       "5        PetroRio  Energia/Petróleo             23\n",
       "6            Vale         Mineração             81\n",
       "7       Multiplan  Shopping Centers             49\n",
       "8   Itaú Unibanco            Bancos            100\n",
       "9       Rede D'Or             Saúde             47"
      ]
     },
     "execution_count": 52,
     "metadata": {},
     "output_type": "execute_result"
    }
   ],
   "source": [
    "df_chatgpt = pd.read_excel('Imersão Python - Tabela de ações.xlsx', sheet_name='ChatGPT')\n",
    "df_chatgpt.head(10)"
   ]
  },
  {
   "cell_type": "code",
   "execution_count": 53,
   "metadata": {},
   "outputs": [
    {
     "data": {
      "text/html": [
       "<div>\n",
       "<style scoped>\n",
       "    .dataframe tbody tr th:only-of-type {\n",
       "        vertical-align: middle;\n",
       "    }\n",
       "\n",
       "    .dataframe tbody tr th {\n",
       "        vertical-align: top;\n",
       "    }\n",
       "\n",
       "    .dataframe thead th {\n",
       "        text-align: right;\n",
       "    }\n",
       "</style>\n",
       "<table border=\"1\" class=\"dataframe\">\n",
       "  <thead>\n",
       "    <tr style=\"text-align: right;\">\n",
       "      <th></th>\n",
       "      <th>Ativo</th>\n",
       "      <th>Data</th>\n",
       "      <th>Último (R$)</th>\n",
       "      <th>Var. Dia (%)</th>\n",
       "    </tr>\n",
       "  </thead>\n",
       "  <tbody>\n",
       "    <tr>\n",
       "      <th>0</th>\n",
       "      <td>USIM5</td>\n",
       "      <td>2024-01-26</td>\n",
       "      <td>9.50</td>\n",
       "      <td>5.20</td>\n",
       "    </tr>\n",
       "    <tr>\n",
       "      <th>1</th>\n",
       "      <td>CMIN3</td>\n",
       "      <td>2024-01-26</td>\n",
       "      <td>6.82</td>\n",
       "      <td>2.40</td>\n",
       "    </tr>\n",
       "    <tr>\n",
       "      <th>2</th>\n",
       "      <td>PETR3</td>\n",
       "      <td>2024-01-26</td>\n",
       "      <td>41.96</td>\n",
       "      <td>2.19</td>\n",
       "    </tr>\n",
       "    <tr>\n",
       "      <th>3</th>\n",
       "      <td>SUZB3</td>\n",
       "      <td>2024-01-26</td>\n",
       "      <td>52.91</td>\n",
       "      <td>2.04</td>\n",
       "    </tr>\n",
       "    <tr>\n",
       "      <th>4</th>\n",
       "      <td>CPFE3</td>\n",
       "      <td>2024-01-26</td>\n",
       "      <td>37.10</td>\n",
       "      <td>2.03</td>\n",
       "    </tr>\n",
       "    <tr>\n",
       "      <th>...</th>\n",
       "      <td>...</td>\n",
       "      <td>...</td>\n",
       "      <td>...</td>\n",
       "      <td>...</td>\n",
       "    </tr>\n",
       "    <tr>\n",
       "      <th>76</th>\n",
       "      <td>CRFB3</td>\n",
       "      <td>2024-01-26</td>\n",
       "      <td>10.71</td>\n",
       "      <td>-2.45</td>\n",
       "    </tr>\n",
       "    <tr>\n",
       "      <th>77</th>\n",
       "      <td>BHIA3</td>\n",
       "      <td>2024-01-26</td>\n",
       "      <td>8.70</td>\n",
       "      <td>-2.46</td>\n",
       "    </tr>\n",
       "    <tr>\n",
       "      <th>78</th>\n",
       "      <td>RENT3</td>\n",
       "      <td>2024-01-26</td>\n",
       "      <td>56.24</td>\n",
       "      <td>-3.63</td>\n",
       "    </tr>\n",
       "    <tr>\n",
       "      <th>79</th>\n",
       "      <td>CVCB3</td>\n",
       "      <td>2024-01-26</td>\n",
       "      <td>3.07</td>\n",
       "      <td>-4.36</td>\n",
       "    </tr>\n",
       "    <tr>\n",
       "      <th>80</th>\n",
       "      <td>GOLL4</td>\n",
       "      <td>2024-01-26</td>\n",
       "      <td>5.92</td>\n",
       "      <td>-8.07</td>\n",
       "    </tr>\n",
       "  </tbody>\n",
       "</table>\n",
       "<p>81 rows × 4 columns</p>\n",
       "</div>"
      ],
      "text/plain": [
       "    Ativo       Data  Último (R$)  Var. Dia (%)\n",
       "0   USIM5 2024-01-26         9.50          5.20\n",
       "1   CMIN3 2024-01-26         6.82          2.40\n",
       "2   PETR3 2024-01-26        41.96          2.19\n",
       "3   SUZB3 2024-01-26        52.91          2.04\n",
       "4   CPFE3 2024-01-26        37.10          2.03\n",
       "..    ...        ...          ...           ...\n",
       "76  CRFB3 2024-01-26        10.71         -2.45\n",
       "77  BHIA3 2024-01-26         8.70         -2.46\n",
       "78  RENT3 2024-01-26        56.24         -3.63\n",
       "79  CVCB3 2024-01-26         3.07         -4.36\n",
       "80  GOLL4 2024-01-26         5.92         -8.07\n",
       "\n",
       "[81 rows x 4 columns]"
      ]
     },
     "execution_count": 53,
     "metadata": {},
     "output_type": "execute_result"
    }
   ],
   "source": [
    "df_principal = df_principal[['Ativo', 'Data', 'Último (R$)', 'Var. Dia (%)']].copy()\n",
    "df_principal"
   ]
  },
  {
   "cell_type": "code",
   "execution_count": 54,
   "metadata": {},
   "outputs": [
    {
     "data": {
      "text/html": [
       "<div>\n",
       "<style scoped>\n",
       "    .dataframe tbody tr th:only-of-type {\n",
       "        vertical-align: middle;\n",
       "    }\n",
       "\n",
       "    .dataframe tbody tr th {\n",
       "        vertical-align: top;\n",
       "    }\n",
       "\n",
       "    .dataframe thead th {\n",
       "        text-align: right;\n",
       "    }\n",
       "</style>\n",
       "<table border=\"1\" class=\"dataframe\">\n",
       "  <thead>\n",
       "    <tr style=\"text-align: right;\">\n",
       "      <th></th>\n",
       "      <th>Ativo</th>\n",
       "      <th>Data</th>\n",
       "      <th>Valor_Final</th>\n",
       "      <th>Var_Dia_Pct</th>\n",
       "    </tr>\n",
       "  </thead>\n",
       "  <tbody>\n",
       "    <tr>\n",
       "      <th>0</th>\n",
       "      <td>USIM5</td>\n",
       "      <td>2024-01-26</td>\n",
       "      <td>9.50</td>\n",
       "      <td>5.20</td>\n",
       "    </tr>\n",
       "    <tr>\n",
       "      <th>1</th>\n",
       "      <td>CMIN3</td>\n",
       "      <td>2024-01-26</td>\n",
       "      <td>6.82</td>\n",
       "      <td>2.40</td>\n",
       "    </tr>\n",
       "    <tr>\n",
       "      <th>2</th>\n",
       "      <td>PETR3</td>\n",
       "      <td>2024-01-26</td>\n",
       "      <td>41.96</td>\n",
       "      <td>2.19</td>\n",
       "    </tr>\n",
       "    <tr>\n",
       "      <th>3</th>\n",
       "      <td>SUZB3</td>\n",
       "      <td>2024-01-26</td>\n",
       "      <td>52.91</td>\n",
       "      <td>2.04</td>\n",
       "    </tr>\n",
       "    <tr>\n",
       "      <th>4</th>\n",
       "      <td>CPFE3</td>\n",
       "      <td>2024-01-26</td>\n",
       "      <td>37.10</td>\n",
       "      <td>2.03</td>\n",
       "    </tr>\n",
       "    <tr>\n",
       "      <th>...</th>\n",
       "      <td>...</td>\n",
       "      <td>...</td>\n",
       "      <td>...</td>\n",
       "      <td>...</td>\n",
       "    </tr>\n",
       "    <tr>\n",
       "      <th>76</th>\n",
       "      <td>CRFB3</td>\n",
       "      <td>2024-01-26</td>\n",
       "      <td>10.71</td>\n",
       "      <td>-2.45</td>\n",
       "    </tr>\n",
       "    <tr>\n",
       "      <th>77</th>\n",
       "      <td>BHIA3</td>\n",
       "      <td>2024-01-26</td>\n",
       "      <td>8.70</td>\n",
       "      <td>-2.46</td>\n",
       "    </tr>\n",
       "    <tr>\n",
       "      <th>78</th>\n",
       "      <td>RENT3</td>\n",
       "      <td>2024-01-26</td>\n",
       "      <td>56.24</td>\n",
       "      <td>-3.63</td>\n",
       "    </tr>\n",
       "    <tr>\n",
       "      <th>79</th>\n",
       "      <td>CVCB3</td>\n",
       "      <td>2024-01-26</td>\n",
       "      <td>3.07</td>\n",
       "      <td>-4.36</td>\n",
       "    </tr>\n",
       "    <tr>\n",
       "      <th>80</th>\n",
       "      <td>GOLL4</td>\n",
       "      <td>2024-01-26</td>\n",
       "      <td>5.92</td>\n",
       "      <td>-8.07</td>\n",
       "    </tr>\n",
       "  </tbody>\n",
       "</table>\n",
       "<p>81 rows × 4 columns</p>\n",
       "</div>"
      ],
      "text/plain": [
       "    Ativo       Data  Valor_Final  Var_Dia_Pct\n",
       "0   USIM5 2024-01-26         9.50         5.20\n",
       "1   CMIN3 2024-01-26         6.82         2.40\n",
       "2   PETR3 2024-01-26        41.96         2.19\n",
       "3   SUZB3 2024-01-26        52.91         2.04\n",
       "4   CPFE3 2024-01-26        37.10         2.03\n",
       "..    ...        ...          ...          ...\n",
       "76  CRFB3 2024-01-26        10.71        -2.45\n",
       "77  BHIA3 2024-01-26         8.70        -2.46\n",
       "78  RENT3 2024-01-26        56.24        -3.63\n",
       "79  CVCB3 2024-01-26         3.07        -4.36\n",
       "80  GOLL4 2024-01-26         5.92        -8.07\n",
       "\n",
       "[81 rows x 4 columns]"
      ]
     },
     "execution_count": 54,
     "metadata": {},
     "output_type": "execute_result"
    }
   ],
   "source": [
    "df_principal = df_principal.rename(columns={'Último (R$)':'Valor_Final','Var. Dia (%)':'Var_Dia_Pct' }).copy()\n",
    "df_principal"
   ]
  },
  {
   "cell_type": "code",
   "execution_count": 55,
   "metadata": {},
   "outputs": [
    {
     "data": {
      "text/html": [
       "<div>\n",
       "<style scoped>\n",
       "    .dataframe tbody tr th:only-of-type {\n",
       "        vertical-align: middle;\n",
       "    }\n",
       "\n",
       "    .dataframe tbody tr th {\n",
       "        vertical-align: top;\n",
       "    }\n",
       "\n",
       "    .dataframe thead th {\n",
       "        text-align: right;\n",
       "    }\n",
       "</style>\n",
       "<table border=\"1\" class=\"dataframe\">\n",
       "  <thead>\n",
       "    <tr style=\"text-align: right;\">\n",
       "      <th></th>\n",
       "      <th>Ativo</th>\n",
       "      <th>Data</th>\n",
       "      <th>Valor_Final</th>\n",
       "      <th>Var_Dia_Pct</th>\n",
       "      <th>Var_Pct</th>\n",
       "      <th>Var_Inicial</th>\n",
       "    </tr>\n",
       "  </thead>\n",
       "  <tbody>\n",
       "    <tr>\n",
       "      <th>0</th>\n",
       "      <td>USIM5</td>\n",
       "      <td>2024-01-26</td>\n",
       "      <td>9.50</td>\n",
       "      <td>5.20</td>\n",
       "      <td>0.05</td>\n",
       "      <td>9.03</td>\n",
       "    </tr>\n",
       "    <tr>\n",
       "      <th>1</th>\n",
       "      <td>CMIN3</td>\n",
       "      <td>2024-01-26</td>\n",
       "      <td>6.82</td>\n",
       "      <td>2.40</td>\n",
       "      <td>0.02</td>\n",
       "      <td>6.66</td>\n",
       "    </tr>\n",
       "    <tr>\n",
       "      <th>2</th>\n",
       "      <td>PETR3</td>\n",
       "      <td>2024-01-26</td>\n",
       "      <td>41.96</td>\n",
       "      <td>2.19</td>\n",
       "      <td>0.02</td>\n",
       "      <td>41.06</td>\n",
       "    </tr>\n",
       "    <tr>\n",
       "      <th>3</th>\n",
       "      <td>SUZB3</td>\n",
       "      <td>2024-01-26</td>\n",
       "      <td>52.91</td>\n",
       "      <td>2.04</td>\n",
       "      <td>0.02</td>\n",
       "      <td>51.85</td>\n",
       "    </tr>\n",
       "    <tr>\n",
       "      <th>4</th>\n",
       "      <td>CPFE3</td>\n",
       "      <td>2024-01-26</td>\n",
       "      <td>37.10</td>\n",
       "      <td>2.03</td>\n",
       "      <td>0.02</td>\n",
       "      <td>36.36</td>\n",
       "    </tr>\n",
       "    <tr>\n",
       "      <th>...</th>\n",
       "      <td>...</td>\n",
       "      <td>...</td>\n",
       "      <td>...</td>\n",
       "      <td>...</td>\n",
       "      <td>...</td>\n",
       "      <td>...</td>\n",
       "    </tr>\n",
       "    <tr>\n",
       "      <th>76</th>\n",
       "      <td>CRFB3</td>\n",
       "      <td>2024-01-26</td>\n",
       "      <td>10.71</td>\n",
       "      <td>-2.45</td>\n",
       "      <td>-0.02</td>\n",
       "      <td>10.98</td>\n",
       "    </tr>\n",
       "    <tr>\n",
       "      <th>77</th>\n",
       "      <td>BHIA3</td>\n",
       "      <td>2024-01-26</td>\n",
       "      <td>8.70</td>\n",
       "      <td>-2.46</td>\n",
       "      <td>-0.02</td>\n",
       "      <td>8.92</td>\n",
       "    </tr>\n",
       "    <tr>\n",
       "      <th>78</th>\n",
       "      <td>RENT3</td>\n",
       "      <td>2024-01-26</td>\n",
       "      <td>56.24</td>\n",
       "      <td>-3.63</td>\n",
       "      <td>-0.04</td>\n",
       "      <td>58.36</td>\n",
       "    </tr>\n",
       "    <tr>\n",
       "      <th>79</th>\n",
       "      <td>CVCB3</td>\n",
       "      <td>2024-01-26</td>\n",
       "      <td>3.07</td>\n",
       "      <td>-4.36</td>\n",
       "      <td>-0.04</td>\n",
       "      <td>3.21</td>\n",
       "    </tr>\n",
       "    <tr>\n",
       "      <th>80</th>\n",
       "      <td>GOLL4</td>\n",
       "      <td>2024-01-26</td>\n",
       "      <td>5.92</td>\n",
       "      <td>-8.07</td>\n",
       "      <td>-0.08</td>\n",
       "      <td>6.44</td>\n",
       "    </tr>\n",
       "  </tbody>\n",
       "</table>\n",
       "<p>81 rows × 6 columns</p>\n",
       "</div>"
      ],
      "text/plain": [
       "    Ativo       Data  Valor_Final  Var_Dia_Pct  Var_Pct  Var_Inicial\n",
       "0   USIM5 2024-01-26         9.50         5.20     0.05         9.03\n",
       "1   CMIN3 2024-01-26         6.82         2.40     0.02         6.66\n",
       "2   PETR3 2024-01-26        41.96         2.19     0.02        41.06\n",
       "3   SUZB3 2024-01-26        52.91         2.04     0.02        51.85\n",
       "4   CPFE3 2024-01-26        37.10         2.03     0.02        36.36\n",
       "..    ...        ...          ...          ...      ...          ...\n",
       "76  CRFB3 2024-01-26        10.71        -2.45    -0.02        10.98\n",
       "77  BHIA3 2024-01-26         8.70        -2.46    -0.02         8.92\n",
       "78  RENT3 2024-01-26        56.24        -3.63    -0.04        58.36\n",
       "79  CVCB3 2024-01-26         3.07        -4.36    -0.04         3.21\n",
       "80  GOLL4 2024-01-26         5.92        -8.07    -0.08         6.44\n",
       "\n",
       "[81 rows x 6 columns]"
      ]
     },
     "execution_count": 55,
     "metadata": {},
     "output_type": "execute_result"
    }
   ],
   "source": [
    "df_principal['Var_Pct'] = df_principal['Var_Dia_Pct'] / 100\n",
    "df_principal['Var_Inicial'] = df_principal['Valor_Final'] / (1 + df_principal['Var_Pct'])\n",
    "df_principal"
   ]
  },
  {
   "cell_type": "code",
   "execution_count": 56,
   "metadata": {},
   "outputs": [
    {
     "data": {
      "text/html": [
       "<div>\n",
       "<style scoped>\n",
       "    .dataframe tbody tr th:only-of-type {\n",
       "        vertical-align: middle;\n",
       "    }\n",
       "\n",
       "    .dataframe tbody tr th {\n",
       "        vertical-align: top;\n",
       "    }\n",
       "\n",
       "    .dataframe thead th {\n",
       "        text-align: right;\n",
       "    }\n",
       "</style>\n",
       "<table border=\"1\" class=\"dataframe\">\n",
       "  <thead>\n",
       "    <tr style=\"text-align: right;\">\n",
       "      <th></th>\n",
       "      <th>Ativo</th>\n",
       "      <th>Data</th>\n",
       "      <th>Valor_Final</th>\n",
       "      <th>Var_Dia_Pct</th>\n",
       "      <th>Var_Pct</th>\n",
       "      <th>Var_Inicial</th>\n",
       "      <th>Código</th>\n",
       "      <th>Qtde. Teórica</th>\n",
       "    </tr>\n",
       "  </thead>\n",
       "  <tbody>\n",
       "    <tr>\n",
       "      <th>0</th>\n",
       "      <td>USIM5</td>\n",
       "      <td>2024-01-26</td>\n",
       "      <td>9.50</td>\n",
       "      <td>5.20</td>\n",
       "      <td>0.05</td>\n",
       "      <td>9.03</td>\n",
       "      <td>USIM5</td>\n",
       "      <td>515117391.00</td>\n",
       "    </tr>\n",
       "    <tr>\n",
       "      <th>1</th>\n",
       "      <td>CMIN3</td>\n",
       "      <td>2024-01-26</td>\n",
       "      <td>6.82</td>\n",
       "      <td>2.40</td>\n",
       "      <td>0.02</td>\n",
       "      <td>6.66</td>\n",
       "      <td>CMIN3</td>\n",
       "      <td>1110559345.00</td>\n",
       "    </tr>\n",
       "    <tr>\n",
       "      <th>2</th>\n",
       "      <td>PETR3</td>\n",
       "      <td>2024-01-26</td>\n",
       "      <td>41.96</td>\n",
       "      <td>2.19</td>\n",
       "      <td>0.02</td>\n",
       "      <td>41.06</td>\n",
       "      <td>PETR3</td>\n",
       "      <td>2379877655.00</td>\n",
       "    </tr>\n",
       "    <tr>\n",
       "      <th>3</th>\n",
       "      <td>SUZB3</td>\n",
       "      <td>2024-01-26</td>\n",
       "      <td>52.91</td>\n",
       "      <td>2.04</td>\n",
       "      <td>0.02</td>\n",
       "      <td>51.85</td>\n",
       "      <td>SUZB3</td>\n",
       "      <td>683452836.00</td>\n",
       "    </tr>\n",
       "    <tr>\n",
       "      <th>4</th>\n",
       "      <td>CPFE3</td>\n",
       "      <td>2024-01-26</td>\n",
       "      <td>37.10</td>\n",
       "      <td>2.03</td>\n",
       "      <td>0.02</td>\n",
       "      <td>36.36</td>\n",
       "      <td>CPFE3</td>\n",
       "      <td>187732538.00</td>\n",
       "    </tr>\n",
       "    <tr>\n",
       "      <th>...</th>\n",
       "      <td>...</td>\n",
       "      <td>...</td>\n",
       "      <td>...</td>\n",
       "      <td>...</td>\n",
       "      <td>...</td>\n",
       "      <td>...</td>\n",
       "      <td>...</td>\n",
       "      <td>...</td>\n",
       "    </tr>\n",
       "    <tr>\n",
       "      <th>76</th>\n",
       "      <td>CRFB3</td>\n",
       "      <td>2024-01-26</td>\n",
       "      <td>10.71</td>\n",
       "      <td>-2.45</td>\n",
       "      <td>-0.02</td>\n",
       "      <td>10.98</td>\n",
       "      <td>CRFB3</td>\n",
       "      <td>533990587.00</td>\n",
       "    </tr>\n",
       "    <tr>\n",
       "      <th>77</th>\n",
       "      <td>BHIA3</td>\n",
       "      <td>2024-01-26</td>\n",
       "      <td>8.70</td>\n",
       "      <td>-2.46</td>\n",
       "      <td>-0.02</td>\n",
       "      <td>8.92</td>\n",
       "      <td>BHIA3</td>\n",
       "      <td>94843047.00</td>\n",
       "    </tr>\n",
       "    <tr>\n",
       "      <th>78</th>\n",
       "      <td>RENT3</td>\n",
       "      <td>2024-01-26</td>\n",
       "      <td>56.24</td>\n",
       "      <td>-3.63</td>\n",
       "      <td>-0.04</td>\n",
       "      <td>58.36</td>\n",
       "      <td>RENT3</td>\n",
       "      <td>853202347.00</td>\n",
       "    </tr>\n",
       "    <tr>\n",
       "      <th>79</th>\n",
       "      <td>CVCB3</td>\n",
       "      <td>2024-01-26</td>\n",
       "      <td>3.07</td>\n",
       "      <td>-4.36</td>\n",
       "      <td>-0.04</td>\n",
       "      <td>3.21</td>\n",
       "      <td>CVCB3</td>\n",
       "      <td>525582771.00</td>\n",
       "    </tr>\n",
       "    <tr>\n",
       "      <th>80</th>\n",
       "      <td>GOLL4</td>\n",
       "      <td>2024-01-26</td>\n",
       "      <td>5.92</td>\n",
       "      <td>-8.07</td>\n",
       "      <td>-0.08</td>\n",
       "      <td>6.44</td>\n",
       "      <td>GOLL4</td>\n",
       "      <td>198184909.00</td>\n",
       "    </tr>\n",
       "  </tbody>\n",
       "</table>\n",
       "<p>81 rows × 8 columns</p>\n",
       "</div>"
      ],
      "text/plain": [
       "    Ativo       Data  Valor_Final  Var_Dia_Pct  Var_Pct  Var_Inicial Código  \\\n",
       "0   USIM5 2024-01-26         9.50         5.20     0.05         9.03  USIM5   \n",
       "1   CMIN3 2024-01-26         6.82         2.40     0.02         6.66  CMIN3   \n",
       "2   PETR3 2024-01-26        41.96         2.19     0.02        41.06  PETR3   \n",
       "3   SUZB3 2024-01-26        52.91         2.04     0.02        51.85  SUZB3   \n",
       "4   CPFE3 2024-01-26        37.10         2.03     0.02        36.36  CPFE3   \n",
       "..    ...        ...          ...          ...      ...          ...    ...   \n",
       "76  CRFB3 2024-01-26        10.71        -2.45    -0.02        10.98  CRFB3   \n",
       "77  BHIA3 2024-01-26         8.70        -2.46    -0.02         8.92  BHIA3   \n",
       "78  RENT3 2024-01-26        56.24        -3.63    -0.04        58.36  RENT3   \n",
       "79  CVCB3 2024-01-26         3.07        -4.36    -0.04         3.21  CVCB3   \n",
       "80  GOLL4 2024-01-26         5.92        -8.07    -0.08         6.44  GOLL4   \n",
       "\n",
       "    Qtde. Teórica  \n",
       "0    515117391.00  \n",
       "1   1110559345.00  \n",
       "2   2379877655.00  \n",
       "3    683452836.00  \n",
       "4    187732538.00  \n",
       "..            ...  \n",
       "76   533990587.00  \n",
       "77    94843047.00  \n",
       "78   853202347.00  \n",
       "79   525582771.00  \n",
       "80   198184909.00  \n",
       "\n",
       "[81 rows x 8 columns]"
      ]
     },
     "execution_count": 56,
     "metadata": {},
     "output_type": "execute_result"
    }
   ],
   "source": [
    "df_principal = df_principal.merge(df_total_de_acoes, left_on='Ativo', right_on='Código', how='left')\n",
    "df_principal"
   ]
  },
  {
   "cell_type": "code",
   "execution_count": 57,
   "metadata": {},
   "outputs": [
    {
     "data": {
      "text/html": [
       "<div>\n",
       "<style scoped>\n",
       "    .dataframe tbody tr th:only-of-type {\n",
       "        vertical-align: middle;\n",
       "    }\n",
       "\n",
       "    .dataframe tbody tr th {\n",
       "        vertical-align: top;\n",
       "    }\n",
       "\n",
       "    .dataframe thead th {\n",
       "        text-align: right;\n",
       "    }\n",
       "</style>\n",
       "<table border=\"1\" class=\"dataframe\">\n",
       "  <thead>\n",
       "    <tr style=\"text-align: right;\">\n",
       "      <th></th>\n",
       "      <th>Ativo</th>\n",
       "      <th>Data</th>\n",
       "      <th>Valor_Final</th>\n",
       "      <th>Var_Dia_Pct</th>\n",
       "      <th>Var_Pct</th>\n",
       "      <th>Var_Inicial</th>\n",
       "      <th>Qtde. Teórica</th>\n",
       "    </tr>\n",
       "  </thead>\n",
       "  <tbody>\n",
       "    <tr>\n",
       "      <th>0</th>\n",
       "      <td>USIM5</td>\n",
       "      <td>2024-01-26</td>\n",
       "      <td>9.50</td>\n",
       "      <td>5.20</td>\n",
       "      <td>0.05</td>\n",
       "      <td>9.03</td>\n",
       "      <td>515117391.00</td>\n",
       "    </tr>\n",
       "    <tr>\n",
       "      <th>1</th>\n",
       "      <td>CMIN3</td>\n",
       "      <td>2024-01-26</td>\n",
       "      <td>6.82</td>\n",
       "      <td>2.40</td>\n",
       "      <td>0.02</td>\n",
       "      <td>6.66</td>\n",
       "      <td>1110559345.00</td>\n",
       "    </tr>\n",
       "    <tr>\n",
       "      <th>2</th>\n",
       "      <td>PETR3</td>\n",
       "      <td>2024-01-26</td>\n",
       "      <td>41.96</td>\n",
       "      <td>2.19</td>\n",
       "      <td>0.02</td>\n",
       "      <td>41.06</td>\n",
       "      <td>2379877655.00</td>\n",
       "    </tr>\n",
       "    <tr>\n",
       "      <th>3</th>\n",
       "      <td>SUZB3</td>\n",
       "      <td>2024-01-26</td>\n",
       "      <td>52.91</td>\n",
       "      <td>2.04</td>\n",
       "      <td>0.02</td>\n",
       "      <td>51.85</td>\n",
       "      <td>683452836.00</td>\n",
       "    </tr>\n",
       "    <tr>\n",
       "      <th>4</th>\n",
       "      <td>CPFE3</td>\n",
       "      <td>2024-01-26</td>\n",
       "      <td>37.10</td>\n",
       "      <td>2.03</td>\n",
       "      <td>0.02</td>\n",
       "      <td>36.36</td>\n",
       "      <td>187732538.00</td>\n",
       "    </tr>\n",
       "    <tr>\n",
       "      <th>...</th>\n",
       "      <td>...</td>\n",
       "      <td>...</td>\n",
       "      <td>...</td>\n",
       "      <td>...</td>\n",
       "      <td>...</td>\n",
       "      <td>...</td>\n",
       "      <td>...</td>\n",
       "    </tr>\n",
       "    <tr>\n",
       "      <th>76</th>\n",
       "      <td>CRFB3</td>\n",
       "      <td>2024-01-26</td>\n",
       "      <td>10.71</td>\n",
       "      <td>-2.45</td>\n",
       "      <td>-0.02</td>\n",
       "      <td>10.98</td>\n",
       "      <td>533990587.00</td>\n",
       "    </tr>\n",
       "    <tr>\n",
       "      <th>77</th>\n",
       "      <td>BHIA3</td>\n",
       "      <td>2024-01-26</td>\n",
       "      <td>8.70</td>\n",
       "      <td>-2.46</td>\n",
       "      <td>-0.02</td>\n",
       "      <td>8.92</td>\n",
       "      <td>94843047.00</td>\n",
       "    </tr>\n",
       "    <tr>\n",
       "      <th>78</th>\n",
       "      <td>RENT3</td>\n",
       "      <td>2024-01-26</td>\n",
       "      <td>56.24</td>\n",
       "      <td>-3.63</td>\n",
       "      <td>-0.04</td>\n",
       "      <td>58.36</td>\n",
       "      <td>853202347.00</td>\n",
       "    </tr>\n",
       "    <tr>\n",
       "      <th>79</th>\n",
       "      <td>CVCB3</td>\n",
       "      <td>2024-01-26</td>\n",
       "      <td>3.07</td>\n",
       "      <td>-4.36</td>\n",
       "      <td>-0.04</td>\n",
       "      <td>3.21</td>\n",
       "      <td>525582771.00</td>\n",
       "    </tr>\n",
       "    <tr>\n",
       "      <th>80</th>\n",
       "      <td>GOLL4</td>\n",
       "      <td>2024-01-26</td>\n",
       "      <td>5.92</td>\n",
       "      <td>-8.07</td>\n",
       "      <td>-0.08</td>\n",
       "      <td>6.44</td>\n",
       "      <td>198184909.00</td>\n",
       "    </tr>\n",
       "  </tbody>\n",
       "</table>\n",
       "<p>81 rows × 7 columns</p>\n",
       "</div>"
      ],
      "text/plain": [
       "    Ativo       Data  Valor_Final  Var_Dia_Pct  Var_Pct  Var_Inicial  \\\n",
       "0   USIM5 2024-01-26         9.50         5.20     0.05         9.03   \n",
       "1   CMIN3 2024-01-26         6.82         2.40     0.02         6.66   \n",
       "2   PETR3 2024-01-26        41.96         2.19     0.02        41.06   \n",
       "3   SUZB3 2024-01-26        52.91         2.04     0.02        51.85   \n",
       "4   CPFE3 2024-01-26        37.10         2.03     0.02        36.36   \n",
       "..    ...        ...          ...          ...      ...          ...   \n",
       "76  CRFB3 2024-01-26        10.71        -2.45    -0.02        10.98   \n",
       "77  BHIA3 2024-01-26         8.70        -2.46    -0.02         8.92   \n",
       "78  RENT3 2024-01-26        56.24        -3.63    -0.04        58.36   \n",
       "79  CVCB3 2024-01-26         3.07        -4.36    -0.04         3.21   \n",
       "80  GOLL4 2024-01-26         5.92        -8.07    -0.08         6.44   \n",
       "\n",
       "    Qtde. Teórica  \n",
       "0    515117391.00  \n",
       "1   1110559345.00  \n",
       "2   2379877655.00  \n",
       "3    683452836.00  \n",
       "4    187732538.00  \n",
       "..            ...  \n",
       "76   533990587.00  \n",
       "77    94843047.00  \n",
       "78   853202347.00  \n",
       "79   525582771.00  \n",
       "80   198184909.00  \n",
       "\n",
       "[81 rows x 7 columns]"
      ]
     },
     "execution_count": 57,
     "metadata": {},
     "output_type": "execute_result"
    }
   ],
   "source": [
    "df_principal = df_principal.drop(columns=['Código'])\n",
    "df_principal"
   ]
  },
  {
   "cell_type": "code",
   "execution_count": 58,
   "metadata": {},
   "outputs": [
    {
     "data": {
      "text/html": [
       "<div>\n",
       "<style scoped>\n",
       "    .dataframe tbody tr th:only-of-type {\n",
       "        vertical-align: middle;\n",
       "    }\n",
       "\n",
       "    .dataframe tbody tr th {\n",
       "        vertical-align: top;\n",
       "    }\n",
       "\n",
       "    .dataframe thead th {\n",
       "        text-align: right;\n",
       "    }\n",
       "</style>\n",
       "<table border=\"1\" class=\"dataframe\">\n",
       "  <thead>\n",
       "    <tr style=\"text-align: right;\">\n",
       "      <th></th>\n",
       "      <th>Ativo</th>\n",
       "      <th>Data</th>\n",
       "      <th>Valor_Final</th>\n",
       "      <th>Var_Dia_Pct</th>\n",
       "      <th>Var_Pct</th>\n",
       "      <th>Var_Inicial</th>\n",
       "      <th>Qtde. Teórica</th>\n",
       "      <th>Variacao_RS</th>\n",
       "    </tr>\n",
       "  </thead>\n",
       "  <tbody>\n",
       "    <tr>\n",
       "      <th>0</th>\n",
       "      <td>USIM5</td>\n",
       "      <td>2024-01-26</td>\n",
       "      <td>9.50</td>\n",
       "      <td>5.20</td>\n",
       "      <td>0.05</td>\n",
       "      <td>9.03</td>\n",
       "      <td>515117391.00</td>\n",
       "      <td>241889725.43</td>\n",
       "    </tr>\n",
       "    <tr>\n",
       "      <th>1</th>\n",
       "      <td>CMIN3</td>\n",
       "      <td>2024-01-26</td>\n",
       "      <td>6.82</td>\n",
       "      <td>2.40</td>\n",
       "      <td>0.02</td>\n",
       "      <td>6.66</td>\n",
       "      <td>1110559345.00</td>\n",
       "      <td>177515970.30</td>\n",
       "    </tr>\n",
       "    <tr>\n",
       "      <th>2</th>\n",
       "      <td>PETR3</td>\n",
       "      <td>2024-01-26</td>\n",
       "      <td>41.96</td>\n",
       "      <td>2.19</td>\n",
       "      <td>0.02</td>\n",
       "      <td>41.06</td>\n",
       "      <td>2379877655.00</td>\n",
       "      <td>2140059393.53</td>\n",
       "    </tr>\n",
       "    <tr>\n",
       "      <th>3</th>\n",
       "      <td>SUZB3</td>\n",
       "      <td>2024-01-26</td>\n",
       "      <td>52.91</td>\n",
       "      <td>2.04</td>\n",
       "      <td>0.02</td>\n",
       "      <td>51.85</td>\n",
       "      <td>683452836.00</td>\n",
       "      <td>722946282.71</td>\n",
       "    </tr>\n",
       "    <tr>\n",
       "      <th>4</th>\n",
       "      <td>CPFE3</td>\n",
       "      <td>2024-01-26</td>\n",
       "      <td>37.10</td>\n",
       "      <td>2.03</td>\n",
       "      <td>0.02</td>\n",
       "      <td>36.36</td>\n",
       "      <td>187732538.00</td>\n",
       "      <td>138573955.06</td>\n",
       "    </tr>\n",
       "    <tr>\n",
       "      <th>...</th>\n",
       "      <td>...</td>\n",
       "      <td>...</td>\n",
       "      <td>...</td>\n",
       "      <td>...</td>\n",
       "      <td>...</td>\n",
       "      <td>...</td>\n",
       "      <td>...</td>\n",
       "      <td>...</td>\n",
       "    </tr>\n",
       "    <tr>\n",
       "      <th>76</th>\n",
       "      <td>CRFB3</td>\n",
       "      <td>2024-01-26</td>\n",
       "      <td>10.71</td>\n",
       "      <td>-2.45</td>\n",
       "      <td>-0.02</td>\n",
       "      <td>10.98</td>\n",
       "      <td>533990587.00</td>\n",
       "      <td>-143635530.57</td>\n",
       "    </tr>\n",
       "    <tr>\n",
       "      <th>77</th>\n",
       "      <td>BHIA3</td>\n",
       "      <td>2024-01-26</td>\n",
       "      <td>8.70</td>\n",
       "      <td>-2.46</td>\n",
       "      <td>-0.02</td>\n",
       "      <td>8.92</td>\n",
       "      <td>94843047.00</td>\n",
       "      <td>-20810240.84</td>\n",
       "    </tr>\n",
       "    <tr>\n",
       "      <th>78</th>\n",
       "      <td>RENT3</td>\n",
       "      <td>2024-01-26</td>\n",
       "      <td>56.24</td>\n",
       "      <td>-3.63</td>\n",
       "      <td>-0.04</td>\n",
       "      <td>58.36</td>\n",
       "      <td>853202347.00</td>\n",
       "      <td>-1807432634.46</td>\n",
       "    </tr>\n",
       "    <tr>\n",
       "      <th>79</th>\n",
       "      <td>CVCB3</td>\n",
       "      <td>2024-01-26</td>\n",
       "      <td>3.07</td>\n",
       "      <td>-4.36</td>\n",
       "      <td>-0.04</td>\n",
       "      <td>3.21</td>\n",
       "      <td>525582771.00</td>\n",
       "      <td>-73557408.06</td>\n",
       "    </tr>\n",
       "    <tr>\n",
       "      <th>80</th>\n",
       "      <td>GOLL4</td>\n",
       "      <td>2024-01-26</td>\n",
       "      <td>5.92</td>\n",
       "      <td>-8.07</td>\n",
       "      <td>-0.08</td>\n",
       "      <td>6.44</td>\n",
       "      <td>198184909.00</td>\n",
       "      <td>-102993202.62</td>\n",
       "    </tr>\n",
       "  </tbody>\n",
       "</table>\n",
       "<p>81 rows × 8 columns</p>\n",
       "</div>"
      ],
      "text/plain": [
       "    Ativo       Data  Valor_Final  Var_Dia_Pct  Var_Pct  Var_Inicial  \\\n",
       "0   USIM5 2024-01-26         9.50         5.20     0.05         9.03   \n",
       "1   CMIN3 2024-01-26         6.82         2.40     0.02         6.66   \n",
       "2   PETR3 2024-01-26        41.96         2.19     0.02        41.06   \n",
       "3   SUZB3 2024-01-26        52.91         2.04     0.02        51.85   \n",
       "4   CPFE3 2024-01-26        37.10         2.03     0.02        36.36   \n",
       "..    ...        ...          ...          ...      ...          ...   \n",
       "76  CRFB3 2024-01-26        10.71        -2.45    -0.02        10.98   \n",
       "77  BHIA3 2024-01-26         8.70        -2.46    -0.02         8.92   \n",
       "78  RENT3 2024-01-26        56.24        -3.63    -0.04        58.36   \n",
       "79  CVCB3 2024-01-26         3.07        -4.36    -0.04         3.21   \n",
       "80  GOLL4 2024-01-26         5.92        -8.07    -0.08         6.44   \n",
       "\n",
       "    Qtde. Teórica    Variacao_RS  \n",
       "0    515117391.00   241889725.43  \n",
       "1   1110559345.00   177515970.30  \n",
       "2   2379877655.00  2140059393.53  \n",
       "3    683452836.00   722946282.71  \n",
       "4    187732538.00   138573955.06  \n",
       "..            ...            ...  \n",
       "76   533990587.00  -143635530.57  \n",
       "77    94843047.00   -20810240.84  \n",
       "78   853202347.00 -1807432634.46  \n",
       "79   525582771.00   -73557408.06  \n",
       "80   198184909.00  -102993202.62  \n",
       "\n",
       "[81 rows x 8 columns]"
      ]
     },
     "execution_count": 58,
     "metadata": {},
     "output_type": "execute_result"
    }
   ],
   "source": [
    "df_principal['Variacao_RS'] = (df_principal['Valor_Final'] - df_principal['Var_Inicial']) * df_principal['Qtde. Teórica']\n",
    "df_principal"
   ]
  },
  {
   "cell_type": "code",
   "execution_count": 59,
   "metadata": {},
   "outputs": [
    {
     "data": {
      "text/html": [
       "<div>\n",
       "<style scoped>\n",
       "    .dataframe tbody tr th:only-of-type {\n",
       "        vertical-align: middle;\n",
       "    }\n",
       "\n",
       "    .dataframe tbody tr th {\n",
       "        vertical-align: top;\n",
       "    }\n",
       "\n",
       "    .dataframe thead th {\n",
       "        text-align: right;\n",
       "    }\n",
       "</style>\n",
       "<table border=\"1\" class=\"dataframe\">\n",
       "  <thead>\n",
       "    <tr style=\"text-align: right;\">\n",
       "      <th></th>\n",
       "      <th>Ativo</th>\n",
       "      <th>Data</th>\n",
       "      <th>Valor_Final</th>\n",
       "      <th>Var_Dia_Pct</th>\n",
       "      <th>Var_Pct</th>\n",
       "      <th>Var_Inicial</th>\n",
       "      <th>Qtde. Teórica</th>\n",
       "      <th>Variacao_RS</th>\n",
       "    </tr>\n",
       "  </thead>\n",
       "  <tbody>\n",
       "    <tr>\n",
       "      <th>0</th>\n",
       "      <td>USIM5</td>\n",
       "      <td>2024-01-26</td>\n",
       "      <td>9.50</td>\n",
       "      <td>5.20</td>\n",
       "      <td>0.05</td>\n",
       "      <td>9.03</td>\n",
       "      <td>515117391</td>\n",
       "      <td>241889725.43</td>\n",
       "    </tr>\n",
       "    <tr>\n",
       "      <th>1</th>\n",
       "      <td>CMIN3</td>\n",
       "      <td>2024-01-26</td>\n",
       "      <td>6.82</td>\n",
       "      <td>2.40</td>\n",
       "      <td>0.02</td>\n",
       "      <td>6.66</td>\n",
       "      <td>1110559345</td>\n",
       "      <td>177515970.30</td>\n",
       "    </tr>\n",
       "    <tr>\n",
       "      <th>2</th>\n",
       "      <td>PETR3</td>\n",
       "      <td>2024-01-26</td>\n",
       "      <td>41.96</td>\n",
       "      <td>2.19</td>\n",
       "      <td>0.02</td>\n",
       "      <td>41.06</td>\n",
       "      <td>-2147483648</td>\n",
       "      <td>2140059393.53</td>\n",
       "    </tr>\n",
       "    <tr>\n",
       "      <th>3</th>\n",
       "      <td>SUZB3</td>\n",
       "      <td>2024-01-26</td>\n",
       "      <td>52.91</td>\n",
       "      <td>2.04</td>\n",
       "      <td>0.02</td>\n",
       "      <td>51.85</td>\n",
       "      <td>683452836</td>\n",
       "      <td>722946282.71</td>\n",
       "    </tr>\n",
       "    <tr>\n",
       "      <th>4</th>\n",
       "      <td>CPFE3</td>\n",
       "      <td>2024-01-26</td>\n",
       "      <td>37.10</td>\n",
       "      <td>2.03</td>\n",
       "      <td>0.02</td>\n",
       "      <td>36.36</td>\n",
       "      <td>187732538</td>\n",
       "      <td>138573955.06</td>\n",
       "    </tr>\n",
       "    <tr>\n",
       "      <th>...</th>\n",
       "      <td>...</td>\n",
       "      <td>...</td>\n",
       "      <td>...</td>\n",
       "      <td>...</td>\n",
       "      <td>...</td>\n",
       "      <td>...</td>\n",
       "      <td>...</td>\n",
       "      <td>...</td>\n",
       "    </tr>\n",
       "    <tr>\n",
       "      <th>76</th>\n",
       "      <td>CRFB3</td>\n",
       "      <td>2024-01-26</td>\n",
       "      <td>10.71</td>\n",
       "      <td>-2.45</td>\n",
       "      <td>-0.02</td>\n",
       "      <td>10.98</td>\n",
       "      <td>533990587</td>\n",
       "      <td>-143635530.57</td>\n",
       "    </tr>\n",
       "    <tr>\n",
       "      <th>77</th>\n",
       "      <td>BHIA3</td>\n",
       "      <td>2024-01-26</td>\n",
       "      <td>8.70</td>\n",
       "      <td>-2.46</td>\n",
       "      <td>-0.02</td>\n",
       "      <td>8.92</td>\n",
       "      <td>94843047</td>\n",
       "      <td>-20810240.84</td>\n",
       "    </tr>\n",
       "    <tr>\n",
       "      <th>78</th>\n",
       "      <td>RENT3</td>\n",
       "      <td>2024-01-26</td>\n",
       "      <td>56.24</td>\n",
       "      <td>-3.63</td>\n",
       "      <td>-0.04</td>\n",
       "      <td>58.36</td>\n",
       "      <td>853202347</td>\n",
       "      <td>-1807432634.46</td>\n",
       "    </tr>\n",
       "    <tr>\n",
       "      <th>79</th>\n",
       "      <td>CVCB3</td>\n",
       "      <td>2024-01-26</td>\n",
       "      <td>3.07</td>\n",
       "      <td>-4.36</td>\n",
       "      <td>-0.04</td>\n",
       "      <td>3.21</td>\n",
       "      <td>525582771</td>\n",
       "      <td>-73557408.06</td>\n",
       "    </tr>\n",
       "    <tr>\n",
       "      <th>80</th>\n",
       "      <td>GOLL4</td>\n",
       "      <td>2024-01-26</td>\n",
       "      <td>5.92</td>\n",
       "      <td>-8.07</td>\n",
       "      <td>-0.08</td>\n",
       "      <td>6.44</td>\n",
       "      <td>198184909</td>\n",
       "      <td>-102993202.62</td>\n",
       "    </tr>\n",
       "  </tbody>\n",
       "</table>\n",
       "<p>81 rows × 8 columns</p>\n",
       "</div>"
      ],
      "text/plain": [
       "    Ativo       Data  Valor_Final  Var_Dia_Pct  Var_Pct  Var_Inicial  \\\n",
       "0   USIM5 2024-01-26         9.50         5.20     0.05         9.03   \n",
       "1   CMIN3 2024-01-26         6.82         2.40     0.02         6.66   \n",
       "2   PETR3 2024-01-26        41.96         2.19     0.02        41.06   \n",
       "3   SUZB3 2024-01-26        52.91         2.04     0.02        51.85   \n",
       "4   CPFE3 2024-01-26        37.10         2.03     0.02        36.36   \n",
       "..    ...        ...          ...          ...      ...          ...   \n",
       "76  CRFB3 2024-01-26        10.71        -2.45    -0.02        10.98   \n",
       "77  BHIA3 2024-01-26         8.70        -2.46    -0.02         8.92   \n",
       "78  RENT3 2024-01-26        56.24        -3.63    -0.04        58.36   \n",
       "79  CVCB3 2024-01-26         3.07        -4.36    -0.04         3.21   \n",
       "80  GOLL4 2024-01-26         5.92        -8.07    -0.08         6.44   \n",
       "\n",
       "    Qtde. Teórica    Variacao_RS  \n",
       "0       515117391   241889725.43  \n",
       "1      1110559345   177515970.30  \n",
       "2     -2147483648  2140059393.53  \n",
       "3       683452836   722946282.71  \n",
       "4       187732538   138573955.06  \n",
       "..            ...            ...  \n",
       "76      533990587  -143635530.57  \n",
       "77       94843047   -20810240.84  \n",
       "78      853202347 -1807432634.46  \n",
       "79      525582771   -73557408.06  \n",
       "80      198184909  -102993202.62  \n",
       "\n",
       "[81 rows x 8 columns]"
      ]
     },
     "execution_count": 59,
     "metadata": {},
     "output_type": "execute_result"
    }
   ],
   "source": [
    "df_principal['Qtde. Teórica'] = df_principal['Qtde. Teórica'].astype(int)\n",
    "df_principal"
   ]
  },
  {
   "cell_type": "code",
   "execution_count": 60,
   "metadata": {},
   "outputs": [
    {
     "data": {
      "text/html": [
       "<div>\n",
       "<style scoped>\n",
       "    .dataframe tbody tr th:only-of-type {\n",
       "        vertical-align: middle;\n",
       "    }\n",
       "\n",
       "    .dataframe tbody tr th {\n",
       "        vertical-align: top;\n",
       "    }\n",
       "\n",
       "    .dataframe thead th {\n",
       "        text-align: right;\n",
       "    }\n",
       "</style>\n",
       "<table border=\"1\" class=\"dataframe\">\n",
       "  <thead>\n",
       "    <tr style=\"text-align: right;\">\n",
       "      <th></th>\n",
       "      <th>Ativo</th>\n",
       "      <th>Data</th>\n",
       "      <th>Valor_Final</th>\n",
       "      <th>Var_Dia_Pct</th>\n",
       "      <th>Var_Pct</th>\n",
       "      <th>Var_Inicial</th>\n",
       "      <th>Qtd_Teorica</th>\n",
       "      <th>Variacao_RS</th>\n",
       "    </tr>\n",
       "  </thead>\n",
       "  <tbody>\n",
       "    <tr>\n",
       "      <th>0</th>\n",
       "      <td>USIM5</td>\n",
       "      <td>2024-01-26</td>\n",
       "      <td>9.50</td>\n",
       "      <td>5.20</td>\n",
       "      <td>0.05</td>\n",
       "      <td>9.03</td>\n",
       "      <td>515117391</td>\n",
       "      <td>241889725.43</td>\n",
       "    </tr>\n",
       "    <tr>\n",
       "      <th>1</th>\n",
       "      <td>CMIN3</td>\n",
       "      <td>2024-01-26</td>\n",
       "      <td>6.82</td>\n",
       "      <td>2.40</td>\n",
       "      <td>0.02</td>\n",
       "      <td>6.66</td>\n",
       "      <td>1110559345</td>\n",
       "      <td>177515970.30</td>\n",
       "    </tr>\n",
       "    <tr>\n",
       "      <th>2</th>\n",
       "      <td>PETR3</td>\n",
       "      <td>2024-01-26</td>\n",
       "      <td>41.96</td>\n",
       "      <td>2.19</td>\n",
       "      <td>0.02</td>\n",
       "      <td>41.06</td>\n",
       "      <td>-2147483648</td>\n",
       "      <td>2140059393.53</td>\n",
       "    </tr>\n",
       "    <tr>\n",
       "      <th>3</th>\n",
       "      <td>SUZB3</td>\n",
       "      <td>2024-01-26</td>\n",
       "      <td>52.91</td>\n",
       "      <td>2.04</td>\n",
       "      <td>0.02</td>\n",
       "      <td>51.85</td>\n",
       "      <td>683452836</td>\n",
       "      <td>722946282.71</td>\n",
       "    </tr>\n",
       "    <tr>\n",
       "      <th>4</th>\n",
       "      <td>CPFE3</td>\n",
       "      <td>2024-01-26</td>\n",
       "      <td>37.10</td>\n",
       "      <td>2.03</td>\n",
       "      <td>0.02</td>\n",
       "      <td>36.36</td>\n",
       "      <td>187732538</td>\n",
       "      <td>138573955.06</td>\n",
       "    </tr>\n",
       "    <tr>\n",
       "      <th>...</th>\n",
       "      <td>...</td>\n",
       "      <td>...</td>\n",
       "      <td>...</td>\n",
       "      <td>...</td>\n",
       "      <td>...</td>\n",
       "      <td>...</td>\n",
       "      <td>...</td>\n",
       "      <td>...</td>\n",
       "    </tr>\n",
       "    <tr>\n",
       "      <th>76</th>\n",
       "      <td>CRFB3</td>\n",
       "      <td>2024-01-26</td>\n",
       "      <td>10.71</td>\n",
       "      <td>-2.45</td>\n",
       "      <td>-0.02</td>\n",
       "      <td>10.98</td>\n",
       "      <td>533990587</td>\n",
       "      <td>-143635530.57</td>\n",
       "    </tr>\n",
       "    <tr>\n",
       "      <th>77</th>\n",
       "      <td>BHIA3</td>\n",
       "      <td>2024-01-26</td>\n",
       "      <td>8.70</td>\n",
       "      <td>-2.46</td>\n",
       "      <td>-0.02</td>\n",
       "      <td>8.92</td>\n",
       "      <td>94843047</td>\n",
       "      <td>-20810240.84</td>\n",
       "    </tr>\n",
       "    <tr>\n",
       "      <th>78</th>\n",
       "      <td>RENT3</td>\n",
       "      <td>2024-01-26</td>\n",
       "      <td>56.24</td>\n",
       "      <td>-3.63</td>\n",
       "      <td>-0.04</td>\n",
       "      <td>58.36</td>\n",
       "      <td>853202347</td>\n",
       "      <td>-1807432634.46</td>\n",
       "    </tr>\n",
       "    <tr>\n",
       "      <th>79</th>\n",
       "      <td>CVCB3</td>\n",
       "      <td>2024-01-26</td>\n",
       "      <td>3.07</td>\n",
       "      <td>-4.36</td>\n",
       "      <td>-0.04</td>\n",
       "      <td>3.21</td>\n",
       "      <td>525582771</td>\n",
       "      <td>-73557408.06</td>\n",
       "    </tr>\n",
       "    <tr>\n",
       "      <th>80</th>\n",
       "      <td>GOLL4</td>\n",
       "      <td>2024-01-26</td>\n",
       "      <td>5.92</td>\n",
       "      <td>-8.07</td>\n",
       "      <td>-0.08</td>\n",
       "      <td>6.44</td>\n",
       "      <td>198184909</td>\n",
       "      <td>-102993202.62</td>\n",
       "    </tr>\n",
       "  </tbody>\n",
       "</table>\n",
       "<p>81 rows × 8 columns</p>\n",
       "</div>"
      ],
      "text/plain": [
       "    Ativo       Data  Valor_Final  Var_Dia_Pct  Var_Pct  Var_Inicial  \\\n",
       "0   USIM5 2024-01-26         9.50         5.20     0.05         9.03   \n",
       "1   CMIN3 2024-01-26         6.82         2.40     0.02         6.66   \n",
       "2   PETR3 2024-01-26        41.96         2.19     0.02        41.06   \n",
       "3   SUZB3 2024-01-26        52.91         2.04     0.02        51.85   \n",
       "4   CPFE3 2024-01-26        37.10         2.03     0.02        36.36   \n",
       "..    ...        ...          ...          ...      ...          ...   \n",
       "76  CRFB3 2024-01-26        10.71        -2.45    -0.02        10.98   \n",
       "77  BHIA3 2024-01-26         8.70        -2.46    -0.02         8.92   \n",
       "78  RENT3 2024-01-26        56.24        -3.63    -0.04        58.36   \n",
       "79  CVCB3 2024-01-26         3.07        -4.36    -0.04         3.21   \n",
       "80  GOLL4 2024-01-26         5.92        -8.07    -0.08         6.44   \n",
       "\n",
       "    Qtd_Teorica    Variacao_RS  \n",
       "0     515117391   241889725.43  \n",
       "1    1110559345   177515970.30  \n",
       "2   -2147483648  2140059393.53  \n",
       "3     683452836   722946282.71  \n",
       "4     187732538   138573955.06  \n",
       "..          ...            ...  \n",
       "76    533990587  -143635530.57  \n",
       "77     94843047   -20810240.84  \n",
       "78    853202347 -1807432634.46  \n",
       "79    525582771   -73557408.06  \n",
       "80    198184909  -102993202.62  \n",
       "\n",
       "[81 rows x 8 columns]"
      ]
     },
     "execution_count": 60,
     "metadata": {},
     "output_type": "execute_result"
    }
   ],
   "source": [
    "df_principal = df_principal.rename(columns={'Qtde. Teórica':'Qtd_Teorica'}).copy()\n",
    "df_principal"
   ]
  },
  {
   "cell_type": "code",
   "execution_count": 61,
   "metadata": {},
   "outputs": [
    {
     "data": {
      "text/html": [
       "<div>\n",
       "<style scoped>\n",
       "    .dataframe tbody tr th:only-of-type {\n",
       "        vertical-align: middle;\n",
       "    }\n",
       "\n",
       "    .dataframe tbody tr th {\n",
       "        vertical-align: top;\n",
       "    }\n",
       "\n",
       "    .dataframe thead th {\n",
       "        text-align: right;\n",
       "    }\n",
       "</style>\n",
       "<table border=\"1\" class=\"dataframe\">\n",
       "  <thead>\n",
       "    <tr style=\"text-align: right;\">\n",
       "      <th></th>\n",
       "      <th>Ativo</th>\n",
       "      <th>Data</th>\n",
       "      <th>Valor_Final</th>\n",
       "      <th>Var_Dia_Pct</th>\n",
       "      <th>Var_Pct</th>\n",
       "      <th>Var_Inicial</th>\n",
       "      <th>Qtd_Teorica</th>\n",
       "      <th>Variacao_RS</th>\n",
       "      <th>Resultado</th>\n",
       "    </tr>\n",
       "  </thead>\n",
       "  <tbody>\n",
       "    <tr>\n",
       "      <th>0</th>\n",
       "      <td>USIM5</td>\n",
       "      <td>2024-01-26</td>\n",
       "      <td>9.50</td>\n",
       "      <td>5.20</td>\n",
       "      <td>0.05</td>\n",
       "      <td>9.03</td>\n",
       "      <td>515117391</td>\n",
       "      <td>241889725.43</td>\n",
       "      <td>Subiu</td>\n",
       "    </tr>\n",
       "    <tr>\n",
       "      <th>1</th>\n",
       "      <td>CMIN3</td>\n",
       "      <td>2024-01-26</td>\n",
       "      <td>6.82</td>\n",
       "      <td>2.40</td>\n",
       "      <td>0.02</td>\n",
       "      <td>6.66</td>\n",
       "      <td>1110559345</td>\n",
       "      <td>177515970.30</td>\n",
       "      <td>Subiu</td>\n",
       "    </tr>\n",
       "    <tr>\n",
       "      <th>2</th>\n",
       "      <td>PETR3</td>\n",
       "      <td>2024-01-26</td>\n",
       "      <td>41.96</td>\n",
       "      <td>2.19</td>\n",
       "      <td>0.02</td>\n",
       "      <td>41.06</td>\n",
       "      <td>-2147483648</td>\n",
       "      <td>2140059393.53</td>\n",
       "      <td>Subiu</td>\n",
       "    </tr>\n",
       "    <tr>\n",
       "      <th>3</th>\n",
       "      <td>SUZB3</td>\n",
       "      <td>2024-01-26</td>\n",
       "      <td>52.91</td>\n",
       "      <td>2.04</td>\n",
       "      <td>0.02</td>\n",
       "      <td>51.85</td>\n",
       "      <td>683452836</td>\n",
       "      <td>722946282.71</td>\n",
       "      <td>Subiu</td>\n",
       "    </tr>\n",
       "    <tr>\n",
       "      <th>4</th>\n",
       "      <td>CPFE3</td>\n",
       "      <td>2024-01-26</td>\n",
       "      <td>37.10</td>\n",
       "      <td>2.03</td>\n",
       "      <td>0.02</td>\n",
       "      <td>36.36</td>\n",
       "      <td>187732538</td>\n",
       "      <td>138573955.06</td>\n",
       "      <td>Subiu</td>\n",
       "    </tr>\n",
       "    <tr>\n",
       "      <th>...</th>\n",
       "      <td>...</td>\n",
       "      <td>...</td>\n",
       "      <td>...</td>\n",
       "      <td>...</td>\n",
       "      <td>...</td>\n",
       "      <td>...</td>\n",
       "      <td>...</td>\n",
       "      <td>...</td>\n",
       "      <td>...</td>\n",
       "    </tr>\n",
       "    <tr>\n",
       "      <th>76</th>\n",
       "      <td>CRFB3</td>\n",
       "      <td>2024-01-26</td>\n",
       "      <td>10.71</td>\n",
       "      <td>-2.45</td>\n",
       "      <td>-0.02</td>\n",
       "      <td>10.98</td>\n",
       "      <td>533990587</td>\n",
       "      <td>-143635530.57</td>\n",
       "      <td>Desceu</td>\n",
       "    </tr>\n",
       "    <tr>\n",
       "      <th>77</th>\n",
       "      <td>BHIA3</td>\n",
       "      <td>2024-01-26</td>\n",
       "      <td>8.70</td>\n",
       "      <td>-2.46</td>\n",
       "      <td>-0.02</td>\n",
       "      <td>8.92</td>\n",
       "      <td>94843047</td>\n",
       "      <td>-20810240.84</td>\n",
       "      <td>Desceu</td>\n",
       "    </tr>\n",
       "    <tr>\n",
       "      <th>78</th>\n",
       "      <td>RENT3</td>\n",
       "      <td>2024-01-26</td>\n",
       "      <td>56.24</td>\n",
       "      <td>-3.63</td>\n",
       "      <td>-0.04</td>\n",
       "      <td>58.36</td>\n",
       "      <td>853202347</td>\n",
       "      <td>-1807432634.46</td>\n",
       "      <td>Desceu</td>\n",
       "    </tr>\n",
       "    <tr>\n",
       "      <th>79</th>\n",
       "      <td>CVCB3</td>\n",
       "      <td>2024-01-26</td>\n",
       "      <td>3.07</td>\n",
       "      <td>-4.36</td>\n",
       "      <td>-0.04</td>\n",
       "      <td>3.21</td>\n",
       "      <td>525582771</td>\n",
       "      <td>-73557408.06</td>\n",
       "      <td>Desceu</td>\n",
       "    </tr>\n",
       "    <tr>\n",
       "      <th>80</th>\n",
       "      <td>GOLL4</td>\n",
       "      <td>2024-01-26</td>\n",
       "      <td>5.92</td>\n",
       "      <td>-8.07</td>\n",
       "      <td>-0.08</td>\n",
       "      <td>6.44</td>\n",
       "      <td>198184909</td>\n",
       "      <td>-102993202.62</td>\n",
       "      <td>Desceu</td>\n",
       "    </tr>\n",
       "  </tbody>\n",
       "</table>\n",
       "<p>81 rows × 9 columns</p>\n",
       "</div>"
      ],
      "text/plain": [
       "    Ativo       Data  Valor_Final  Var_Dia_Pct  Var_Pct  Var_Inicial  \\\n",
       "0   USIM5 2024-01-26         9.50         5.20     0.05         9.03   \n",
       "1   CMIN3 2024-01-26         6.82         2.40     0.02         6.66   \n",
       "2   PETR3 2024-01-26        41.96         2.19     0.02        41.06   \n",
       "3   SUZB3 2024-01-26        52.91         2.04     0.02        51.85   \n",
       "4   CPFE3 2024-01-26        37.10         2.03     0.02        36.36   \n",
       "..    ...        ...          ...          ...      ...          ...   \n",
       "76  CRFB3 2024-01-26        10.71        -2.45    -0.02        10.98   \n",
       "77  BHIA3 2024-01-26         8.70        -2.46    -0.02         8.92   \n",
       "78  RENT3 2024-01-26        56.24        -3.63    -0.04        58.36   \n",
       "79  CVCB3 2024-01-26         3.07        -4.36    -0.04         3.21   \n",
       "80  GOLL4 2024-01-26         5.92        -8.07    -0.08         6.44   \n",
       "\n",
       "    Qtd_Teorica    Variacao_RS Resultado  \n",
       "0     515117391   241889725.43     Subiu  \n",
       "1    1110559345   177515970.30     Subiu  \n",
       "2   -2147483648  2140059393.53     Subiu  \n",
       "3     683452836   722946282.71     Subiu  \n",
       "4     187732538   138573955.06     Subiu  \n",
       "..          ...            ...       ...  \n",
       "76    533990587  -143635530.57    Desceu  \n",
       "77     94843047   -20810240.84    Desceu  \n",
       "78    853202347 -1807432634.46    Desceu  \n",
       "79    525582771   -73557408.06    Desceu  \n",
       "80    198184909  -102993202.62    Desceu  \n",
       "\n",
       "[81 rows x 9 columns]"
      ]
     },
     "execution_count": 61,
     "metadata": {},
     "output_type": "execute_result"
    }
   ],
   "source": [
    "df_principal['Resultado'] = df_principal['Variacao_RS'].apply(lambda x: 'Subiu' if x > 0 else ('Desceu' if x < 0 else 'Estável'))\n",
    "df_principal"
   ]
  },
  {
   "cell_type": "code",
   "execution_count": 62,
   "metadata": {},
   "outputs": [
    {
     "data": {
      "text/html": [
       "<div>\n",
       "<style scoped>\n",
       "    .dataframe tbody tr th:only-of-type {\n",
       "        vertical-align: middle;\n",
       "    }\n",
       "\n",
       "    .dataframe tbody tr th {\n",
       "        vertical-align: top;\n",
       "    }\n",
       "\n",
       "    .dataframe thead th {\n",
       "        text-align: right;\n",
       "    }\n",
       "</style>\n",
       "<table border=\"1\" class=\"dataframe\">\n",
       "  <thead>\n",
       "    <tr style=\"text-align: right;\">\n",
       "      <th></th>\n",
       "      <th>Ativo</th>\n",
       "      <th>Data</th>\n",
       "      <th>Valor_Final</th>\n",
       "      <th>Var_Dia_Pct</th>\n",
       "      <th>Var_Pct</th>\n",
       "      <th>Var_Inicial</th>\n",
       "      <th>Qtd_Teorica</th>\n",
       "      <th>Variacao_RS</th>\n",
       "      <th>Resultado</th>\n",
       "      <th>Nome</th>\n",
       "    </tr>\n",
       "  </thead>\n",
       "  <tbody>\n",
       "    <tr>\n",
       "      <th>0</th>\n",
       "      <td>USIM5</td>\n",
       "      <td>2024-01-26</td>\n",
       "      <td>9.50</td>\n",
       "      <td>5.20</td>\n",
       "      <td>0.05</td>\n",
       "      <td>9.03</td>\n",
       "      <td>515117391</td>\n",
       "      <td>241889725.43</td>\n",
       "      <td>Subiu</td>\n",
       "      <td>Usiminas</td>\n",
       "    </tr>\n",
       "    <tr>\n",
       "      <th>1</th>\n",
       "      <td>CMIN3</td>\n",
       "      <td>2024-01-26</td>\n",
       "      <td>6.82</td>\n",
       "      <td>2.40</td>\n",
       "      <td>0.02</td>\n",
       "      <td>6.66</td>\n",
       "      <td>1110559345</td>\n",
       "      <td>177515970.30</td>\n",
       "      <td>Subiu</td>\n",
       "      <td>CSN Mineração</td>\n",
       "    </tr>\n",
       "    <tr>\n",
       "      <th>2</th>\n",
       "      <td>PETR3</td>\n",
       "      <td>2024-01-26</td>\n",
       "      <td>41.96</td>\n",
       "      <td>2.19</td>\n",
       "      <td>0.02</td>\n",
       "      <td>41.06</td>\n",
       "      <td>-2147483648</td>\n",
       "      <td>2140059393.53</td>\n",
       "      <td>Subiu</td>\n",
       "      <td>Petrobras</td>\n",
       "    </tr>\n",
       "    <tr>\n",
       "      <th>3</th>\n",
       "      <td>SUZB3</td>\n",
       "      <td>2024-01-26</td>\n",
       "      <td>52.91</td>\n",
       "      <td>2.04</td>\n",
       "      <td>0.02</td>\n",
       "      <td>51.85</td>\n",
       "      <td>683452836</td>\n",
       "      <td>722946282.71</td>\n",
       "      <td>Subiu</td>\n",
       "      <td>Suzano</td>\n",
       "    </tr>\n",
       "    <tr>\n",
       "      <th>4</th>\n",
       "      <td>CPFE3</td>\n",
       "      <td>2024-01-26</td>\n",
       "      <td>37.10</td>\n",
       "      <td>2.03</td>\n",
       "      <td>0.02</td>\n",
       "      <td>36.36</td>\n",
       "      <td>187732538</td>\n",
       "      <td>138573955.06</td>\n",
       "      <td>Subiu</td>\n",
       "      <td>CPFL Energia</td>\n",
       "    </tr>\n",
       "    <tr>\n",
       "      <th>...</th>\n",
       "      <td>...</td>\n",
       "      <td>...</td>\n",
       "      <td>...</td>\n",
       "      <td>...</td>\n",
       "      <td>...</td>\n",
       "      <td>...</td>\n",
       "      <td>...</td>\n",
       "      <td>...</td>\n",
       "      <td>...</td>\n",
       "      <td>...</td>\n",
       "    </tr>\n",
       "    <tr>\n",
       "      <th>76</th>\n",
       "      <td>CRFB3</td>\n",
       "      <td>2024-01-26</td>\n",
       "      <td>10.71</td>\n",
       "      <td>-2.45</td>\n",
       "      <td>-0.02</td>\n",
       "      <td>10.98</td>\n",
       "      <td>533990587</td>\n",
       "      <td>-143635530.57</td>\n",
       "      <td>Desceu</td>\n",
       "      <td>Carrefour Brasil</td>\n",
       "    </tr>\n",
       "    <tr>\n",
       "      <th>77</th>\n",
       "      <td>BHIA3</td>\n",
       "      <td>2024-01-26</td>\n",
       "      <td>8.70</td>\n",
       "      <td>-2.46</td>\n",
       "      <td>-0.02</td>\n",
       "      <td>8.92</td>\n",
       "      <td>94843047</td>\n",
       "      <td>-20810240.84</td>\n",
       "      <td>Desceu</td>\n",
       "      <td>Casas Bahia</td>\n",
       "    </tr>\n",
       "    <tr>\n",
       "      <th>78</th>\n",
       "      <td>RENT3</td>\n",
       "      <td>2024-01-26</td>\n",
       "      <td>56.24</td>\n",
       "      <td>-3.63</td>\n",
       "      <td>-0.04</td>\n",
       "      <td>58.36</td>\n",
       "      <td>853202347</td>\n",
       "      <td>-1807432634.46</td>\n",
       "      <td>Desceu</td>\n",
       "      <td>Localiza</td>\n",
       "    </tr>\n",
       "    <tr>\n",
       "      <th>79</th>\n",
       "      <td>CVCB3</td>\n",
       "      <td>2024-01-26</td>\n",
       "      <td>3.07</td>\n",
       "      <td>-4.36</td>\n",
       "      <td>-0.04</td>\n",
       "      <td>3.21</td>\n",
       "      <td>525582771</td>\n",
       "      <td>-73557408.06</td>\n",
       "      <td>Desceu</td>\n",
       "      <td>CVC</td>\n",
       "    </tr>\n",
       "    <tr>\n",
       "      <th>80</th>\n",
       "      <td>GOLL4</td>\n",
       "      <td>2024-01-26</td>\n",
       "      <td>5.92</td>\n",
       "      <td>-8.07</td>\n",
       "      <td>-0.08</td>\n",
       "      <td>6.44</td>\n",
       "      <td>198184909</td>\n",
       "      <td>-102993202.62</td>\n",
       "      <td>Desceu</td>\n",
       "      <td>GOL</td>\n",
       "    </tr>\n",
       "  </tbody>\n",
       "</table>\n",
       "<p>81 rows × 10 columns</p>\n",
       "</div>"
      ],
      "text/plain": [
       "    Ativo       Data  Valor_Final  Var_Dia_Pct  Var_Pct  Var_Inicial  \\\n",
       "0   USIM5 2024-01-26         9.50         5.20     0.05         9.03   \n",
       "1   CMIN3 2024-01-26         6.82         2.40     0.02         6.66   \n",
       "2   PETR3 2024-01-26        41.96         2.19     0.02        41.06   \n",
       "3   SUZB3 2024-01-26        52.91         2.04     0.02        51.85   \n",
       "4   CPFE3 2024-01-26        37.10         2.03     0.02        36.36   \n",
       "..    ...        ...          ...          ...      ...          ...   \n",
       "76  CRFB3 2024-01-26        10.71        -2.45    -0.02        10.98   \n",
       "77  BHIA3 2024-01-26         8.70        -2.46    -0.02         8.92   \n",
       "78  RENT3 2024-01-26        56.24        -3.63    -0.04        58.36   \n",
       "79  CVCB3 2024-01-26         3.07        -4.36    -0.04         3.21   \n",
       "80  GOLL4 2024-01-26         5.92        -8.07    -0.08         6.44   \n",
       "\n",
       "    Qtd_Teorica    Variacao_RS Resultado              Nome  \n",
       "0     515117391   241889725.43     Subiu          Usiminas  \n",
       "1    1110559345   177515970.30     Subiu     CSN Mineração  \n",
       "2   -2147483648  2140059393.53     Subiu         Petrobras  \n",
       "3     683452836   722946282.71     Subiu            Suzano  \n",
       "4     187732538   138573955.06     Subiu      CPFL Energia  \n",
       "..          ...            ...       ...               ...  \n",
       "76    533990587  -143635530.57    Desceu  Carrefour Brasil  \n",
       "77     94843047   -20810240.84    Desceu       Casas Bahia  \n",
       "78    853202347 -1807432634.46    Desceu          Localiza  \n",
       "79    525582771   -73557408.06    Desceu               CVC  \n",
       "80    198184909  -102993202.62    Desceu               GOL  \n",
       "\n",
       "[81 rows x 10 columns]"
      ]
     },
     "execution_count": 62,
     "metadata": {},
     "output_type": "execute_result"
    }
   ],
   "source": [
    "df_principal = df_principal.merge(df_ticker, left_on='Ativo', right_on='Ticker', how='left')\n",
    "df_principal = df_principal.drop(columns=['Ticker'])\n",
    "df_principal"
   ]
  },
  {
   "cell_type": "code",
   "execution_count": 63,
   "metadata": {},
   "outputs": [
    {
     "data": {
      "text/html": [
       "<div>\n",
       "<style scoped>\n",
       "    .dataframe tbody tr th:only-of-type {\n",
       "        vertical-align: middle;\n",
       "    }\n",
       "\n",
       "    .dataframe tbody tr th {\n",
       "        vertical-align: top;\n",
       "    }\n",
       "\n",
       "    .dataframe thead th {\n",
       "        text-align: right;\n",
       "    }\n",
       "</style>\n",
       "<table border=\"1\" class=\"dataframe\">\n",
       "  <thead>\n",
       "    <tr style=\"text-align: right;\">\n",
       "      <th></th>\n",
       "      <th>Ativo</th>\n",
       "      <th>Data</th>\n",
       "      <th>Valor_Final</th>\n",
       "      <th>Var_Dia_Pct</th>\n",
       "      <th>Var_Pct</th>\n",
       "      <th>Var_Inicial</th>\n",
       "      <th>Qtd_Teorica</th>\n",
       "      <th>Variacao_RS</th>\n",
       "      <th>Resultado</th>\n",
       "      <th>Nome</th>\n",
       "      <th>Segmento</th>\n",
       "      <th>Idade em Anos</th>\n",
       "    </tr>\n",
       "  </thead>\n",
       "  <tbody>\n",
       "    <tr>\n",
       "      <th>0</th>\n",
       "      <td>USIM5</td>\n",
       "      <td>2024-01-26</td>\n",
       "      <td>9.50</td>\n",
       "      <td>5.20</td>\n",
       "      <td>0.05</td>\n",
       "      <td>9.03</td>\n",
       "      <td>515117391</td>\n",
       "      <td>241889725.43</td>\n",
       "      <td>Subiu</td>\n",
       "      <td>Usiminas</td>\n",
       "      <td>Siderurgia</td>\n",
       "      <td>61</td>\n",
       "    </tr>\n",
       "    <tr>\n",
       "      <th>1</th>\n",
       "      <td>CMIN3</td>\n",
       "      <td>2024-01-26</td>\n",
       "      <td>6.82</td>\n",
       "      <td>2.40</td>\n",
       "      <td>0.02</td>\n",
       "      <td>6.66</td>\n",
       "      <td>1110559345</td>\n",
       "      <td>177515970.30</td>\n",
       "      <td>Subiu</td>\n",
       "      <td>CSN Mineração</td>\n",
       "      <td>Mineração</td>\n",
       "      <td>80</td>\n",
       "    </tr>\n",
       "    <tr>\n",
       "      <th>2</th>\n",
       "      <td>PETR3</td>\n",
       "      <td>2024-01-26</td>\n",
       "      <td>41.96</td>\n",
       "      <td>2.19</td>\n",
       "      <td>0.02</td>\n",
       "      <td>41.06</td>\n",
       "      <td>-2147483648</td>\n",
       "      <td>2140059393.53</td>\n",
       "      <td>Subiu</td>\n",
       "      <td>Petrobras</td>\n",
       "      <td>Energia/Petróleo</td>\n",
       "      <td>71</td>\n",
       "    </tr>\n",
       "    <tr>\n",
       "      <th>3</th>\n",
       "      <td>SUZB3</td>\n",
       "      <td>2024-01-26</td>\n",
       "      <td>52.91</td>\n",
       "      <td>2.04</td>\n",
       "      <td>0.02</td>\n",
       "      <td>51.85</td>\n",
       "      <td>683452836</td>\n",
       "      <td>722946282.71</td>\n",
       "      <td>Subiu</td>\n",
       "      <td>Suzano</td>\n",
       "      <td>Papel e Celulose</td>\n",
       "      <td>100</td>\n",
       "    </tr>\n",
       "    <tr>\n",
       "      <th>4</th>\n",
       "      <td>CPFE3</td>\n",
       "      <td>2024-01-26</td>\n",
       "      <td>37.10</td>\n",
       "      <td>2.03</td>\n",
       "      <td>0.02</td>\n",
       "      <td>36.36</td>\n",
       "      <td>187732538</td>\n",
       "      <td>138573955.06</td>\n",
       "      <td>Subiu</td>\n",
       "      <td>CPFL Energia</td>\n",
       "      <td>Energia</td>\n",
       "      <td>111</td>\n",
       "    </tr>\n",
       "    <tr>\n",
       "      <th>...</th>\n",
       "      <td>...</td>\n",
       "      <td>...</td>\n",
       "      <td>...</td>\n",
       "      <td>...</td>\n",
       "      <td>...</td>\n",
       "      <td>...</td>\n",
       "      <td>...</td>\n",
       "      <td>...</td>\n",
       "      <td>...</td>\n",
       "      <td>...</td>\n",
       "      <td>...</td>\n",
       "      <td>...</td>\n",
       "    </tr>\n",
       "    <tr>\n",
       "      <th>76</th>\n",
       "      <td>CRFB3</td>\n",
       "      <td>2024-01-26</td>\n",
       "      <td>10.71</td>\n",
       "      <td>-2.45</td>\n",
       "      <td>-0.02</td>\n",
       "      <td>10.98</td>\n",
       "      <td>533990587</td>\n",
       "      <td>-143635530.57</td>\n",
       "      <td>Desceu</td>\n",
       "      <td>Carrefour Brasil</td>\n",
       "      <td>Varejo</td>\n",
       "      <td>49</td>\n",
       "    </tr>\n",
       "    <tr>\n",
       "      <th>77</th>\n",
       "      <td>BHIA3</td>\n",
       "      <td>2024-01-26</td>\n",
       "      <td>8.70</td>\n",
       "      <td>-2.46</td>\n",
       "      <td>-0.02</td>\n",
       "      <td>8.92</td>\n",
       "      <td>94843047</td>\n",
       "      <td>-20810240.84</td>\n",
       "      <td>Desceu</td>\n",
       "      <td>Casas Bahia</td>\n",
       "      <td>Varejo</td>\n",
       "      <td>66</td>\n",
       "    </tr>\n",
       "    <tr>\n",
       "      <th>78</th>\n",
       "      <td>RENT3</td>\n",
       "      <td>2024-01-26</td>\n",
       "      <td>56.24</td>\n",
       "      <td>-3.63</td>\n",
       "      <td>-0.04</td>\n",
       "      <td>58.36</td>\n",
       "      <td>853202347</td>\n",
       "      <td>-1807432634.46</td>\n",
       "      <td>Desceu</td>\n",
       "      <td>Localiza</td>\n",
       "      <td>Transporte/Aluguéis</td>\n",
       "      <td>51</td>\n",
       "    </tr>\n",
       "    <tr>\n",
       "      <th>79</th>\n",
       "      <td>CVCB3</td>\n",
       "      <td>2024-01-26</td>\n",
       "      <td>3.07</td>\n",
       "      <td>-4.36</td>\n",
       "      <td>-0.04</td>\n",
       "      <td>3.21</td>\n",
       "      <td>525582771</td>\n",
       "      <td>-73557408.06</td>\n",
       "      <td>Desceu</td>\n",
       "      <td>CVC</td>\n",
       "      <td>Turismo</td>\n",
       "      <td>52</td>\n",
       "    </tr>\n",
       "    <tr>\n",
       "      <th>80</th>\n",
       "      <td>GOLL4</td>\n",
       "      <td>2024-01-26</td>\n",
       "      <td>5.92</td>\n",
       "      <td>-8.07</td>\n",
       "      <td>-0.08</td>\n",
       "      <td>6.44</td>\n",
       "      <td>198184909</td>\n",
       "      <td>-102993202.62</td>\n",
       "      <td>Desceu</td>\n",
       "      <td>GOL</td>\n",
       "      <td>Aviação</td>\n",
       "      <td>23</td>\n",
       "    </tr>\n",
       "  </tbody>\n",
       "</table>\n",
       "<p>81 rows × 12 columns</p>\n",
       "</div>"
      ],
      "text/plain": [
       "    Ativo       Data  Valor_Final  Var_Dia_Pct  Var_Pct  Var_Inicial  \\\n",
       "0   USIM5 2024-01-26         9.50         5.20     0.05         9.03   \n",
       "1   CMIN3 2024-01-26         6.82         2.40     0.02         6.66   \n",
       "2   PETR3 2024-01-26        41.96         2.19     0.02        41.06   \n",
       "3   SUZB3 2024-01-26        52.91         2.04     0.02        51.85   \n",
       "4   CPFE3 2024-01-26        37.10         2.03     0.02        36.36   \n",
       "..    ...        ...          ...          ...      ...          ...   \n",
       "76  CRFB3 2024-01-26        10.71        -2.45    -0.02        10.98   \n",
       "77  BHIA3 2024-01-26         8.70        -2.46    -0.02         8.92   \n",
       "78  RENT3 2024-01-26        56.24        -3.63    -0.04        58.36   \n",
       "79  CVCB3 2024-01-26         3.07        -4.36    -0.04         3.21   \n",
       "80  GOLL4 2024-01-26         5.92        -8.07    -0.08         6.44   \n",
       "\n",
       "    Qtd_Teorica    Variacao_RS Resultado              Nome  \\\n",
       "0     515117391   241889725.43     Subiu          Usiminas   \n",
       "1    1110559345   177515970.30     Subiu     CSN Mineração   \n",
       "2   -2147483648  2140059393.53     Subiu         Petrobras   \n",
       "3     683452836   722946282.71     Subiu            Suzano   \n",
       "4     187732538   138573955.06     Subiu      CPFL Energia   \n",
       "..          ...            ...       ...               ...   \n",
       "76    533990587  -143635530.57    Desceu  Carrefour Brasil   \n",
       "77     94843047   -20810240.84    Desceu       Casas Bahia   \n",
       "78    853202347 -1807432634.46    Desceu          Localiza   \n",
       "79    525582771   -73557408.06    Desceu               CVC   \n",
       "80    198184909  -102993202.62    Desceu               GOL   \n",
       "\n",
       "               Segmento  Idade em Anos  \n",
       "0            Siderurgia             61  \n",
       "1             Mineração             80  \n",
       "2      Energia/Petróleo             71  \n",
       "3      Papel e Celulose            100  \n",
       "4               Energia            111  \n",
       "..                  ...            ...  \n",
       "76               Varejo             49  \n",
       "77               Varejo             66  \n",
       "78  Transporte/Aluguéis             51  \n",
       "79              Turismo             52  \n",
       "80              Aviação             23  \n",
       "\n",
       "[81 rows x 12 columns]"
      ]
     },
     "execution_count": 63,
     "metadata": {},
     "output_type": "execute_result"
    }
   ],
   "source": [
    "df_principal = df_principal.merge(df_chatgpt, left_on='Nome', right_on='Nome da Empresa', how='left')\n",
    "df_principal = df_principal.drop(columns=['Nome da Empresa'])\n",
    "df_principal"
   ]
  },
  {
   "cell_type": "code",
   "execution_count": 64,
   "metadata": {},
   "outputs": [
    {
     "data": {
      "text/html": [
       "<div>\n",
       "<style scoped>\n",
       "    .dataframe tbody tr th:only-of-type {\n",
       "        vertical-align: middle;\n",
       "    }\n",
       "\n",
       "    .dataframe tbody tr th {\n",
       "        vertical-align: top;\n",
       "    }\n",
       "\n",
       "    .dataframe thead th {\n",
       "        text-align: right;\n",
       "    }\n",
       "</style>\n",
       "<table border=\"1\" class=\"dataframe\">\n",
       "  <thead>\n",
       "    <tr style=\"text-align: right;\">\n",
       "      <th></th>\n",
       "      <th>Ativo</th>\n",
       "      <th>Data</th>\n",
       "      <th>Valor_Final</th>\n",
       "      <th>Var_Dia_Pct</th>\n",
       "      <th>Var_Pct</th>\n",
       "      <th>Var_Inicial</th>\n",
       "      <th>Qtd_Teorica</th>\n",
       "      <th>Variacao_RS</th>\n",
       "      <th>Resultado</th>\n",
       "      <th>Nome</th>\n",
       "      <th>Segmento</th>\n",
       "      <th>Idade</th>\n",
       "    </tr>\n",
       "  </thead>\n",
       "  <tbody>\n",
       "    <tr>\n",
       "      <th>0</th>\n",
       "      <td>USIM5</td>\n",
       "      <td>2024-01-26</td>\n",
       "      <td>9.50</td>\n",
       "      <td>5.20</td>\n",
       "      <td>0.05</td>\n",
       "      <td>9.03</td>\n",
       "      <td>515117391</td>\n",
       "      <td>241889725.43</td>\n",
       "      <td>Subiu</td>\n",
       "      <td>Usiminas</td>\n",
       "      <td>Siderurgia</td>\n",
       "      <td>61</td>\n",
       "    </tr>\n",
       "    <tr>\n",
       "      <th>1</th>\n",
       "      <td>CMIN3</td>\n",
       "      <td>2024-01-26</td>\n",
       "      <td>6.82</td>\n",
       "      <td>2.40</td>\n",
       "      <td>0.02</td>\n",
       "      <td>6.66</td>\n",
       "      <td>1110559345</td>\n",
       "      <td>177515970.30</td>\n",
       "      <td>Subiu</td>\n",
       "      <td>CSN Mineração</td>\n",
       "      <td>Mineração</td>\n",
       "      <td>80</td>\n",
       "    </tr>\n",
       "    <tr>\n",
       "      <th>2</th>\n",
       "      <td>PETR3</td>\n",
       "      <td>2024-01-26</td>\n",
       "      <td>41.96</td>\n",
       "      <td>2.19</td>\n",
       "      <td>0.02</td>\n",
       "      <td>41.06</td>\n",
       "      <td>-2147483648</td>\n",
       "      <td>2140059393.53</td>\n",
       "      <td>Subiu</td>\n",
       "      <td>Petrobras</td>\n",
       "      <td>Energia/Petróleo</td>\n",
       "      <td>71</td>\n",
       "    </tr>\n",
       "    <tr>\n",
       "      <th>3</th>\n",
       "      <td>SUZB3</td>\n",
       "      <td>2024-01-26</td>\n",
       "      <td>52.91</td>\n",
       "      <td>2.04</td>\n",
       "      <td>0.02</td>\n",
       "      <td>51.85</td>\n",
       "      <td>683452836</td>\n",
       "      <td>722946282.71</td>\n",
       "      <td>Subiu</td>\n",
       "      <td>Suzano</td>\n",
       "      <td>Papel e Celulose</td>\n",
       "      <td>100</td>\n",
       "    </tr>\n",
       "    <tr>\n",
       "      <th>4</th>\n",
       "      <td>CPFE3</td>\n",
       "      <td>2024-01-26</td>\n",
       "      <td>37.10</td>\n",
       "      <td>2.03</td>\n",
       "      <td>0.02</td>\n",
       "      <td>36.36</td>\n",
       "      <td>187732538</td>\n",
       "      <td>138573955.06</td>\n",
       "      <td>Subiu</td>\n",
       "      <td>CPFL Energia</td>\n",
       "      <td>Energia</td>\n",
       "      <td>111</td>\n",
       "    </tr>\n",
       "    <tr>\n",
       "      <th>...</th>\n",
       "      <td>...</td>\n",
       "      <td>...</td>\n",
       "      <td>...</td>\n",
       "      <td>...</td>\n",
       "      <td>...</td>\n",
       "      <td>...</td>\n",
       "      <td>...</td>\n",
       "      <td>...</td>\n",
       "      <td>...</td>\n",
       "      <td>...</td>\n",
       "      <td>...</td>\n",
       "      <td>...</td>\n",
       "    </tr>\n",
       "    <tr>\n",
       "      <th>76</th>\n",
       "      <td>CRFB3</td>\n",
       "      <td>2024-01-26</td>\n",
       "      <td>10.71</td>\n",
       "      <td>-2.45</td>\n",
       "      <td>-0.02</td>\n",
       "      <td>10.98</td>\n",
       "      <td>533990587</td>\n",
       "      <td>-143635530.57</td>\n",
       "      <td>Desceu</td>\n",
       "      <td>Carrefour Brasil</td>\n",
       "      <td>Varejo</td>\n",
       "      <td>49</td>\n",
       "    </tr>\n",
       "    <tr>\n",
       "      <th>77</th>\n",
       "      <td>BHIA3</td>\n",
       "      <td>2024-01-26</td>\n",
       "      <td>8.70</td>\n",
       "      <td>-2.46</td>\n",
       "      <td>-0.02</td>\n",
       "      <td>8.92</td>\n",
       "      <td>94843047</td>\n",
       "      <td>-20810240.84</td>\n",
       "      <td>Desceu</td>\n",
       "      <td>Casas Bahia</td>\n",
       "      <td>Varejo</td>\n",
       "      <td>66</td>\n",
       "    </tr>\n",
       "    <tr>\n",
       "      <th>78</th>\n",
       "      <td>RENT3</td>\n",
       "      <td>2024-01-26</td>\n",
       "      <td>56.24</td>\n",
       "      <td>-3.63</td>\n",
       "      <td>-0.04</td>\n",
       "      <td>58.36</td>\n",
       "      <td>853202347</td>\n",
       "      <td>-1807432634.46</td>\n",
       "      <td>Desceu</td>\n",
       "      <td>Localiza</td>\n",
       "      <td>Transporte/Aluguéis</td>\n",
       "      <td>51</td>\n",
       "    </tr>\n",
       "    <tr>\n",
       "      <th>79</th>\n",
       "      <td>CVCB3</td>\n",
       "      <td>2024-01-26</td>\n",
       "      <td>3.07</td>\n",
       "      <td>-4.36</td>\n",
       "      <td>-0.04</td>\n",
       "      <td>3.21</td>\n",
       "      <td>525582771</td>\n",
       "      <td>-73557408.06</td>\n",
       "      <td>Desceu</td>\n",
       "      <td>CVC</td>\n",
       "      <td>Turismo</td>\n",
       "      <td>52</td>\n",
       "    </tr>\n",
       "    <tr>\n",
       "      <th>80</th>\n",
       "      <td>GOLL4</td>\n",
       "      <td>2024-01-26</td>\n",
       "      <td>5.92</td>\n",
       "      <td>-8.07</td>\n",
       "      <td>-0.08</td>\n",
       "      <td>6.44</td>\n",
       "      <td>198184909</td>\n",
       "      <td>-102993202.62</td>\n",
       "      <td>Desceu</td>\n",
       "      <td>GOL</td>\n",
       "      <td>Aviação</td>\n",
       "      <td>23</td>\n",
       "    </tr>\n",
       "  </tbody>\n",
       "</table>\n",
       "<p>81 rows × 12 columns</p>\n",
       "</div>"
      ],
      "text/plain": [
       "    Ativo       Data  Valor_Final  Var_Dia_Pct  Var_Pct  Var_Inicial  \\\n",
       "0   USIM5 2024-01-26         9.50         5.20     0.05         9.03   \n",
       "1   CMIN3 2024-01-26         6.82         2.40     0.02         6.66   \n",
       "2   PETR3 2024-01-26        41.96         2.19     0.02        41.06   \n",
       "3   SUZB3 2024-01-26        52.91         2.04     0.02        51.85   \n",
       "4   CPFE3 2024-01-26        37.10         2.03     0.02        36.36   \n",
       "..    ...        ...          ...          ...      ...          ...   \n",
       "76  CRFB3 2024-01-26        10.71        -2.45    -0.02        10.98   \n",
       "77  BHIA3 2024-01-26         8.70        -2.46    -0.02         8.92   \n",
       "78  RENT3 2024-01-26        56.24        -3.63    -0.04        58.36   \n",
       "79  CVCB3 2024-01-26         3.07        -4.36    -0.04         3.21   \n",
       "80  GOLL4 2024-01-26         5.92        -8.07    -0.08         6.44   \n",
       "\n",
       "    Qtd_Teorica    Variacao_RS Resultado              Nome  \\\n",
       "0     515117391   241889725.43     Subiu          Usiminas   \n",
       "1    1110559345   177515970.30     Subiu     CSN Mineração   \n",
       "2   -2147483648  2140059393.53     Subiu         Petrobras   \n",
       "3     683452836   722946282.71     Subiu            Suzano   \n",
       "4     187732538   138573955.06     Subiu      CPFL Energia   \n",
       "..          ...            ...       ...               ...   \n",
       "76    533990587  -143635530.57    Desceu  Carrefour Brasil   \n",
       "77     94843047   -20810240.84    Desceu       Casas Bahia   \n",
       "78    853202347 -1807432634.46    Desceu          Localiza   \n",
       "79    525582771   -73557408.06    Desceu               CVC   \n",
       "80    198184909  -102993202.62    Desceu               GOL   \n",
       "\n",
       "               Segmento  Idade  \n",
       "0            Siderurgia     61  \n",
       "1             Mineração     80  \n",
       "2      Energia/Petróleo     71  \n",
       "3      Papel e Celulose    100  \n",
       "4               Energia    111  \n",
       "..                  ...    ...  \n",
       "76               Varejo     49  \n",
       "77               Varejo     66  \n",
       "78  Transporte/Aluguéis     51  \n",
       "79              Turismo     52  \n",
       "80              Aviação     23  \n",
       "\n",
       "[81 rows x 12 columns]"
      ]
     },
     "execution_count": 64,
     "metadata": {},
     "output_type": "execute_result"
    }
   ],
   "source": [
    "df_principal = df_principal.rename(columns={'Idade em Anos':'Idade'}).copy()\n",
    "df_principal"
   ]
  },
  {
   "cell_type": "code",
   "execution_count": 65,
   "metadata": {},
   "outputs": [
    {
     "data": {
      "text/html": [
       "<div>\n",
       "<style scoped>\n",
       "    .dataframe tbody tr th:only-of-type {\n",
       "        vertical-align: middle;\n",
       "    }\n",
       "\n",
       "    .dataframe tbody tr th {\n",
       "        vertical-align: top;\n",
       "    }\n",
       "\n",
       "    .dataframe thead th {\n",
       "        text-align: right;\n",
       "    }\n",
       "</style>\n",
       "<table border=\"1\" class=\"dataframe\">\n",
       "  <thead>\n",
       "    <tr style=\"text-align: right;\">\n",
       "      <th></th>\n",
       "      <th>Ativo</th>\n",
       "      <th>Data</th>\n",
       "      <th>Valor_Final</th>\n",
       "      <th>Var_Dia_Pct</th>\n",
       "      <th>Var_Pct</th>\n",
       "      <th>Var_Inicial</th>\n",
       "      <th>Qtd_Teorica</th>\n",
       "      <th>Variacao_RS</th>\n",
       "      <th>Resultado</th>\n",
       "      <th>Nome</th>\n",
       "      <th>Segmento</th>\n",
       "      <th>Idade</th>\n",
       "      <th>Cat_Idade</th>\n",
       "    </tr>\n",
       "  </thead>\n",
       "  <tbody>\n",
       "    <tr>\n",
       "      <th>0</th>\n",
       "      <td>USIM5</td>\n",
       "      <td>2024-01-26</td>\n",
       "      <td>9.50</td>\n",
       "      <td>5.20</td>\n",
       "      <td>0.05</td>\n",
       "      <td>9.03</td>\n",
       "      <td>515117391</td>\n",
       "      <td>241889725.43</td>\n",
       "      <td>Subiu</td>\n",
       "      <td>Usiminas</td>\n",
       "      <td>Siderurgia</td>\n",
       "      <td>61</td>\n",
       "      <td>Entre 50 e 100</td>\n",
       "    </tr>\n",
       "    <tr>\n",
       "      <th>1</th>\n",
       "      <td>CMIN3</td>\n",
       "      <td>2024-01-26</td>\n",
       "      <td>6.82</td>\n",
       "      <td>2.40</td>\n",
       "      <td>0.02</td>\n",
       "      <td>6.66</td>\n",
       "      <td>1110559345</td>\n",
       "      <td>177515970.30</td>\n",
       "      <td>Subiu</td>\n",
       "      <td>CSN Mineração</td>\n",
       "      <td>Mineração</td>\n",
       "      <td>80</td>\n",
       "      <td>Entre 50 e 100</td>\n",
       "    </tr>\n",
       "    <tr>\n",
       "      <th>2</th>\n",
       "      <td>PETR3</td>\n",
       "      <td>2024-01-26</td>\n",
       "      <td>41.96</td>\n",
       "      <td>2.19</td>\n",
       "      <td>0.02</td>\n",
       "      <td>41.06</td>\n",
       "      <td>-2147483648</td>\n",
       "      <td>2140059393.53</td>\n",
       "      <td>Subiu</td>\n",
       "      <td>Petrobras</td>\n",
       "      <td>Energia/Petróleo</td>\n",
       "      <td>71</td>\n",
       "      <td>Entre 50 e 100</td>\n",
       "    </tr>\n",
       "    <tr>\n",
       "      <th>3</th>\n",
       "      <td>SUZB3</td>\n",
       "      <td>2024-01-26</td>\n",
       "      <td>52.91</td>\n",
       "      <td>2.04</td>\n",
       "      <td>0.02</td>\n",
       "      <td>51.85</td>\n",
       "      <td>683452836</td>\n",
       "      <td>722946282.71</td>\n",
       "      <td>Subiu</td>\n",
       "      <td>Suzano</td>\n",
       "      <td>Papel e Celulose</td>\n",
       "      <td>100</td>\n",
       "      <td>Entre 50 e 100</td>\n",
       "    </tr>\n",
       "    <tr>\n",
       "      <th>4</th>\n",
       "      <td>CPFE3</td>\n",
       "      <td>2024-01-26</td>\n",
       "      <td>37.10</td>\n",
       "      <td>2.03</td>\n",
       "      <td>0.02</td>\n",
       "      <td>36.36</td>\n",
       "      <td>187732538</td>\n",
       "      <td>138573955.06</td>\n",
       "      <td>Subiu</td>\n",
       "      <td>CPFL Energia</td>\n",
       "      <td>Energia</td>\n",
       "      <td>111</td>\n",
       "      <td>Mais de 100</td>\n",
       "    </tr>\n",
       "    <tr>\n",
       "      <th>...</th>\n",
       "      <td>...</td>\n",
       "      <td>...</td>\n",
       "      <td>...</td>\n",
       "      <td>...</td>\n",
       "      <td>...</td>\n",
       "      <td>...</td>\n",
       "      <td>...</td>\n",
       "      <td>...</td>\n",
       "      <td>...</td>\n",
       "      <td>...</td>\n",
       "      <td>...</td>\n",
       "      <td>...</td>\n",
       "      <td>...</td>\n",
       "    </tr>\n",
       "    <tr>\n",
       "      <th>76</th>\n",
       "      <td>CRFB3</td>\n",
       "      <td>2024-01-26</td>\n",
       "      <td>10.71</td>\n",
       "      <td>-2.45</td>\n",
       "      <td>-0.02</td>\n",
       "      <td>10.98</td>\n",
       "      <td>533990587</td>\n",
       "      <td>-143635530.57</td>\n",
       "      <td>Desceu</td>\n",
       "      <td>Carrefour Brasil</td>\n",
       "      <td>Varejo</td>\n",
       "      <td>49</td>\n",
       "      <td>Menos de 50</td>\n",
       "    </tr>\n",
       "    <tr>\n",
       "      <th>77</th>\n",
       "      <td>BHIA3</td>\n",
       "      <td>2024-01-26</td>\n",
       "      <td>8.70</td>\n",
       "      <td>-2.46</td>\n",
       "      <td>-0.02</td>\n",
       "      <td>8.92</td>\n",
       "      <td>94843047</td>\n",
       "      <td>-20810240.84</td>\n",
       "      <td>Desceu</td>\n",
       "      <td>Casas Bahia</td>\n",
       "      <td>Varejo</td>\n",
       "      <td>66</td>\n",
       "      <td>Entre 50 e 100</td>\n",
       "    </tr>\n",
       "    <tr>\n",
       "      <th>78</th>\n",
       "      <td>RENT3</td>\n",
       "      <td>2024-01-26</td>\n",
       "      <td>56.24</td>\n",
       "      <td>-3.63</td>\n",
       "      <td>-0.04</td>\n",
       "      <td>58.36</td>\n",
       "      <td>853202347</td>\n",
       "      <td>-1807432634.46</td>\n",
       "      <td>Desceu</td>\n",
       "      <td>Localiza</td>\n",
       "      <td>Transporte/Aluguéis</td>\n",
       "      <td>51</td>\n",
       "      <td>Entre 50 e 100</td>\n",
       "    </tr>\n",
       "    <tr>\n",
       "      <th>79</th>\n",
       "      <td>CVCB3</td>\n",
       "      <td>2024-01-26</td>\n",
       "      <td>3.07</td>\n",
       "      <td>-4.36</td>\n",
       "      <td>-0.04</td>\n",
       "      <td>3.21</td>\n",
       "      <td>525582771</td>\n",
       "      <td>-73557408.06</td>\n",
       "      <td>Desceu</td>\n",
       "      <td>CVC</td>\n",
       "      <td>Turismo</td>\n",
       "      <td>52</td>\n",
       "      <td>Entre 50 e 100</td>\n",
       "    </tr>\n",
       "    <tr>\n",
       "      <th>80</th>\n",
       "      <td>GOLL4</td>\n",
       "      <td>2024-01-26</td>\n",
       "      <td>5.92</td>\n",
       "      <td>-8.07</td>\n",
       "      <td>-0.08</td>\n",
       "      <td>6.44</td>\n",
       "      <td>198184909</td>\n",
       "      <td>-102993202.62</td>\n",
       "      <td>Desceu</td>\n",
       "      <td>GOL</td>\n",
       "      <td>Aviação</td>\n",
       "      <td>23</td>\n",
       "      <td>Menos de 50</td>\n",
       "    </tr>\n",
       "  </tbody>\n",
       "</table>\n",
       "<p>81 rows × 13 columns</p>\n",
       "</div>"
      ],
      "text/plain": [
       "    Ativo       Data  Valor_Final  Var_Dia_Pct  Var_Pct  Var_Inicial  \\\n",
       "0   USIM5 2024-01-26         9.50         5.20     0.05         9.03   \n",
       "1   CMIN3 2024-01-26         6.82         2.40     0.02         6.66   \n",
       "2   PETR3 2024-01-26        41.96         2.19     0.02        41.06   \n",
       "3   SUZB3 2024-01-26        52.91         2.04     0.02        51.85   \n",
       "4   CPFE3 2024-01-26        37.10         2.03     0.02        36.36   \n",
       "..    ...        ...          ...          ...      ...          ...   \n",
       "76  CRFB3 2024-01-26        10.71        -2.45    -0.02        10.98   \n",
       "77  BHIA3 2024-01-26         8.70        -2.46    -0.02         8.92   \n",
       "78  RENT3 2024-01-26        56.24        -3.63    -0.04        58.36   \n",
       "79  CVCB3 2024-01-26         3.07        -4.36    -0.04         3.21   \n",
       "80  GOLL4 2024-01-26         5.92        -8.07    -0.08         6.44   \n",
       "\n",
       "    Qtd_Teorica    Variacao_RS Resultado              Nome  \\\n",
       "0     515117391   241889725.43     Subiu          Usiminas   \n",
       "1    1110559345   177515970.30     Subiu     CSN Mineração   \n",
       "2   -2147483648  2140059393.53     Subiu         Petrobras   \n",
       "3     683452836   722946282.71     Subiu            Suzano   \n",
       "4     187732538   138573955.06     Subiu      CPFL Energia   \n",
       "..          ...            ...       ...               ...   \n",
       "76    533990587  -143635530.57    Desceu  Carrefour Brasil   \n",
       "77     94843047   -20810240.84    Desceu       Casas Bahia   \n",
       "78    853202347 -1807432634.46    Desceu          Localiza   \n",
       "79    525582771   -73557408.06    Desceu               CVC   \n",
       "80    198184909  -102993202.62    Desceu               GOL   \n",
       "\n",
       "               Segmento  Idade       Cat_Idade  \n",
       "0            Siderurgia     61  Entre 50 e 100  \n",
       "1             Mineração     80  Entre 50 e 100  \n",
       "2      Energia/Petróleo     71  Entre 50 e 100  \n",
       "3      Papel e Celulose    100  Entre 50 e 100  \n",
       "4               Energia    111     Mais de 100  \n",
       "..                  ...    ...             ...  \n",
       "76               Varejo     49     Menos de 50  \n",
       "77               Varejo     66  Entre 50 e 100  \n",
       "78  Transporte/Aluguéis     51  Entre 50 e 100  \n",
       "79              Turismo     52  Entre 50 e 100  \n",
       "80              Aviação     23     Menos de 50  \n",
       "\n",
       "[81 rows x 13 columns]"
      ]
     },
     "execution_count": 65,
     "metadata": {},
     "output_type": "execute_result"
    }
   ],
   "source": [
    "df_principal['Cat_Idade'] = df_principal['Idade'].apply(lambda x: 'Mais de 100' if x > 100 else ('Menos de 50' if x < 50 else 'Entre 50 e 100'))\n",
    "df_principal"
   ]
  },
  {
   "cell_type": "code",
   "execution_count": 66,
   "metadata": {},
   "outputs": [
    {
     "name": "stdout",
     "output_type": "stream",
     "text": [
      "4762926995.24809 -1807432634.4595425 165190210.47934026 448164250.23049796 -181109141.75186712\n"
     ]
    }
   ],
   "source": [
    "maior = df_principal['Variacao_RS'].max()\n",
    "menor = df_principal['Variacao_RS'].min()\n",
    "media = df_principal['Variacao_RS'].mean()\n",
    "media_subiu = df_principal[df_principal['Resultado'] == 'Subiu']['Variacao_RS'].mean()\n",
    "media_desceu = df_principal[df_principal['Resultado'] == 'Desceu']['Variacao_RS'].mean()\n",
    "print(maior, menor, media, media_subiu, media_desceu)"
   ]
  },
  {
   "cell_type": "code",
   "execution_count": 67,
   "metadata": {},
   "outputs": [
    {
     "data": {
      "text/html": [
       "<div>\n",
       "<style scoped>\n",
       "    .dataframe tbody tr th:only-of-type {\n",
       "        vertical-align: middle;\n",
       "    }\n",
       "\n",
       "    .dataframe tbody tr th {\n",
       "        vertical-align: top;\n",
       "    }\n",
       "\n",
       "    .dataframe thead th {\n",
       "        text-align: right;\n",
       "    }\n",
       "</style>\n",
       "<table border=\"1\" class=\"dataframe\">\n",
       "  <thead>\n",
       "    <tr style=\"text-align: right;\">\n",
       "      <th></th>\n",
       "      <th>Ativo</th>\n",
       "      <th>Data</th>\n",
       "      <th>Valor_Final</th>\n",
       "      <th>Var_Dia_Pct</th>\n",
       "      <th>Var_Pct</th>\n",
       "      <th>Var_Inicial</th>\n",
       "      <th>Qtd_Teorica</th>\n",
       "      <th>Variacao_RS</th>\n",
       "      <th>Resultado</th>\n",
       "      <th>Nome</th>\n",
       "      <th>Segmento</th>\n",
       "      <th>Idade</th>\n",
       "      <th>Cat_Idade</th>\n",
       "    </tr>\n",
       "  </thead>\n",
       "  <tbody>\n",
       "    <tr>\n",
       "      <th>0</th>\n",
       "      <td>USIM5</td>\n",
       "      <td>2024-01-26</td>\n",
       "      <td>9.50</td>\n",
       "      <td>5.20</td>\n",
       "      <td>0.05</td>\n",
       "      <td>9.03</td>\n",
       "      <td>515117391</td>\n",
       "      <td>241889725.43</td>\n",
       "      <td>Subiu</td>\n",
       "      <td>Usiminas</td>\n",
       "      <td>Siderurgia</td>\n",
       "      <td>61</td>\n",
       "      <td>Entre 50 e 100</td>\n",
       "    </tr>\n",
       "    <tr>\n",
       "      <th>1</th>\n",
       "      <td>CMIN3</td>\n",
       "      <td>2024-01-26</td>\n",
       "      <td>6.82</td>\n",
       "      <td>2.40</td>\n",
       "      <td>0.02</td>\n",
       "      <td>6.66</td>\n",
       "      <td>1110559345</td>\n",
       "      <td>177515970.30</td>\n",
       "      <td>Subiu</td>\n",
       "      <td>CSN Mineração</td>\n",
       "      <td>Mineração</td>\n",
       "      <td>80</td>\n",
       "      <td>Entre 50 e 100</td>\n",
       "    </tr>\n",
       "    <tr>\n",
       "      <th>2</th>\n",
       "      <td>PETR3</td>\n",
       "      <td>2024-01-26</td>\n",
       "      <td>41.96</td>\n",
       "      <td>2.19</td>\n",
       "      <td>0.02</td>\n",
       "      <td>41.06</td>\n",
       "      <td>-2147483648</td>\n",
       "      <td>2140059393.53</td>\n",
       "      <td>Subiu</td>\n",
       "      <td>Petrobras</td>\n",
       "      <td>Energia/Petróleo</td>\n",
       "      <td>71</td>\n",
       "      <td>Entre 50 e 100</td>\n",
       "    </tr>\n",
       "    <tr>\n",
       "      <th>3</th>\n",
       "      <td>SUZB3</td>\n",
       "      <td>2024-01-26</td>\n",
       "      <td>52.91</td>\n",
       "      <td>2.04</td>\n",
       "      <td>0.02</td>\n",
       "      <td>51.85</td>\n",
       "      <td>683452836</td>\n",
       "      <td>722946282.71</td>\n",
       "      <td>Subiu</td>\n",
       "      <td>Suzano</td>\n",
       "      <td>Papel e Celulose</td>\n",
       "      <td>100</td>\n",
       "      <td>Entre 50 e 100</td>\n",
       "    </tr>\n",
       "    <tr>\n",
       "      <th>4</th>\n",
       "      <td>CPFE3</td>\n",
       "      <td>2024-01-26</td>\n",
       "      <td>37.10</td>\n",
       "      <td>2.03</td>\n",
       "      <td>0.02</td>\n",
       "      <td>36.36</td>\n",
       "      <td>187732538</td>\n",
       "      <td>138573955.06</td>\n",
       "      <td>Subiu</td>\n",
       "      <td>CPFL Energia</td>\n",
       "      <td>Energia</td>\n",
       "      <td>111</td>\n",
       "      <td>Mais de 100</td>\n",
       "    </tr>\n",
       "  </tbody>\n",
       "</table>\n",
       "</div>"
      ],
      "text/plain": [
       "   Ativo       Data  Valor_Final  Var_Dia_Pct  Var_Pct  Var_Inicial  \\\n",
       "0  USIM5 2024-01-26         9.50         5.20     0.05         9.03   \n",
       "1  CMIN3 2024-01-26         6.82         2.40     0.02         6.66   \n",
       "2  PETR3 2024-01-26        41.96         2.19     0.02        41.06   \n",
       "3  SUZB3 2024-01-26        52.91         2.04     0.02        51.85   \n",
       "4  CPFE3 2024-01-26        37.10         2.03     0.02        36.36   \n",
       "\n",
       "   Qtd_Teorica   Variacao_RS Resultado           Nome          Segmento  \\\n",
       "0    515117391  241889725.43     Subiu       Usiminas        Siderurgia   \n",
       "1   1110559345  177515970.30     Subiu  CSN Mineração         Mineração   \n",
       "2  -2147483648 2140059393.53     Subiu      Petrobras  Energia/Petróleo   \n",
       "3    683452836  722946282.71     Subiu         Suzano  Papel e Celulose   \n",
       "4    187732538  138573955.06     Subiu   CPFL Energia           Energia   \n",
       "\n",
       "   Idade       Cat_Idade  \n",
       "0     61  Entre 50 e 100  \n",
       "1     80  Entre 50 e 100  \n",
       "2     71  Entre 50 e 100  \n",
       "3    100  Entre 50 e 100  \n",
       "4    111     Mais de 100  "
      ]
     },
     "execution_count": 67,
     "metadata": {},
     "output_type": "execute_result"
    }
   ],
   "source": [
    "df_principal_subiu = df_principal[df_principal['Resultado'] == 'Subiu']\n",
    "df_principal_subiu.head()"
   ]
  },
  {
   "cell_type": "code",
   "execution_count": 68,
   "metadata": {},
   "outputs": [
    {
     "data": {
      "text/html": [
       "<div>\n",
       "<style scoped>\n",
       "    .dataframe tbody tr th:only-of-type {\n",
       "        vertical-align: middle;\n",
       "    }\n",
       "\n",
       "    .dataframe tbody tr th {\n",
       "        vertical-align: top;\n",
       "    }\n",
       "\n",
       "    .dataframe thead th {\n",
       "        text-align: right;\n",
       "    }\n",
       "</style>\n",
       "<table border=\"1\" class=\"dataframe\">\n",
       "  <thead>\n",
       "    <tr style=\"text-align: right;\">\n",
       "      <th></th>\n",
       "      <th>Segmento</th>\n",
       "      <th>Variacao_RS</th>\n",
       "    </tr>\n",
       "  </thead>\n",
       "  <tbody>\n",
       "    <tr>\n",
       "      <th>0</th>\n",
       "      <td>Alimentos</td>\n",
       "      <td>407833683.09</td>\n",
       "    </tr>\n",
       "    <tr>\n",
       "      <th>1</th>\n",
       "      <td>Aviação</td>\n",
       "      <td>65452205.55</td>\n",
       "    </tr>\n",
       "    <tr>\n",
       "      <th>2</th>\n",
       "      <td>Bancos</td>\n",
       "      <td>3740512018.78</td>\n",
       "    </tr>\n",
       "    <tr>\n",
       "      <th>3</th>\n",
       "      <td>Construção Civil</td>\n",
       "      <td>37525872.38</td>\n",
       "    </tr>\n",
       "    <tr>\n",
       "      <th>4</th>\n",
       "      <td>Distribuição</td>\n",
       "      <td>388705223.96</td>\n",
       "    </tr>\n",
       "    <tr>\n",
       "      <th>5</th>\n",
       "      <td>Educação</td>\n",
       "      <td>72295838.99</td>\n",
       "    </tr>\n",
       "    <tr>\n",
       "      <th>6</th>\n",
       "      <td>Energia</td>\n",
       "      <td>682315640.01</td>\n",
       "    </tr>\n",
       "    <tr>\n",
       "      <th>7</th>\n",
       "      <td>Energia/Biocombustíveis</td>\n",
       "      <td>11571106.42</td>\n",
       "    </tr>\n",
       "    <tr>\n",
       "      <th>8</th>\n",
       "      <td>Energia/Infraestrutura</td>\n",
       "      <td>127229653.18</td>\n",
       "    </tr>\n",
       "    <tr>\n",
       "      <th>9</th>\n",
       "      <td>Energia/Petróleo</td>\n",
       "      <td>6093288832.26</td>\n",
       "    </tr>\n",
       "    <tr>\n",
       "      <th>10</th>\n",
       "      <td>Investimentos</td>\n",
       "      <td>416092244.42</td>\n",
       "    </tr>\n",
       "    <tr>\n",
       "      <th>11</th>\n",
       "      <td>Logística</td>\n",
       "      <td>229771333.63</td>\n",
       "    </tr>\n",
       "    <tr>\n",
       "      <th>12</th>\n",
       "      <td>Materiais de Construção</td>\n",
       "      <td>18068446.61</td>\n",
       "    </tr>\n",
       "    <tr>\n",
       "      <th>13</th>\n",
       "      <td>Meios de Pagamento</td>\n",
       "      <td>43657683.38</td>\n",
       "    </tr>\n",
       "    <tr>\n",
       "      <th>14</th>\n",
       "      <td>Mineração</td>\n",
       "      <td>4940442965.55</td>\n",
       "    </tr>\n",
       "    <tr>\n",
       "      <th>15</th>\n",
       "      <td>Papel e Celulose</td>\n",
       "      <td>722946282.71</td>\n",
       "    </tr>\n",
       "    <tr>\n",
       "      <th>16</th>\n",
       "      <td>Química/Petroquímica</td>\n",
       "      <td>69054317.64</td>\n",
       "    </tr>\n",
       "    <tr>\n",
       "      <th>17</th>\n",
       "      <td>Saúde</td>\n",
       "      <td>453917907.01</td>\n",
       "    </tr>\n",
       "    <tr>\n",
       "      <th>18</th>\n",
       "      <td>Saúde/Varejo</td>\n",
       "      <td>202352473.74</td>\n",
       "    </tr>\n",
       "    <tr>\n",
       "      <th>19</th>\n",
       "      <td>Shopping Centers</td>\n",
       "      <td>117732680.08</td>\n",
       "    </tr>\n",
       "    <tr>\n",
       "      <th>20</th>\n",
       "      <td>Siderurgia</td>\n",
       "      <td>489935930.93</td>\n",
       "    </tr>\n",
       "    <tr>\n",
       "      <th>21</th>\n",
       "      <td>Tecnologia</td>\n",
       "      <td>15598886.65</td>\n",
       "    </tr>\n",
       "    <tr>\n",
       "      <th>22</th>\n",
       "      <td>Telecomunicações</td>\n",
       "      <td>292938114.42</td>\n",
       "    </tr>\n",
       "    <tr>\n",
       "      <th>23</th>\n",
       "      <td>Transporte/Logística</td>\n",
       "      <td>4131341.16</td>\n",
       "    </tr>\n",
       "    <tr>\n",
       "      <th>24</th>\n",
       "      <td>Varejo</td>\n",
       "      <td>28493619.27</td>\n",
       "    </tr>\n",
       "    <tr>\n",
       "      <th>25</th>\n",
       "      <td>Varejo/Alimentos</td>\n",
       "      <td>6340916.22</td>\n",
       "    </tr>\n",
       "    <tr>\n",
       "      <th>26</th>\n",
       "      <td>Varejo/Calçados</td>\n",
       "      <td>41021792.09</td>\n",
       "    </tr>\n",
       "  </tbody>\n",
       "</table>\n",
       "</div>"
      ],
      "text/plain": [
       "                   Segmento   Variacao_RS\n",
       "0                 Alimentos  407833683.09\n",
       "1                   Aviação   65452205.55\n",
       "2                    Bancos 3740512018.78\n",
       "3          Construção Civil   37525872.38\n",
       "4              Distribuição  388705223.96\n",
       "5                  Educação   72295838.99\n",
       "6                   Energia  682315640.01\n",
       "7   Energia/Biocombustíveis   11571106.42\n",
       "8    Energia/Infraestrutura  127229653.18\n",
       "9          Energia/Petróleo 6093288832.26\n",
       "10            Investimentos  416092244.42\n",
       "11                Logística  229771333.63\n",
       "12  Materiais de Construção   18068446.61\n",
       "13       Meios de Pagamento   43657683.38\n",
       "14                Mineração 4940442965.55\n",
       "15         Papel e Celulose  722946282.71\n",
       "16     Química/Petroquímica   69054317.64\n",
       "17                    Saúde  453917907.01\n",
       "18             Saúde/Varejo  202352473.74\n",
       "19         Shopping Centers  117732680.08\n",
       "20               Siderurgia  489935930.93\n",
       "21               Tecnologia   15598886.65\n",
       "22         Telecomunicações  292938114.42\n",
       "23     Transporte/Logística    4131341.16\n",
       "24                   Varejo   28493619.27\n",
       "25         Varejo/Alimentos    6340916.22\n",
       "26          Varejo/Calçados   41021792.09"
      ]
     },
     "execution_count": 68,
     "metadata": {},
     "output_type": "execute_result"
    }
   ],
   "source": [
    "df_analise_segmento = df_principal_subiu.groupby('Segmento')['Variacao_RS'].sum().reset_index()\n",
    "df_analise_segmento"
   ]
  },
  {
   "cell_type": "code",
   "execution_count": 69,
   "metadata": {},
   "outputs": [
    {
     "data": {
      "text/html": [
       "<div>\n",
       "<style scoped>\n",
       "    .dataframe tbody tr th:only-of-type {\n",
       "        vertical-align: middle;\n",
       "    }\n",
       "\n",
       "    .dataframe tbody tr th {\n",
       "        vertical-align: top;\n",
       "    }\n",
       "\n",
       "    .dataframe thead th {\n",
       "        text-align: right;\n",
       "    }\n",
       "</style>\n",
       "<table border=\"1\" class=\"dataframe\">\n",
       "  <thead>\n",
       "    <tr style=\"text-align: right;\">\n",
       "      <th></th>\n",
       "      <th>Resultado</th>\n",
       "      <th>Variacao_RS</th>\n",
       "    </tr>\n",
       "  </thead>\n",
       "  <tbody>\n",
       "    <tr>\n",
       "      <th>0</th>\n",
       "      <td>Subiu</td>\n",
       "      <td>19719227010.14</td>\n",
       "    </tr>\n",
       "  </tbody>\n",
       "</table>\n",
       "</div>"
      ],
      "text/plain": [
       "  Resultado    Variacao_RS\n",
       "0     Subiu 19719227010.14"
      ]
     },
     "execution_count": 69,
     "metadata": {},
     "output_type": "execute_result"
    }
   ],
   "source": [
    "df_analise_saldo = df_principal_subiu.groupby('Resultado')['Variacao_RS'].sum().reset_index()\n",
    "df_analise_saldo"
   ]
  },
  {
   "cell_type": "code",
   "execution_count": 70,
   "metadata": {},
   "outputs": [
    {
     "data": {
      "application/vnd.plotly.v1+json": {
       "config": {
        "plotlyServerURL": "https://plot.ly"
       },
       "data": [
        {
         "alignmentgroup": "True",
         "hovertemplate": "Resultado=%{x}<br>Variacao_RS=%{text}<extra></extra>",
         "legendgroup": "",
         "marker": {
          "color": "#636efa",
          "pattern": {
           "shape": ""
          }
         },
         "name": "",
         "offsetgroup": "",
         "orientation": "v",
         "showlegend": false,
         "text": [
          19719227010.14191
         ],
         "textposition": "outside",
         "texttemplate": "R$ %{text:,.2f}",
         "type": "bar",
         "x": [
          "Subiu"
         ],
         "xaxis": "x",
         "y": [
          19719227010.14191
         ],
         "yaxis": "y"
        }
       ],
       "layout": {
        "barmode": "relative",
        "height": 600,
        "legend": {
         "tracegroupgap": 0
        },
        "template": {
         "data": {
          "bar": [
           {
            "error_x": {
             "color": "#2a3f5f"
            },
            "error_y": {
             "color": "#2a3f5f"
            },
            "marker": {
             "line": {
              "color": "#E5ECF6",
              "width": 0.5
             },
             "pattern": {
              "fillmode": "overlay",
              "size": 10,
              "solidity": 0.2
             }
            },
            "type": "bar"
           }
          ],
          "barpolar": [
           {
            "marker": {
             "line": {
              "color": "#E5ECF6",
              "width": 0.5
             },
             "pattern": {
              "fillmode": "overlay",
              "size": 10,
              "solidity": 0.2
             }
            },
            "type": "barpolar"
           }
          ],
          "carpet": [
           {
            "aaxis": {
             "endlinecolor": "#2a3f5f",
             "gridcolor": "white",
             "linecolor": "white",
             "minorgridcolor": "white",
             "startlinecolor": "#2a3f5f"
            },
            "baxis": {
             "endlinecolor": "#2a3f5f",
             "gridcolor": "white",
             "linecolor": "white",
             "minorgridcolor": "white",
             "startlinecolor": "#2a3f5f"
            },
            "type": "carpet"
           }
          ],
          "choropleth": [
           {
            "colorbar": {
             "outlinewidth": 0,
             "ticks": ""
            },
            "type": "choropleth"
           }
          ],
          "contour": [
           {
            "colorbar": {
             "outlinewidth": 0,
             "ticks": ""
            },
            "colorscale": [
             [
              0,
              "#0d0887"
             ],
             [
              0.1111111111111111,
              "#46039f"
             ],
             [
              0.2222222222222222,
              "#7201a8"
             ],
             [
              0.3333333333333333,
              "#9c179e"
             ],
             [
              0.4444444444444444,
              "#bd3786"
             ],
             [
              0.5555555555555556,
              "#d8576b"
             ],
             [
              0.6666666666666666,
              "#ed7953"
             ],
             [
              0.7777777777777778,
              "#fb9f3a"
             ],
             [
              0.8888888888888888,
              "#fdca26"
             ],
             [
              1,
              "#f0f921"
             ]
            ],
            "type": "contour"
           }
          ],
          "contourcarpet": [
           {
            "colorbar": {
             "outlinewidth": 0,
             "ticks": ""
            },
            "type": "contourcarpet"
           }
          ],
          "heatmap": [
           {
            "colorbar": {
             "outlinewidth": 0,
             "ticks": ""
            },
            "colorscale": [
             [
              0,
              "#0d0887"
             ],
             [
              0.1111111111111111,
              "#46039f"
             ],
             [
              0.2222222222222222,
              "#7201a8"
             ],
             [
              0.3333333333333333,
              "#9c179e"
             ],
             [
              0.4444444444444444,
              "#bd3786"
             ],
             [
              0.5555555555555556,
              "#d8576b"
             ],
             [
              0.6666666666666666,
              "#ed7953"
             ],
             [
              0.7777777777777778,
              "#fb9f3a"
             ],
             [
              0.8888888888888888,
              "#fdca26"
             ],
             [
              1,
              "#f0f921"
             ]
            ],
            "type": "heatmap"
           }
          ],
          "heatmapgl": [
           {
            "colorbar": {
             "outlinewidth": 0,
             "ticks": ""
            },
            "colorscale": [
             [
              0,
              "#0d0887"
             ],
             [
              0.1111111111111111,
              "#46039f"
             ],
             [
              0.2222222222222222,
              "#7201a8"
             ],
             [
              0.3333333333333333,
              "#9c179e"
             ],
             [
              0.4444444444444444,
              "#bd3786"
             ],
             [
              0.5555555555555556,
              "#d8576b"
             ],
             [
              0.6666666666666666,
              "#ed7953"
             ],
             [
              0.7777777777777778,
              "#fb9f3a"
             ],
             [
              0.8888888888888888,
              "#fdca26"
             ],
             [
              1,
              "#f0f921"
             ]
            ],
            "type": "heatmapgl"
           }
          ],
          "histogram": [
           {
            "marker": {
             "pattern": {
              "fillmode": "overlay",
              "size": 10,
              "solidity": 0.2
             }
            },
            "type": "histogram"
           }
          ],
          "histogram2d": [
           {
            "colorbar": {
             "outlinewidth": 0,
             "ticks": ""
            },
            "colorscale": [
             [
              0,
              "#0d0887"
             ],
             [
              0.1111111111111111,
              "#46039f"
             ],
             [
              0.2222222222222222,
              "#7201a8"
             ],
             [
              0.3333333333333333,
              "#9c179e"
             ],
             [
              0.4444444444444444,
              "#bd3786"
             ],
             [
              0.5555555555555556,
              "#d8576b"
             ],
             [
              0.6666666666666666,
              "#ed7953"
             ],
             [
              0.7777777777777778,
              "#fb9f3a"
             ],
             [
              0.8888888888888888,
              "#fdca26"
             ],
             [
              1,
              "#f0f921"
             ]
            ],
            "type": "histogram2d"
           }
          ],
          "histogram2dcontour": [
           {
            "colorbar": {
             "outlinewidth": 0,
             "ticks": ""
            },
            "colorscale": [
             [
              0,
              "#0d0887"
             ],
             [
              0.1111111111111111,
              "#46039f"
             ],
             [
              0.2222222222222222,
              "#7201a8"
             ],
             [
              0.3333333333333333,
              "#9c179e"
             ],
             [
              0.4444444444444444,
              "#bd3786"
             ],
             [
              0.5555555555555556,
              "#d8576b"
             ],
             [
              0.6666666666666666,
              "#ed7953"
             ],
             [
              0.7777777777777778,
              "#fb9f3a"
             ],
             [
              0.8888888888888888,
              "#fdca26"
             ],
             [
              1,
              "#f0f921"
             ]
            ],
            "type": "histogram2dcontour"
           }
          ],
          "mesh3d": [
           {
            "colorbar": {
             "outlinewidth": 0,
             "ticks": ""
            },
            "type": "mesh3d"
           }
          ],
          "parcoords": [
           {
            "line": {
             "colorbar": {
              "outlinewidth": 0,
              "ticks": ""
             }
            },
            "type": "parcoords"
           }
          ],
          "pie": [
           {
            "automargin": true,
            "type": "pie"
           }
          ],
          "scatter": [
           {
            "fillpattern": {
             "fillmode": "overlay",
             "size": 10,
             "solidity": 0.2
            },
            "type": "scatter"
           }
          ],
          "scatter3d": [
           {
            "line": {
             "colorbar": {
              "outlinewidth": 0,
              "ticks": ""
             }
            },
            "marker": {
             "colorbar": {
              "outlinewidth": 0,
              "ticks": ""
             }
            },
            "type": "scatter3d"
           }
          ],
          "scattercarpet": [
           {
            "marker": {
             "colorbar": {
              "outlinewidth": 0,
              "ticks": ""
             }
            },
            "type": "scattercarpet"
           }
          ],
          "scattergeo": [
           {
            "marker": {
             "colorbar": {
              "outlinewidth": 0,
              "ticks": ""
             }
            },
            "type": "scattergeo"
           }
          ],
          "scattergl": [
           {
            "marker": {
             "colorbar": {
              "outlinewidth": 0,
              "ticks": ""
             }
            },
            "type": "scattergl"
           }
          ],
          "scattermapbox": [
           {
            "marker": {
             "colorbar": {
              "outlinewidth": 0,
              "ticks": ""
             }
            },
            "type": "scattermapbox"
           }
          ],
          "scatterpolar": [
           {
            "marker": {
             "colorbar": {
              "outlinewidth": 0,
              "ticks": ""
             }
            },
            "type": "scatterpolar"
           }
          ],
          "scatterpolargl": [
           {
            "marker": {
             "colorbar": {
              "outlinewidth": 0,
              "ticks": ""
             }
            },
            "type": "scatterpolargl"
           }
          ],
          "scatterternary": [
           {
            "marker": {
             "colorbar": {
              "outlinewidth": 0,
              "ticks": ""
             }
            },
            "type": "scatterternary"
           }
          ],
          "surface": [
           {
            "colorbar": {
             "outlinewidth": 0,
             "ticks": ""
            },
            "colorscale": [
             [
              0,
              "#0d0887"
             ],
             [
              0.1111111111111111,
              "#46039f"
             ],
             [
              0.2222222222222222,
              "#7201a8"
             ],
             [
              0.3333333333333333,
              "#9c179e"
             ],
             [
              0.4444444444444444,
              "#bd3786"
             ],
             [
              0.5555555555555556,
              "#d8576b"
             ],
             [
              0.6666666666666666,
              "#ed7953"
             ],
             [
              0.7777777777777778,
              "#fb9f3a"
             ],
             [
              0.8888888888888888,
              "#fdca26"
             ],
             [
              1,
              "#f0f921"
             ]
            ],
            "type": "surface"
           }
          ],
          "table": [
           {
            "cells": {
             "fill": {
              "color": "#EBF0F8"
             },
             "line": {
              "color": "white"
             }
            },
            "header": {
             "fill": {
              "color": "#C8D4E3"
             },
             "line": {
              "color": "white"
             }
            },
            "type": "table"
           }
          ]
         },
         "layout": {
          "annotationdefaults": {
           "arrowcolor": "#2a3f5f",
           "arrowhead": 0,
           "arrowwidth": 1
          },
          "autotypenumbers": "strict",
          "coloraxis": {
           "colorbar": {
            "outlinewidth": 0,
            "ticks": ""
           }
          },
          "colorscale": {
           "diverging": [
            [
             0,
             "#8e0152"
            ],
            [
             0.1,
             "#c51b7d"
            ],
            [
             0.2,
             "#de77ae"
            ],
            [
             0.3,
             "#f1b6da"
            ],
            [
             0.4,
             "#fde0ef"
            ],
            [
             0.5,
             "#f7f7f7"
            ],
            [
             0.6,
             "#e6f5d0"
            ],
            [
             0.7,
             "#b8e186"
            ],
            [
             0.8,
             "#7fbc41"
            ],
            [
             0.9,
             "#4d9221"
            ],
            [
             1,
             "#276419"
            ]
           ],
           "sequential": [
            [
             0,
             "#0d0887"
            ],
            [
             0.1111111111111111,
             "#46039f"
            ],
            [
             0.2222222222222222,
             "#7201a8"
            ],
            [
             0.3333333333333333,
             "#9c179e"
            ],
            [
             0.4444444444444444,
             "#bd3786"
            ],
            [
             0.5555555555555556,
             "#d8576b"
            ],
            [
             0.6666666666666666,
             "#ed7953"
            ],
            [
             0.7777777777777778,
             "#fb9f3a"
            ],
            [
             0.8888888888888888,
             "#fdca26"
            ],
            [
             1,
             "#f0f921"
            ]
           ],
           "sequentialminus": [
            [
             0,
             "#0d0887"
            ],
            [
             0.1111111111111111,
             "#46039f"
            ],
            [
             0.2222222222222222,
             "#7201a8"
            ],
            [
             0.3333333333333333,
             "#9c179e"
            ],
            [
             0.4444444444444444,
             "#bd3786"
            ],
            [
             0.5555555555555556,
             "#d8576b"
            ],
            [
             0.6666666666666666,
             "#ed7953"
            ],
            [
             0.7777777777777778,
             "#fb9f3a"
            ],
            [
             0.8888888888888888,
             "#fdca26"
            ],
            [
             1,
             "#f0f921"
            ]
           ]
          },
          "colorway": [
           "#636efa",
           "#EF553B",
           "#00cc96",
           "#ab63fa",
           "#FFA15A",
           "#19d3f3",
           "#FF6692",
           "#B6E880",
           "#FF97FF",
           "#FECB52"
          ],
          "font": {
           "color": "#2a3f5f"
          },
          "geo": {
           "bgcolor": "white",
           "lakecolor": "white",
           "landcolor": "#E5ECF6",
           "showlakes": true,
           "showland": true,
           "subunitcolor": "white"
          },
          "hoverlabel": {
           "align": "left"
          },
          "hovermode": "closest",
          "mapbox": {
           "style": "light"
          },
          "paper_bgcolor": "white",
          "plot_bgcolor": "#E5ECF6",
          "polar": {
           "angularaxis": {
            "gridcolor": "white",
            "linecolor": "white",
            "ticks": ""
           },
           "bgcolor": "#E5ECF6",
           "radialaxis": {
            "gridcolor": "white",
            "linecolor": "white",
            "ticks": ""
           }
          },
          "scene": {
           "xaxis": {
            "backgroundcolor": "#E5ECF6",
            "gridcolor": "white",
            "gridwidth": 2,
            "linecolor": "white",
            "showbackground": true,
            "ticks": "",
            "zerolinecolor": "white"
           },
           "yaxis": {
            "backgroundcolor": "#E5ECF6",
            "gridcolor": "white",
            "gridwidth": 2,
            "linecolor": "white",
            "showbackground": true,
            "ticks": "",
            "zerolinecolor": "white"
           },
           "zaxis": {
            "backgroundcolor": "#E5ECF6",
            "gridcolor": "white",
            "gridwidth": 2,
            "linecolor": "white",
            "showbackground": true,
            "ticks": "",
            "zerolinecolor": "white"
           }
          },
          "shapedefaults": {
           "line": {
            "color": "#2a3f5f"
           }
          },
          "ternary": {
           "aaxis": {
            "gridcolor": "white",
            "linecolor": "white",
            "ticks": ""
           },
           "baxis": {
            "gridcolor": "white",
            "linecolor": "white",
            "ticks": ""
           },
           "bgcolor": "#E5ECF6",
           "caxis": {
            "gridcolor": "white",
            "linecolor": "white",
            "ticks": ""
           }
          },
          "title": {
           "x": 0.05
          },
          "xaxis": {
           "automargin": true,
           "gridcolor": "white",
           "linecolor": "white",
           "ticks": "",
           "title": {
            "standoff": 15
           },
           "zerolinecolor": "white",
           "zerolinewidth": 2
          },
          "yaxis": {
           "automargin": true,
           "gridcolor": "white",
           "linecolor": "white",
           "ticks": "",
           "title": {
            "standoff": 15
           },
           "zerolinecolor": "white",
           "zerolinewidth": 2
          }
         }
        },
        "title": {
         "text": "Variação R$ por Resultado"
        },
        "xaxis": {
         "anchor": "y",
         "domain": [
          0,
          1
         ],
         "title": {
          "text": "Resultado"
         }
        },
        "yaxis": {
         "anchor": "x",
         "domain": [
          0,
          1
         ],
         "tickformat": ",.2f",
         "tickprefix": "R$ ",
         "ticksuffix": ",00",
         "title": {
          "text": "Variacao_RS"
         }
        }
       }
      }
     },
     "metadata": {},
     "output_type": "display_data"
    }
   ],
   "source": [
    "fig = px.bar(df_analise_saldo, x='Resultado', y='Variacao_RS', text='Variacao_RS', title='Variação R$ por Resultado', height=600)\n",
    "fig.update_yaxes(tickprefix=\"R$ \", ticksuffix=\",00\", tickformat=\",.2f\")\n",
    "fig.update_traces(texttemplate=\"R$ %{text:,.2f}\", textposition=\"outside\")\n",
    "fig.show()"
   ]
  },
  {
   "cell_type": "code",
   "execution_count": 71,
   "metadata": {},
   "outputs": [
    {
     "data": {
      "application/vnd.plotly.v1+json": {
       "config": {
        "plotlyServerURL": "https://plot.ly"
       },
       "data": [
        {
         "domain": {
          "x": [
           0,
           1
          ],
          "y": [
           0,
           1
          ]
         },
         "hovertemplate": "Segmento=%{label}<br>Variacao_RS=%{value}<extra></extra>",
         "labels": [
          "Alimentos",
          "Aviação",
          "Bancos",
          "Construção Civil",
          "Distribuição",
          "Educação",
          "Energia",
          "Energia/Biocombustíveis",
          "Energia/Infraestrutura",
          "Energia/Petróleo",
          "Investimentos",
          "Logística",
          "Materiais de Construção",
          "Meios de Pagamento",
          "Mineração",
          "Papel e Celulose",
          "Química/Petroquímica",
          "Saúde",
          "Saúde/Varejo",
          "Shopping Centers",
          "Siderurgia",
          "Tecnologia",
          "Telecomunicações",
          "Transporte/Logística",
          "Varejo",
          "Varejo/Alimentos",
          "Varejo/Calçados"
         ],
         "legendgroup": "",
         "name": "",
         "showlegend": true,
         "type": "pie",
         "values": [
          407833683.0924499,
          65452205.552800186,
          3740512018.7834516,
          37525872.37728388,
          388705223.95601785,
          72295838.98616095,
          682315640.0120441,
          11571106.417007603,
          127229653.18222687,
          6093288832.2628355,
          416092244.423763,
          229771333.63468358,
          18068446.60998324,
          43657683.37554085,
          4940442965.550434,
          722946282.7090385,
          69054317.63603853,
          453917907.01324,
          202352473.73982856,
          117732680.0784251,
          489935930.9283229,
          15598886.650556229,
          292938114.42357796,
          4131341.15789051,
          28493619.274394516,
          6340916.223143544,
          41021792.09077153
         ]
        }
       ],
       "layout": {
        "height": 600,
        "legend": {
         "tracegroupgap": 0
        },
        "template": {
         "data": {
          "bar": [
           {
            "error_x": {
             "color": "#2a3f5f"
            },
            "error_y": {
             "color": "#2a3f5f"
            },
            "marker": {
             "line": {
              "color": "#E5ECF6",
              "width": 0.5
             },
             "pattern": {
              "fillmode": "overlay",
              "size": 10,
              "solidity": 0.2
             }
            },
            "type": "bar"
           }
          ],
          "barpolar": [
           {
            "marker": {
             "line": {
              "color": "#E5ECF6",
              "width": 0.5
             },
             "pattern": {
              "fillmode": "overlay",
              "size": 10,
              "solidity": 0.2
             }
            },
            "type": "barpolar"
           }
          ],
          "carpet": [
           {
            "aaxis": {
             "endlinecolor": "#2a3f5f",
             "gridcolor": "white",
             "linecolor": "white",
             "minorgridcolor": "white",
             "startlinecolor": "#2a3f5f"
            },
            "baxis": {
             "endlinecolor": "#2a3f5f",
             "gridcolor": "white",
             "linecolor": "white",
             "minorgridcolor": "white",
             "startlinecolor": "#2a3f5f"
            },
            "type": "carpet"
           }
          ],
          "choropleth": [
           {
            "colorbar": {
             "outlinewidth": 0,
             "ticks": ""
            },
            "type": "choropleth"
           }
          ],
          "contour": [
           {
            "colorbar": {
             "outlinewidth": 0,
             "ticks": ""
            },
            "colorscale": [
             [
              0,
              "#0d0887"
             ],
             [
              0.1111111111111111,
              "#46039f"
             ],
             [
              0.2222222222222222,
              "#7201a8"
             ],
             [
              0.3333333333333333,
              "#9c179e"
             ],
             [
              0.4444444444444444,
              "#bd3786"
             ],
             [
              0.5555555555555556,
              "#d8576b"
             ],
             [
              0.6666666666666666,
              "#ed7953"
             ],
             [
              0.7777777777777778,
              "#fb9f3a"
             ],
             [
              0.8888888888888888,
              "#fdca26"
             ],
             [
              1,
              "#f0f921"
             ]
            ],
            "type": "contour"
           }
          ],
          "contourcarpet": [
           {
            "colorbar": {
             "outlinewidth": 0,
             "ticks": ""
            },
            "type": "contourcarpet"
           }
          ],
          "heatmap": [
           {
            "colorbar": {
             "outlinewidth": 0,
             "ticks": ""
            },
            "colorscale": [
             [
              0,
              "#0d0887"
             ],
             [
              0.1111111111111111,
              "#46039f"
             ],
             [
              0.2222222222222222,
              "#7201a8"
             ],
             [
              0.3333333333333333,
              "#9c179e"
             ],
             [
              0.4444444444444444,
              "#bd3786"
             ],
             [
              0.5555555555555556,
              "#d8576b"
             ],
             [
              0.6666666666666666,
              "#ed7953"
             ],
             [
              0.7777777777777778,
              "#fb9f3a"
             ],
             [
              0.8888888888888888,
              "#fdca26"
             ],
             [
              1,
              "#f0f921"
             ]
            ],
            "type": "heatmap"
           }
          ],
          "heatmapgl": [
           {
            "colorbar": {
             "outlinewidth": 0,
             "ticks": ""
            },
            "colorscale": [
             [
              0,
              "#0d0887"
             ],
             [
              0.1111111111111111,
              "#46039f"
             ],
             [
              0.2222222222222222,
              "#7201a8"
             ],
             [
              0.3333333333333333,
              "#9c179e"
             ],
             [
              0.4444444444444444,
              "#bd3786"
             ],
             [
              0.5555555555555556,
              "#d8576b"
             ],
             [
              0.6666666666666666,
              "#ed7953"
             ],
             [
              0.7777777777777778,
              "#fb9f3a"
             ],
             [
              0.8888888888888888,
              "#fdca26"
             ],
             [
              1,
              "#f0f921"
             ]
            ],
            "type": "heatmapgl"
           }
          ],
          "histogram": [
           {
            "marker": {
             "pattern": {
              "fillmode": "overlay",
              "size": 10,
              "solidity": 0.2
             }
            },
            "type": "histogram"
           }
          ],
          "histogram2d": [
           {
            "colorbar": {
             "outlinewidth": 0,
             "ticks": ""
            },
            "colorscale": [
             [
              0,
              "#0d0887"
             ],
             [
              0.1111111111111111,
              "#46039f"
             ],
             [
              0.2222222222222222,
              "#7201a8"
             ],
             [
              0.3333333333333333,
              "#9c179e"
             ],
             [
              0.4444444444444444,
              "#bd3786"
             ],
             [
              0.5555555555555556,
              "#d8576b"
             ],
             [
              0.6666666666666666,
              "#ed7953"
             ],
             [
              0.7777777777777778,
              "#fb9f3a"
             ],
             [
              0.8888888888888888,
              "#fdca26"
             ],
             [
              1,
              "#f0f921"
             ]
            ],
            "type": "histogram2d"
           }
          ],
          "histogram2dcontour": [
           {
            "colorbar": {
             "outlinewidth": 0,
             "ticks": ""
            },
            "colorscale": [
             [
              0,
              "#0d0887"
             ],
             [
              0.1111111111111111,
              "#46039f"
             ],
             [
              0.2222222222222222,
              "#7201a8"
             ],
             [
              0.3333333333333333,
              "#9c179e"
             ],
             [
              0.4444444444444444,
              "#bd3786"
             ],
             [
              0.5555555555555556,
              "#d8576b"
             ],
             [
              0.6666666666666666,
              "#ed7953"
             ],
             [
              0.7777777777777778,
              "#fb9f3a"
             ],
             [
              0.8888888888888888,
              "#fdca26"
             ],
             [
              1,
              "#f0f921"
             ]
            ],
            "type": "histogram2dcontour"
           }
          ],
          "mesh3d": [
           {
            "colorbar": {
             "outlinewidth": 0,
             "ticks": ""
            },
            "type": "mesh3d"
           }
          ],
          "parcoords": [
           {
            "line": {
             "colorbar": {
              "outlinewidth": 0,
              "ticks": ""
             }
            },
            "type": "parcoords"
           }
          ],
          "pie": [
           {
            "automargin": true,
            "type": "pie"
           }
          ],
          "scatter": [
           {
            "fillpattern": {
             "fillmode": "overlay",
             "size": 10,
             "solidity": 0.2
            },
            "type": "scatter"
           }
          ],
          "scatter3d": [
           {
            "line": {
             "colorbar": {
              "outlinewidth": 0,
              "ticks": ""
             }
            },
            "marker": {
             "colorbar": {
              "outlinewidth": 0,
              "ticks": ""
             }
            },
            "type": "scatter3d"
           }
          ],
          "scattercarpet": [
           {
            "marker": {
             "colorbar": {
              "outlinewidth": 0,
              "ticks": ""
             }
            },
            "type": "scattercarpet"
           }
          ],
          "scattergeo": [
           {
            "marker": {
             "colorbar": {
              "outlinewidth": 0,
              "ticks": ""
             }
            },
            "type": "scattergeo"
           }
          ],
          "scattergl": [
           {
            "marker": {
             "colorbar": {
              "outlinewidth": 0,
              "ticks": ""
             }
            },
            "type": "scattergl"
           }
          ],
          "scattermapbox": [
           {
            "marker": {
             "colorbar": {
              "outlinewidth": 0,
              "ticks": ""
             }
            },
            "type": "scattermapbox"
           }
          ],
          "scatterpolar": [
           {
            "marker": {
             "colorbar": {
              "outlinewidth": 0,
              "ticks": ""
             }
            },
            "type": "scatterpolar"
           }
          ],
          "scatterpolargl": [
           {
            "marker": {
             "colorbar": {
              "outlinewidth": 0,
              "ticks": ""
             }
            },
            "type": "scatterpolargl"
           }
          ],
          "scatterternary": [
           {
            "marker": {
             "colorbar": {
              "outlinewidth": 0,
              "ticks": ""
             }
            },
            "type": "scatterternary"
           }
          ],
          "surface": [
           {
            "colorbar": {
             "outlinewidth": 0,
             "ticks": ""
            },
            "colorscale": [
             [
              0,
              "#0d0887"
             ],
             [
              0.1111111111111111,
              "#46039f"
             ],
             [
              0.2222222222222222,
              "#7201a8"
             ],
             [
              0.3333333333333333,
              "#9c179e"
             ],
             [
              0.4444444444444444,
              "#bd3786"
             ],
             [
              0.5555555555555556,
              "#d8576b"
             ],
             [
              0.6666666666666666,
              "#ed7953"
             ],
             [
              0.7777777777777778,
              "#fb9f3a"
             ],
             [
              0.8888888888888888,
              "#fdca26"
             ],
             [
              1,
              "#f0f921"
             ]
            ],
            "type": "surface"
           }
          ],
          "table": [
           {
            "cells": {
             "fill": {
              "color": "#EBF0F8"
             },
             "line": {
              "color": "white"
             }
            },
            "header": {
             "fill": {
              "color": "#C8D4E3"
             },
             "line": {
              "color": "white"
             }
            },
            "type": "table"
           }
          ]
         },
         "layout": {
          "annotationdefaults": {
           "arrowcolor": "#2a3f5f",
           "arrowhead": 0,
           "arrowwidth": 1
          },
          "autotypenumbers": "strict",
          "coloraxis": {
           "colorbar": {
            "outlinewidth": 0,
            "ticks": ""
           }
          },
          "colorscale": {
           "diverging": [
            [
             0,
             "#8e0152"
            ],
            [
             0.1,
             "#c51b7d"
            ],
            [
             0.2,
             "#de77ae"
            ],
            [
             0.3,
             "#f1b6da"
            ],
            [
             0.4,
             "#fde0ef"
            ],
            [
             0.5,
             "#f7f7f7"
            ],
            [
             0.6,
             "#e6f5d0"
            ],
            [
             0.7,
             "#b8e186"
            ],
            [
             0.8,
             "#7fbc41"
            ],
            [
             0.9,
             "#4d9221"
            ],
            [
             1,
             "#276419"
            ]
           ],
           "sequential": [
            [
             0,
             "#0d0887"
            ],
            [
             0.1111111111111111,
             "#46039f"
            ],
            [
             0.2222222222222222,
             "#7201a8"
            ],
            [
             0.3333333333333333,
             "#9c179e"
            ],
            [
             0.4444444444444444,
             "#bd3786"
            ],
            [
             0.5555555555555556,
             "#d8576b"
            ],
            [
             0.6666666666666666,
             "#ed7953"
            ],
            [
             0.7777777777777778,
             "#fb9f3a"
            ],
            [
             0.8888888888888888,
             "#fdca26"
            ],
            [
             1,
             "#f0f921"
            ]
           ],
           "sequentialminus": [
            [
             0,
             "#0d0887"
            ],
            [
             0.1111111111111111,
             "#46039f"
            ],
            [
             0.2222222222222222,
             "#7201a8"
            ],
            [
             0.3333333333333333,
             "#9c179e"
            ],
            [
             0.4444444444444444,
             "#bd3786"
            ],
            [
             0.5555555555555556,
             "#d8576b"
            ],
            [
             0.6666666666666666,
             "#ed7953"
            ],
            [
             0.7777777777777778,
             "#fb9f3a"
            ],
            [
             0.8888888888888888,
             "#fdca26"
            ],
            [
             1,
             "#f0f921"
            ]
           ]
          },
          "colorway": [
           "#636efa",
           "#EF553B",
           "#00cc96",
           "#ab63fa",
           "#FFA15A",
           "#19d3f3",
           "#FF6692",
           "#B6E880",
           "#FF97FF",
           "#FECB52"
          ],
          "font": {
           "color": "#2a3f5f"
          },
          "geo": {
           "bgcolor": "white",
           "lakecolor": "white",
           "landcolor": "#E5ECF6",
           "showlakes": true,
           "showland": true,
           "subunitcolor": "white"
          },
          "hoverlabel": {
           "align": "left"
          },
          "hovermode": "closest",
          "mapbox": {
           "style": "light"
          },
          "paper_bgcolor": "white",
          "plot_bgcolor": "#E5ECF6",
          "polar": {
           "angularaxis": {
            "gridcolor": "white",
            "linecolor": "white",
            "ticks": ""
           },
           "bgcolor": "#E5ECF6",
           "radialaxis": {
            "gridcolor": "white",
            "linecolor": "white",
            "ticks": ""
           }
          },
          "scene": {
           "xaxis": {
            "backgroundcolor": "#E5ECF6",
            "gridcolor": "white",
            "gridwidth": 2,
            "linecolor": "white",
            "showbackground": true,
            "ticks": "",
            "zerolinecolor": "white"
           },
           "yaxis": {
            "backgroundcolor": "#E5ECF6",
            "gridcolor": "white",
            "gridwidth": 2,
            "linecolor": "white",
            "showbackground": true,
            "ticks": "",
            "zerolinecolor": "white"
           },
           "zaxis": {
            "backgroundcolor": "#E5ECF6",
            "gridcolor": "white",
            "gridwidth": 2,
            "linecolor": "white",
            "showbackground": true,
            "ticks": "",
            "zerolinecolor": "white"
           }
          },
          "shapedefaults": {
           "line": {
            "color": "#2a3f5f"
           }
          },
          "ternary": {
           "aaxis": {
            "gridcolor": "white",
            "linecolor": "white",
            "ticks": ""
           },
           "baxis": {
            "gridcolor": "white",
            "linecolor": "white",
            "ticks": ""
           },
           "bgcolor": "#E5ECF6",
           "caxis": {
            "gridcolor": "white",
            "linecolor": "white",
            "ticks": ""
           }
          },
          "title": {
           "x": 0.05
          },
          "xaxis": {
           "automargin": true,
           "gridcolor": "white",
           "linecolor": "white",
           "ticks": "",
           "title": {
            "standoff": 15
           },
           "zerolinecolor": "white",
           "zerolinewidth": 2
          },
          "yaxis": {
           "automargin": true,
           "gridcolor": "white",
           "linecolor": "white",
           "ticks": "",
           "title": {
            "standoff": 15
           },
           "zerolinecolor": "white",
           "zerolinewidth": 2
          }
         }
        },
        "title": {
         "text": "Variação R$ por Resultado"
        }
       }
      }
     },
     "metadata": {},
     "output_type": "display_data"
    }
   ],
   "source": [
    "fig = px.pie(df_analise_segmento, names='Segmento', values='Variacao_RS', title='Variação R$ por Resultado', height=600)\n",
    "fig.show()"
   ]
  },
  {
   "cell_type": "code",
   "execution_count": 72,
   "metadata": {},
   "outputs": [
    {
     "data": {
      "text/html": [
       "<div>\n",
       "<style scoped>\n",
       "    .dataframe tbody tr th:only-of-type {\n",
       "        vertical-align: middle;\n",
       "    }\n",
       "\n",
       "    .dataframe tbody tr th {\n",
       "        vertical-align: top;\n",
       "    }\n",
       "\n",
       "    .dataframe thead th {\n",
       "        text-align: right;\n",
       "    }\n",
       "</style>\n",
       "<table border=\"1\" class=\"dataframe\">\n",
       "  <thead>\n",
       "    <tr style=\"text-align: right;\">\n",
       "      <th></th>\n",
       "      <th>Cat_Idade</th>\n",
       "      <th>Variacao</th>\n",
       "      <th>Qtd_Empresas</th>\n",
       "    </tr>\n",
       "  </thead>\n",
       "  <tbody>\n",
       "    <tr>\n",
       "      <th>0</th>\n",
       "      <td>Entre 50 e 100</td>\n",
       "      <td>12629666845.61</td>\n",
       "      <td>37</td>\n",
       "    </tr>\n",
       "    <tr>\n",
       "      <th>1</th>\n",
       "      <td>Mais de 100</td>\n",
       "      <td>-554239676.51</td>\n",
       "      <td>8</td>\n",
       "    </tr>\n",
       "    <tr>\n",
       "      <th>2</th>\n",
       "      <td>Menos de 50</td>\n",
       "      <td>1304979879.73</td>\n",
       "      <td>36</td>\n",
       "    </tr>\n",
       "  </tbody>\n",
       "</table>\n",
       "</div>"
      ],
      "text/plain": [
       "        Cat_Idade       Variacao  Qtd_Empresas\n",
       "0  Entre 50 e 100 12629666845.61            37\n",
       "1     Mais de 100  -554239676.51             8\n",
       "2     Menos de 50  1304979879.73            36"
      ]
     },
     "execution_count": 72,
     "metadata": {},
     "output_type": "execute_result"
    }
   ],
   "source": [
    "df_analise_etaria = df_principal.groupby('Cat_Idade')['Variacao_RS'].agg(Variacao='sum', Qtd_Empresas='count').reset_index()\n",
    "df_analise_etaria"
   ]
  },
  {
   "cell_type": "code",
   "execution_count": 73,
   "metadata": {},
   "outputs": [
    {
     "data": {
      "application/vnd.plotly.v1+json": {
       "config": {
        "plotlyServerURL": "https://plot.ly"
       },
       "data": [
        {
         "alignmentgroup": "True",
         "hovertemplate": "Cat_Idade=%{x}<br>Variacao=%{text}<extra></extra>",
         "legendgroup": "",
         "marker": {
          "color": "#636efa",
          "pattern": {
           "shape": ""
          }
         },
         "name": "",
         "offsetgroup": "",
         "orientation": "v",
         "showlegend": false,
         "text": [
          12629666845.605907,
          -554239676.5050516,
          1304979879.7257054
         ],
         "textposition": "outside",
         "texttemplate": "R$ %{text:,.2f}",
         "type": "bar",
         "x": [
          "Entre 50 e 100",
          "Mais de 100",
          "Menos de 50"
         ],
         "xaxis": "x",
         "y": [
          12629666845.605907,
          -554239676.5050516,
          1304979879.7257054
         ],
         "yaxis": "y"
        }
       ],
       "layout": {
        "barmode": "relative",
        "height": 600,
        "legend": {
         "tracegroupgap": 0
        },
        "template": {
         "data": {
          "bar": [
           {
            "error_x": {
             "color": "#2a3f5f"
            },
            "error_y": {
             "color": "#2a3f5f"
            },
            "marker": {
             "line": {
              "color": "#E5ECF6",
              "width": 0.5
             },
             "pattern": {
              "fillmode": "overlay",
              "size": 10,
              "solidity": 0.2
             }
            },
            "type": "bar"
           }
          ],
          "barpolar": [
           {
            "marker": {
             "line": {
              "color": "#E5ECF6",
              "width": 0.5
             },
             "pattern": {
              "fillmode": "overlay",
              "size": 10,
              "solidity": 0.2
             }
            },
            "type": "barpolar"
           }
          ],
          "carpet": [
           {
            "aaxis": {
             "endlinecolor": "#2a3f5f",
             "gridcolor": "white",
             "linecolor": "white",
             "minorgridcolor": "white",
             "startlinecolor": "#2a3f5f"
            },
            "baxis": {
             "endlinecolor": "#2a3f5f",
             "gridcolor": "white",
             "linecolor": "white",
             "minorgridcolor": "white",
             "startlinecolor": "#2a3f5f"
            },
            "type": "carpet"
           }
          ],
          "choropleth": [
           {
            "colorbar": {
             "outlinewidth": 0,
             "ticks": ""
            },
            "type": "choropleth"
           }
          ],
          "contour": [
           {
            "colorbar": {
             "outlinewidth": 0,
             "ticks": ""
            },
            "colorscale": [
             [
              0,
              "#0d0887"
             ],
             [
              0.1111111111111111,
              "#46039f"
             ],
             [
              0.2222222222222222,
              "#7201a8"
             ],
             [
              0.3333333333333333,
              "#9c179e"
             ],
             [
              0.4444444444444444,
              "#bd3786"
             ],
             [
              0.5555555555555556,
              "#d8576b"
             ],
             [
              0.6666666666666666,
              "#ed7953"
             ],
             [
              0.7777777777777778,
              "#fb9f3a"
             ],
             [
              0.8888888888888888,
              "#fdca26"
             ],
             [
              1,
              "#f0f921"
             ]
            ],
            "type": "contour"
           }
          ],
          "contourcarpet": [
           {
            "colorbar": {
             "outlinewidth": 0,
             "ticks": ""
            },
            "type": "contourcarpet"
           }
          ],
          "heatmap": [
           {
            "colorbar": {
             "outlinewidth": 0,
             "ticks": ""
            },
            "colorscale": [
             [
              0,
              "#0d0887"
             ],
             [
              0.1111111111111111,
              "#46039f"
             ],
             [
              0.2222222222222222,
              "#7201a8"
             ],
             [
              0.3333333333333333,
              "#9c179e"
             ],
             [
              0.4444444444444444,
              "#bd3786"
             ],
             [
              0.5555555555555556,
              "#d8576b"
             ],
             [
              0.6666666666666666,
              "#ed7953"
             ],
             [
              0.7777777777777778,
              "#fb9f3a"
             ],
             [
              0.8888888888888888,
              "#fdca26"
             ],
             [
              1,
              "#f0f921"
             ]
            ],
            "type": "heatmap"
           }
          ],
          "heatmapgl": [
           {
            "colorbar": {
             "outlinewidth": 0,
             "ticks": ""
            },
            "colorscale": [
             [
              0,
              "#0d0887"
             ],
             [
              0.1111111111111111,
              "#46039f"
             ],
             [
              0.2222222222222222,
              "#7201a8"
             ],
             [
              0.3333333333333333,
              "#9c179e"
             ],
             [
              0.4444444444444444,
              "#bd3786"
             ],
             [
              0.5555555555555556,
              "#d8576b"
             ],
             [
              0.6666666666666666,
              "#ed7953"
             ],
             [
              0.7777777777777778,
              "#fb9f3a"
             ],
             [
              0.8888888888888888,
              "#fdca26"
             ],
             [
              1,
              "#f0f921"
             ]
            ],
            "type": "heatmapgl"
           }
          ],
          "histogram": [
           {
            "marker": {
             "pattern": {
              "fillmode": "overlay",
              "size": 10,
              "solidity": 0.2
             }
            },
            "type": "histogram"
           }
          ],
          "histogram2d": [
           {
            "colorbar": {
             "outlinewidth": 0,
             "ticks": ""
            },
            "colorscale": [
             [
              0,
              "#0d0887"
             ],
             [
              0.1111111111111111,
              "#46039f"
             ],
             [
              0.2222222222222222,
              "#7201a8"
             ],
             [
              0.3333333333333333,
              "#9c179e"
             ],
             [
              0.4444444444444444,
              "#bd3786"
             ],
             [
              0.5555555555555556,
              "#d8576b"
             ],
             [
              0.6666666666666666,
              "#ed7953"
             ],
             [
              0.7777777777777778,
              "#fb9f3a"
             ],
             [
              0.8888888888888888,
              "#fdca26"
             ],
             [
              1,
              "#f0f921"
             ]
            ],
            "type": "histogram2d"
           }
          ],
          "histogram2dcontour": [
           {
            "colorbar": {
             "outlinewidth": 0,
             "ticks": ""
            },
            "colorscale": [
             [
              0,
              "#0d0887"
             ],
             [
              0.1111111111111111,
              "#46039f"
             ],
             [
              0.2222222222222222,
              "#7201a8"
             ],
             [
              0.3333333333333333,
              "#9c179e"
             ],
             [
              0.4444444444444444,
              "#bd3786"
             ],
             [
              0.5555555555555556,
              "#d8576b"
             ],
             [
              0.6666666666666666,
              "#ed7953"
             ],
             [
              0.7777777777777778,
              "#fb9f3a"
             ],
             [
              0.8888888888888888,
              "#fdca26"
             ],
             [
              1,
              "#f0f921"
             ]
            ],
            "type": "histogram2dcontour"
           }
          ],
          "mesh3d": [
           {
            "colorbar": {
             "outlinewidth": 0,
             "ticks": ""
            },
            "type": "mesh3d"
           }
          ],
          "parcoords": [
           {
            "line": {
             "colorbar": {
              "outlinewidth": 0,
              "ticks": ""
             }
            },
            "type": "parcoords"
           }
          ],
          "pie": [
           {
            "automargin": true,
            "type": "pie"
           }
          ],
          "scatter": [
           {
            "fillpattern": {
             "fillmode": "overlay",
             "size": 10,
             "solidity": 0.2
            },
            "type": "scatter"
           }
          ],
          "scatter3d": [
           {
            "line": {
             "colorbar": {
              "outlinewidth": 0,
              "ticks": ""
             }
            },
            "marker": {
             "colorbar": {
              "outlinewidth": 0,
              "ticks": ""
             }
            },
            "type": "scatter3d"
           }
          ],
          "scattercarpet": [
           {
            "marker": {
             "colorbar": {
              "outlinewidth": 0,
              "ticks": ""
             }
            },
            "type": "scattercarpet"
           }
          ],
          "scattergeo": [
           {
            "marker": {
             "colorbar": {
              "outlinewidth": 0,
              "ticks": ""
             }
            },
            "type": "scattergeo"
           }
          ],
          "scattergl": [
           {
            "marker": {
             "colorbar": {
              "outlinewidth": 0,
              "ticks": ""
             }
            },
            "type": "scattergl"
           }
          ],
          "scattermapbox": [
           {
            "marker": {
             "colorbar": {
              "outlinewidth": 0,
              "ticks": ""
             }
            },
            "type": "scattermapbox"
           }
          ],
          "scatterpolar": [
           {
            "marker": {
             "colorbar": {
              "outlinewidth": 0,
              "ticks": ""
             }
            },
            "type": "scatterpolar"
           }
          ],
          "scatterpolargl": [
           {
            "marker": {
             "colorbar": {
              "outlinewidth": 0,
              "ticks": ""
             }
            },
            "type": "scatterpolargl"
           }
          ],
          "scatterternary": [
           {
            "marker": {
             "colorbar": {
              "outlinewidth": 0,
              "ticks": ""
             }
            },
            "type": "scatterternary"
           }
          ],
          "surface": [
           {
            "colorbar": {
             "outlinewidth": 0,
             "ticks": ""
            },
            "colorscale": [
             [
              0,
              "#0d0887"
             ],
             [
              0.1111111111111111,
              "#46039f"
             ],
             [
              0.2222222222222222,
              "#7201a8"
             ],
             [
              0.3333333333333333,
              "#9c179e"
             ],
             [
              0.4444444444444444,
              "#bd3786"
             ],
             [
              0.5555555555555556,
              "#d8576b"
             ],
             [
              0.6666666666666666,
              "#ed7953"
             ],
             [
              0.7777777777777778,
              "#fb9f3a"
             ],
             [
              0.8888888888888888,
              "#fdca26"
             ],
             [
              1,
              "#f0f921"
             ]
            ],
            "type": "surface"
           }
          ],
          "table": [
           {
            "cells": {
             "fill": {
              "color": "#EBF0F8"
             },
             "line": {
              "color": "white"
             }
            },
            "header": {
             "fill": {
              "color": "#C8D4E3"
             },
             "line": {
              "color": "white"
             }
            },
            "type": "table"
           }
          ]
         },
         "layout": {
          "annotationdefaults": {
           "arrowcolor": "#2a3f5f",
           "arrowhead": 0,
           "arrowwidth": 1
          },
          "autotypenumbers": "strict",
          "coloraxis": {
           "colorbar": {
            "outlinewidth": 0,
            "ticks": ""
           }
          },
          "colorscale": {
           "diverging": [
            [
             0,
             "#8e0152"
            ],
            [
             0.1,
             "#c51b7d"
            ],
            [
             0.2,
             "#de77ae"
            ],
            [
             0.3,
             "#f1b6da"
            ],
            [
             0.4,
             "#fde0ef"
            ],
            [
             0.5,
             "#f7f7f7"
            ],
            [
             0.6,
             "#e6f5d0"
            ],
            [
             0.7,
             "#b8e186"
            ],
            [
             0.8,
             "#7fbc41"
            ],
            [
             0.9,
             "#4d9221"
            ],
            [
             1,
             "#276419"
            ]
           ],
           "sequential": [
            [
             0,
             "#0d0887"
            ],
            [
             0.1111111111111111,
             "#46039f"
            ],
            [
             0.2222222222222222,
             "#7201a8"
            ],
            [
             0.3333333333333333,
             "#9c179e"
            ],
            [
             0.4444444444444444,
             "#bd3786"
            ],
            [
             0.5555555555555556,
             "#d8576b"
            ],
            [
             0.6666666666666666,
             "#ed7953"
            ],
            [
             0.7777777777777778,
             "#fb9f3a"
            ],
            [
             0.8888888888888888,
             "#fdca26"
            ],
            [
             1,
             "#f0f921"
            ]
           ],
           "sequentialminus": [
            [
             0,
             "#0d0887"
            ],
            [
             0.1111111111111111,
             "#46039f"
            ],
            [
             0.2222222222222222,
             "#7201a8"
            ],
            [
             0.3333333333333333,
             "#9c179e"
            ],
            [
             0.4444444444444444,
             "#bd3786"
            ],
            [
             0.5555555555555556,
             "#d8576b"
            ],
            [
             0.6666666666666666,
             "#ed7953"
            ],
            [
             0.7777777777777778,
             "#fb9f3a"
            ],
            [
             0.8888888888888888,
             "#fdca26"
            ],
            [
             1,
             "#f0f921"
            ]
           ]
          },
          "colorway": [
           "#636efa",
           "#EF553B",
           "#00cc96",
           "#ab63fa",
           "#FFA15A",
           "#19d3f3",
           "#FF6692",
           "#B6E880",
           "#FF97FF",
           "#FECB52"
          ],
          "font": {
           "color": "#2a3f5f"
          },
          "geo": {
           "bgcolor": "white",
           "lakecolor": "white",
           "landcolor": "#E5ECF6",
           "showlakes": true,
           "showland": true,
           "subunitcolor": "white"
          },
          "hoverlabel": {
           "align": "left"
          },
          "hovermode": "closest",
          "mapbox": {
           "style": "light"
          },
          "paper_bgcolor": "white",
          "plot_bgcolor": "#E5ECF6",
          "polar": {
           "angularaxis": {
            "gridcolor": "white",
            "linecolor": "white",
            "ticks": ""
           },
           "bgcolor": "#E5ECF6",
           "radialaxis": {
            "gridcolor": "white",
            "linecolor": "white",
            "ticks": ""
           }
          },
          "scene": {
           "xaxis": {
            "backgroundcolor": "#E5ECF6",
            "gridcolor": "white",
            "gridwidth": 2,
            "linecolor": "white",
            "showbackground": true,
            "ticks": "",
            "zerolinecolor": "white"
           },
           "yaxis": {
            "backgroundcolor": "#E5ECF6",
            "gridcolor": "white",
            "gridwidth": 2,
            "linecolor": "white",
            "showbackground": true,
            "ticks": "",
            "zerolinecolor": "white"
           },
           "zaxis": {
            "backgroundcolor": "#E5ECF6",
            "gridcolor": "white",
            "gridwidth": 2,
            "linecolor": "white",
            "showbackground": true,
            "ticks": "",
            "zerolinecolor": "white"
           }
          },
          "shapedefaults": {
           "line": {
            "color": "#2a3f5f"
           }
          },
          "ternary": {
           "aaxis": {
            "gridcolor": "white",
            "linecolor": "white",
            "ticks": ""
           },
           "baxis": {
            "gridcolor": "white",
            "linecolor": "white",
            "ticks": ""
           },
           "bgcolor": "#E5ECF6",
           "caxis": {
            "gridcolor": "white",
            "linecolor": "white",
            "ticks": ""
           }
          },
          "title": {
           "x": 0.05
          },
          "xaxis": {
           "automargin": true,
           "gridcolor": "white",
           "linecolor": "white",
           "ticks": "",
           "title": {
            "standoff": 15
           },
           "zerolinecolor": "white",
           "zerolinewidth": 2
          },
          "yaxis": {
           "automargin": true,
           "gridcolor": "white",
           "linecolor": "white",
           "ticks": "",
           "title": {
            "standoff": 15
           },
           "zerolinecolor": "white",
           "zerolinewidth": 2
          }
         }
        },
        "title": {
         "text": "Variação R$ por Idade"
        },
        "xaxis": {
         "anchor": "y",
         "domain": [
          0,
          1
         ],
         "title": {
          "text": "Cat_Idade"
         }
        },
        "yaxis": {
         "anchor": "x",
         "domain": [
          0,
          1
         ],
         "tickformat": ",.2f",
         "tickprefix": "R$ ",
         "ticksuffix": ",00",
         "title": {
          "text": "Variacao"
         }
        }
       }
      }
     },
     "metadata": {},
     "output_type": "display_data"
    }
   ],
   "source": [
    "fig = px.bar(df_analise_etaria, x='Cat_Idade', y='Variacao', text='Variacao', title='Variação R$ por Idade', height=600)\n",
    "fig.update_yaxes(tickprefix=\"R$ \", ticksuffix=\",00\", tickformat=\",.2f\")\n",
    "fig.update_traces(texttemplate=\"R$ %{text:,.2f}\", textposition=\"outside\")\n",
    "fig.show()"
   ]
  },
  {
   "cell_type": "code",
   "execution_count": 74,
   "metadata": {},
   "outputs": [
    {
     "data": {
      "application/vnd.plotly.v1+json": {
       "config": {
        "plotlyServerURL": "https://plot.ly"
       },
       "data": [
        {
         "domain": {
          "x": [
           0,
           1
          ],
          "y": [
           0,
           1
          ]
         },
         "hovertemplate": "Cat_Idade=%{label}<br>Qtd_Empresas=%{value}<extra></extra>",
         "labels": [
          "Entre 50 e 100",
          "Mais de 100",
          "Menos de 50"
         ],
         "legendgroup": "",
         "name": "",
         "showlegend": true,
         "type": "pie",
         "values": [
          37,
          8,
          36
         ]
        }
       ],
       "layout": {
        "height": 600,
        "legend": {
         "tracegroupgap": 0
        },
        "template": {
         "data": {
          "bar": [
           {
            "error_x": {
             "color": "#2a3f5f"
            },
            "error_y": {
             "color": "#2a3f5f"
            },
            "marker": {
             "line": {
              "color": "#E5ECF6",
              "width": 0.5
             },
             "pattern": {
              "fillmode": "overlay",
              "size": 10,
              "solidity": 0.2
             }
            },
            "type": "bar"
           }
          ],
          "barpolar": [
           {
            "marker": {
             "line": {
              "color": "#E5ECF6",
              "width": 0.5
             },
             "pattern": {
              "fillmode": "overlay",
              "size": 10,
              "solidity": 0.2
             }
            },
            "type": "barpolar"
           }
          ],
          "carpet": [
           {
            "aaxis": {
             "endlinecolor": "#2a3f5f",
             "gridcolor": "white",
             "linecolor": "white",
             "minorgridcolor": "white",
             "startlinecolor": "#2a3f5f"
            },
            "baxis": {
             "endlinecolor": "#2a3f5f",
             "gridcolor": "white",
             "linecolor": "white",
             "minorgridcolor": "white",
             "startlinecolor": "#2a3f5f"
            },
            "type": "carpet"
           }
          ],
          "choropleth": [
           {
            "colorbar": {
             "outlinewidth": 0,
             "ticks": ""
            },
            "type": "choropleth"
           }
          ],
          "contour": [
           {
            "colorbar": {
             "outlinewidth": 0,
             "ticks": ""
            },
            "colorscale": [
             [
              0,
              "#0d0887"
             ],
             [
              0.1111111111111111,
              "#46039f"
             ],
             [
              0.2222222222222222,
              "#7201a8"
             ],
             [
              0.3333333333333333,
              "#9c179e"
             ],
             [
              0.4444444444444444,
              "#bd3786"
             ],
             [
              0.5555555555555556,
              "#d8576b"
             ],
             [
              0.6666666666666666,
              "#ed7953"
             ],
             [
              0.7777777777777778,
              "#fb9f3a"
             ],
             [
              0.8888888888888888,
              "#fdca26"
             ],
             [
              1,
              "#f0f921"
             ]
            ],
            "type": "contour"
           }
          ],
          "contourcarpet": [
           {
            "colorbar": {
             "outlinewidth": 0,
             "ticks": ""
            },
            "type": "contourcarpet"
           }
          ],
          "heatmap": [
           {
            "colorbar": {
             "outlinewidth": 0,
             "ticks": ""
            },
            "colorscale": [
             [
              0,
              "#0d0887"
             ],
             [
              0.1111111111111111,
              "#46039f"
             ],
             [
              0.2222222222222222,
              "#7201a8"
             ],
             [
              0.3333333333333333,
              "#9c179e"
             ],
             [
              0.4444444444444444,
              "#bd3786"
             ],
             [
              0.5555555555555556,
              "#d8576b"
             ],
             [
              0.6666666666666666,
              "#ed7953"
             ],
             [
              0.7777777777777778,
              "#fb9f3a"
             ],
             [
              0.8888888888888888,
              "#fdca26"
             ],
             [
              1,
              "#f0f921"
             ]
            ],
            "type": "heatmap"
           }
          ],
          "heatmapgl": [
           {
            "colorbar": {
             "outlinewidth": 0,
             "ticks": ""
            },
            "colorscale": [
             [
              0,
              "#0d0887"
             ],
             [
              0.1111111111111111,
              "#46039f"
             ],
             [
              0.2222222222222222,
              "#7201a8"
             ],
             [
              0.3333333333333333,
              "#9c179e"
             ],
             [
              0.4444444444444444,
              "#bd3786"
             ],
             [
              0.5555555555555556,
              "#d8576b"
             ],
             [
              0.6666666666666666,
              "#ed7953"
             ],
             [
              0.7777777777777778,
              "#fb9f3a"
             ],
             [
              0.8888888888888888,
              "#fdca26"
             ],
             [
              1,
              "#f0f921"
             ]
            ],
            "type": "heatmapgl"
           }
          ],
          "histogram": [
           {
            "marker": {
             "pattern": {
              "fillmode": "overlay",
              "size": 10,
              "solidity": 0.2
             }
            },
            "type": "histogram"
           }
          ],
          "histogram2d": [
           {
            "colorbar": {
             "outlinewidth": 0,
             "ticks": ""
            },
            "colorscale": [
             [
              0,
              "#0d0887"
             ],
             [
              0.1111111111111111,
              "#46039f"
             ],
             [
              0.2222222222222222,
              "#7201a8"
             ],
             [
              0.3333333333333333,
              "#9c179e"
             ],
             [
              0.4444444444444444,
              "#bd3786"
             ],
             [
              0.5555555555555556,
              "#d8576b"
             ],
             [
              0.6666666666666666,
              "#ed7953"
             ],
             [
              0.7777777777777778,
              "#fb9f3a"
             ],
             [
              0.8888888888888888,
              "#fdca26"
             ],
             [
              1,
              "#f0f921"
             ]
            ],
            "type": "histogram2d"
           }
          ],
          "histogram2dcontour": [
           {
            "colorbar": {
             "outlinewidth": 0,
             "ticks": ""
            },
            "colorscale": [
             [
              0,
              "#0d0887"
             ],
             [
              0.1111111111111111,
              "#46039f"
             ],
             [
              0.2222222222222222,
              "#7201a8"
             ],
             [
              0.3333333333333333,
              "#9c179e"
             ],
             [
              0.4444444444444444,
              "#bd3786"
             ],
             [
              0.5555555555555556,
              "#d8576b"
             ],
             [
              0.6666666666666666,
              "#ed7953"
             ],
             [
              0.7777777777777778,
              "#fb9f3a"
             ],
             [
              0.8888888888888888,
              "#fdca26"
             ],
             [
              1,
              "#f0f921"
             ]
            ],
            "type": "histogram2dcontour"
           }
          ],
          "mesh3d": [
           {
            "colorbar": {
             "outlinewidth": 0,
             "ticks": ""
            },
            "type": "mesh3d"
           }
          ],
          "parcoords": [
           {
            "line": {
             "colorbar": {
              "outlinewidth": 0,
              "ticks": ""
             }
            },
            "type": "parcoords"
           }
          ],
          "pie": [
           {
            "automargin": true,
            "type": "pie"
           }
          ],
          "scatter": [
           {
            "fillpattern": {
             "fillmode": "overlay",
             "size": 10,
             "solidity": 0.2
            },
            "type": "scatter"
           }
          ],
          "scatter3d": [
           {
            "line": {
             "colorbar": {
              "outlinewidth": 0,
              "ticks": ""
             }
            },
            "marker": {
             "colorbar": {
              "outlinewidth": 0,
              "ticks": ""
             }
            },
            "type": "scatter3d"
           }
          ],
          "scattercarpet": [
           {
            "marker": {
             "colorbar": {
              "outlinewidth": 0,
              "ticks": ""
             }
            },
            "type": "scattercarpet"
           }
          ],
          "scattergeo": [
           {
            "marker": {
             "colorbar": {
              "outlinewidth": 0,
              "ticks": ""
             }
            },
            "type": "scattergeo"
           }
          ],
          "scattergl": [
           {
            "marker": {
             "colorbar": {
              "outlinewidth": 0,
              "ticks": ""
             }
            },
            "type": "scattergl"
           }
          ],
          "scattermapbox": [
           {
            "marker": {
             "colorbar": {
              "outlinewidth": 0,
              "ticks": ""
             }
            },
            "type": "scattermapbox"
           }
          ],
          "scatterpolar": [
           {
            "marker": {
             "colorbar": {
              "outlinewidth": 0,
              "ticks": ""
             }
            },
            "type": "scatterpolar"
           }
          ],
          "scatterpolargl": [
           {
            "marker": {
             "colorbar": {
              "outlinewidth": 0,
              "ticks": ""
             }
            },
            "type": "scatterpolargl"
           }
          ],
          "scatterternary": [
           {
            "marker": {
             "colorbar": {
              "outlinewidth": 0,
              "ticks": ""
             }
            },
            "type": "scatterternary"
           }
          ],
          "surface": [
           {
            "colorbar": {
             "outlinewidth": 0,
             "ticks": ""
            },
            "colorscale": [
             [
              0,
              "#0d0887"
             ],
             [
              0.1111111111111111,
              "#46039f"
             ],
             [
              0.2222222222222222,
              "#7201a8"
             ],
             [
              0.3333333333333333,
              "#9c179e"
             ],
             [
              0.4444444444444444,
              "#bd3786"
             ],
             [
              0.5555555555555556,
              "#d8576b"
             ],
             [
              0.6666666666666666,
              "#ed7953"
             ],
             [
              0.7777777777777778,
              "#fb9f3a"
             ],
             [
              0.8888888888888888,
              "#fdca26"
             ],
             [
              1,
              "#f0f921"
             ]
            ],
            "type": "surface"
           }
          ],
          "table": [
           {
            "cells": {
             "fill": {
              "color": "#EBF0F8"
             },
             "line": {
              "color": "white"
             }
            },
            "header": {
             "fill": {
              "color": "#C8D4E3"
             },
             "line": {
              "color": "white"
             }
            },
            "type": "table"
           }
          ]
         },
         "layout": {
          "annotationdefaults": {
           "arrowcolor": "#2a3f5f",
           "arrowhead": 0,
           "arrowwidth": 1
          },
          "autotypenumbers": "strict",
          "coloraxis": {
           "colorbar": {
            "outlinewidth": 0,
            "ticks": ""
           }
          },
          "colorscale": {
           "diverging": [
            [
             0,
             "#8e0152"
            ],
            [
             0.1,
             "#c51b7d"
            ],
            [
             0.2,
             "#de77ae"
            ],
            [
             0.3,
             "#f1b6da"
            ],
            [
             0.4,
             "#fde0ef"
            ],
            [
             0.5,
             "#f7f7f7"
            ],
            [
             0.6,
             "#e6f5d0"
            ],
            [
             0.7,
             "#b8e186"
            ],
            [
             0.8,
             "#7fbc41"
            ],
            [
             0.9,
             "#4d9221"
            ],
            [
             1,
             "#276419"
            ]
           ],
           "sequential": [
            [
             0,
             "#0d0887"
            ],
            [
             0.1111111111111111,
             "#46039f"
            ],
            [
             0.2222222222222222,
             "#7201a8"
            ],
            [
             0.3333333333333333,
             "#9c179e"
            ],
            [
             0.4444444444444444,
             "#bd3786"
            ],
            [
             0.5555555555555556,
             "#d8576b"
            ],
            [
             0.6666666666666666,
             "#ed7953"
            ],
            [
             0.7777777777777778,
             "#fb9f3a"
            ],
            [
             0.8888888888888888,
             "#fdca26"
            ],
            [
             1,
             "#f0f921"
            ]
           ],
           "sequentialminus": [
            [
             0,
             "#0d0887"
            ],
            [
             0.1111111111111111,
             "#46039f"
            ],
            [
             0.2222222222222222,
             "#7201a8"
            ],
            [
             0.3333333333333333,
             "#9c179e"
            ],
            [
             0.4444444444444444,
             "#bd3786"
            ],
            [
             0.5555555555555556,
             "#d8576b"
            ],
            [
             0.6666666666666666,
             "#ed7953"
            ],
            [
             0.7777777777777778,
             "#fb9f3a"
            ],
            [
             0.8888888888888888,
             "#fdca26"
            ],
            [
             1,
             "#f0f921"
            ]
           ]
          },
          "colorway": [
           "#636efa",
           "#EF553B",
           "#00cc96",
           "#ab63fa",
           "#FFA15A",
           "#19d3f3",
           "#FF6692",
           "#B6E880",
           "#FF97FF",
           "#FECB52"
          ],
          "font": {
           "color": "#2a3f5f"
          },
          "geo": {
           "bgcolor": "white",
           "lakecolor": "white",
           "landcolor": "#E5ECF6",
           "showlakes": true,
           "showland": true,
           "subunitcolor": "white"
          },
          "hoverlabel": {
           "align": "left"
          },
          "hovermode": "closest",
          "mapbox": {
           "style": "light"
          },
          "paper_bgcolor": "white",
          "plot_bgcolor": "#E5ECF6",
          "polar": {
           "angularaxis": {
            "gridcolor": "white",
            "linecolor": "white",
            "ticks": ""
           },
           "bgcolor": "#E5ECF6",
           "radialaxis": {
            "gridcolor": "white",
            "linecolor": "white",
            "ticks": ""
           }
          },
          "scene": {
           "xaxis": {
            "backgroundcolor": "#E5ECF6",
            "gridcolor": "white",
            "gridwidth": 2,
            "linecolor": "white",
            "showbackground": true,
            "ticks": "",
            "zerolinecolor": "white"
           },
           "yaxis": {
            "backgroundcolor": "#E5ECF6",
            "gridcolor": "white",
            "gridwidth": 2,
            "linecolor": "white",
            "showbackground": true,
            "ticks": "",
            "zerolinecolor": "white"
           },
           "zaxis": {
            "backgroundcolor": "#E5ECF6",
            "gridcolor": "white",
            "gridwidth": 2,
            "linecolor": "white",
            "showbackground": true,
            "ticks": "",
            "zerolinecolor": "white"
           }
          },
          "shapedefaults": {
           "line": {
            "color": "#2a3f5f"
           }
          },
          "ternary": {
           "aaxis": {
            "gridcolor": "white",
            "linecolor": "white",
            "ticks": ""
           },
           "baxis": {
            "gridcolor": "white",
            "linecolor": "white",
            "ticks": ""
           },
           "bgcolor": "#E5ECF6",
           "caxis": {
            "gridcolor": "white",
            "linecolor": "white",
            "ticks": ""
           }
          },
          "title": {
           "x": 0.05
          },
          "xaxis": {
           "automargin": true,
           "gridcolor": "white",
           "linecolor": "white",
           "ticks": "",
           "title": {
            "standoff": 15
           },
           "zerolinecolor": "white",
           "zerolinewidth": 2
          },
          "yaxis": {
           "automargin": true,
           "gridcolor": "white",
           "linecolor": "white",
           "ticks": "",
           "title": {
            "standoff": 15
           },
           "zerolinecolor": "white",
           "zerolinewidth": 2
          }
         }
        },
        "title": {
         "text": "Qtd de Empresas por Idade"
        }
       }
      }
     },
     "metadata": {},
     "output_type": "display_data"
    }
   ],
   "source": [
    "fig = px.pie(df_analise_etaria, names='Cat_Idade', values='Qtd_Empresas', title='Qtd de Empresas por Idade', height=600)\n",
    "fig.show()"
   ]
  },
  {
   "cell_type": "code",
   "execution_count": 75,
   "metadata": {},
   "outputs": [
    {
     "name": "stderr",
     "output_type": "stream",
     "text": [
      "[*********************100%***********************]  1 of 1 completed\n"
     ]
    },
    {
     "data": {
      "text/html": [
       "<div>\n",
       "<style scoped>\n",
       "    .dataframe tbody tr th:only-of-type {\n",
       "        vertical-align: middle;\n",
       "    }\n",
       "\n",
       "    .dataframe tbody tr th {\n",
       "        vertical-align: top;\n",
       "    }\n",
       "\n",
       "    .dataframe thead tr th {\n",
       "        text-align: left;\n",
       "    }\n",
       "\n",
       "    .dataframe thead tr:last-of-type th {\n",
       "        text-align: right;\n",
       "    }\n",
       "</style>\n",
       "<table border=\"1\" class=\"dataframe\">\n",
       "  <thead>\n",
       "    <tr>\n",
       "      <th>Price</th>\n",
       "      <th>Adj Close</th>\n",
       "      <th>Close</th>\n",
       "      <th>High</th>\n",
       "      <th>Low</th>\n",
       "      <th>Open</th>\n",
       "      <th>Volume</th>\n",
       "    </tr>\n",
       "    <tr>\n",
       "      <th>Ticker</th>\n",
       "      <th>AAPL34.SA</th>\n",
       "      <th>AAPL34.SA</th>\n",
       "      <th>AAPL34.SA</th>\n",
       "      <th>AAPL34.SA</th>\n",
       "      <th>AAPL34.SA</th>\n",
       "      <th>AAPL34.SA</th>\n",
       "    </tr>\n",
       "    <tr>\n",
       "      <th>Date</th>\n",
       "      <th></th>\n",
       "      <th></th>\n",
       "      <th></th>\n",
       "      <th></th>\n",
       "      <th></th>\n",
       "      <th></th>\n",
       "    </tr>\n",
       "  </thead>\n",
       "  <tbody>\n",
       "    <tr>\n",
       "      <th>2024-01-02</th>\n",
       "      <td>45.63</td>\n",
       "      <td>45.79</td>\n",
       "      <td>46.17</td>\n",
       "      <td>45.21</td>\n",
       "      <td>46.01</td>\n",
       "      <td>183240</td>\n",
       "    </tr>\n",
       "    <tr>\n",
       "      <th>2024-01-03</th>\n",
       "      <td>44.96</td>\n",
       "      <td>45.11</td>\n",
       "      <td>45.70</td>\n",
       "      <td>45.05</td>\n",
       "      <td>45.52</td>\n",
       "      <td>120009</td>\n",
       "    </tr>\n",
       "    <tr>\n",
       "      <th>2024-01-04</th>\n",
       "      <td>44.35</td>\n",
       "      <td>44.50</td>\n",
       "      <td>45.07</td>\n",
       "      <td>44.46</td>\n",
       "      <td>44.86</td>\n",
       "      <td>246543</td>\n",
       "    </tr>\n",
       "    <tr>\n",
       "      <th>2024-01-05</th>\n",
       "      <td>44.10</td>\n",
       "      <td>44.25</td>\n",
       "      <td>44.63</td>\n",
       "      <td>43.96</td>\n",
       "      <td>44.50</td>\n",
       "      <td>139128</td>\n",
       "    </tr>\n",
       "    <tr>\n",
       "      <th>2024-01-08</th>\n",
       "      <td>45.03</td>\n",
       "      <td>45.18</td>\n",
       "      <td>45.18</td>\n",
       "      <td>44.25</td>\n",
       "      <td>44.25</td>\n",
       "      <td>299849</td>\n",
       "    </tr>\n",
       "    <tr>\n",
       "      <th>...</th>\n",
       "      <td>...</td>\n",
       "      <td>...</td>\n",
       "      <td>...</td>\n",
       "      <td>...</td>\n",
       "      <td>...</td>\n",
       "      <td>...</td>\n",
       "    </tr>\n",
       "    <tr>\n",
       "      <th>2024-12-09</th>\n",
       "      <td>75.04</td>\n",
       "      <td>75.04</td>\n",
       "      <td>75.23</td>\n",
       "      <td>73.17</td>\n",
       "      <td>73.49</td>\n",
       "      <td>319138</td>\n",
       "    </tr>\n",
       "    <tr>\n",
       "      <th>2024-12-10</th>\n",
       "      <td>75.15</td>\n",
       "      <td>75.15</td>\n",
       "      <td>75.32</td>\n",
       "      <td>74.25</td>\n",
       "      <td>75.04</td>\n",
       "      <td>253209</td>\n",
       "    </tr>\n",
       "    <tr>\n",
       "      <th>2024-12-11</th>\n",
       "      <td>73.90</td>\n",
       "      <td>73.90</td>\n",
       "      <td>75.77</td>\n",
       "      <td>73.70</td>\n",
       "      <td>75.13</td>\n",
       "      <td>380779</td>\n",
       "    </tr>\n",
       "    <tr>\n",
       "      <th>2024-12-12</th>\n",
       "      <td>74.61</td>\n",
       "      <td>74.61</td>\n",
       "      <td>75.05</td>\n",
       "      <td>71.46</td>\n",
       "      <td>72.82</td>\n",
       "      <td>286615</td>\n",
       "    </tr>\n",
       "    <tr>\n",
       "      <th>2024-12-13</th>\n",
       "      <td>74.63</td>\n",
       "      <td>74.63</td>\n",
       "      <td>75.30</td>\n",
       "      <td>74.45</td>\n",
       "      <td>75.20</td>\n",
       "      <td>42313</td>\n",
       "    </tr>\n",
       "  </tbody>\n",
       "</table>\n",
       "<p>242 rows × 6 columns</p>\n",
       "</div>"
      ],
      "text/plain": [
       "Price      Adj Close     Close      High       Low      Open    Volume\n",
       "Ticker     AAPL34.SA AAPL34.SA AAPL34.SA AAPL34.SA AAPL34.SA AAPL34.SA\n",
       "Date                                                                  \n",
       "2024-01-02     45.63     45.79     46.17     45.21     46.01    183240\n",
       "2024-01-03     44.96     45.11     45.70     45.05     45.52    120009\n",
       "2024-01-04     44.35     44.50     45.07     44.46     44.86    246543\n",
       "2024-01-05     44.10     44.25     44.63     43.96     44.50    139128\n",
       "2024-01-08     45.03     45.18     45.18     44.25     44.25    299849\n",
       "...              ...       ...       ...       ...       ...       ...\n",
       "2024-12-09     75.04     75.04     75.23     73.17     73.49    319138\n",
       "2024-12-10     75.15     75.15     75.32     74.25     75.04    253209\n",
       "2024-12-11     73.90     73.90     75.77     73.70     75.13    380779\n",
       "2024-12-12     74.61     74.61     75.05     71.46     72.82    286615\n",
       "2024-12-13     74.63     74.63     75.30     74.45     75.20     42313\n",
       "\n",
       "[242 rows x 6 columns]"
      ]
     },
     "execution_count": 75,
     "metadata": {},
     "output_type": "execute_result"
    }
   ],
   "source": [
    "dados = yf.download('AAPL34.SA', start='2024-01-01', end='2024-12-31')\n",
    "dados"
   ]
  },
  {
   "cell_type": "code",
   "execution_count": 76,
   "metadata": {},
   "outputs": [
    {
     "data": {
      "text/html": [
       "<div>\n",
       "<style scoped>\n",
       "    .dataframe tbody tr th:only-of-type {\n",
       "        vertical-align: middle;\n",
       "    }\n",
       "\n",
       "    .dataframe tbody tr th {\n",
       "        vertical-align: top;\n",
       "    }\n",
       "\n",
       "    .dataframe thead th {\n",
       "        text-align: right;\n",
       "    }\n",
       "</style>\n",
       "<table border=\"1\" class=\"dataframe\">\n",
       "  <thead>\n",
       "    <tr style=\"text-align: right;\">\n",
       "      <th></th>\n",
       "      <th>Fechamento_Ajuste</th>\n",
       "      <th>Fechamento</th>\n",
       "      <th>Maximo</th>\n",
       "      <th>Minimo</th>\n",
       "      <th>Abertura</th>\n",
       "      <th>Volume</th>\n",
       "    </tr>\n",
       "    <tr>\n",
       "      <th>Date</th>\n",
       "      <th></th>\n",
       "      <th></th>\n",
       "      <th></th>\n",
       "      <th></th>\n",
       "      <th></th>\n",
       "      <th></th>\n",
       "    </tr>\n",
       "  </thead>\n",
       "  <tbody>\n",
       "    <tr>\n",
       "      <th>2024-01-02</th>\n",
       "      <td>45.63</td>\n",
       "      <td>45.79</td>\n",
       "      <td>46.17</td>\n",
       "      <td>45.21</td>\n",
       "      <td>46.01</td>\n",
       "      <td>183240</td>\n",
       "    </tr>\n",
       "    <tr>\n",
       "      <th>2024-01-03</th>\n",
       "      <td>44.96</td>\n",
       "      <td>45.11</td>\n",
       "      <td>45.70</td>\n",
       "      <td>45.05</td>\n",
       "      <td>45.52</td>\n",
       "      <td>120009</td>\n",
       "    </tr>\n",
       "    <tr>\n",
       "      <th>2024-01-04</th>\n",
       "      <td>44.35</td>\n",
       "      <td>44.50</td>\n",
       "      <td>45.07</td>\n",
       "      <td>44.46</td>\n",
       "      <td>44.86</td>\n",
       "      <td>246543</td>\n",
       "    </tr>\n",
       "    <tr>\n",
       "      <th>2024-01-05</th>\n",
       "      <td>44.10</td>\n",
       "      <td>44.25</td>\n",
       "      <td>44.63</td>\n",
       "      <td>43.96</td>\n",
       "      <td>44.50</td>\n",
       "      <td>139128</td>\n",
       "    </tr>\n",
       "    <tr>\n",
       "      <th>2024-01-08</th>\n",
       "      <td>45.03</td>\n",
       "      <td>45.18</td>\n",
       "      <td>45.18</td>\n",
       "      <td>44.25</td>\n",
       "      <td>44.25</td>\n",
       "      <td>299849</td>\n",
       "    </tr>\n",
       "    <tr>\n",
       "      <th>...</th>\n",
       "      <td>...</td>\n",
       "      <td>...</td>\n",
       "      <td>...</td>\n",
       "      <td>...</td>\n",
       "      <td>...</td>\n",
       "      <td>...</td>\n",
       "    </tr>\n",
       "    <tr>\n",
       "      <th>2024-12-09</th>\n",
       "      <td>75.04</td>\n",
       "      <td>75.04</td>\n",
       "      <td>75.23</td>\n",
       "      <td>73.17</td>\n",
       "      <td>73.49</td>\n",
       "      <td>319138</td>\n",
       "    </tr>\n",
       "    <tr>\n",
       "      <th>2024-12-10</th>\n",
       "      <td>75.15</td>\n",
       "      <td>75.15</td>\n",
       "      <td>75.32</td>\n",
       "      <td>74.25</td>\n",
       "      <td>75.04</td>\n",
       "      <td>253209</td>\n",
       "    </tr>\n",
       "    <tr>\n",
       "      <th>2024-12-11</th>\n",
       "      <td>73.90</td>\n",
       "      <td>73.90</td>\n",
       "      <td>75.77</td>\n",
       "      <td>73.70</td>\n",
       "      <td>75.13</td>\n",
       "      <td>380779</td>\n",
       "    </tr>\n",
       "    <tr>\n",
       "      <th>2024-12-12</th>\n",
       "      <td>74.61</td>\n",
       "      <td>74.61</td>\n",
       "      <td>75.05</td>\n",
       "      <td>71.46</td>\n",
       "      <td>72.82</td>\n",
       "      <td>286615</td>\n",
       "    </tr>\n",
       "    <tr>\n",
       "      <th>2024-12-13</th>\n",
       "      <td>74.63</td>\n",
       "      <td>74.63</td>\n",
       "      <td>75.30</td>\n",
       "      <td>74.45</td>\n",
       "      <td>75.20</td>\n",
       "      <td>42313</td>\n",
       "    </tr>\n",
       "  </tbody>\n",
       "</table>\n",
       "<p>242 rows × 6 columns</p>\n",
       "</div>"
      ],
      "text/plain": [
       "            Fechamento_Ajuste  Fechamento  Maximo  Minimo  Abertura  Volume\n",
       "Date                                                                       \n",
       "2024-01-02              45.63       45.79   46.17   45.21     46.01  183240\n",
       "2024-01-03              44.96       45.11   45.70   45.05     45.52  120009\n",
       "2024-01-04              44.35       44.50   45.07   44.46     44.86  246543\n",
       "2024-01-05              44.10       44.25   44.63   43.96     44.50  139128\n",
       "2024-01-08              45.03       45.18   45.18   44.25     44.25  299849\n",
       "...                       ...         ...     ...     ...       ...     ...\n",
       "2024-12-09              75.04       75.04   75.23   73.17     73.49  319138\n",
       "2024-12-10              75.15       75.15   75.32   74.25     75.04  253209\n",
       "2024-12-11              73.90       73.90   75.77   73.70     75.13  380779\n",
       "2024-12-12              74.61       74.61   75.05   71.46     72.82  286615\n",
       "2024-12-13              74.63       74.63   75.30   74.45     75.20   42313\n",
       "\n",
       "[242 rows x 6 columns]"
      ]
     },
     "execution_count": 76,
     "metadata": {},
     "output_type": "execute_result"
    }
   ],
   "source": [
    "dados.columns = ['Fechamento_Ajuste', 'Fechamento', 'Maximo', 'Minimo', 'Abertura', 'Volume']\n",
    "dados"
   ]
  },
  {
   "cell_type": "code",
   "execution_count": 77,
   "metadata": {},
   "outputs": [
    {
     "data": {
      "text/html": [
       "<div>\n",
       "<style scoped>\n",
       "    .dataframe tbody tr th:only-of-type {\n",
       "        vertical-align: middle;\n",
       "    }\n",
       "\n",
       "    .dataframe tbody tr th {\n",
       "        vertical-align: top;\n",
       "    }\n",
       "\n",
       "    .dataframe thead th {\n",
       "        text-align: right;\n",
       "    }\n",
       "</style>\n",
       "<table border=\"1\" class=\"dataframe\">\n",
       "  <thead>\n",
       "    <tr style=\"text-align: right;\">\n",
       "      <th></th>\n",
       "      <th>Fechamento_Ajuste</th>\n",
       "      <th>Fechamento</th>\n",
       "      <th>Maximo</th>\n",
       "      <th>Minimo</th>\n",
       "      <th>Abertura</th>\n",
       "      <th>Volume</th>\n",
       "    </tr>\n",
       "    <tr>\n",
       "      <th>Data</th>\n",
       "      <th></th>\n",
       "      <th></th>\n",
       "      <th></th>\n",
       "      <th></th>\n",
       "      <th></th>\n",
       "      <th></th>\n",
       "    </tr>\n",
       "  </thead>\n",
       "  <tbody>\n",
       "    <tr>\n",
       "      <th>2024-01-02</th>\n",
       "      <td>45.63</td>\n",
       "      <td>45.79</td>\n",
       "      <td>46.17</td>\n",
       "      <td>45.21</td>\n",
       "      <td>46.01</td>\n",
       "      <td>183240</td>\n",
       "    </tr>\n",
       "    <tr>\n",
       "      <th>2024-01-03</th>\n",
       "      <td>44.96</td>\n",
       "      <td>45.11</td>\n",
       "      <td>45.70</td>\n",
       "      <td>45.05</td>\n",
       "      <td>45.52</td>\n",
       "      <td>120009</td>\n",
       "    </tr>\n",
       "    <tr>\n",
       "      <th>2024-01-04</th>\n",
       "      <td>44.35</td>\n",
       "      <td>44.50</td>\n",
       "      <td>45.07</td>\n",
       "      <td>44.46</td>\n",
       "      <td>44.86</td>\n",
       "      <td>246543</td>\n",
       "    </tr>\n",
       "    <tr>\n",
       "      <th>2024-01-05</th>\n",
       "      <td>44.10</td>\n",
       "      <td>44.25</td>\n",
       "      <td>44.63</td>\n",
       "      <td>43.96</td>\n",
       "      <td>44.50</td>\n",
       "      <td>139128</td>\n",
       "    </tr>\n",
       "    <tr>\n",
       "      <th>2024-01-08</th>\n",
       "      <td>45.03</td>\n",
       "      <td>45.18</td>\n",
       "      <td>45.18</td>\n",
       "      <td>44.25</td>\n",
       "      <td>44.25</td>\n",
       "      <td>299849</td>\n",
       "    </tr>\n",
       "    <tr>\n",
       "      <th>...</th>\n",
       "      <td>...</td>\n",
       "      <td>...</td>\n",
       "      <td>...</td>\n",
       "      <td>...</td>\n",
       "      <td>...</td>\n",
       "      <td>...</td>\n",
       "    </tr>\n",
       "    <tr>\n",
       "      <th>2024-12-09</th>\n",
       "      <td>75.04</td>\n",
       "      <td>75.04</td>\n",
       "      <td>75.23</td>\n",
       "      <td>73.17</td>\n",
       "      <td>73.49</td>\n",
       "      <td>319138</td>\n",
       "    </tr>\n",
       "    <tr>\n",
       "      <th>2024-12-10</th>\n",
       "      <td>75.15</td>\n",
       "      <td>75.15</td>\n",
       "      <td>75.32</td>\n",
       "      <td>74.25</td>\n",
       "      <td>75.04</td>\n",
       "      <td>253209</td>\n",
       "    </tr>\n",
       "    <tr>\n",
       "      <th>2024-12-11</th>\n",
       "      <td>73.90</td>\n",
       "      <td>73.90</td>\n",
       "      <td>75.77</td>\n",
       "      <td>73.70</td>\n",
       "      <td>75.13</td>\n",
       "      <td>380779</td>\n",
       "    </tr>\n",
       "    <tr>\n",
       "      <th>2024-12-12</th>\n",
       "      <td>74.61</td>\n",
       "      <td>74.61</td>\n",
       "      <td>75.05</td>\n",
       "      <td>71.46</td>\n",
       "      <td>72.82</td>\n",
       "      <td>286615</td>\n",
       "    </tr>\n",
       "    <tr>\n",
       "      <th>2024-12-13</th>\n",
       "      <td>74.63</td>\n",
       "      <td>74.63</td>\n",
       "      <td>75.30</td>\n",
       "      <td>74.45</td>\n",
       "      <td>75.20</td>\n",
       "      <td>42313</td>\n",
       "    </tr>\n",
       "  </tbody>\n",
       "</table>\n",
       "<p>242 rows × 6 columns</p>\n",
       "</div>"
      ],
      "text/plain": [
       "            Fechamento_Ajuste  Fechamento  Maximo  Minimo  Abertura  Volume\n",
       "Data                                                                       \n",
       "2024-01-02              45.63       45.79   46.17   45.21     46.01  183240\n",
       "2024-01-03              44.96       45.11   45.70   45.05     45.52  120009\n",
       "2024-01-04              44.35       44.50   45.07   44.46     44.86  246543\n",
       "2024-01-05              44.10       44.25   44.63   43.96     44.50  139128\n",
       "2024-01-08              45.03       45.18   45.18   44.25     44.25  299849\n",
       "...                       ...         ...     ...     ...       ...     ...\n",
       "2024-12-09              75.04       75.04   75.23   73.17     73.49  319138\n",
       "2024-12-10              75.15       75.15   75.32   74.25     75.04  253209\n",
       "2024-12-11              73.90       73.90   75.77   73.70     75.13  380779\n",
       "2024-12-12              74.61       74.61   75.05   71.46     72.82  286615\n",
       "2024-12-13              74.63       74.63   75.30   74.45     75.20   42313\n",
       "\n",
       "[242 rows x 6 columns]"
      ]
     },
     "execution_count": 77,
     "metadata": {},
     "output_type": "execute_result"
    }
   ],
   "source": [
    "dados = dados.rename_axis('Data')\n",
    "dados"
   ]
  },
  {
   "cell_type": "code",
   "execution_count": 78,
   "metadata": {},
   "outputs": [
    {
     "data": {
      "text/plain": [
       "<matplotlib.legend.Legend at 0x1ea47ebce50>"
      ]
     },
     "execution_count": 78,
     "metadata": {},
     "output_type": "execute_result"
    },
    {
     "data": {
      "image/png": "[encoded data removed]",
      "text/plain": [
       "<Figure size 1000x600 with 1 Axes>"
      ]
     },
     "metadata": {},
     "output_type": "display_data"
    }
   ],
   "source": [
    "dados['Fechamento'].plot(figsize=(10,6))\n",
    "plt.title('Variação do Preço por Data', fontsize=16)\n",
    "plt.legend(['Fechamento'])"
   ]
  },
  {
   "cell_type": "code",
   "execution_count": 79,
   "metadata": {},
   "outputs": [
    {
     "data": {
      "text/html": [
       "<div>\n",
       "<style scoped>\n",
       "    .dataframe tbody tr th:only-of-type {\n",
       "        vertical-align: middle;\n",
       "    }\n",
       "\n",
       "    .dataframe tbody tr th {\n",
       "        vertical-align: top;\n",
       "    }\n",
       "\n",
       "    .dataframe thead th {\n",
       "        text-align: right;\n",
       "    }\n",
       "</style>\n",
       "<table border=\"1\" class=\"dataframe\">\n",
       "  <thead>\n",
       "    <tr style=\"text-align: right;\">\n",
       "      <th></th>\n",
       "      <th>Fechamento_Ajuste</th>\n",
       "      <th>Fechamento</th>\n",
       "      <th>Maximo</th>\n",
       "      <th>Minimo</th>\n",
       "      <th>Abertura</th>\n",
       "      <th>Volume</th>\n",
       "      <th>Data</th>\n",
       "    </tr>\n",
       "    <tr>\n",
       "      <th>Data</th>\n",
       "      <th></th>\n",
       "      <th></th>\n",
       "      <th></th>\n",
       "      <th></th>\n",
       "      <th></th>\n",
       "      <th></th>\n",
       "      <th></th>\n",
       "    </tr>\n",
       "  </thead>\n",
       "  <tbody>\n",
       "    <tr>\n",
       "      <th>2024-01-02</th>\n",
       "      <td>45.63</td>\n",
       "      <td>45.79</td>\n",
       "      <td>46.17</td>\n",
       "      <td>45.21</td>\n",
       "      <td>46.01</td>\n",
       "      <td>183240</td>\n",
       "      <td>19724.00</td>\n",
       "    </tr>\n",
       "    <tr>\n",
       "      <th>2024-01-03</th>\n",
       "      <td>44.96</td>\n",
       "      <td>45.11</td>\n",
       "      <td>45.70</td>\n",
       "      <td>45.05</td>\n",
       "      <td>45.52</td>\n",
       "      <td>120009</td>\n",
       "      <td>19725.00</td>\n",
       "    </tr>\n",
       "    <tr>\n",
       "      <th>2024-01-04</th>\n",
       "      <td>44.35</td>\n",
       "      <td>44.50</td>\n",
       "      <td>45.07</td>\n",
       "      <td>44.46</td>\n",
       "      <td>44.86</td>\n",
       "      <td>246543</td>\n",
       "      <td>19726.00</td>\n",
       "    </tr>\n",
       "    <tr>\n",
       "      <th>2024-01-05</th>\n",
       "      <td>44.10</td>\n",
       "      <td>44.25</td>\n",
       "      <td>44.63</td>\n",
       "      <td>43.96</td>\n",
       "      <td>44.50</td>\n",
       "      <td>139128</td>\n",
       "      <td>19727.00</td>\n",
       "    </tr>\n",
       "    <tr>\n",
       "      <th>2024-01-08</th>\n",
       "      <td>45.03</td>\n",
       "      <td>45.18</td>\n",
       "      <td>45.18</td>\n",
       "      <td>44.25</td>\n",
       "      <td>44.25</td>\n",
       "      <td>299849</td>\n",
       "      <td>19730.00</td>\n",
       "    </tr>\n",
       "    <tr>\n",
       "      <th>...</th>\n",
       "      <td>...</td>\n",
       "      <td>...</td>\n",
       "      <td>...</td>\n",
       "      <td>...</td>\n",
       "      <td>...</td>\n",
       "      <td>...</td>\n",
       "      <td>...</td>\n",
       "    </tr>\n",
       "    <tr>\n",
       "      <th>2024-12-09</th>\n",
       "      <td>75.04</td>\n",
       "      <td>75.04</td>\n",
       "      <td>75.23</td>\n",
       "      <td>73.17</td>\n",
       "      <td>73.49</td>\n",
       "      <td>319138</td>\n",
       "      <td>20066.00</td>\n",
       "    </tr>\n",
       "    <tr>\n",
       "      <th>2024-12-10</th>\n",
       "      <td>75.15</td>\n",
       "      <td>75.15</td>\n",
       "      <td>75.32</td>\n",
       "      <td>74.25</td>\n",
       "      <td>75.04</td>\n",
       "      <td>253209</td>\n",
       "      <td>20067.00</td>\n",
       "    </tr>\n",
       "    <tr>\n",
       "      <th>2024-12-11</th>\n",
       "      <td>73.90</td>\n",
       "      <td>73.90</td>\n",
       "      <td>75.77</td>\n",
       "      <td>73.70</td>\n",
       "      <td>75.13</td>\n",
       "      <td>380779</td>\n",
       "      <td>20068.00</td>\n",
       "    </tr>\n",
       "    <tr>\n",
       "      <th>2024-12-12</th>\n",
       "      <td>74.61</td>\n",
       "      <td>74.61</td>\n",
       "      <td>75.05</td>\n",
       "      <td>71.46</td>\n",
       "      <td>72.82</td>\n",
       "      <td>286615</td>\n",
       "      <td>20069.00</td>\n",
       "    </tr>\n",
       "    <tr>\n",
       "      <th>2024-12-13</th>\n",
       "      <td>74.63</td>\n",
       "      <td>74.63</td>\n",
       "      <td>75.30</td>\n",
       "      <td>74.45</td>\n",
       "      <td>75.20</td>\n",
       "      <td>42313</td>\n",
       "      <td>20070.00</td>\n",
       "    </tr>\n",
       "  </tbody>\n",
       "</table>\n",
       "<p>242 rows × 7 columns</p>\n",
       "</div>"
      ],
      "text/plain": [
       "            Fechamento_Ajuste  Fechamento  Maximo  Minimo  Abertura  Volume  \\\n",
       "Data                                                                          \n",
       "2024-01-02              45.63       45.79   46.17   45.21     46.01  183240   \n",
       "2024-01-03              44.96       45.11   45.70   45.05     45.52  120009   \n",
       "2024-01-04              44.35       44.50   45.07   44.46     44.86  246543   \n",
       "2024-01-05              44.10       44.25   44.63   43.96     44.50  139128   \n",
       "2024-01-08              45.03       45.18   45.18   44.25     44.25  299849   \n",
       "...                       ...         ...     ...     ...       ...     ...   \n",
       "2024-12-09              75.04       75.04   75.23   73.17     73.49  319138   \n",
       "2024-12-10              75.15       75.15   75.32   74.25     75.04  253209   \n",
       "2024-12-11              73.90       73.90   75.77   73.70     75.13  380779   \n",
       "2024-12-12              74.61       74.61   75.05   71.46     72.82  286615   \n",
       "2024-12-13              74.63       74.63   75.30   74.45     75.20   42313   \n",
       "\n",
       "               Data  \n",
       "Data                 \n",
       "2024-01-02 19724.00  \n",
       "2024-01-03 19725.00  \n",
       "2024-01-04 19726.00  \n",
       "2024-01-05 19727.00  \n",
       "2024-01-08 19730.00  \n",
       "...             ...  \n",
       "2024-12-09 20066.00  \n",
       "2024-12-10 20067.00  \n",
       "2024-12-11 20068.00  \n",
       "2024-12-12 20069.00  \n",
       "2024-12-13 20070.00  \n",
       "\n",
       "[242 rows x 7 columns]"
      ]
     },
     "execution_count": 79,
     "metadata": {},
     "output_type": "execute_result"
    }
   ],
   "source": [
    "df = dados.copy()\n",
    "df['Data'] = df.index\n",
    "df['Data'] = df['Data'].apply(mdates.date2num)\n",
    "df"
   ]
  },
  {
   "cell_type": "code",
   "execution_count": 80,
   "metadata": {},
   "outputs": [
    {
     "data": {
      "image/png": "[encoded data removed]",
      "text/plain": [
       "<Figure size 1500x800 with 1 Axes>"
      ]
     },
     "metadata": {},
     "output_type": "display_data"
    }
   ],
   "source": [
    "fig, ax = plt.subplots(figsize=(15, 8))\n",
    "\n",
    "# Vamos definir a largura dos candles no gráfico\n",
    "width = 0.7\n",
    "\n",
    "for i in range(len(df)):\n",
    "    # Determinando a cor do candle\n",
    "    # Se o preço de fechamento for maior que o de abertura, o candle é verde (a ação valorizou nesse dia).\n",
    "    # Se for menor, o candle é vermelho (a ação desvalorizou).\n",
    "    if df['Fechamento'].iloc[i] > df['Abertura'].iloc[i]:\n",
    "        color = 'green'\n",
    "    else:\n",
    "        color = 'red'\n",
    "\n",
    "    # Desenhando a linha vertical do candle (mecha)\n",
    "    # Essa linha mostra os preços máximo (topo da linha) e mínimo (base da linha) do dia.\n",
    "    # Usamos `ax.plot` para desenhar uma linha vertical.\n",
    "    # [df['Data'].iloc[i], df['Data'].iloc[i]] define o ponto x da linha (a data), e [df['Mínimo'].iloc[i], df['Máximo'].iloc[i]] define a altura da linha.\n",
    "    ax.plot([df['Data'].iloc[i], df['Data'].iloc[i]],\n",
    "            [df['Minimo'].iloc[i], df['Maximo'].iloc[i]],\n",
    "            color=color,\n",
    "            linewidth=1)\n",
    "\n",
    "    ax.add_patch(plt.Rectangle((df['Data'].iloc[i] - width/2, min(df['Abertura'].iloc[i], df['Fechamento'].iloc[i])),\n",
    "                               width,\n",
    "                               abs(df['Fechamento'].iloc[i] - df['Abertura'].iloc[i]),\n",
    "                               facecolor=color))\n",
    "\n",
    "df['MA7'] = df['Fechamento'].rolling(window=7).mean()\n",
    "df['MA14'] = df['Fechamento'].rolling(window=14).mean()\n",
    "\n",
    "# Plotando as médias móveis\n",
    "ax.plot(df['Data'], df['MA7'], color='orange', label='Média Móvel 7 Dias')  # Média de 7 dias\n",
    "ax.plot(df['Data'], df['MA14'], color='yellow', label='Média Móvel 14 Dias')  # Média de 14 dias\n",
    "# Adicionando legendas para as médias móveis\n",
    "ax.legend()\n",
    "\n",
    "# Formatando o eixo x para mostrar as datas\n",
    "# Configuramos o formato da data e a rotação para melhor legibilidade\n",
    "ax.xaxis_date() #O método xaxis_date() é usado para dizer ao Matplotlib que as datas estão sendo usadas no eixo x\n",
    "ax.xaxis.set_major_formatter(mdates.DateFormatter('%Y-%m-%d'))\n",
    "plt.xticks(rotation=45)\n",
    "\n",
    "# Adicionando título e rótulos para os eixos x e y\n",
    "plt.title(\"Gráfico de Candlestick - PETR4.SA com matplotlib\")\n",
    "plt.xlabel(\"Data\")\n",
    "plt.ylabel(\"Preço\")\n",
    "\n",
    "# Adicionando uma grade para facilitar a visualização dos valores\n",
    "plt.grid(True)\n",
    "\n",
    "# Exibindo o gráfico\n",
    "plt.show()"
   ]
  },
  {
   "cell_type": "code",
   "execution_count": 81,
   "metadata": {},
   "outputs": [
    {
     "data": {
      "application/vnd.plotly.v1+json": {
       "config": {
        "plotlyServerURL": "https://plot.ly"
       },
       "data": [
        {
         "close": [
          45.790000915527344,
          45.11000061035156,
          44.5,
          44.25,
          45.18000030517578,
          45.25,
          45.459999084472656,
          45.0099983215332,
          44.91999816894531,
          45.25,
          45.060001373291016,
          45,
          46.31999969482422,
          47.279998779296875,
          48.189998626708984,
          48.20000076293945,
          47.70000076293945,
          47.63999938964844,
          47.099998474121094,
          47.34000015258789,
          46.29999923706055,
          46,
          46.209999084472656,
          46.2599983215332,
          46.619998931884766,
          46.70000076293945,
          46.810001373291016,
          47.04999923706055,
          46.86000061035156,
          45.900001525878906,
          45.90999984741211,
          45.29999923706055,
          45.630001068115234,
          44.560001373291016,
          44.88999938964844,
          45.7599983215332,
          45.54999923706055,
          45.16999816894531,
          44.869998931884766,
          44.97999954223633,
          44.720001220703125,
          44.59000015258789,
          43.47999954223633,
          42.380001068115234,
          41.88999938964844,
          41.77000045776367,
          42.779998779296875,
          42.93000030517578,
          43.22999954223633,
          42.70000076293945,
          43.290000915527344,
          43.20000076293945,
          43.630001068115234,
          44.11000061035156,
          44.15999984741211,
          42.810001373291016,
          43.209999084472656,
          42.779998779296875,
          42.439998626708984,
          43.060001373291016,
          43.09000015258789,
          43.060001373291016,
          42.77000045776367,
          42.790000915527344,
          42.81999969482422,
          43.09000015258789,
          42.47999954223633,
          42.54999923706055,
          42.5,
          44.47999954223633,
          44.900001525878906,
          44.869998931884766,
          44.650001525878906,
          44.209999084472656,
          44,
          42.9900016784668,
          42.970001220703125,
          42.650001525878906,
          43.29999923706055,
          43.900001525878906,
          43.349998474121094,
          44.4900016784668,
          44.45000076293945,
          44.720001220703125,
          46.400001525878906,
          46.099998474121094,
          46.349998474121094,
          46.31999969482422,
          47.31999969482422,
          46.95000076293945,
          48.08000183105469,
          48.220001220703125,
          48.540000915527344,
          48.65999984741211,
          48.459999084472656,
          48.869998931884766,
          49.220001220703125,
          49.189998626708984,
          48.22999954223633,
          48.900001525878906,
          49.5,
          49.11000061035156,
          49.38999938964844,
          50.380001068115234,
          50.849998474121094,
          51.209999084472656,
          51.86000061035156,
          50.900001525878906,
          52.630001068115234,
          51.86000061035156,
          55.619998931884766,
          57.63999938964844,
          57.41999816894531,
          57.29999923706055,
          58.88999938964844,
          58.33000183105469,
          58.779998779296875,
          57.349998474121094,
          57,
          56.099998474121094,
          57.119998931884766,
          58.970001220703125,
          58.959999084472656,
          59.20000076293945,
          61.34000015258789,
          62.5099983215332,
          61.5,
          61.900001525878906,
          61.880001068115234,
          62.18000030517578,
          61.84000015258789,
          63.099998474121094,
          61.65999984741211,
          62.61000061035156,
          63.709999084472656,
          63.849998474121094,
          62.84000015258789,
          62.630001068115234,
          63.029998779296875,
          62.36000061035156,
          62.75,
          61.47999954223633,
          61.279998779296875,
          61.5,
          61.29999923706055,
          61.47999954223633,
          62.900001525878906,
          62,
          62.5099983215332,
          60.310001373291016,
          58.4900016784668,
          59.11000061035156,
          59.34000015258789,
          59.79999923706055,
          59.599998474121094,
          60.15999984741211,
          60.63999938964844,
          61.43000030517578,
          61.81999969482422,
          61.04999923706055,
          62.150001525878906,
          62.20000076293945,
          62.9900016784668,
          62.099998474121094,
          62.20000076293945,
          62.630001068115234,
          62.900001525878906,
          64.44999694824219,
          64.25,
          64.25,
          62.540000915527344,
          62.16999816894531,
          61.709999084472656,
          61.59000015258789,
          61.66999816894531,
          62.29999923706055,
          63.02000045776367,
          62.720001220703125,
          61.79999923706055,
          59.45000076293945,
          59.380001068115234,
          60.04999923706055,
          62.02000045776367,
          63.560001373291016,
          62.560001373291016,
          62,
          61.720001220703125,
          62.060001373291016,
          61.68000030517578,
          63.29999923706055,
          61.540000915527344,
          61.970001220703125,
          61.56999969482422,
          61.689998626708984,
          60.70000076293945,
          62.380001068115234,
          64.19000244140625,
          64.0199966430664,
          64.0999984741211,
          64.6500015258789,
          65.88999938964844,
          65.41999816894531,
          65.7300033569336,
          66.76000213623047,
          67.18000030517578,
          67.30000305175781,
          65.45999908447266,
          65.5,
          66.36000061035156,
          66.80000305175781,
          67.43000030517578,
          66.45999908447266,
          66.0199966430664,
          65.55000305175781,
          64.47000122070312,
          64.04000091552734,
          63.72999954223633,
          64.55000305175781,
          65.2300033569336,
          64.54000091552734,
          64.63999938964844,
          65.4800033569336,
          66.19000244140625,
          65.55000305175781,
          65.54000091552734,
          66.30999755859375,
          66.80999755859375,
          66.5,
          68.48999786376953,
          69.55000305175781,
          70.62999725341797,
          71.19999694824219,
          72.80000305175781,
          73.70999908447266,
          73.58000183105469,
          72.66999816894531,
          73.66999816894531,
          75.04000091552734,
          75.1500015258789,
          73.9000015258789,
          74.61000061035156,
          74.62999725341797
         ],
         "high": [
          46.16999816894531,
          45.70000076293945,
          45.06999969482422,
          44.630001068115234,
          45.18000030517578,
          45.45000076293945,
          45.54999923706055,
          45.63999938964844,
          45.189998626708984,
          45.2599983215332,
          45.310001373291016,
          45.060001373291016,
          46.650001525878906,
          47.290000915527344,
          48.5,
          48.619998931884766,
          48.310001373291016,
          48.31999969482422,
          47.83000183105469,
          47.45000076293945,
          47.52000045776367,
          48.29999923706055,
          46.209999084472656,
          46.4900016784668,
          47.220001220703125,
          46.900001525878906,
          47.400001525878906,
          47.150001525878906,
          47.20000076293945,
          45.900001525878906,
          45.90999984741211,
          45.9900016784668,
          46,
          45.209999084472656,
          45.119998931884766,
          45.84000015258789,
          46.18000030517578,
          45.61000061035156,
          45.380001068115234,
          45.36000061035156,
          45.5,
          44.79999923706055,
          43.95000076293945,
          42.619998931884766,
          42.40999984741211,
          42.130001068115234,
          43.2400016784668,
          43.400001525878906,
          43.310001373291016,
          43.22999954223633,
          43.400001525878906,
          43.380001068115234,
          44.560001373291016,
          44.400001525878906,
          44.38999938964844,
          44.22999954223633,
          43.279998779296875,
          42.81999969482422,
          42.75,
          43.2400016784668,
          43.13999938964844,
          43.20000076293945,
          42.79999923706055,
          43.31999969482422,
          43.099998474121094,
          43.20000076293945,
          42.9900016784668,
          42.58000183105469,
          42.83000183105469,
          44.68000030517578,
          45.70000076293945,
          45.709999084472656,
          45.689998626708984,
          44.66999816894531,
          44.209999084472656,
          43.79999923706055,
          43.310001373291016,
          43.029998779296875,
          43.61000061035156,
          44.06999969482422,
          43.900001525878906,
          44.959999084472656,
          45.279998779296875,
          44.720001220703125,
          47.279998779296875,
          46.75,
          46.79999923706055,
          46.689998626708984,
          47.63999938964844,
          47.70000076293945,
          48.16999816894531,
          48.29999923706055,
          48.939998626708984,
          49.02000045776367,
          48.849998474121094,
          48.95000076293945,
          49.279998779296875,
          49.75,
          49.15999984741211,
          49.22999954223633,
          49.52000045776367,
          49.65999984741211,
          50.0099983215332,
          50.380001068115234,
          51.15999984741211,
          51.66999816894531,
          52.099998474121094,
          51.939998626708984,
          52.630001068115234,
          53.220001220703125,
          55.619998931884766,
          59.38999938964844,
          58.59000015258789,
          57.79999923706055,
          59.400001525878906,
          59.2400016784668,
          59.529998779296875,
          58.08000183105469,
          57.77000045776367,
          57.5,
          57.439998626708984,
          59.27000045776367,
          59.540000915527344,
          60.18000030517578,
          61.34000015258789,
          62.689998626708984,
          62.279998779296875,
          62.650001525878906,
          62.15999984741211,
          62.5,
          62.45000076293945,
          63.099998474121094,
          62.95000076293945,
          63.380001068115234,
          64.72000122070312,
          63.959999084472656,
          63.33000183105469,
          64.05000305175781,
          63.029998779296875,
          63.400001525878906,
          63.25,
          63.40999984741211,
          62.20000076293945,
          62.08000183105469,
          61.900001525878906,
          62.279998779296875,
          63.16999816894531,
          63.689998626708984,
          64.48999786376953,
          61.599998474121094,
          59.27000045776367,
          59.88999938964844,
          60.13999938964844,
          59.79999923706055,
          60.349998474121094,
          60.849998474121094,
          60.83000183105469,
          61.84000015258789,
          62.099998474121094,
          61.81999969482422,
          62.290000915527344,
          62.369998931884766,
          63.40999984741211,
          63.29999923706055,
          62.52000045776367,
          63.150001525878906,
          63.630001068115234,
          65.8499984741211,
          65.69000244140625,
          65.19999694824219,
          64.12999725341797,
          62.56999969482422,
          63.29999923706055,
          62.59000015258789,
          62.209999084472656,
          62.650001525878906,
          63.02000045776367,
          63.150001525878906,
          62.88999938964844,
          60.54999923706055,
          60.09000015258789,
          60.63999938964844,
          62.29999923706055,
          64.30000305175781,
          63.5,
          62.560001373291016,
          62.189998626708984,
          62.18000030517578,
          62.45000076293945,
          63.349998474121094,
          62.619998931884766,
          61.970001220703125,
          62.189998626708984,
          62.66999816894531,
          61.81999969482422,
          62.470001220703125,
          64.19000244140625,
          64.0199966430664,
          64.51000213623047,
          64.80000305175781,
          66.98999786376953,
          66.31999969482422,
          66.45999908447266,
          67.05000305175781,
          67.54000091552734,
          67.3499984741211,
          67.4000015258789,
          65.94000244140625,
          66.44000244140625,
          67,
          67.5999984741211,
          67.5199966430664,
          66.51000213623047,
          65.68000030517578,
          64.52999877929688,
          64.9000015258789,
          65.23999786376953,
          65.06999969482422,
          65.87999725341797,
          66.31999969482422,
          65.16999816894531,
          65.87000274658203,
          66.19999694824219,
          65.98999786376953,
          66.4000015258789,
          66.9000015258789,
          67.05000305175781,
          67.61000061035156,
          68.48999786376953,
          69.66000366210938,
          70.62999725341797,
          71.66000366210938,
          73.12999725341797,
          73.70999908447266,
          73.9800033569336,
          73.1500015258789,
          74.25,
          75.2300033569336,
          75.31999969482422,
          75.7699966430664,
          75.05000305175781,
          75.30000305175781
         ],
         "low": [
          45.209999084472656,
          45.04999923706055,
          44.459999084472656,
          43.959999084472656,
          44.25,
          44.63999938964844,
          44.959999084472656,
          44.79999923706055,
          44.81999969482422,
          44.84000015258789,
          44.36000061035156,
          44.54999923706055,
          45.869998931884766,
          46.31999969482422,
          47.380001068115234,
          48.15999984741211,
          47.70000076293945,
          47.540000915527344,
          47.09000015258789,
          46.70000076293945,
          46.29999923706055,
          45.619998931884766,
          45.380001068115234,
          44.36000061035156,
          46.41999816894531,
          46.41999816894531,
          46.779998779296875,
          46.66999816894531,
          46.790000915527344,
          45.369998931884766,
          45.06999969482422,
          45.130001068115234,
          44.95000076293945,
          44.45000076293945,
          44.630001068115234,
          45.13999938964844,
          45.459999084472656,
          45.04999923706055,
          44.41999816894531,
          44.689998626708984,
          44.66999816894531,
          43.90999984741211,
          43,
          41.959999084472656,
          41.72999954223633,
          41.63999938964844,
          41.9900016784668,
          42.790000915527344,
          42.70000076293945,
          42.529998779296875,
          42.70000076293945,
          42.45000076293945,
          43.47999954223633,
          43.61000061035156,
          43.900001525878906,
          42.52000045776367,
          42.439998626708984,
          42.20000076293945,
          42.290000915527344,
          42.47999954223633,
          42.529998779296875,
          42.849998474121094,
          42.5,
          42.689998626708984,
          42.599998474121094,
          42.619998931884766,
          42.349998474121094,
          42.18000030517578,
          42.31999969482422,
          42.66999816894531,
          44.52000045776367,
          44.720001220703125,
          44.33000183105469,
          43.939998626708984,
          43.75,
          42.720001220703125,
          42.7599983215332,
          42.59000015258789,
          42.79999923706055,
          43.41999816894531,
          43.290000915527344,
          44.11000061035156,
          44.369998931884766,
          43.68000030517578,
          46.33000183105469,
          45.689998626708984,
          45.91999816894531,
          46.119998931884766,
          46.79999923706055,
          46.93000030517578,
          47.31999969482422,
          47.720001220703125,
          48.189998626708984,
          48.54999923706055,
          48.349998474121094,
          48.36000061035156,
          48.619998931884766,
          49.029998779296875,
          48.11000061035156,
          48.29999923706055,
          48.86000061035156,
          48.79999923706055,
          49.150001525878906,
          49.70000076293945,
          50.369998931884766,
          50.7599983215332,
          51.439998626708984,
          50.900001525878906,
          50.900001525878906,
          51.540000915527344,
          51.630001068115234,
          55.06999969482422,
          57,
          56.7599983215332,
          57.560001373291016,
          57.630001068115234,
          58.310001373291016,
          56.939998626708984,
          56.900001525878906,
          55.70000076293945,
          56.61000061035156,
          57.810001373291016,
          58.650001525878906,
          59.20000076293945,
          58.9900016784668,
          60.900001525878906,
          61.130001068115234,
          61.18000030517578,
          60.72999954223633,
          61.310001373291016,
          61.599998474121094,
          61.619998931884766,
          61.31999969482422,
          61.86000061035156,
          63.43000030517578,
          63.15999984741211,
          61.400001525878906,
          61.650001525878906,
          62.16999816894531,
          61.79999923706055,
          62.189998626708984,
          61.16999816894531,
          60.630001068115234,
          60.84000015258789,
          60.79999923706055,
          60.9900016784668,
          62.400001525878906,
          62,
          61.38999938964844,
          56.61000061035156,
          57.119998931884766,
          57.79999923706055,
          58.79999923706055,
          58,
          59.20000076293945,
          59.900001525878906,
          59.900001525878906,
          60.900001525878906,
          60.709999084472656,
          60.33000183105469,
          61.34000015258789,
          61.70000076293945,
          62.279998779296875,
          61.650001525878906,
          61.5,
          61.77000045776367,
          62.529998779296875,
          64.41000366210938,
          64.12000274658203,
          64.25,
          62.439998626708984,
          61.20000076293945,
          61.709999084472656,
          61.369998931884766,
          60.56999969482422,
          60.70000076293945,
          61.630001068115234,
          62.20000076293945,
          61.709999084472656,
          59.02000045776367,
          58.91999816894531,
          59.38999938964844,
          60.900001525878906,
          62.279998779296875,
          62.4900016784668,
          61.599998474121094,
          61.31999969482422,
          61.2599983215332,
          61.68000030517578,
          62.36000061035156,
          61.18000030517578,
          60.540000915527344,
          61.06999969482422,
          61.2599983215332,
          60.70000076293945,
          61.97999954223633,
          62.650001525878906,
          63.31999969482422,
          63.939998626708984,
          64.05000305175781,
          65.4000015258789,
          65.01000213623047,
          65.37999725341797,
          66.16999816894531,
          66.66000366210938,
          66.05000305175781,
          65.05000305175781,
          65.2699966430664,
          65.25,
          66.18000030517578,
          66.27999877929688,
          66.3499984741211,
          65.54000091552734,
          64,
          63.56999969482422,
          63.97999954223633,
          63.25,
          63,
          64.62999725341797,
          63.95000076293945,
          64.37000274658203,
          64.06999969482422,
          64.91000366210938,
          64.7699966430664,
          64.94999694824219,
          65.52999877929688,
          66.31999969482422,
          66.5,
          67.37000274658203,
          67.83000183105469,
          69.36000061035156,
          70.12000274658203,
          71.33000183105469,
          72.58999633789062,
          72.76000213623047,
          72.30999755859375,
          72.69999694824219,
          73.16999816894531,
          74.25,
          73.69999694824219,
          71.45999908447266,
          74.44999694824219
         ],
         "name": "Candlestick",
         "open": [
          46.0099983215332,
          45.52000045776367,
          44.86000061035156,
          44.5,
          44.25,
          45.18000030517578,
          45.25,
          45.459999084472656,
          45.189998626708984,
          45,
          44.95000076293945,
          44.95000076293945,
          45.869998931884766,
          46.650001525878906,
          47.47999954223633,
          48.189998626708984,
          48.099998474121094,
          47.90999984741211,
          47.810001373291016,
          47.11000061035156,
          47.150001525878906,
          46.310001373291016,
          46,
          44.5,
          46.72999954223633,
          46.70000076293945,
          47,
          47.119998931884766,
          47.040000915527344,
          45.45000076293945,
          45.5,
          45.79999923706055,
          45.09000015258789,
          45.209999084472656,
          44.68000030517578,
          45.18000030517578,
          45.7599983215332,
          45.4900016784668,
          45.150001525878906,
          45.060001373291016,
          45.040000915527344,
          44.720001220703125,
          43.84000015258789,
          42.4900016784668,
          42.29999923706055,
          41.7400016784668,
          42,
          42.880001068115234,
          43.099998474121094,
          43.18000030517578,
          42.70000076293945,
          43.31999969482422,
          43.47999954223633,
          43.72999954223633,
          44.16999816894531,
          44.220001220703125,
          42.849998474121094,
          42.79999923706055,
          42.529998779296875,
          42.56999969482422,
          43.130001068115234,
          43.18000030517578,
          42.79999923706055,
          42.779998779296875,
          42.970001220703125,
          42.84000015258789,
          42.9900016784668,
          42.36000061035156,
          42.5,
          42.70000076293945,
          44.52000045776367,
          45.22999954223633,
          45,
          44.66999816894531,
          44.099998474121094,
          43.75,
          43.20000076293945,
          42.91999816894531,
          42.90999984741211,
          43.47999954223633,
          43.88999938964844,
          44.290000915527344,
          44.58000183105469,
          44.209999084472656,
          46.7400016784668,
          46.369998931884766,
          46.400001525878906,
          46.599998474121094,
          46.79999923706055,
          47.400001525878906,
          47.459999084472656,
          47.93000030517578,
          48.2400016784668,
          48.54999923706055,
          48.7599983215332,
          48.5,
          48.75,
          49.380001068115234,
          49.150001525878906,
          48.29999923706055,
          49,
          49.5,
          49.20000076293945,
          50,
          50.47999954223633,
          50.9900016784668,
          51.58000183105469,
          51.90999984741211,
          50.900001525878906,
          53.099998474121094,
          51.77000045776367,
          55.2400016784668,
          57.88999938964844,
          57.349998474121094,
          57.68000030517578,
          59.04999923706055,
          58.310001373291016,
          57.9900016784668,
          57.45000076293945,
          56.31999969482422,
          56.70000076293945,
          57.810001373291016,
          59.02000045776367,
          59.599998474121094,
          59.400001525878906,
          61.09000015258789,
          62.279998779296875,
          61.20000076293945,
          60.97999954223633,
          62.130001068115234,
          62.38999938964844,
          61.79999923706055,
          62.68000030517578,
          61.86000061035156,
          64.19999694824219,
          63.959999084472656,
          62.77000045776367,
          63.099998474121094,
          62.63999938964844,
          63.2400016784668,
          62.68000030517578,
          62.880001068115234,
          61.650001525878906,
          61.970001220703125,
          61.25,
          61.97999954223633,
          62.599998474121094,
          63.560001373291016,
          61.97999954223633,
          57.5,
          58.439998626708984,
          58.439998626708984,
          59.709999084472656,
          58.29999923706055,
          59.59000015258789,
          59.900001525878906,
          60.29999923706055,
          61.09000015258789,
          61,
          61.81999969482422,
          61.40999984741211,
          62.150001525878906,
          62.90999984741211,
          63.04999923706055,
          62.310001373291016,
          62.16999816894531,
          63.25,
          64.41000366210938,
          65.4000015258789,
          65.16000366210938,
          63.849998474121094,
          62.31999969482422,
          62.13999938964844,
          62,
          62.209999084472656,
          61.599998474121094,
          62.099998474121094,
          62.93000030517578,
          62.88999938964844,
          60.54999923706055,
          60,
          59.459999084472656,
          61.20000076293945,
          62.5,
          63.16999816894531,
          62.560001373291016,
          61.63999938964844,
          61.93000030517578,
          62.099998474121094,
          62.400001525878906,
          62.619998931884766,
          61.060001373291016,
          61.75,
          62.54999923706055,
          61.20000076293945,
          62.2400016784668,
          62.650001525878906,
          63.689998626708984,
          64.0199966430664,
          64.5,
          65.72000122070312,
          66.25,
          66.30999755859375,
          66.61000061035156,
          67,
          66.87000274658203,
          67,
          65.93000030517578,
          65.25,
          66.3499984741211,
          66.58000183105469,
          67.27999877929688,
          66.19000244140625,
          64.13999938964844,
          64.30000305175781,
          64.1500015258789,
          65.19999694824219,
          63.689998626708984,
          65.37000274658203,
          66,
          64.66000366210938,
          64.30999755859375,
          65.4800033569336,
          65.5,
          65.63999938964844,
          66.55999755859375,
          66.45999908447266,
          66.98999786376953,
          67.4000015258789,
          68.5,
          69.91000366210938,
          70.95999908447266,
          71.5,
          72.8499984741211,
          73.95999908447266,
          73.08999633789062,
          72.80000305175781,
          73.48999786376953,
          75.04000091552734,
          75.12999725341797,
          72.81999969482422,
          75.19999694824219
         ],
         "type": "candlestick",
         "x": [
          "2024-01-02T00:00:00",
          "2024-01-03T00:00:00",
          "2024-01-04T00:00:00",
          "2024-01-05T00:00:00",
          "2024-01-08T00:00:00",
          "2024-01-09T00:00:00",
          "2024-01-10T00:00:00",
          "2024-01-11T00:00:00",
          "2024-01-12T00:00:00",
          "2024-01-15T00:00:00",
          "2024-01-16T00:00:00",
          "2024-01-17T00:00:00",
          "2024-01-18T00:00:00",
          "2024-01-19T00:00:00",
          "2024-01-22T00:00:00",
          "2024-01-23T00:00:00",
          "2024-01-24T00:00:00",
          "2024-01-25T00:00:00",
          "2024-01-26T00:00:00",
          "2024-01-29T00:00:00",
          "2024-01-30T00:00:00",
          "2024-01-31T00:00:00",
          "2024-02-01T00:00:00",
          "2024-02-02T00:00:00",
          "2024-02-05T00:00:00",
          "2024-02-06T00:00:00",
          "2024-02-07T00:00:00",
          "2024-02-08T00:00:00",
          "2024-02-09T00:00:00",
          "2024-02-14T00:00:00",
          "2024-02-15T00:00:00",
          "2024-02-16T00:00:00",
          "2024-02-19T00:00:00",
          "2024-02-20T00:00:00",
          "2024-02-21T00:00:00",
          "2024-02-22T00:00:00",
          "2024-02-23T00:00:00",
          "2024-02-26T00:00:00",
          "2024-02-27T00:00:00",
          "2024-02-28T00:00:00",
          "2024-02-29T00:00:00",
          "2024-03-01T00:00:00",
          "2024-03-04T00:00:00",
          "2024-03-05T00:00:00",
          "2024-03-06T00:00:00",
          "2024-03-07T00:00:00",
          "2024-03-08T00:00:00",
          "2024-03-11T00:00:00",
          "2024-03-12T00:00:00",
          "2024-03-13T00:00:00",
          "2024-03-14T00:00:00",
          "2024-03-15T00:00:00",
          "2024-03-18T00:00:00",
          "2024-03-19T00:00:00",
          "2024-03-20T00:00:00",
          "2024-03-21T00:00:00",
          "2024-03-22T00:00:00",
          "2024-03-25T00:00:00",
          "2024-03-26T00:00:00",
          "2024-03-27T00:00:00",
          "2024-03-28T00:00:00",
          "2024-04-01T00:00:00",
          "2024-04-02T00:00:00",
          "2024-04-03T00:00:00",
          "2024-04-04T00:00:00",
          "2024-04-05T00:00:00",
          "2024-04-08T00:00:00",
          "2024-04-09T00:00:00",
          "2024-04-10T00:00:00",
          "2024-04-11T00:00:00",
          "2024-04-12T00:00:00",
          "2024-04-15T00:00:00",
          "2024-04-16T00:00:00",
          "2024-04-17T00:00:00",
          "2024-04-18T00:00:00",
          "2024-04-19T00:00:00",
          "2024-04-22T00:00:00",
          "2024-04-23T00:00:00",
          "2024-04-24T00:00:00",
          "2024-04-25T00:00:00",
          "2024-04-26T00:00:00",
          "2024-04-29T00:00:00",
          "2024-04-30T00:00:00",
          "2024-05-02T00:00:00",
          "2024-05-03T00:00:00",
          "2024-05-06T00:00:00",
          "2024-05-07T00:00:00",
          "2024-05-08T00:00:00",
          "2024-05-09T00:00:00",
          "2024-05-10T00:00:00",
          "2024-05-13T00:00:00",
          "2024-05-14T00:00:00",
          "2024-05-15T00:00:00",
          "2024-05-16T00:00:00",
          "2024-05-17T00:00:00",
          "2024-05-20T00:00:00",
          "2024-05-21T00:00:00",
          "2024-05-22T00:00:00",
          "2024-05-23T00:00:00",
          "2024-05-24T00:00:00",
          "2024-05-27T00:00:00",
          "2024-05-28T00:00:00",
          "2024-05-29T00:00:00",
          "2024-05-31T00:00:00",
          "2024-06-03T00:00:00",
          "2024-06-04T00:00:00",
          "2024-06-05T00:00:00",
          "2024-06-06T00:00:00",
          "2024-06-07T00:00:00",
          "2024-06-10T00:00:00",
          "2024-06-11T00:00:00",
          "2024-06-12T00:00:00",
          "2024-06-13T00:00:00",
          "2024-06-14T00:00:00",
          "2024-06-17T00:00:00",
          "2024-06-18T00:00:00",
          "2024-06-19T00:00:00",
          "2024-06-20T00:00:00",
          "2024-06-21T00:00:00",
          "2024-06-24T00:00:00",
          "2024-06-25T00:00:00",
          "2024-06-26T00:00:00",
          "2024-06-27T00:00:00",
          "2024-06-28T00:00:00",
          "2024-07-01T00:00:00",
          "2024-07-02T00:00:00",
          "2024-07-03T00:00:00",
          "2024-07-04T00:00:00",
          "2024-07-05T00:00:00",
          "2024-07-08T00:00:00",
          "2024-07-09T00:00:00",
          "2024-07-10T00:00:00",
          "2024-07-11T00:00:00",
          "2024-07-12T00:00:00",
          "2024-07-15T00:00:00",
          "2024-07-16T00:00:00",
          "2024-07-17T00:00:00",
          "2024-07-18T00:00:00",
          "2024-07-19T00:00:00",
          "2024-07-22T00:00:00",
          "2024-07-23T00:00:00",
          "2024-07-24T00:00:00",
          "2024-07-25T00:00:00",
          "2024-07-26T00:00:00",
          "2024-07-29T00:00:00",
          "2024-07-30T00:00:00",
          "2024-07-31T00:00:00",
          "2024-08-01T00:00:00",
          "2024-08-02T00:00:00",
          "2024-08-05T00:00:00",
          "2024-08-06T00:00:00",
          "2024-08-07T00:00:00",
          "2024-08-08T00:00:00",
          "2024-08-09T00:00:00",
          "2024-08-12T00:00:00",
          "2024-08-13T00:00:00",
          "2024-08-14T00:00:00",
          "2024-08-15T00:00:00",
          "2024-08-16T00:00:00",
          "2024-08-19T00:00:00",
          "2024-08-20T00:00:00",
          "2024-08-21T00:00:00",
          "2024-08-22T00:00:00",
          "2024-08-23T00:00:00",
          "2024-08-26T00:00:00",
          "2024-08-27T00:00:00",
          "2024-08-28T00:00:00",
          "2024-08-29T00:00:00",
          "2024-08-30T00:00:00",
          "2024-09-02T00:00:00",
          "2024-09-03T00:00:00",
          "2024-09-04T00:00:00",
          "2024-09-05T00:00:00",
          "2024-09-06T00:00:00",
          "2024-09-09T00:00:00",
          "2024-09-10T00:00:00",
          "2024-09-11T00:00:00",
          "2024-09-12T00:00:00",
          "2024-09-13T00:00:00",
          "2024-09-16T00:00:00",
          "2024-09-17T00:00:00",
          "2024-09-18T00:00:00",
          "2024-09-19T00:00:00",
          "2024-09-20T00:00:00",
          "2024-09-23T00:00:00",
          "2024-09-24T00:00:00",
          "2024-09-25T00:00:00",
          "2024-09-26T00:00:00",
          "2024-09-27T00:00:00",
          "2024-09-30T00:00:00",
          "2024-10-01T00:00:00",
          "2024-10-02T00:00:00",
          "2024-10-03T00:00:00",
          "2024-10-04T00:00:00",
          "2024-10-07T00:00:00",
          "2024-10-08T00:00:00",
          "2024-10-09T00:00:00",
          "2024-10-10T00:00:00",
          "2024-10-11T00:00:00",
          "2024-10-14T00:00:00",
          "2024-10-15T00:00:00",
          "2024-10-16T00:00:00",
          "2024-10-17T00:00:00",
          "2024-10-18T00:00:00",
          "2024-10-21T00:00:00",
          "2024-10-22T00:00:00",
          "2024-10-23T00:00:00",
          "2024-10-24T00:00:00",
          "2024-10-25T00:00:00",
          "2024-10-28T00:00:00",
          "2024-10-29T00:00:00",
          "2024-10-30T00:00:00",
          "2024-10-31T00:00:00",
          "2024-11-01T00:00:00",
          "2024-11-04T00:00:00",
          "2024-11-05T00:00:00",
          "2024-11-06T00:00:00",
          "2024-11-07T00:00:00",
          "2024-11-08T00:00:00",
          "2024-11-11T00:00:00",
          "2024-11-12T00:00:00",
          "2024-11-13T00:00:00",
          "2024-11-14T00:00:00",
          "2024-11-18T00:00:00",
          "2024-11-19T00:00:00",
          "2024-11-21T00:00:00",
          "2024-11-22T00:00:00",
          "2024-11-25T00:00:00",
          "2024-11-26T00:00:00",
          "2024-11-27T00:00:00",
          "2024-11-28T00:00:00",
          "2024-11-29T00:00:00",
          "2024-12-02T00:00:00",
          "2024-12-03T00:00:00",
          "2024-12-04T00:00:00",
          "2024-12-05T00:00:00",
          "2024-12-06T00:00:00",
          "2024-12-09T00:00:00",
          "2024-12-10T00:00:00",
          "2024-12-11T00:00:00",
          "2024-12-12T00:00:00",
          "2024-12-13T00:00:00"
         ],
         "xaxis": "x",
         "yaxis": "y"
        },
        {
         "mode": "lines",
         "name": "MA7 - Média Móvel 7 Dias",
         "type": "scatter",
         "x": [
          "2024-01-02T00:00:00",
          "2024-01-03T00:00:00",
          "2024-01-04T00:00:00",
          "2024-01-05T00:00:00",
          "2024-01-08T00:00:00",
          "2024-01-09T00:00:00",
          "2024-01-10T00:00:00",
          "2024-01-11T00:00:00",
          "2024-01-12T00:00:00",
          "2024-01-15T00:00:00",
          "2024-01-16T00:00:00",
          "2024-01-17T00:00:00",
          "2024-01-18T00:00:00",
          "2024-01-19T00:00:00",
          "2024-01-22T00:00:00",
          "2024-01-23T00:00:00",
          "2024-01-24T00:00:00",
          "2024-01-25T00:00:00",
          "2024-01-26T00:00:00",
          "2024-01-29T00:00:00",
          "2024-01-30T00:00:00",
          "2024-01-31T00:00:00",
          "2024-02-01T00:00:00",
          "2024-02-02T00:00:00",
          "2024-02-05T00:00:00",
          "2024-02-06T00:00:00",
          "2024-02-07T00:00:00",
          "2024-02-08T00:00:00",
          "2024-02-09T00:00:00",
          "2024-02-14T00:00:00",
          "2024-02-15T00:00:00",
          "2024-02-16T00:00:00",
          "2024-02-19T00:00:00",
          "2024-02-20T00:00:00",
          "2024-02-21T00:00:00",
          "2024-02-22T00:00:00",
          "2024-02-23T00:00:00",
          "2024-02-26T00:00:00",
          "2024-02-27T00:00:00",
          "2024-02-28T00:00:00",
          "2024-02-29T00:00:00",
          "2024-03-01T00:00:00",
          "2024-03-04T00:00:00",
          "2024-03-05T00:00:00",
          "2024-03-06T00:00:00",
          "2024-03-07T00:00:00",
          "2024-03-08T00:00:00",
          "2024-03-11T00:00:00",
          "2024-03-12T00:00:00",
          "2024-03-13T00:00:00",
          "2024-03-14T00:00:00",
          "2024-03-15T00:00:00",
          "2024-03-18T00:00:00",
          "2024-03-19T00:00:00",
          "2024-03-20T00:00:00",
          "2024-03-21T00:00:00",
          "2024-03-22T00:00:00",
          "2024-03-25T00:00:00",
          "2024-03-26T00:00:00",
          "2024-03-27T00:00:00",
          "2024-03-28T00:00:00",
          "2024-04-01T00:00:00",
          "2024-04-02T00:00:00",
          "2024-04-03T00:00:00",
          "2024-04-04T00:00:00",
          "2024-04-05T00:00:00",
          "2024-04-08T00:00:00",
          "2024-04-09T00:00:00",
          "2024-04-10T00:00:00",
          "2024-04-11T00:00:00",
          "2024-04-12T00:00:00",
          "2024-04-15T00:00:00",
          "2024-04-16T00:00:00",
          "2024-04-17T00:00:00",
          "2024-04-18T00:00:00",
          "2024-04-19T00:00:00",
          "2024-04-22T00:00:00",
          "2024-04-23T00:00:00",
          "2024-04-24T00:00:00",
          "2024-04-25T00:00:00",
          "2024-04-26T00:00:00",
          "2024-04-29T00:00:00",
          "2024-04-30T00:00:00",
          "2024-05-02T00:00:00",
          "2024-05-03T00:00:00",
          "2024-05-06T00:00:00",
          "2024-05-07T00:00:00",
          "2024-05-08T00:00:00",
          "2024-05-09T00:00:00",
          "2024-05-10T00:00:00",
          "2024-05-13T00:00:00",
          "2024-05-14T00:00:00",
          "2024-05-15T00:00:00",
          "2024-05-16T00:00:00",
          "2024-05-17T00:00:00",
          "2024-05-20T00:00:00",
          "2024-05-21T00:00:00",
          "2024-05-22T00:00:00",
          "2024-05-23T00:00:00",
          "2024-05-24T00:00:00",
          "2024-05-27T00:00:00",
          "2024-05-28T00:00:00",
          "2024-05-29T00:00:00",
          "2024-05-31T00:00:00",
          "2024-06-03T00:00:00",
          "2024-06-04T00:00:00",
          "2024-06-05T00:00:00",
          "2024-06-06T00:00:00",
          "2024-06-07T00:00:00",
          "2024-06-10T00:00:00",
          "2024-06-11T00:00:00",
          "2024-06-12T00:00:00",
          "2024-06-13T00:00:00",
          "2024-06-14T00:00:00",
          "2024-06-17T00:00:00",
          "2024-06-18T00:00:00",
          "2024-06-19T00:00:00",
          "2024-06-20T00:00:00",
          "2024-06-21T00:00:00",
          "2024-06-24T00:00:00",
          "2024-06-25T00:00:00",
          "2024-06-26T00:00:00",
          "2024-06-27T00:00:00",
          "2024-06-28T00:00:00",
          "2024-07-01T00:00:00",
          "2024-07-02T00:00:00",
          "2024-07-03T00:00:00",
          "2024-07-04T00:00:00",
          "2024-07-05T00:00:00",
          "2024-07-08T00:00:00",
          "2024-07-09T00:00:00",
          "2024-07-10T00:00:00",
          "2024-07-11T00:00:00",
          "2024-07-12T00:00:00",
          "2024-07-15T00:00:00",
          "2024-07-16T00:00:00",
          "2024-07-17T00:00:00",
          "2024-07-18T00:00:00",
          "2024-07-19T00:00:00",
          "2024-07-22T00:00:00",
          "2024-07-23T00:00:00",
          "2024-07-24T00:00:00",
          "2024-07-25T00:00:00",
          "2024-07-26T00:00:00",
          "2024-07-29T00:00:00",
          "2024-07-30T00:00:00",
          "2024-07-31T00:00:00",
          "2024-08-01T00:00:00",
          "2024-08-02T00:00:00",
          "2024-08-05T00:00:00",
          "2024-08-06T00:00:00",
          "2024-08-07T00:00:00",
          "2024-08-08T00:00:00",
          "2024-08-09T00:00:00",
          "2024-08-12T00:00:00",
          "2024-08-13T00:00:00",
          "2024-08-14T00:00:00",
          "2024-08-15T00:00:00",
          "2024-08-16T00:00:00",
          "2024-08-19T00:00:00",
          "2024-08-20T00:00:00",
          "2024-08-21T00:00:00",
          "2024-08-22T00:00:00",
          "2024-08-23T00:00:00",
          "2024-08-26T00:00:00",
          "2024-08-27T00:00:00",
          "2024-08-28T00:00:00",
          "2024-08-29T00:00:00",
          "2024-08-30T00:00:00",
          "2024-09-02T00:00:00",
          "2024-09-03T00:00:00",
          "2024-09-04T00:00:00",
          "2024-09-05T00:00:00",
          "2024-09-06T00:00:00",
          "2024-09-09T00:00:00",
          "2024-09-10T00:00:00",
          "2024-09-11T00:00:00",
          "2024-09-12T00:00:00",
          "2024-09-13T00:00:00",
          "2024-09-16T00:00:00",
          "2024-09-17T00:00:00",
          "2024-09-18T00:00:00",
          "2024-09-19T00:00:00",
          "2024-09-20T00:00:00",
          "2024-09-23T00:00:00",
          "2024-09-24T00:00:00",
          "2024-09-25T00:00:00",
          "2024-09-26T00:00:00",
          "2024-09-27T00:00:00",
          "2024-09-30T00:00:00",
          "2024-10-01T00:00:00",
          "2024-10-02T00:00:00",
          "2024-10-03T00:00:00",
          "2024-10-04T00:00:00",
          "2024-10-07T00:00:00",
          "2024-10-08T00:00:00",
          "2024-10-09T00:00:00",
          "2024-10-10T00:00:00",
          "2024-10-11T00:00:00",
          "2024-10-14T00:00:00",
          "2024-10-15T00:00:00",
          "2024-10-16T00:00:00",
          "2024-10-17T00:00:00",
          "2024-10-18T00:00:00",
          "2024-10-21T00:00:00",
          "2024-10-22T00:00:00",
          "2024-10-23T00:00:00",
          "2024-10-24T00:00:00",
          "2024-10-25T00:00:00",
          "2024-10-28T00:00:00",
          "2024-10-29T00:00:00",
          "2024-10-30T00:00:00",
          "2024-10-31T00:00:00",
          "2024-11-01T00:00:00",
          "2024-11-04T00:00:00",
          "2024-11-05T00:00:00",
          "2024-11-06T00:00:00",
          "2024-11-07T00:00:00",
          "2024-11-08T00:00:00",
          "2024-11-11T00:00:00",
          "2024-11-12T00:00:00",
          "2024-11-13T00:00:00",
          "2024-11-14T00:00:00",
          "2024-11-18T00:00:00",
          "2024-11-19T00:00:00",
          "2024-11-21T00:00:00",
          "2024-11-22T00:00:00",
          "2024-11-25T00:00:00",
          "2024-11-26T00:00:00",
          "2024-11-27T00:00:00",
          "2024-11-28T00:00:00",
          "2024-11-29T00:00:00",
          "2024-12-02T00:00:00",
          "2024-12-03T00:00:00",
          "2024-12-04T00:00:00",
          "2024-12-05T00:00:00",
          "2024-12-06T00:00:00",
          "2024-12-09T00:00:00",
          "2024-12-10T00:00:00",
          "2024-12-11T00:00:00",
          "2024-12-12T00:00:00",
          "2024-12-13T00:00:00"
         ],
         "xaxis": "x",
         "y": [
          null,
          null,
          null,
          null,
          null,
          null,
          45.077142987932476,
          44.96571404593332,
          44.93857084001814,
          45.04571369716099,
          45.16142817905971,
          45.13571384974888,
          45.28857094900949,
          45.548570905412944,
          46.0028566632952,
          46.471428462437224,
          46.82142857142857,
          47.18999971662249,
          47.48999949863979,
          47.63571384974888,
          47.495713915143696,
          47.18285696847098,
          46.8985710144043,
          46.69285637991769,
          46.547142028808594,
          46.48999949863979,
          46.414285387311665,
          46.52142824445452,
          46.64428547450474,
          46.60000010899135,
          46.55000032697405,
          46.361428941999165,
          46.20857184273856,
          45.88714327130999,
          45.57857186453683,
          45.42142868041992,
          45.37142835344587,
          45.26571382795061,
          45.204285212925505,
          45.11142785208566,
          45.13428497314453,
          45.09142793927874,
          44.76571382795061,
          44.31285694667271,
          43.844285692487446,
          43.401428767613005,
          43.08714294433594,
          42.83142852783203,
          42.63714272635324,
          42.52571432931082,
          42.655714307512554,
          42.842857360839844,
          43.10857173374721,
          43.29857199532645,
          43.474286215645925,
          43.41428647722517,
          43.48714338030134,
          43.41428593226841,
          43.30571419852121,
          43.22428567068918,
          43.07857131958008,
          42.92142868041992,
          42.915714263916016,
          42.85571452549526,
          42.861428941999165,
          42.95428630283901,
          42.87142889840262,
          42.794285910470144,
          42.714285714285715,
          42.95857129778181,
          43.25999995640346,
          43.552856990269255,
          43.77571432931082,
          44.02285712105887,
          44.23000008719308,
          44.30000032697405,
          44.08428628104074,
          43.76285770961216,
          43.53857203892299,
          43.43142918178013,
          43.30857195172991,
          43.378572191510884,
          43.58714348929269,
          43.83714348929269,
          44.37285777500698,
          44.772857666015625,
          45.12285723005022,
          45.5471431187221,
          45.9514285496303,
          46.30857140677316,
          46.78857149396624,
          47.0485714503697,
          47.39714322771345,
          47.72714342389788,
          48.03285762241909,
          48.254286084856304,
          48.57857186453683,
          48.737142835344585,
          48.73857116699219,
          48.78999982561384,
          48.90999984741211,
          49.00285720825195,
          49.077142987932476,
          49.24285725184849,
          49.48000008719308,
          49.905714307512554,
          50.32857131958008,
          50.528571537562776,
          51.03142874581473,
          51.384286063058035,
          52.132857186453684,
          53.102857317243306,
          53.99000004359654,
          54.76714270455496,
          55.90857097080776,
          56.72285679408482,
          57.71142796107701,
          57.958570752825054,
          57.86714226858957,
          57.678570883614675,
          57.65285655430385,
          57.664285387311665,
          57.7542849949428,
          57.81428527832031,
          58.38428551810129,
          59.17142813546317,
          59.94285692487444,
          60.625714438302175,
          61.04142870221819,
          61.50142887660435,
          61.87857164655413,
          62.12999997820173,
          62.00857162475586,
          62.167143140520366,
          62.42571422031948,
          62.70714242117746,
          62.8014281136649,
          62.914285387311665,
          62.9042854309082,
          63.004285539899556,
          63.02428545270647,
          62.705714089529856,
          62.33857127598354,
          62.147142682756694,
          61.95714242117746,
          61.735713958740234,
          61.81285694667271,
          61.705714089529856,
          61.85285677228655,
          61.714285714285715,
          61.28428595406668,
          60.97142900739397,
          60.66571480887277,
          60.222857339041575,
          59.87999997820173,
          59.544285910470144,
          59.59142848423549,
          60.01142828805106,
          60.3985710144043,
          60.64285659790039,
          60.978571210588726,
          61.35000010899135,
          61.754286084856304,
          61.96285738263811,
          62.07285744803293,
          62.18857192993164,
          62.452857971191406,
          62.78142874581473,
          63.07428577968052,
          63.254285539899556,
          63.31714303152902,
          63.31285694667271,
          63.18142809186663,
          62.99428503853934,
          62.597142355782644,
          62.31857081821987,
          62.14285659790039,
          62.16857092721121,
          62.115713936941965,
          61.79285703386579,
          61.47714287894113,
          61.245714460100444,
          61.205714634486604,
          61.28285762241909,
          61.26000050136021,
          61.28857203892299,
          61.612857818603516,
          61.9957150050572,
          62.22857230050223,
          62.411429268973215,
          62.12285777500698,
          62.03857203892299,
          61.97714342389788,
          61.972857339041575,
          61.778571537562776,
          61.87857164655413,
          62.00571496146066,
          62.36000006539481,
          62.664285387311665,
          63.1042856488909,
          63.70428575788225,
          64.37857110159737,
          64.85714285714286,
          65.22428567068917,
          65.67571476527623,
          66.13285827636719,
          66.24857221330915,
          66.19285801478794,
          66.32714407784599,
          66.48000117710659,
          66.57571520124164,
          66.47285788399833,
          66.28999982561383,
          66.30285753522601,
          66.1557148524693,
          65.82428632463727,
          65.38571439470563,
          64.97428621564593,
          64.7985725402832,
          64.5871445792062,
          64.45714405604771,
          64.60143007550921,
          64.90857315063477,
          65.16857365199498,
          65.31000191824776,
          65.46428680419922,
          65.788572038923,
          66.05428641183036,
          66.48428562709263,
          66.96428571428571,
          67.68999917166573,
          68.49857003348214,
          69.42571367536273,
          70.41142817905971,
          71.42285701206752,
          72.01999991280692,
          72.6085706438337,
          73.23857116699219,
          73.80285753522601,
          73.96000017438617,
          74.08857182094029,
          74.23857116699219
         ],
         "yaxis": "y"
        },
        {
         "mode": "lines",
         "name": "MA14 - Média Móvel 14 Dias",
         "type": "scatter",
         "x": [
          "2024-01-02T00:00:00",
          "2024-01-03T00:00:00",
          "2024-01-04T00:00:00",
          "2024-01-05T00:00:00",
          "2024-01-08T00:00:00",
          "2024-01-09T00:00:00",
          "2024-01-10T00:00:00",
          "2024-01-11T00:00:00",
          "2024-01-12T00:00:00",
          "2024-01-15T00:00:00",
          "2024-01-16T00:00:00",
          "2024-01-17T00:00:00",
          "2024-01-18T00:00:00",
          "2024-01-19T00:00:00",
          "2024-01-22T00:00:00",
          "2024-01-23T00:00:00",
          "2024-01-24T00:00:00",
          "2024-01-25T00:00:00",
          "2024-01-26T00:00:00",
          "2024-01-29T00:00:00",
          "2024-01-30T00:00:00",
          "2024-01-31T00:00:00",
          "2024-02-01T00:00:00",
          "2024-02-02T00:00:00",
          "2024-02-05T00:00:00",
          "2024-02-06T00:00:00",
          "2024-02-07T00:00:00",
          "2024-02-08T00:00:00",
          "2024-02-09T00:00:00",
          "2024-02-14T00:00:00",
          "2024-02-15T00:00:00",
          "2024-02-16T00:00:00",
          "2024-02-19T00:00:00",
          "2024-02-20T00:00:00",
          "2024-02-21T00:00:00",
          "2024-02-22T00:00:00",
          "2024-02-23T00:00:00",
          "2024-02-26T00:00:00",
          "2024-02-27T00:00:00",
          "2024-02-28T00:00:00",
          "2024-02-29T00:00:00",
          "2024-03-01T00:00:00",
          "2024-03-04T00:00:00",
          "2024-03-05T00:00:00",
          "2024-03-06T00:00:00",
          "2024-03-07T00:00:00",
          "2024-03-08T00:00:00",
          "2024-03-11T00:00:00",
          "2024-03-12T00:00:00",
          "2024-03-13T00:00:00",
          "2024-03-14T00:00:00",
          "2024-03-15T00:00:00",
          "2024-03-18T00:00:00",
          "2024-03-19T00:00:00",
          "2024-03-20T00:00:00",
          "2024-03-21T00:00:00",
          "2024-03-22T00:00:00",
          "2024-03-25T00:00:00",
          "2024-03-26T00:00:00",
          "2024-03-27T00:00:00",
          "2024-03-28T00:00:00",
          "2024-04-01T00:00:00",
          "2024-04-02T00:00:00",
          "2024-04-03T00:00:00",
          "2024-04-04T00:00:00",
          "2024-04-05T00:00:00",
          "2024-04-08T00:00:00",
          "2024-04-09T00:00:00",
          "2024-04-10T00:00:00",
          "2024-04-11T00:00:00",
          "2024-04-12T00:00:00",
          "2024-04-15T00:00:00",
          "2024-04-16T00:00:00",
          "2024-04-17T00:00:00",
          "2024-04-18T00:00:00",
          "2024-04-19T00:00:00",
          "2024-04-22T00:00:00",
          "2024-04-23T00:00:00",
          "2024-04-24T00:00:00",
          "2024-04-25T00:00:00",
          "2024-04-26T00:00:00",
          "2024-04-29T00:00:00",
          "2024-04-30T00:00:00",
          "2024-05-02T00:00:00",
          "2024-05-03T00:00:00",
          "2024-05-06T00:00:00",
          "2024-05-07T00:00:00",
          "2024-05-08T00:00:00",
          "2024-05-09T00:00:00",
          "2024-05-10T00:00:00",
          "2024-05-13T00:00:00",
          "2024-05-14T00:00:00",
          "2024-05-15T00:00:00",
          "2024-05-16T00:00:00",
          "2024-05-17T00:00:00",
          "2024-05-20T00:00:00",
          "2024-05-21T00:00:00",
          "2024-05-22T00:00:00",
          "2024-05-23T00:00:00",
          "2024-05-24T00:00:00",
          "2024-05-27T00:00:00",
          "2024-05-28T00:00:00",
          "2024-05-29T00:00:00",
          "2024-05-31T00:00:00",
          "2024-06-03T00:00:00",
          "2024-06-04T00:00:00",
          "2024-06-05T00:00:00",
          "2024-06-06T00:00:00",
          "2024-06-07T00:00:00",
          "2024-06-10T00:00:00",
          "2024-06-11T00:00:00",
          "2024-06-12T00:00:00",
          "2024-06-13T00:00:00",
          "2024-06-14T00:00:00",
          "2024-06-17T00:00:00",
          "2024-06-18T00:00:00",
          "2024-06-19T00:00:00",
          "2024-06-20T00:00:00",
          "2024-06-21T00:00:00",
          "2024-06-24T00:00:00",
          "2024-06-25T00:00:00",
          "2024-06-26T00:00:00",
          "2024-06-27T00:00:00",
          "2024-06-28T00:00:00",
          "2024-07-01T00:00:00",
          "2024-07-02T00:00:00",
          "2024-07-03T00:00:00",
          "2024-07-04T00:00:00",
          "2024-07-05T00:00:00",
          "2024-07-08T00:00:00",
          "2024-07-09T00:00:00",
          "2024-07-10T00:00:00",
          "2024-07-11T00:00:00",
          "2024-07-12T00:00:00",
          "2024-07-15T00:00:00",
          "2024-07-16T00:00:00",
          "2024-07-17T00:00:00",
          "2024-07-18T00:00:00",
          "2024-07-19T00:00:00",
          "2024-07-22T00:00:00",
          "2024-07-23T00:00:00",
          "2024-07-24T00:00:00",
          "2024-07-25T00:00:00",
          "2024-07-26T00:00:00",
          "2024-07-29T00:00:00",
          "2024-07-30T00:00:00",
          "2024-07-31T00:00:00",
          "2024-08-01T00:00:00",
          "2024-08-02T00:00:00",
          "2024-08-05T00:00:00",
          "2024-08-06T00:00:00",
          "2024-08-07T00:00:00",
          "2024-08-08T00:00:00",
          "2024-08-09T00:00:00",
          "2024-08-12T00:00:00",
          "2024-08-13T00:00:00",
          "2024-08-14T00:00:00",
          "2024-08-15T00:00:00",
          "2024-08-16T00:00:00",
          "2024-08-19T00:00:00",
          "2024-08-20T00:00:00",
          "2024-08-21T00:00:00",
          "2024-08-22T00:00:00",
          "2024-08-23T00:00:00",
          "2024-08-26T00:00:00",
          "2024-08-27T00:00:00",
          "2024-08-28T00:00:00",
          "2024-08-29T00:00:00",
          "2024-08-30T00:00:00",
          "2024-09-02T00:00:00",
          "2024-09-03T00:00:00",
          "2024-09-04T00:00:00",
          "2024-09-05T00:00:00",
          "2024-09-06T00:00:00",
          "2024-09-09T00:00:00",
          "2024-09-10T00:00:00",
          "2024-09-11T00:00:00",
          "2024-09-12T00:00:00",
          "2024-09-13T00:00:00",
          "2024-09-16T00:00:00",
          "2024-09-17T00:00:00",
          "2024-09-18T00:00:00",
          "2024-09-19T00:00:00",
          "2024-09-20T00:00:00",
          "2024-09-23T00:00:00",
          "2024-09-24T00:00:00",
          "2024-09-25T00:00:00",
          "2024-09-26T00:00:00",
          "2024-09-27T00:00:00",
          "2024-09-30T00:00:00",
          "2024-10-01T00:00:00",
          "2024-10-02T00:00:00",
          "2024-10-03T00:00:00",
          "2024-10-04T00:00:00",
          "2024-10-07T00:00:00",
          "2024-10-08T00:00:00",
          "2024-10-09T00:00:00",
          "2024-10-10T00:00:00",
          "2024-10-11T00:00:00",
          "2024-10-14T00:00:00",
          "2024-10-15T00:00:00",
          "2024-10-16T00:00:00",
          "2024-10-17T00:00:00",
          "2024-10-18T00:00:00",
          "2024-10-21T00:00:00",
          "2024-10-22T00:00:00",
          "2024-10-23T00:00:00",
          "2024-10-24T00:00:00",
          "2024-10-25T00:00:00",
          "2024-10-28T00:00:00",
          "2024-10-29T00:00:00",
          "2024-10-30T00:00:00",
          "2024-10-31T00:00:00",
          "2024-11-01T00:00:00",
          "2024-11-04T00:00:00",
          "2024-11-05T00:00:00",
          "2024-11-06T00:00:00",
          "2024-11-07T00:00:00",
          "2024-11-08T00:00:00",
          "2024-11-11T00:00:00",
          "2024-11-12T00:00:00",
          "2024-11-13T00:00:00",
          "2024-11-14T00:00:00",
          "2024-11-18T00:00:00",
          "2024-11-19T00:00:00",
          "2024-11-21T00:00:00",
          "2024-11-22T00:00:00",
          "2024-11-25T00:00:00",
          "2024-11-26T00:00:00",
          "2024-11-27T00:00:00",
          "2024-11-28T00:00:00",
          "2024-11-29T00:00:00",
          "2024-12-02T00:00:00",
          "2024-12-03T00:00:00",
          "2024-12-04T00:00:00",
          "2024-12-05T00:00:00",
          "2024-12-06T00:00:00",
          "2024-12-09T00:00:00",
          "2024-12-10T00:00:00",
          "2024-12-11T00:00:00",
          "2024-12-12T00:00:00",
          "2024-12-13T00:00:00"
         ],
         "xaxis": "x",
         "y": [
          null,
          null,
          null,
          null,
          null,
          null,
          null,
          null,
          null,
          null,
          null,
          null,
          null,
          45.31285694667271,
          45.48428535461426,
          45.70499965122768,
          45.93357113429478,
          46.175713947841096,
          46.312856674194336,
          46.46214239937918,
          46.52214241027832,
          46.59285681588309,
          46.68499973842076,
          46.75714247567313,
          46.868570872715544,
          46.98999949863979,
          47.02499961853027,
          47.008571079799104,
          46.913571221487864,
          46.749285561697825,
          46.62142835344587,
          46.45428548540388,
          46.34928567068918,
          46.15071432931082,
          46.050000054495676,
          46.03285707746233,
          45.98571423121861,
          45.90785707746233,
          45.78285707746233,
          45.65999984741211,
          45.51071412222726,
          45.334999901907786,
          45.09357125418527,
          44.842142650059294,
          44.554999760219026,
          44.302856990269255,
          44.099285398210796,
          43.98285675048828,
          43.86428533281599,
          43.64571407863072,
          43.48428562709263,
          43.343571526663645,
          43.255000250680105,
          43.192857469831196,
          43.15285737173898,
          43.025714601789204,
          43.00642885480608,
          43.03500011989048,
          43.07428577968052,
          43.16642870221819,
          43.18857165745327,
          43.19785744803293,
          43.16500037057059,
          43.171428952898296,
          43.13785743713379,
          43.130000250680105,
          43.0478572845459,
          42.936428615025115,
          42.817857197352815,
          42.93714278084891,
          43.05785724094936,
          43.20714296613421,
          43.36500031607492,
          43.447143009730745,
          43.512142998831614,
          43.50714302062988,
          43.521428789411274,
          43.51142883300781,
          43.54571451459612,
          43.60357175554548,
          43.66571453639439,
          43.80428613935198,
          43.94357190813337,
          43.960714885166716,
          44.06785774230957,
          44.15571485246931,
          44.27714320591518,
          44.427857535226,
          44.66500037057059,
          44.94785744803293,
          45.312857491629465,
          45.710714612688335,
          46.085000446864534,
          46.42500032697405,
          46.79000037057059,
          47.102857317243306,
          47.443571635655,
          47.762857164655415,
          47.89357130868094,
          48.093571526663645,
          48.318571635655,
          48.51785741533552,
          48.66571453639439,
          48.91071455819266,
          49.10857146126883,
          49.32214273725237,
          49.559285572596956,
          49.719285692487446,
          50.017142977033345,
          50.23071452549526,
          50.68785721915109,
          51.29142870221819,
          51.947857175554546,
          52.547857012067524,
          53.21857125418527,
          53.87714276994978,
          54.547857012067524,
          55.04571396963937,
          55.48499979291643,
          55.83428546360561,
          56.20999962942941,
          56.78642817905971,
          57.23857089451381,
          57.76285661969866,
          58.17142813546317,
          58.51928520202637,
          58.81071390424456,
          59.13928549630301,
          59.352857044764924,
          59.62785693577358,
          59.846428462437224,
          60.25714274815151,
          60.58999988010952,
          61.05500003269741,
          61.52571432931082,
          61.874285561697825,
          62.151428495134624,
          62.39642851693289,
          62.51714270455496,
          62.50642858232771,
          62.59571429661342,
          62.56571415492466,
          62.522856848580496,
          62.474285398210796,
          62.43571390424456,
          62.31999969482422,
          62.40857124328613,
          62.364999771118164,
          62.2792854309082,
          62.026428495134624,
          61.71571431841169,
          61.464285714285715,
          61.2007143838065,
          61.017857142857146,
          60.79285703386579,
          60.69857134137835,
          60.6528570992606,
          60.64785712105887,
          60.68500001089914,
          60.65428570338658,
          60.600714274815154,
          60.61500004359654,
          60.64928599766323,
          60.7771429334368,
          61.04214286804199,
          61.29357147216797,
          61.5478572845459,
          61.87999997820173,
          62.21214294433594,
          62.50428581237793,
          62.64000020708357,
          62.692857197352815,
          62.68500001089914,
          62.723571504865376,
          62.68928555079869,
          62.696428298950195,
          62.69857106889997,
          62.74285697937012,
          62.71428544180734,
          62.48714256286621,
          62.235713958740234,
          61.92142840794155,
          61.76214272635324,
          61.71285711015974,
          61.714285714285715,
          61.702142987932476,
          61.70285742623465,
          61.736428941999165,
          61.73714338030134,
          61.80857195172991,
          61.70285769871303,
          61.6492862701416,
          61.63285773141043,
          61.79285757882254,
          61.88714327130999,
          62.05357197352818,
          62.20857211521694,
          62.241428920200896,
          62.35142871311733,
          62.54071453639439,
          62.838571548461914,
          63.07857131958008,
          63.36785725184849,
          63.61500031607492,
          64.01785741533551,
          64.39857183183942,
          64.67642893110003,
          64.9485718863351,
          65.35285758972168,
          65.66857201712472,
          65.9000004359654,
          66.07428632463727,
          66.21142905099052,
          66.27571487426758,
          66.17428643362862,
          66.07571520124164,
          65.93285778590611,
          65.77500070844378,
          65.63571521214077,
          65.43857220241001,
          65.38000079563686,
          65.37857246398926,
          65.36642973763603,
          65.2771440233503,
          65.14214406694684,
          65.13142967224121,
          65.1878583090646,
          65.25571523393903,
          65.54285785130092,
          65.93642943246024,
          66.42928641183036,
          66.90428597586495,
          67.44500023978097,
          68.10000010899135,
          68.73857171194894,
          69.25214276994977,
          69.78642817905971,
          70.46428516932896,
          71.15071378435407,
          71.69285692487445,
          72.25,
          72.83071408952985
         ],
         "yaxis": "y"
        },
        {
         "name": "Volume",
         "type": "bar",
         "x": [
          "2024-01-02T00:00:00",
          "2024-01-03T00:00:00",
          "2024-01-04T00:00:00",
          "2024-01-05T00:00:00",
          "2024-01-08T00:00:00",
          "2024-01-09T00:00:00",
          "2024-01-10T00:00:00",
          "2024-01-11T00:00:00",
          "2024-01-12T00:00:00",
          "2024-01-15T00:00:00",
          "2024-01-16T00:00:00",
          "2024-01-17T00:00:00",
          "2024-01-18T00:00:00",
          "2024-01-19T00:00:00",
          "2024-01-22T00:00:00",
          "2024-01-23T00:00:00",
          "2024-01-24T00:00:00",
          "2024-01-25T00:00:00",
          "2024-01-26T00:00:00",
          "2024-01-29T00:00:00",
          "2024-01-30T00:00:00",
          "2024-01-31T00:00:00",
          "2024-02-01T00:00:00",
          "2024-02-02T00:00:00",
          "2024-02-05T00:00:00",
          "2024-02-06T00:00:00",
          "2024-02-07T00:00:00",
          "2024-02-08T00:00:00",
          "2024-02-09T00:00:00",
          "2024-02-14T00:00:00",
          "2024-02-15T00:00:00",
          "2024-02-16T00:00:00",
          "2024-02-19T00:00:00",
          "2024-02-20T00:00:00",
          "2024-02-21T00:00:00",
          "2024-02-22T00:00:00",
          "2024-02-23T00:00:00",
          "2024-02-26T00:00:00",
          "2024-02-27T00:00:00",
          "2024-02-28T00:00:00",
          "2024-02-29T00:00:00",
          "2024-03-01T00:00:00",
          "2024-03-04T00:00:00",
          "2024-03-05T00:00:00",
          "2024-03-06T00:00:00",
          "2024-03-07T00:00:00",
          "2024-03-08T00:00:00",
          "2024-03-11T00:00:00",
          "2024-03-12T00:00:00",
          "2024-03-13T00:00:00",
          "2024-03-14T00:00:00",
          "2024-03-15T00:00:00",
          "2024-03-18T00:00:00",
          "2024-03-19T00:00:00",
          "2024-03-20T00:00:00",
          "2024-03-21T00:00:00",
          "2024-03-22T00:00:00",
          "2024-03-25T00:00:00",
          "2024-03-26T00:00:00",
          "2024-03-27T00:00:00",
          "2024-03-28T00:00:00",
          "2024-04-01T00:00:00",
          "2024-04-02T00:00:00",
          "2024-04-03T00:00:00",
          "2024-04-04T00:00:00",
          "2024-04-05T00:00:00",
          "2024-04-08T00:00:00",
          "2024-04-09T00:00:00",
          "2024-04-10T00:00:00",
          "2024-04-11T00:00:00",
          "2024-04-12T00:00:00",
          "2024-04-15T00:00:00",
          "2024-04-16T00:00:00",
          "2024-04-17T00:00:00",
          "2024-04-18T00:00:00",
          "2024-04-19T00:00:00",
          "2024-04-22T00:00:00",
          "2024-04-23T00:00:00",
          "2024-04-24T00:00:00",
          "2024-04-25T00:00:00",
          "2024-04-26T00:00:00",
          "2024-04-29T00:00:00",
          "2024-04-30T00:00:00",
          "2024-05-02T00:00:00",
          "2024-05-03T00:00:00",
          "2024-05-06T00:00:00",
          "2024-05-07T00:00:00",
          "2024-05-08T00:00:00",
          "2024-05-09T00:00:00",
          "2024-05-10T00:00:00",
          "2024-05-13T00:00:00",
          "2024-05-14T00:00:00",
          "2024-05-15T00:00:00",
          "2024-05-16T00:00:00",
          "2024-05-17T00:00:00",
          "2024-05-20T00:00:00",
          "2024-05-21T00:00:00",
          "2024-05-22T00:00:00",
          "2024-05-23T00:00:00",
          "2024-05-24T00:00:00",
          "2024-05-27T00:00:00",
          "2024-05-28T00:00:00",
          "2024-05-29T00:00:00",
          "2024-05-31T00:00:00",
          "2024-06-03T00:00:00",
          "2024-06-04T00:00:00",
          "2024-06-05T00:00:00",
          "2024-06-06T00:00:00",
          "2024-06-07T00:00:00",
          "2024-06-10T00:00:00",
          "2024-06-11T00:00:00",
          "2024-06-12T00:00:00",
          "2024-06-13T00:00:00",
          "2024-06-14T00:00:00",
          "2024-06-17T00:00:00",
          "2024-06-18T00:00:00",
          "2024-06-19T00:00:00",
          "2024-06-20T00:00:00",
          "2024-06-21T00:00:00",
          "2024-06-24T00:00:00",
          "2024-06-25T00:00:00",
          "2024-06-26T00:00:00",
          "2024-06-27T00:00:00",
          "2024-06-28T00:00:00",
          "2024-07-01T00:00:00",
          "2024-07-02T00:00:00",
          "2024-07-03T00:00:00",
          "2024-07-04T00:00:00",
          "2024-07-05T00:00:00",
          "2024-07-08T00:00:00",
          "2024-07-09T00:00:00",
          "2024-07-10T00:00:00",
          "2024-07-11T00:00:00",
          "2024-07-12T00:00:00",
          "2024-07-15T00:00:00",
          "2024-07-16T00:00:00",
          "2024-07-17T00:00:00",
          "2024-07-18T00:00:00",
          "2024-07-19T00:00:00",
          "2024-07-22T00:00:00",
          "2024-07-23T00:00:00",
          "2024-07-24T00:00:00",
          "2024-07-25T00:00:00",
          "2024-07-26T00:00:00",
          "2024-07-29T00:00:00",
          "2024-07-30T00:00:00",
          "2024-07-31T00:00:00",
          "2024-08-01T00:00:00",
          "2024-08-02T00:00:00",
          "2024-08-05T00:00:00",
          "2024-08-06T00:00:00",
          "2024-08-07T00:00:00",
          "2024-08-08T00:00:00",
          "2024-08-09T00:00:00",
          "2024-08-12T00:00:00",
          "2024-08-13T00:00:00",
          "2024-08-14T00:00:00",
          "2024-08-15T00:00:00",
          "2024-08-16T00:00:00",
          "2024-08-19T00:00:00",
          "2024-08-20T00:00:00",
          "2024-08-21T00:00:00",
          "2024-08-22T00:00:00",
          "2024-08-23T00:00:00",
          "2024-08-26T00:00:00",
          "2024-08-27T00:00:00",
          "2024-08-28T00:00:00",
          "2024-08-29T00:00:00",
          "2024-08-30T00:00:00",
          "2024-09-02T00:00:00",
          "2024-09-03T00:00:00",
          "2024-09-04T00:00:00",
          "2024-09-05T00:00:00",
          "2024-09-06T00:00:00",
          "2024-09-09T00:00:00",
          "2024-09-10T00:00:00",
          "2024-09-11T00:00:00",
          "2024-09-12T00:00:00",
          "2024-09-13T00:00:00",
          "2024-09-16T00:00:00",
          "2024-09-17T00:00:00",
          "2024-09-18T00:00:00",
          "2024-09-19T00:00:00",
          "2024-09-20T00:00:00",
          "2024-09-23T00:00:00",
          "2024-09-24T00:00:00",
          "2024-09-25T00:00:00",
          "2024-09-26T00:00:00",
          "2024-09-27T00:00:00",
          "2024-09-30T00:00:00",
          "2024-10-01T00:00:00",
          "2024-10-02T00:00:00",
          "2024-10-03T00:00:00",
          "2024-10-04T00:00:00",
          "2024-10-07T00:00:00",
          "2024-10-08T00:00:00",
          "2024-10-09T00:00:00",
          "2024-10-10T00:00:00",
          "2024-10-11T00:00:00",
          "2024-10-14T00:00:00",
          "2024-10-15T00:00:00",
          "2024-10-16T00:00:00",
          "2024-10-17T00:00:00",
          "2024-10-18T00:00:00",
          "2024-10-21T00:00:00",
          "2024-10-22T00:00:00",
          "2024-10-23T00:00:00",
          "2024-10-24T00:00:00",
          "2024-10-25T00:00:00",
          "2024-10-28T00:00:00",
          "2024-10-29T00:00:00",
          "2024-10-30T00:00:00",
          "2024-10-31T00:00:00",
          "2024-11-01T00:00:00",
          "2024-11-04T00:00:00",
          "2024-11-05T00:00:00",
          "2024-11-06T00:00:00",
          "2024-11-07T00:00:00",
          "2024-11-08T00:00:00",
          "2024-11-11T00:00:00",
          "2024-11-12T00:00:00",
          "2024-11-13T00:00:00",
          "2024-11-14T00:00:00",
          "2024-11-18T00:00:00",
          "2024-11-19T00:00:00",
          "2024-11-21T00:00:00",
          "2024-11-22T00:00:00",
          "2024-11-25T00:00:00",
          "2024-11-26T00:00:00",
          "2024-11-27T00:00:00",
          "2024-11-28T00:00:00",
          "2024-11-29T00:00:00",
          "2024-12-02T00:00:00",
          "2024-12-03T00:00:00",
          "2024-12-04T00:00:00",
          "2024-12-05T00:00:00",
          "2024-12-06T00:00:00",
          "2024-12-09T00:00:00",
          "2024-12-10T00:00:00",
          "2024-12-11T00:00:00",
          "2024-12-12T00:00:00",
          "2024-12-13T00:00:00"
         ],
         "xaxis": "x2",
         "y": [
          183240,
          120009,
          246543,
          139128,
          299849,
          157523,
          209623,
          123973,
          60448,
          60747,
          265118,
          540363,
          251062,
          93823,
          242232,
          143304,
          119975,
          101346,
          105883,
          101664,
          228001,
          197906,
          328780,
          287047,
          191768,
          88491,
          130876,
          166946,
          96609,
          217062,
          181562,
          182545,
          121406,
          117306,
          142197,
          160429,
          64878,
          83611,
          215219,
          116537,
          209768,
          254992,
          640164,
          351883,
          265021,
          298674,
          298351,
          228240,
          386997,
          195592,
          142352,
          154522,
          404154,
          168507,
          198614,
          453724,
          392429,
          100685,
          256497,
          288757,
          224359,
          59287,
          113520,
          134239,
          183175,
          100690,
          158839,
          314778,
          56486,
          303690,
          412244,
          253034,
          155298,
          99899,
          79667,
          114350,
          190341,
          100040,
          62480,
          99446,
          71581,
          444113,
          225958,
          477907,
          710014,
          294766,
          199098,
          70002,
          109609,
          90631,
          220172,
          106814,
          91781,
          108445,
          54971,
          139837,
          354095,
          92629,
          159081,
          103271,
          30743,
          195948,
          111524,
          178863,
          869057,
          91666,
          131726,
          183685,
          762480,
          382678,
          649071,
          644541,
          322849,
          205297,
          243876,
          260758,
          98275,
          766853,
          236722,
          253464,
          133908,
          360027,
          273454,
          241681,
          233506,
          283277,
          282901,
          85134,
          246867,
          334648,
          147928,
          163218,
          226695,
          305498,
          205878,
          121827,
          399233,
          272803,
          120089,
          114377,
          74087,
          323336,
          274614,
          99899,
          87089,
          116517,
          314390,
          202839,
          409066,
          1056294,
          493634,
          462487,
          167715,
          155083,
          164524,
          157320,
          121776,
          98052,
          138100,
          232490,
          203668,
          185799,
          258099,
          183324,
          113711,
          118010,
          115455,
          332989,
          341217,
          58866,
          181379,
          230328,
          116233,
          130984,
          142568,
          174127,
          168595,
          87097,
          87068,
          389957,
          194601,
          180982,
          199378,
          219873,
          205905,
          137301,
          118510,
          271088,
          144020,
          235187,
          269125,
          182455,
          137253,
          213008,
          116814,
          115571,
          135042,
          54147,
          124978,
          91801,
          259373,
          159983,
          94853,
          143898,
          286659,
          212432,
          264044,
          87866,
          160341,
          124160,
          169365,
          177297,
          199661,
          338570,
          182794,
          145817,
          425229,
          187215,
          177526,
          339666,
          154268,
          265261,
          177748,
          219175,
          122380,
          186596,
          77474,
          133771,
          136112,
          351546,
          88962,
          187499,
          441308,
          217449,
          236825,
          115669,
          197586,
          319138,
          253209,
          380779,
          286615,
          42313
         ],
         "yaxis": "y2"
        }
       ],
       "layout": {
        "annotations": [
         {
          "font": {
           "size": 16
          },
          "showarrow": false,
          "text": "Candlesticks",
          "x": 0.5,
          "xanchor": "center",
          "xref": "paper",
          "y": 1,
          "yanchor": "bottom",
          "yref": "paper"
         },
         {
          "font": {
           "size": 16
          },
          "showarrow": false,
          "text": "Volume Transacionado",
          "x": 0.5,
          "xanchor": "center",
          "xref": "paper",
          "y": 0.20000000000000004,
          "yanchor": "bottom",
          "yref": "paper"
         }
        ],
        "height": 600,
        "template": {
         "data": {
          "bar": [
           {
            "error_x": {
             "color": "#2a3f5f"
            },
            "error_y": {
             "color": "#2a3f5f"
            },
            "marker": {
             "line": {
              "color": "#E5ECF6",
              "width": 0.5
             },
             "pattern": {
              "fillmode": "overlay",
              "size": 10,
              "solidity": 0.2
             }
            },
            "type": "bar"
           }
          ],
          "barpolar": [
           {
            "marker": {
             "line": {
              "color": "#E5ECF6",
              "width": 0.5
             },
             "pattern": {
              "fillmode": "overlay",
              "size": 10,
              "solidity": 0.2
             }
            },
            "type": "barpolar"
           }
          ],
          "carpet": [
           {
            "aaxis": {
             "endlinecolor": "#2a3f5f",
             "gridcolor": "white",
             "linecolor": "white",
             "minorgridcolor": "white",
             "startlinecolor": "#2a3f5f"
            },
            "baxis": {
             "endlinecolor": "#2a3f5f",
             "gridcolor": "white",
             "linecolor": "white",
             "minorgridcolor": "white",
             "startlinecolor": "#2a3f5f"
            },
            "type": "carpet"
           }
          ],
          "choropleth": [
           {
            "colorbar": {
             "outlinewidth": 0,
             "ticks": ""
            },
            "type": "choropleth"
           }
          ],
          "contour": [
           {
            "colorbar": {
             "outlinewidth": 0,
             "ticks": ""
            },
            "colorscale": [
             [
              0,
              "#0d0887"
             ],
             [
              0.1111111111111111,
              "#46039f"
             ],
             [
              0.2222222222222222,
              "#7201a8"
             ],
             [
              0.3333333333333333,
              "#9c179e"
             ],
             [
              0.4444444444444444,
              "#bd3786"
             ],
             [
              0.5555555555555556,
              "#d8576b"
             ],
             [
              0.6666666666666666,
              "#ed7953"
             ],
             [
              0.7777777777777778,
              "#fb9f3a"
             ],
             [
              0.8888888888888888,
              "#fdca26"
             ],
             [
              1,
              "#f0f921"
             ]
            ],
            "type": "contour"
           }
          ],
          "contourcarpet": [
           {
            "colorbar": {
             "outlinewidth": 0,
             "ticks": ""
            },
            "type": "contourcarpet"
           }
          ],
          "heatmap": [
           {
            "colorbar": {
             "outlinewidth": 0,
             "ticks": ""
            },
            "colorscale": [
             [
              0,
              "#0d0887"
             ],
             [
              0.1111111111111111,
              "#46039f"
             ],
             [
              0.2222222222222222,
              "#7201a8"
             ],
             [
              0.3333333333333333,
              "#9c179e"
             ],
             [
              0.4444444444444444,
              "#bd3786"
             ],
             [
              0.5555555555555556,
              "#d8576b"
             ],
             [
              0.6666666666666666,
              "#ed7953"
             ],
             [
              0.7777777777777778,
              "#fb9f3a"
             ],
             [
              0.8888888888888888,
              "#fdca26"
             ],
             [
              1,
              "#f0f921"
             ]
            ],
            "type": "heatmap"
           }
          ],
          "heatmapgl": [
           {
            "colorbar": {
             "outlinewidth": 0,
             "ticks": ""
            },
            "colorscale": [
             [
              0,
              "#0d0887"
             ],
             [
              0.1111111111111111,
              "#46039f"
             ],
             [
              0.2222222222222222,
              "#7201a8"
             ],
             [
              0.3333333333333333,
              "#9c179e"
             ],
             [
              0.4444444444444444,
              "#bd3786"
             ],
             [
              0.5555555555555556,
              "#d8576b"
             ],
             [
              0.6666666666666666,
              "#ed7953"
             ],
             [
              0.7777777777777778,
              "#fb9f3a"
             ],
             [
              0.8888888888888888,
              "#fdca26"
             ],
             [
              1,
              "#f0f921"
             ]
            ],
            "type": "heatmapgl"
           }
          ],
          "histogram": [
           {
            "marker": {
             "pattern": {
              "fillmode": "overlay",
              "size": 10,
              "solidity": 0.2
             }
            },
            "type": "histogram"
           }
          ],
          "histogram2d": [
           {
            "colorbar": {
             "outlinewidth": 0,
             "ticks": ""
            },
            "colorscale": [
             [
              0,
              "#0d0887"
             ],
             [
              0.1111111111111111,
              "#46039f"
             ],
             [
              0.2222222222222222,
              "#7201a8"
             ],
             [
              0.3333333333333333,
              "#9c179e"
             ],
             [
              0.4444444444444444,
              "#bd3786"
             ],
             [
              0.5555555555555556,
              "#d8576b"
             ],
             [
              0.6666666666666666,
              "#ed7953"
             ],
             [
              0.7777777777777778,
              "#fb9f3a"
             ],
             [
              0.8888888888888888,
              "#fdca26"
             ],
             [
              1,
              "#f0f921"
             ]
            ],
            "type": "histogram2d"
           }
          ],
          "histogram2dcontour": [
           {
            "colorbar": {
             "outlinewidth": 0,
             "ticks": ""
            },
            "colorscale": [
             [
              0,
              "#0d0887"
             ],
             [
              0.1111111111111111,
              "#46039f"
             ],
             [
              0.2222222222222222,
              "#7201a8"
             ],
             [
              0.3333333333333333,
              "#9c179e"
             ],
             [
              0.4444444444444444,
              "#bd3786"
             ],
             [
              0.5555555555555556,
              "#d8576b"
             ],
             [
              0.6666666666666666,
              "#ed7953"
             ],
             [
              0.7777777777777778,
              "#fb9f3a"
             ],
             [
              0.8888888888888888,
              "#fdca26"
             ],
             [
              1,
              "#f0f921"
             ]
            ],
            "type": "histogram2dcontour"
           }
          ],
          "mesh3d": [
           {
            "colorbar": {
             "outlinewidth": 0,
             "ticks": ""
            },
            "type": "mesh3d"
           }
          ],
          "parcoords": [
           {
            "line": {
             "colorbar": {
              "outlinewidth": 0,
              "ticks": ""
             }
            },
            "type": "parcoords"
           }
          ],
          "pie": [
           {
            "automargin": true,
            "type": "pie"
           }
          ],
          "scatter": [
           {
            "fillpattern": {
             "fillmode": "overlay",
             "size": 10,
             "solidity": 0.2
            },
            "type": "scatter"
           }
          ],
          "scatter3d": [
           {
            "line": {
             "colorbar": {
              "outlinewidth": 0,
              "ticks": ""
             }
            },
            "marker": {
             "colorbar": {
              "outlinewidth": 0,
              "ticks": ""
             }
            },
            "type": "scatter3d"
           }
          ],
          "scattercarpet": [
           {
            "marker": {
             "colorbar": {
              "outlinewidth": 0,
              "ticks": ""
             }
            },
            "type": "scattercarpet"
           }
          ],
          "scattergeo": [
           {
            "marker": {
             "colorbar": {
              "outlinewidth": 0,
              "ticks": ""
             }
            },
            "type": "scattergeo"
           }
          ],
          "scattergl": [
           {
            "marker": {
             "colorbar": {
              "outlinewidth": 0,
              "ticks": ""
             }
            },
            "type": "scattergl"
           }
          ],
          "scattermapbox": [
           {
            "marker": {
             "colorbar": {
              "outlinewidth": 0,
              "ticks": ""
             }
            },
            "type": "scattermapbox"
           }
          ],
          "scatterpolar": [
           {
            "marker": {
             "colorbar": {
              "outlinewidth": 0,
              "ticks": ""
             }
            },
            "type": "scatterpolar"
           }
          ],
          "scatterpolargl": [
           {
            "marker": {
             "colorbar": {
              "outlinewidth": 0,
              "ticks": ""
             }
            },
            "type": "scatterpolargl"
           }
          ],
          "scatterternary": [
           {
            "marker": {
             "colorbar": {
              "outlinewidth": 0,
              "ticks": ""
             }
            },
            "type": "scatterternary"
           }
          ],
          "surface": [
           {
            "colorbar": {
             "outlinewidth": 0,
             "ticks": ""
            },
            "colorscale": [
             [
              0,
              "#0d0887"
             ],
             [
              0.1111111111111111,
              "#46039f"
             ],
             [
              0.2222222222222222,
              "#7201a8"
             ],
             [
              0.3333333333333333,
              "#9c179e"
             ],
             [
              0.4444444444444444,
              "#bd3786"
             ],
             [
              0.5555555555555556,
              "#d8576b"
             ],
             [
              0.6666666666666666,
              "#ed7953"
             ],
             [
              0.7777777777777778,
              "#fb9f3a"
             ],
             [
              0.8888888888888888,
              "#fdca26"
             ],
             [
              1,
              "#f0f921"
             ]
            ],
            "type": "surface"
           }
          ],
          "table": [
           {
            "cells": {
             "fill": {
              "color": "#EBF0F8"
             },
             "line": {
              "color": "white"
             }
            },
            "header": {
             "fill": {
              "color": "#C8D4E3"
             },
             "line": {
              "color": "white"
             }
            },
            "type": "table"
           }
          ]
         },
         "layout": {
          "annotationdefaults": {
           "arrowcolor": "#2a3f5f",
           "arrowhead": 0,
           "arrowwidth": 1
          },
          "autotypenumbers": "strict",
          "coloraxis": {
           "colorbar": {
            "outlinewidth": 0,
            "ticks": ""
           }
          },
          "colorscale": {
           "diverging": [
            [
             0,
             "#8e0152"
            ],
            [
             0.1,
             "#c51b7d"
            ],
            [
             0.2,
             "#de77ae"
            ],
            [
             0.3,
             "#f1b6da"
            ],
            [
             0.4,
             "#fde0ef"
            ],
            [
             0.5,
             "#f7f7f7"
            ],
            [
             0.6,
             "#e6f5d0"
            ],
            [
             0.7,
             "#b8e186"
            ],
            [
             0.8,
             "#7fbc41"
            ],
            [
             0.9,
             "#4d9221"
            ],
            [
             1,
             "#276419"
            ]
           ],
           "sequential": [
            [
             0,
             "#0d0887"
            ],
            [
             0.1111111111111111,
             "#46039f"
            ],
            [
             0.2222222222222222,
             "#7201a8"
            ],
            [
             0.3333333333333333,
             "#9c179e"
            ],
            [
             0.4444444444444444,
             "#bd3786"
            ],
            [
             0.5555555555555556,
             "#d8576b"
            ],
            [
             0.6666666666666666,
             "#ed7953"
            ],
            [
             0.7777777777777778,
             "#fb9f3a"
            ],
            [
             0.8888888888888888,
             "#fdca26"
            ],
            [
             1,
             "#f0f921"
            ]
           ],
           "sequentialminus": [
            [
             0,
             "#0d0887"
            ],
            [
             0.1111111111111111,
             "#46039f"
            ],
            [
             0.2222222222222222,
             "#7201a8"
            ],
            [
             0.3333333333333333,
             "#9c179e"
            ],
            [
             0.4444444444444444,
             "#bd3786"
            ],
            [
             0.5555555555555556,
             "#d8576b"
            ],
            [
             0.6666666666666666,
             "#ed7953"
            ],
            [
             0.7777777777777778,
             "#fb9f3a"
            ],
            [
             0.8888888888888888,
             "#fdca26"
            ],
            [
             1,
             "#f0f921"
            ]
           ]
          },
          "colorway": [
           "#636efa",
           "#EF553B",
           "#00cc96",
           "#ab63fa",
           "#FFA15A",
           "#19d3f3",
           "#FF6692",
           "#B6E880",
           "#FF97FF",
           "#FECB52"
          ],
          "font": {
           "color": "#2a3f5f"
          },
          "geo": {
           "bgcolor": "white",
           "lakecolor": "white",
           "landcolor": "#E5ECF6",
           "showlakes": true,
           "showland": true,
           "subunitcolor": "white"
          },
          "hoverlabel": {
           "align": "left"
          },
          "hovermode": "closest",
          "mapbox": {
           "style": "light"
          },
          "paper_bgcolor": "white",
          "plot_bgcolor": "#E5ECF6",
          "polar": {
           "angularaxis": {
            "gridcolor": "white",
            "linecolor": "white",
            "ticks": ""
           },
           "bgcolor": "#E5ECF6",
           "radialaxis": {
            "gridcolor": "white",
            "linecolor": "white",
            "ticks": ""
           }
          },
          "scene": {
           "xaxis": {
            "backgroundcolor": "#E5ECF6",
            "gridcolor": "white",
            "gridwidth": 2,
            "linecolor": "white",
            "showbackground": true,
            "ticks": "",
            "zerolinecolor": "white"
           },
           "yaxis": {
            "backgroundcolor": "#E5ECF6",
            "gridcolor": "white",
            "gridwidth": 2,
            "linecolor": "white",
            "showbackground": true,
            "ticks": "",
            "zerolinecolor": "white"
           },
           "zaxis": {
            "backgroundcolor": "#E5ECF6",
            "gridcolor": "white",
            "gridwidth": 2,
            "linecolor": "white",
            "showbackground": true,
            "ticks": "",
            "zerolinecolor": "white"
           }
          },
          "shapedefaults": {
           "line": {
            "color": "#2a3f5f"
           }
          },
          "ternary": {
           "aaxis": {
            "gridcolor": "white",
            "linecolor": "white",
            "ticks": ""
           },
           "baxis": {
            "gridcolor": "white",
            "linecolor": "white",
            "ticks": ""
           },
           "bgcolor": "#E5ECF6",
           "caxis": {
            "gridcolor": "white",
            "linecolor": "white",
            "ticks": ""
           }
          },
          "title": {
           "x": 0.05
          },
          "xaxis": {
           "automargin": true,
           "gridcolor": "white",
           "linecolor": "white",
           "ticks": "",
           "title": {
            "standoff": 15
           },
           "zerolinecolor": "white",
           "zerolinewidth": 2
          },
          "yaxis": {
           "automargin": true,
           "gridcolor": "white",
           "linecolor": "white",
           "ticks": "",
           "title": {
            "standoff": 15
           },
           "zerolinecolor": "white",
           "zerolinewidth": 2
          }
         }
        },
        "width": 1100,
        "xaxis": {
         "anchor": "y",
         "domain": [
          0,
          1
         ],
         "matches": "x2",
         "rangeslider": {
          "visible": false
         },
         "showticklabels": false
        },
        "xaxis2": {
         "anchor": "y2",
         "domain": [
          0,
          1
         ]
        },
        "yaxis": {
         "anchor": "x",
         "domain": [
          0.30000000000000004,
          1
         ],
         "title": {
          "text": "Preço"
         }
        },
        "yaxis2": {
         "anchor": "x2",
         "domain": [
          0,
          0.20000000000000004
         ]
        }
       }
      }
     },
     "metadata": {},
     "output_type": "display_data"
    }
   ],
   "source": [
    "# Criando subplots\n",
    "'''\n",
    "\"Primeiro, criamos uma figura que conterá nossos gráficos usando make_subplots.\n",
    "Isso nos permite ter múltiplos gráficos em uma única visualização.\n",
    "Aqui, teremos dois subplots: um para o gráfico de candlestick e outro para o volume de transações.\"\n",
    "\n",
    "'''\n",
    "fig = make_subplots(rows=2, cols=1, shared_xaxes=True,\n",
    "                    vertical_spacing=0.1,\n",
    "                    subplot_titles=('Candlesticks', 'Volume Transacionado'),\n",
    "                    row_width=[0.2, 0.7])\n",
    "\n",
    "'''\n",
    "\"No gráfico de candlestick, cada candle representa um dia de negociação,\n",
    "mostrando o preço de abertura, fechamento, máximo e mínimo. Vamos adicionar este gráfico à nossa figura.\"\n",
    "'''\n",
    "# Adicionando o gráfico de candlestick\n",
    "fig.add_trace(go.Candlestick(x=df.index,\n",
    "                             open=df['Abertura'],\n",
    "                             high=df['Maximo'],\n",
    "                             low=df['Minimo'],\n",
    "                             close=df['Fechamento'],\n",
    "                             name='Candlestick'),\n",
    "                             row=1, col=1)\n",
    "\n",
    "# Adicionando as médias móveis\n",
    "# Adicionamos também médias móveis ao mesmo subplot para análise de tendências\n",
    "fig.add_trace(go.Scatter(x=df.index,\n",
    "                         y=df['MA7'],\n",
    "                         mode='lines',\n",
    "                         name='MA7 - Média Móvel 7 Dias'),\n",
    "                         row=1, col=1)\n",
    "\n",
    "fig.add_trace(go.Scatter(x=df.index,\n",
    "                         y=df['MA14'],\n",
    "                         mode='lines',\n",
    "                         name='MA14 - Média Móvel 14 Dias'),\n",
    "                         row=1, col=1)\n",
    "\n",
    "# Adicionando o gráfico de barras para o volume\n",
    "# Em seguida, criamos um gráfico de barras para o volume de transações, que nos dá uma ideia da atividade de negociação naquele dia\n",
    "fig.add_trace(go.Bar(x=df.index,\n",
    "                     y=df['Volume'],\n",
    "                     name='Volume'),\n",
    "                     row=2, col=1)\n",
    "\n",
    "# Atualizando layout\n",
    "#Finalmente, configuramos o layout da figura, ajustando títulos, formatos de eixo e outras configurações para tornar o gráfico claro e legível.\n",
    "fig.update_layout(yaxis_title='Preço',\n",
    "                  xaxis_rangeslider_visible=False,  # Desativa o range slider\n",
    "                  width=1100, height=600)\n",
    "\n",
    "# Mostrando o gráfico\n",
    "fig.show()"
   ]
  },
  {
   "cell_type": "code",
   "execution_count": 82,
   "metadata": {},
   "outputs": [
    {
     "name": "stderr",
     "output_type": "stream",
     "text": [
      "[*********************100%***********************]  1 of 1 completed\n"
     ]
    }
   ],
   "source": [
    "dados = yf.download('AAPL', start='2023-01-01', end='2023-12-31')"
   ]
  },
  {
   "cell_type": "code",
   "execution_count": 83,
   "metadata": {},
   "outputs": [
    {
     "data": {
      "text/html": [
       "<div>\n",
       "<style scoped>\n",
       "    .dataframe tbody tr th:only-of-type {\n",
       "        vertical-align: middle;\n",
       "    }\n",
       "\n",
       "    .dataframe tbody tr th {\n",
       "        vertical-align: top;\n",
       "    }\n",
       "\n",
       "    .dataframe thead tr th {\n",
       "        text-align: left;\n",
       "    }\n",
       "\n",
       "    .dataframe thead tr:last-of-type th {\n",
       "        text-align: right;\n",
       "    }\n",
       "</style>\n",
       "<table border=\"1\" class=\"dataframe\">\n",
       "  <thead>\n",
       "    <tr>\n",
       "      <th>Price</th>\n",
       "      <th>Adj Close</th>\n",
       "      <th>Close</th>\n",
       "      <th>High</th>\n",
       "      <th>Low</th>\n",
       "      <th>Open</th>\n",
       "      <th>Volume</th>\n",
       "    </tr>\n",
       "    <tr>\n",
       "      <th>Ticker</th>\n",
       "      <th>AAPL</th>\n",
       "      <th>AAPL</th>\n",
       "      <th>AAPL</th>\n",
       "      <th>AAPL</th>\n",
       "      <th>AAPL</th>\n",
       "      <th>AAPL</th>\n",
       "    </tr>\n",
       "    <tr>\n",
       "      <th>Date</th>\n",
       "      <th></th>\n",
       "      <th></th>\n",
       "      <th></th>\n",
       "      <th></th>\n",
       "      <th></th>\n",
       "      <th></th>\n",
       "    </tr>\n",
       "  </thead>\n",
       "  <tbody>\n",
       "    <tr>\n",
       "      <th>2023-01-03</th>\n",
       "      <td>123.77</td>\n",
       "      <td>125.07</td>\n",
       "      <td>130.90</td>\n",
       "      <td>124.17</td>\n",
       "      <td>130.28</td>\n",
       "      <td>112117500</td>\n",
       "    </tr>\n",
       "    <tr>\n",
       "      <th>2023-01-04</th>\n",
       "      <td>125.05</td>\n",
       "      <td>126.36</td>\n",
       "      <td>128.66</td>\n",
       "      <td>125.08</td>\n",
       "      <td>126.89</td>\n",
       "      <td>89113600</td>\n",
       "    </tr>\n",
       "    <tr>\n",
       "      <th>2023-01-05</th>\n",
       "      <td>123.72</td>\n",
       "      <td>125.02</td>\n",
       "      <td>127.77</td>\n",
       "      <td>124.76</td>\n",
       "      <td>127.13</td>\n",
       "      <td>80962700</td>\n",
       "    </tr>\n",
       "    <tr>\n",
       "      <th>2023-01-06</th>\n",
       "      <td>128.27</td>\n",
       "      <td>129.62</td>\n",
       "      <td>130.29</td>\n",
       "      <td>124.89</td>\n",
       "      <td>126.01</td>\n",
       "      <td>87754700</td>\n",
       "    </tr>\n",
       "    <tr>\n",
       "      <th>2023-01-09</th>\n",
       "      <td>128.80</td>\n",
       "      <td>130.15</td>\n",
       "      <td>133.41</td>\n",
       "      <td>129.89</td>\n",
       "      <td>130.47</td>\n",
       "      <td>70790800</td>\n",
       "    </tr>\n",
       "    <tr>\n",
       "      <th>...</th>\n",
       "      <td>...</td>\n",
       "      <td>...</td>\n",
       "      <td>...</td>\n",
       "      <td>...</td>\n",
       "      <td>...</td>\n",
       "      <td>...</td>\n",
       "    </tr>\n",
       "    <tr>\n",
       "      <th>2023-12-22</th>\n",
       "      <td>192.66</td>\n",
       "      <td>193.60</td>\n",
       "      <td>195.41</td>\n",
       "      <td>192.97</td>\n",
       "      <td>195.18</td>\n",
       "      <td>37122800</td>\n",
       "    </tr>\n",
       "    <tr>\n",
       "      <th>2023-12-26</th>\n",
       "      <td>192.11</td>\n",
       "      <td>193.05</td>\n",
       "      <td>193.89</td>\n",
       "      <td>192.83</td>\n",
       "      <td>193.61</td>\n",
       "      <td>28919300</td>\n",
       "    </tr>\n",
       "    <tr>\n",
       "      <th>2023-12-27</th>\n",
       "      <td>192.21</td>\n",
       "      <td>193.15</td>\n",
       "      <td>193.50</td>\n",
       "      <td>191.09</td>\n",
       "      <td>192.49</td>\n",
       "      <td>48087700</td>\n",
       "    </tr>\n",
       "    <tr>\n",
       "      <th>2023-12-28</th>\n",
       "      <td>192.64</td>\n",
       "      <td>193.58</td>\n",
       "      <td>194.66</td>\n",
       "      <td>193.17</td>\n",
       "      <td>194.14</td>\n",
       "      <td>34049900</td>\n",
       "    </tr>\n",
       "    <tr>\n",
       "      <th>2023-12-29</th>\n",
       "      <td>191.59</td>\n",
       "      <td>192.53</td>\n",
       "      <td>194.40</td>\n",
       "      <td>191.73</td>\n",
       "      <td>193.90</td>\n",
       "      <td>42628800</td>\n",
       "    </tr>\n",
       "  </tbody>\n",
       "</table>\n",
       "<p>250 rows × 6 columns</p>\n",
       "</div>"
      ],
      "text/plain": [
       "Price      Adj Close  Close   High    Low   Open     Volume\n",
       "Ticker          AAPL   AAPL   AAPL   AAPL   AAPL       AAPL\n",
       "Date                                                       \n",
       "2023-01-03    123.77 125.07 130.90 124.17 130.28  112117500\n",
       "2023-01-04    125.05 126.36 128.66 125.08 126.89   89113600\n",
       "2023-01-05    123.72 125.02 127.77 124.76 127.13   80962700\n",
       "2023-01-06    128.27 129.62 130.29 124.89 126.01   87754700\n",
       "2023-01-09    128.80 130.15 133.41 129.89 130.47   70790800\n",
       "...              ...    ...    ...    ...    ...        ...\n",
       "2023-12-22    192.66 193.60 195.41 192.97 195.18   37122800\n",
       "2023-12-26    192.11 193.05 193.89 192.83 193.61   28919300\n",
       "2023-12-27    192.21 193.15 193.50 191.09 192.49   48087700\n",
       "2023-12-28    192.64 193.58 194.66 193.17 194.14   34049900\n",
       "2023-12-29    191.59 192.53 194.40 191.73 193.90   42628800\n",
       "\n",
       "[250 rows x 6 columns]"
      ]
     },
     "execution_count": 83,
     "metadata": {},
     "output_type": "execute_result"
    }
   ],
   "source": [
    "dados['Open'] = dados['Open'].astype(float)\n",
    "dados"
   ]
  },
  {
   "cell_type": "code",
   "execution_count": 84,
   "metadata": {},
   "outputs": [
    {
     "data": {
      "text/html": [
       "<div>\n",
       "<style scoped>\n",
       "    .dataframe tbody tr th:only-of-type {\n",
       "        vertical-align: middle;\n",
       "    }\n",
       "\n",
       "    .dataframe tbody tr th {\n",
       "        vertical-align: top;\n",
       "    }\n",
       "\n",
       "    .dataframe thead tr th {\n",
       "        text-align: left;\n",
       "    }\n",
       "</style>\n",
       "<table border=\"1\" class=\"dataframe\">\n",
       "  <thead>\n",
       "    <tr>\n",
       "      <th>Price</th>\n",
       "      <th>Date</th>\n",
       "      <th>Adj Close</th>\n",
       "      <th>Close</th>\n",
       "      <th>High</th>\n",
       "      <th>Low</th>\n",
       "      <th>Open</th>\n",
       "      <th>Volume</th>\n",
       "    </tr>\n",
       "    <tr>\n",
       "      <th>Ticker</th>\n",
       "      <th></th>\n",
       "      <th>JNJ</th>\n",
       "      <th>JNJ</th>\n",
       "      <th>JNJ</th>\n",
       "      <th>JNJ</th>\n",
       "      <th>JNJ</th>\n",
       "      <th>JNJ</th>\n",
       "    </tr>\n",
       "  </thead>\n",
       "  <tbody>\n",
       "    <tr>\n",
       "      <th>0</th>\n",
       "      <td>2020-01-02</td>\n",
       "      <td>127.06</td>\n",
       "      <td>145.97</td>\n",
       "      <td>146.02</td>\n",
       "      <td>145.08</td>\n",
       "      <td>145.87</td>\n",
       "      <td>5777000</td>\n",
       "    </tr>\n",
       "    <tr>\n",
       "      <th>1</th>\n",
       "      <td>2020-01-03</td>\n",
       "      <td>125.59</td>\n",
       "      <td>144.28</td>\n",
       "      <td>145.37</td>\n",
       "      <td>143.00</td>\n",
       "      <td>143.50</td>\n",
       "      <td>5752400</td>\n",
       "    </tr>\n",
       "    <tr>\n",
       "      <th>2</th>\n",
       "      <td>2020-01-06</td>\n",
       "      <td>125.44</td>\n",
       "      <td>144.10</td>\n",
       "      <td>144.20</td>\n",
       "      <td>142.85</td>\n",
       "      <td>144.00</td>\n",
       "      <td>7731300</td>\n",
       "    </tr>\n",
       "    <tr>\n",
       "      <th>3</th>\n",
       "      <td>2020-01-07</td>\n",
       "      <td>126.20</td>\n",
       "      <td>144.98</td>\n",
       "      <td>145.45</td>\n",
       "      <td>141.38</td>\n",
       "      <td>144.01</td>\n",
       "      <td>7382900</td>\n",
       "    </tr>\n",
       "    <tr>\n",
       "      <th>4</th>\n",
       "      <td>2020-01-08</td>\n",
       "      <td>126.19</td>\n",
       "      <td>144.96</td>\n",
       "      <td>145.98</td>\n",
       "      <td>143.70</td>\n",
       "      <td>144.87</td>\n",
       "      <td>6605800</td>\n",
       "    </tr>\n",
       "    <tr>\n",
       "      <th>...</th>\n",
       "      <td>...</td>\n",
       "      <td>...</td>\n",
       "      <td>...</td>\n",
       "      <td>...</td>\n",
       "      <td>...</td>\n",
       "      <td>...</td>\n",
       "      <td>...</td>\n",
       "    </tr>\n",
       "    <tr>\n",
       "      <th>1001</th>\n",
       "      <td>2023-12-22</td>\n",
       "      <td>150.69</td>\n",
       "      <td>155.46</td>\n",
       "      <td>156.53</td>\n",
       "      <td>155.02</td>\n",
       "      <td>155.25</td>\n",
       "      <td>3798500</td>\n",
       "    </tr>\n",
       "    <tr>\n",
       "      <th>1002</th>\n",
       "      <td>2023-12-26</td>\n",
       "      <td>151.35</td>\n",
       "      <td>156.14</td>\n",
       "      <td>156.35</td>\n",
       "      <td>154.85</td>\n",
       "      <td>155.00</td>\n",
       "      <td>4170000</td>\n",
       "    </tr>\n",
       "    <tr>\n",
       "      <th>1003</th>\n",
       "      <td>2023-12-27</td>\n",
       "      <td>151.55</td>\n",
       "      <td>156.35</td>\n",
       "      <td>156.52</td>\n",
       "      <td>155.42</td>\n",
       "      <td>155.50</td>\n",
       "      <td>5288100</td>\n",
       "    </tr>\n",
       "    <tr>\n",
       "      <th>1004</th>\n",
       "      <td>2023-12-28</td>\n",
       "      <td>151.77</td>\n",
       "      <td>156.58</td>\n",
       "      <td>157.24</td>\n",
       "      <td>155.99</td>\n",
       "      <td>156.00</td>\n",
       "      <td>4377500</td>\n",
       "    </tr>\n",
       "    <tr>\n",
       "      <th>1005</th>\n",
       "      <td>2023-12-29</td>\n",
       "      <td>151.93</td>\n",
       "      <td>156.74</td>\n",
       "      <td>156.90</td>\n",
       "      <td>155.98</td>\n",
       "      <td>156.51</td>\n",
       "      <td>4311100</td>\n",
       "    </tr>\n",
       "  </tbody>\n",
       "</table>\n",
       "<p>1006 rows × 7 columns</p>\n",
       "</div>"
      ],
      "text/plain": [
       "Price        Date Adj Close  Close   High    Low   Open   Volume\n",
       "Ticker                  JNJ    JNJ    JNJ    JNJ    JNJ      JNJ\n",
       "0      2020-01-02    127.06 145.97 146.02 145.08 145.87  5777000\n",
       "1      2020-01-03    125.59 144.28 145.37 143.00 143.50  5752400\n",
       "2      2020-01-06    125.44 144.10 144.20 142.85 144.00  7731300\n",
       "3      2020-01-07    126.20 144.98 145.45 141.38 144.01  7382900\n",
       "4      2020-01-08    126.19 144.96 145.98 143.70 144.87  6605800\n",
       "...           ...       ...    ...    ...    ...    ...      ...\n",
       "1001   2023-12-22    150.69 155.46 156.53 155.02 155.25  3798500\n",
       "1002   2023-12-26    151.35 156.14 156.35 154.85 155.00  4170000\n",
       "1003   2023-12-27    151.55 156.35 156.52 155.42 155.50  5288100\n",
       "1004   2023-12-28    151.77 156.58 157.24 155.99 156.00  4377500\n",
       "1005   2023-12-29    151.93 156.74 156.90 155.98 156.51  4311100\n",
       "\n",
       "[1006 rows x 7 columns]"
      ]
     },
     "execution_count": 84,
     "metadata": {},
     "output_type": "execute_result"
    }
   ],
   "source": [
    "dados = yf.download('JNJ', start='2020-01-01', end='2023-12-31', progress=False)\n",
    "dados = dados.reset_index()\n",
    "dados"
   ]
  },
  {
   "cell_type": "code",
   "execution_count": 85,
   "metadata": {},
   "outputs": [],
   "source": [
    "dados_treino = dados[dados['Date'] < '2023-07-31']\n",
    "dados_teste = dados[dados['Date'] >= '2023-07-31']"
   ]
  },
  {
   "cell_type": "code",
   "execution_count": 86,
   "metadata": {},
   "outputs": [
    {
     "data": {
      "text/html": [
       "<div>\n",
       "<style scoped>\n",
       "    .dataframe tbody tr th:only-of-type {\n",
       "        vertical-align: middle;\n",
       "    }\n",
       "\n",
       "    .dataframe tbody tr th {\n",
       "        vertical-align: top;\n",
       "    }\n",
       "\n",
       "    .dataframe thead tr th {\n",
       "        text-align: left;\n",
       "    }\n",
       "</style>\n",
       "<table border=\"1\" class=\"dataframe\">\n",
       "  <thead>\n",
       "    <tr>\n",
       "      <th>Price</th>\n",
       "      <th>ds</th>\n",
       "      <th>y</th>\n",
       "    </tr>\n",
       "    <tr>\n",
       "      <th>Ticker</th>\n",
       "      <th></th>\n",
       "      <th>JNJ</th>\n",
       "    </tr>\n",
       "  </thead>\n",
       "  <tbody>\n",
       "    <tr>\n",
       "      <th>0</th>\n",
       "      <td>2020-01-02</td>\n",
       "      <td>145.97</td>\n",
       "    </tr>\n",
       "    <tr>\n",
       "      <th>1</th>\n",
       "      <td>2020-01-03</td>\n",
       "      <td>144.28</td>\n",
       "    </tr>\n",
       "    <tr>\n",
       "      <th>2</th>\n",
       "      <td>2020-01-06</td>\n",
       "      <td>144.10</td>\n",
       "    </tr>\n",
       "    <tr>\n",
       "      <th>3</th>\n",
       "      <td>2020-01-07</td>\n",
       "      <td>144.98</td>\n",
       "    </tr>\n",
       "    <tr>\n",
       "      <th>4</th>\n",
       "      <td>2020-01-08</td>\n",
       "      <td>144.96</td>\n",
       "    </tr>\n",
       "    <tr>\n",
       "      <th>...</th>\n",
       "      <td>...</td>\n",
       "      <td>...</td>\n",
       "    </tr>\n",
       "    <tr>\n",
       "      <th>894</th>\n",
       "      <td>2023-07-24</td>\n",
       "      <td>171.08</td>\n",
       "    </tr>\n",
       "    <tr>\n",
       "      <th>895</th>\n",
       "      <td>2023-07-25</td>\n",
       "      <td>172.39</td>\n",
       "    </tr>\n",
       "    <tr>\n",
       "      <th>896</th>\n",
       "      <td>2023-07-26</td>\n",
       "      <td>172.72</td>\n",
       "    </tr>\n",
       "    <tr>\n",
       "      <th>897</th>\n",
       "      <td>2023-07-27</td>\n",
       "      <td>173.69</td>\n",
       "    </tr>\n",
       "    <tr>\n",
       "      <th>898</th>\n",
       "      <td>2023-07-28</td>\n",
       "      <td>174.48</td>\n",
       "    </tr>\n",
       "  </tbody>\n",
       "</table>\n",
       "<p>899 rows × 2 columns</p>\n",
       "</div>"
      ],
      "text/plain": [
       "Price          ds      y\n",
       "Ticker               JNJ\n",
       "0      2020-01-02 145.97\n",
       "1      2020-01-03 144.28\n",
       "2      2020-01-06 144.10\n",
       "3      2020-01-07 144.98\n",
       "4      2020-01-08 144.96\n",
       "..            ...    ...\n",
       "894    2023-07-24 171.08\n",
       "895    2023-07-25 172.39\n",
       "896    2023-07-26 172.72\n",
       "897    2023-07-27 173.69\n",
       "898    2023-07-28 174.48\n",
       "\n",
       "[899 rows x 2 columns]"
      ]
     },
     "execution_count": 86,
     "metadata": {},
     "output_type": "execute_result"
    }
   ],
   "source": [
    "dados_prophet_treino = dados_treino[['Date', 'Close']].rename(columns={'Date' : 'ds', 'Close' : 'y'})\n",
    "dados_prophet_treino"
   ]
  },
  {
   "cell_type": "code",
   "execution_count": 87,
   "metadata": {},
   "outputs": [
    {
     "ename": "AttributeError",
     "evalue": "'Prophet' object has no attribute 'stan_backend'",
     "output_type": "error",
     "traceback": [
      "\u001b[1;31m---------------------------------------------------------------------------\u001b[0m",
      "\u001b[1;31mAttributeError\u001b[0m                            Traceback (most recent call last)",
      "Cell \u001b[1;32mIn[87], line 1\u001b[0m\n\u001b[1;32m----> 1\u001b[0m modelo \u001b[38;5;241m=\u001b[39m Prophet(weekly_seasonality\u001b[38;5;241m=\u001b[39m\u001b[38;5;28;01mTrue\u001b[39;00m,\n\u001b[0;32m      2\u001b[0m                  yearly_seasonality\u001b[38;5;241m=\u001b[39m\u001b[38;5;28;01mTrue\u001b[39;00m,\n\u001b[0;32m      3\u001b[0m                  daily_seasonality\u001b[38;5;241m=\u001b[39m\u001b[38;5;28;01mFalse\u001b[39;00m)\n\u001b[0;32m      5\u001b[0m modelo\u001b[38;5;241m.\u001b[39madd_country_holidays(country_name\u001b[38;5;241m=\u001b[39m\u001b[38;5;124m'\u001b[39m\u001b[38;5;124mUS\u001b[39m\u001b[38;5;124m'\u001b[39m)\n\u001b[0;32m      7\u001b[0m modelo\u001b[38;5;241m.\u001b[39mfit(dados_prophet_treino)\n",
      "File \u001b[1;32mc:\\Users\\Matheus\\anaconda3\\Lib\\site-packages\\prophet\\forecaster.py:155\u001b[0m, in \u001b[0;36mProphet.__init__\u001b[1;34m(self, growth, changepoints, n_changepoints, changepoint_range, yearly_seasonality, weekly_seasonality, daily_seasonality, holidays, seasonality_mode, seasonality_prior_scale, holidays_prior_scale, changepoint_prior_scale, mcmc_samples, interval_width, uncertainty_samples, stan_backend, scaling, holidays_mode)\u001b[0m\n\u001b[0;32m    153\u001b[0m \u001b[38;5;28mself\u001b[39m\u001b[38;5;241m.\u001b[39mfit_kwargs \u001b[38;5;241m=\u001b[39m {}\n\u001b[0;32m    154\u001b[0m \u001b[38;5;28mself\u001b[39m\u001b[38;5;241m.\u001b[39mvalidate_inputs()\n\u001b[1;32m--> 155\u001b[0m \u001b[38;5;28mself\u001b[39m\u001b[38;5;241m.\u001b[39m_load_stan_backend(stan_backend)\n",
      "File \u001b[1;32mc:\\Users\\Matheus\\anaconda3\\Lib\\site-packages\\prophet\\forecaster.py:168\u001b[0m, in \u001b[0;36mProphet._load_stan_backend\u001b[1;34m(self, stan_backend)\u001b[0m\n\u001b[0;32m    165\u001b[0m \u001b[38;5;28;01melse\u001b[39;00m:\n\u001b[0;32m    166\u001b[0m     \u001b[38;5;28mself\u001b[39m\u001b[38;5;241m.\u001b[39mstan_backend \u001b[38;5;241m=\u001b[39m StanBackendEnum\u001b[38;5;241m.\u001b[39mget_backend_class(stan_backend)()\n\u001b[1;32m--> 168\u001b[0m logger\u001b[38;5;241m.\u001b[39mdebug(\u001b[38;5;124m\"\u001b[39m\u001b[38;5;124mLoaded stan backend: \u001b[39m\u001b[38;5;132;01m%s\u001b[39;00m\u001b[38;5;124m\"\u001b[39m, \u001b[38;5;28mself\u001b[39m\u001b[38;5;241m.\u001b[39mstan_backend\u001b[38;5;241m.\u001b[39mget_type())\n",
      "\u001b[1;31mAttributeError\u001b[0m: 'Prophet' object has no attribute 'stan_backend'"
     ]
    }
   ],
   "source": [
    "modelo = Prophet(weekly_seasonality=True,\n",
    "                 yearly_seasonality=True,\n",
    "                 daily_seasonality=False)\n",
    "\n",
    "modelo.add_country_holidays(country_name='US')\n",
    "\n",
    "modelo.fit(dados_prophet_treino)"
   ]
  }
 ],
 "metadata": {
  "kernelspec": {
   "display_name": "base",
   "language": "python",
   "name": "python3"
  },
  "language_info": {
   "codemirror_mode": {
    "name": "ipython",
    "version": 3
   },
   "file_extension": ".py",
   "mimetype": "text/x-python",
   "name": "python",
   "nbconvert_exporter": "python",
   "pygments_lexer": "ipython3",
   "version": "3.11.7"
  }
 },
 "nbformat": 4,
 "nbformat_minor": 2
}
